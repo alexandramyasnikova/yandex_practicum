{
  "cells": [
    {
      "cell_type": "markdown",
      "metadata": {
        "id": "bb7e09a0"
      },
      "source": [
        "## Предварительный анализ данных"
      ],
      "id": "bb7e09a0"
    },
    {
      "cell_type": "markdown",
      "metadata": {
        "id": "e96b51a4"
      },
      "source": [
        "### Подготовка данных"
      ],
      "id": "e96b51a4"
    },
    {
      "cell_type": "markdown",
      "metadata": {
        "id": "6874331c"
      },
      "source": [
        "#### Загрузка приложений"
      ],
      "id": "6874331c"
    },
    {
      "cell_type": "code",
      "execution_count": 2,
      "metadata": {
        "colab": {
          "base_uri": "https://localhost:8080/",
          "height": 419
        },
        "id": "5d4e52aa",
        "outputId": "e75c1205-0789-402c-da1e-d12796988f55"
      },
      "outputs": [
        {
          "output_type": "stream",
          "name": "stdout",
          "text": [
            "Collecting catboost\n",
            "  Downloading catboost-1.2.2-cp310-cp310-manylinux2014_x86_64.whl (98.7 MB)\n",
            "\u001b[2K     \u001b[90m━━━━━━━━━━━━━━━━━━━━━━━━━━━━━━━━━━━━━━━━\u001b[0m \u001b[32m98.7/98.7 MB\u001b[0m \u001b[31m9.2 MB/s\u001b[0m eta \u001b[36m0:00:00\u001b[0m\n",
            "\u001b[?25hRequirement already satisfied: graphviz in /usr/local/lib/python3.10/dist-packages (from catboost) (0.20.1)\n",
            "Requirement already satisfied: matplotlib in /usr/local/lib/python3.10/dist-packages (from catboost) (3.7.1)\n",
            "Requirement already satisfied: numpy>=1.16.0 in /usr/local/lib/python3.10/dist-packages (from catboost) (1.23.5)\n",
            "Requirement already satisfied: pandas>=0.24 in /usr/local/lib/python3.10/dist-packages (from catboost) (1.5.3)\n",
            "Requirement already satisfied: scipy in /usr/local/lib/python3.10/dist-packages (from catboost) (1.11.3)\n",
            "Requirement already satisfied: plotly in /usr/local/lib/python3.10/dist-packages (from catboost) (5.15.0)\n",
            "Requirement already satisfied: six in /usr/local/lib/python3.10/dist-packages (from catboost) (1.16.0)\n",
            "Requirement already satisfied: python-dateutil>=2.8.1 in /usr/local/lib/python3.10/dist-packages (from pandas>=0.24->catboost) (2.8.2)\n",
            "Requirement already satisfied: pytz>=2020.1 in /usr/local/lib/python3.10/dist-packages (from pandas>=0.24->catboost) (2023.3.post1)\n",
            "Requirement already satisfied: contourpy>=1.0.1 in /usr/local/lib/python3.10/dist-packages (from matplotlib->catboost) (1.1.1)\n",
            "Requirement already satisfied: cycler>=0.10 in /usr/local/lib/python3.10/dist-packages (from matplotlib->catboost) (0.12.0)\n",
            "Requirement already satisfied: fonttools>=4.22.0 in /usr/local/lib/python3.10/dist-packages (from matplotlib->catboost) (4.43.1)\n",
            "Requirement already satisfied: kiwisolver>=1.0.1 in /usr/local/lib/python3.10/dist-packages (from matplotlib->catboost) (1.4.5)\n",
            "Requirement already satisfied: packaging>=20.0 in /usr/local/lib/python3.10/dist-packages (from matplotlib->catboost) (23.2)\n",
            "Requirement already satisfied: pillow>=6.2.0 in /usr/local/lib/python3.10/dist-packages (from matplotlib->catboost) (9.4.0)\n",
            "Requirement already satisfied: pyparsing>=2.3.1 in /usr/local/lib/python3.10/dist-packages (from matplotlib->catboost) (3.1.1)\n",
            "Requirement already satisfied: tenacity>=6.2.0 in /usr/local/lib/python3.10/dist-packages (from plotly->catboost) (8.2.3)\n",
            "Installing collected packages: catboost\n",
            "Successfully installed catboost-1.2.2\n"
          ]
        },
        {
          "output_type": "display_data",
          "data": {
            "text/html": [
              "        <script type=\"text/javascript\">\n",
              "        window.PlotlyConfig = {MathJaxConfig: 'local'};\n",
              "        if (window.MathJax && window.MathJax.Hub && window.MathJax.Hub.Config) {window.MathJax.Hub.Config({SVG: {font: \"STIX-Web\"}});}\n",
              "        if (typeof require !== 'undefined') {\n",
              "        require.undef(\"plotly\");\n",
              "        requirejs.config({\n",
              "            paths: {\n",
              "                'plotly': ['https://cdn.plot.ly/plotly-2.24.1.min']\n",
              "            }\n",
              "        });\n",
              "        require(['plotly'], function(Plotly) {\n",
              "            window._Plotly = Plotly;\n",
              "        });\n",
              "        }\n",
              "        </script>\n",
              "        "
            ]
          },
          "metadata": {}
        }
      ],
      "source": [
        "import os\n",
        "\n",
        "import pandas as pd\n",
        "import numpy as np\n",
        "\n",
        "\n",
        "# Options for pandas\n",
        "pd.options.display.max_columns = 50\n",
        "pd.options.display.max_rows = 30\n",
        "\n",
        "# Display all cell outputs\n",
        "from IPython.core.interactiveshell import InteractiveShell\n",
        "InteractiveShell.ast_node_interactivity = 'all'\n",
        "from IPython import get_ipython\n",
        "ipython = get_ipython()\n",
        "\n",
        "\n",
        "# autoreload extension\n",
        "if 'autoreload' not in ipython.extension_manager.loaded:\n",
        "    %load_ext autoreload\n",
        "%autoreload 2\n",
        "\n",
        "#ml\n",
        "from sklearn.pipeline import Pipeline\n",
        "from sklearn.model_selection import train_test_split\n",
        "from sklearn.metrics import classification_report\n",
        "from sklearn.model_selection import RandomizedSearchCV\n",
        "from sklearn.model_selection import GridSearchCV\n",
        "from sklearn.compose import ColumnTransformer\n",
        "from sklearn.preprocessing import StandardScaler, OrdinalEncoder\n",
        "from sklearn.impute import SimpleImputer\n",
        "\n",
        "from sklearn import metrics\n",
        "from sklearn.metrics import accuracy_score\n",
        "from sklearn.metrics import f1_score\n",
        "from sklearn.metrics import roc_auc_score\n",
        "from sklearn.metrics import mean_squared_error\n",
        "from sklearn.metrics import mean_absolute_error\n",
        "\n",
        "from sklearn.neighbors import KNeighborsClassifier\n",
        "from sklearn.ensemble import RandomForestClassifier\n",
        "from lightgbm import LGBMClassifier\n",
        "%pip install catboost\n",
        "from catboost import CatBoostClassifier, Pool\n",
        "\n",
        "# Visualizations\n",
        "import matplotlib.pyplot as plt\n",
        "import seaborn as sns\n",
        "\n",
        "import plotly\n",
        "import plotly.express as px\n",
        "from plotly.subplots import make_subplots\n",
        "import plotly.graph_objects as go\n",
        "from plotly.offline import init_notebook_mode, iplot\n",
        "init_notebook_mode(connected=True)\n",
        "\n",
        "import warnings\n",
        "warnings.filterwarnings(\"ignore\")"
      ],
      "id": "5d4e52aa"
    },
    {
      "cell_type": "code",
      "execution_count": 3,
      "metadata": {
        "colab": {
          "base_uri": "https://localhost:8080/"
        },
        "id": "cc4457cc",
        "outputId": "535a6b51-cbb0-44bb-9e64-557f5d961474"
      },
      "outputs": [
        {
          "output_type": "stream",
          "name": "stdout",
          "text": [
            "Requirement already satisfied: imbalanced-learn in /usr/local/lib/python3.10/dist-packages (0.10.1)\n",
            "Requirement already satisfied: numpy>=1.17.3 in /usr/local/lib/python3.10/dist-packages (from imbalanced-learn) (1.23.5)\n",
            "Requirement already satisfied: scipy>=1.3.2 in /usr/local/lib/python3.10/dist-packages (from imbalanced-learn) (1.11.3)\n",
            "Requirement already satisfied: scikit-learn>=1.0.2 in /usr/local/lib/python3.10/dist-packages (from imbalanced-learn) (1.2.2)\n",
            "Requirement already satisfied: joblib>=1.1.1 in /usr/local/lib/python3.10/dist-packages (from imbalanced-learn) (1.3.2)\n",
            "Requirement already satisfied: threadpoolctl>=2.0.0 in /usr/local/lib/python3.10/dist-packages (from imbalanced-learn) (3.2.0)\n"
          ]
        }
      ],
      "source": [
        "!pip install imbalanced-learn\n",
        "#!pip install phik"
      ],
      "id": "cc4457cc"
    },
    {
      "cell_type": "code",
      "execution_count": 4,
      "metadata": {
        "id": "1742d590"
      },
      "outputs": [],
      "source": [
        "#немного опций для удобства\n",
        "\n",
        "pd.options.display.max_rows = 80\n",
        "pd.set_option('display.max_colwidth', None)\n",
        "pd.set_option('display.max_columns', None)\n",
        "\n",
        "large = 16; med = 12; small = 10\n",
        "params = {'axes.titlesize': large,\n",
        "          'legend.fontsize': med,\n",
        "          'figure.figsize': (12, 8),\n",
        "          'axes.labelsize': med,\n",
        "          'axes.titlesize': med,\n",
        "          'xtick.labelsize': med,\n",
        "          'ytick.labelsize': med,\n",
        "          'figure.titlesize': large}\n",
        "\n",
        "plt.rcParams.update(params)\n",
        "plt.style.use('seaborn-whitegrid')\n",
        "\n",
        "sns.set_palette('deep')\n",
        "sns.set_style(\"whitegrid\")\n"
      ],
      "id": "1742d590"
    },
    {
      "cell_type": "markdown",
      "metadata": {
        "id": "3af9022c"
      },
      "source": [
        "#### Загрузка  файлов"
      ],
      "id": "3af9022c"
    },
    {
      "cell_type": "code",
      "execution_count": 5,
      "metadata": {
        "colab": {
          "base_uri": "https://localhost:8080/"
        },
        "id": "bdK2H5MkFEkr",
        "outputId": "188accf3-23c8-4474-9234-f244be3a14db"
      },
      "outputs": [
        {
          "output_type": "stream",
          "name": "stdout",
          "text": [
            "Mounted at /content/gdrive\n"
          ]
        }
      ],
      "source": [
        "# Для загрузки файлов с Гугл диска\n",
        "\n",
        "from google.colab import drive\n",
        "drive.mount('/content/gdrive')"
      ],
      "id": "bdK2H5MkFEkr"
    },
    {
      "cell_type": "code",
      "execution_count": 6,
      "metadata": {
        "colab": {
          "base_uri": "https://localhost:8080/"
        },
        "id": "1e10da3d",
        "outputId": "431bbb9d-6eb0-4377-9354-ca8ce5244a33"
      },
      "outputs": [
        {
          "output_type": "stream",
          "name": "stdout",
          "text": [
            "Загрузка файла прошла успешно\n"
          ]
        }
      ],
      "source": [
        "# загружаем файлы\n",
        "\n",
        "pth1='https://disk.yandex.ru/d/QYraoEwmfQZ90Q'\n",
        "pth2='/home/alexandra/data_science/network_traffic_data.csv'\n",
        "pth3='/content/gdrive/MyDrive/network_traffic_data.csv'\n",
        "\n",
        "try:\n",
        "\n",
        "  if os.path.exists(pth1):\n",
        "    df = pd.read_csv(pth1, delimiter='\\,')\n",
        "  elif os.path.exists(pth2):\n",
        "    df = pd.read_csv(pth2, delimiter='\\,')\n",
        "  else:\n",
        "    df = pd.read_csv(pth3, delimiter='\\,')\n",
        "\n",
        "  print('Загрузка файла прошла успешно')\n",
        "except:\n",
        "  print('Ошибка загрузки файла. Проверьте путь к файлу.')\n"
      ],
      "id": "1e10da3d"
    },
    {
      "cell_type": "code",
      "execution_count": 6,
      "metadata": {
        "id": "7fuQg7v0FCP8"
      },
      "outputs": [],
      "source": [],
      "id": "7fuQg7v0FCP8"
    },
    {
      "cell_type": "markdown",
      "metadata": {
        "id": "94ca3651"
      },
      "source": [
        "#### Первичная информация"
      ],
      "id": "94ca3651"
    },
    {
      "cell_type": "code",
      "execution_count": 7,
      "metadata": {
        "colab": {
          "base_uri": "https://localhost:8080/",
          "height": 583
        },
        "id": "ba02410f",
        "scrolled": true,
        "outputId": "c5c03027-5d0d-42c9-8005-5cc4647956cc"
      },
      "outputs": [
        {
          "output_type": "execute_result",
          "data": {
            "text/plain": [
              "        Destination Port   Flow Duration   Total Fwd Packets  \\\n",
              "0                     80         5480074                   3   \n",
              "1                    443          711977                   9   \n",
              "2                     53          153398                   2   \n",
              "3                     53           57660                   1   \n",
              "4                   8446             767                   3   \n",
              "...                  ...             ...                 ...   \n",
              "539611                80        11512204                   8   \n",
              "539612                80        11513325                   5   \n",
              "539613                80        11509201                   7   \n",
              "539614                80        11509095                   8   \n",
              "539615                80        11512230                   5   \n",
              "\n",
              "         Total Backward Packets  Total Length of Fwd Packets  \\\n",
              "0                             1                           12   \n",
              "1                            10                          703   \n",
              "2                             2                           80   \n",
              "3                             1                           46   \n",
              "4                             1                           43   \n",
              "...                         ...                          ...   \n",
              "539611                        5                          326   \n",
              "539612                        5                          471   \n",
              "539613                        6                          314   \n",
              "539614                        5                          369   \n",
              "539615                        5                          672   \n",
              "\n",
              "         Total Length of Bwd Packets   Fwd Packet Length Max  \\\n",
              "0                                  0                       6   \n",
              "1                               3950                     267   \n",
              "2                                224                      40   \n",
              "3                                128                      46   \n",
              "4                                  6                      31   \n",
              "...                              ...                     ...   \n",
              "539611                         11632                     326   \n",
              "539612                          3525                     471   \n",
              "539613                         11632                     314   \n",
              "539614                         11632                     369   \n",
              "539615                          3525                     672   \n",
              "\n",
              "         Fwd Packet Length Min   Fwd Packet Length Mean  \\\n",
              "0                            0                    4.000   \n",
              "1                            0                   78.100   \n",
              "2                           40                   40.000   \n",
              "3                           46                   46.000   \n",
              "4                            6                   14.336   \n",
              "...                        ...                      ...   \n",
              "539611                       0                   40.750   \n",
              "539612                       0                   94.200   \n",
              "539613                       0                   44.840   \n",
              "539614                       0                   46.120   \n",
              "539615                       0                  134.400   \n",
              "\n",
              "         Fwd Packet Length Std  Bwd Packet Length Max   Bwd Packet Length Min  \\\n",
              "0                        3.465                      0                       0   \n",
              "1                      103.300                   1448                       0   \n",
              "2                        0.000                    112                     112   \n",
              "3                        0.000                    128                     128   \n",
              "4                       14.440                      6                       6   \n",
              "...                        ...                    ...                     ...   \n",
              "539611                 115.250                  10184                       0   \n",
              "539612                 210.600                   2077                       0   \n",
              "539613                 118.700                   5792                       0   \n",
              "539614                 130.500                  10184                       0   \n",
              "539615                 300.500                   2077                       0   \n",
              "\n",
              "         Bwd Packet Length Mean   Bwd Packet Length Std  Flow Bytes/s  \\\n",
              "0                           0.0                     0.0      2.189751   \n",
              "1                         395.0                   587.5   6535.323473   \n",
              "2                         112.0                     0.0   1981.772904   \n",
              "3                         128.0                     0.0   3017.689906   \n",
              "4                           6.0                     0.0  63885.267280   \n",
              "...                         ...                     ...           ...   \n",
              "539611                   2326.0                  4436.0   1038.723775   \n",
              "539612                    705.0                   990.5    347.076105   \n",
              "539613                   1939.0                  2544.0   1037.952157   \n",
              "539614                   2326.0                  4436.0   1042.740546   \n",
              "539615                    705.0                   990.5    364.568811   \n",
              "\n",
              "         Flow Packets/s   Flow IAT Mean   Flow IAT Std   Flow IAT Max  \\\n",
              "0              0.729917    1.826691e+06   3.131700e+06        5442804   \n",
              "1             26.686255    3.955428e+04   5.015462e+04         120501   \n",
              "2             26.075959    5.113267e+04   8.855831e+04         153391   \n",
              "3             34.686091    5.766000e+04   0.000000e+00          57660   \n",
              "4           5215.123859    2.556667e+02   3.942896e+02            710   \n",
              "...                 ...             ...            ...            ...   \n",
              "539611         1.129236    9.593503e+05   2.262616e+06        6507197   \n",
              "539612         0.868559    1.279258e+06   2.565153e+06        6508582   \n",
              "539613         1.129531    9.591001e+05   2.261842e+06        6503248   \n",
              "539614         1.129541    9.590912e+05   2.262122e+06        6504954   \n",
              "539615         0.868641    1.279137e+06   2.565060e+06        6506213   \n",
              "\n",
              "         Flow IAT Min  Fwd IAT Total   Fwd IAT Mean   Fwd IAT Std  \\\n",
              "0                 101        5480074    2740037.000  3.822290e+06   \n",
              "1                   1         616301      77037.625  7.299598e+04   \n",
              "2                   3              3          3.000  0.000000e+00   \n",
              "3               57660              0          0.000  0.000000e+00   \n",
              "4                   3            713        356.500  4.999245e+02   \n",
              "...               ...            ...            ...           ...   \n",
              "539611              1        6510770     930110.000  2.460477e+06   \n",
              "539612             53        6512631    1628157.800  3.255639e+06   \n",
              "539613             46        6507056    1084509.400  2.655701e+06   \n",
              "539614             47        6507794     929684.900  2.458891e+06   \n",
              "539615              4        6509115    1627278.800  3.253892e+06   \n",
              "\n",
              "         Fwd IAT Max   Fwd IAT Min  Bwd IAT Total   Bwd IAT Mean  \\\n",
              "0            5442804         37270              0          0.000   \n",
              "1             215614           230         616874      68541.555   \n",
              "2                  3             3              4          4.000   \n",
              "3                  0             0              0          0.000   \n",
              "4                710             3              0          0.000   \n",
              "...              ...           ...            ...            ...   \n",
              "539611       6509948             1       11500000    2878039.500   \n",
              "539612       6511616           176       11500000    2878318.000   \n",
              "539613       6505437           255       11500000    2301830.500   \n",
              "539614       6505926           168       11500000    2877262.000   \n",
              "539615       6508117             4       11500000    2878045.500   \n",
              "\n",
              "         Bwd IAT Std   Bwd IAT Max   Bwd IAT Min  Fwd PSH Flags  \\\n",
              "0               0.00             0             0              0   \n",
              "1           71985.97        199836             1              0   \n",
              "2               0.00             4             4              0   \n",
              "3               0.00             0             0              0   \n",
              "4               0.00             0             0              0   \n",
              "...              ...           ...           ...            ...   \n",
              "539611    3378874.20       6507197           196              0   \n",
              "539612    3379306.00       6508582           192              0   \n",
              "539613    3195689.20       6503248            47              0   \n",
              "539614    3377879.00       6504954           196              0   \n",
              "539615    3378842.00       6506213            49              0   \n",
              "\n",
              "         Bwd PSH Flags   Fwd URG Flags   Bwd URG Flags   Fwd Header Length  \\\n",
              "0                    0               0               0                  72   \n",
              "1                    0               0               0                 296   \n",
              "2                    0               0               0                  40   \n",
              "3                    0               0               0                  20   \n",
              "4                    0               0               0                  60   \n",
              "...                ...             ...             ...                 ...   \n",
              "539611               0               0               0                 264   \n",
              "539612               0               0               0                 168   \n",
              "539613               0               0               0                 232   \n",
              "539614               0               0               0                 264   \n",
              "539615               0               0               0                 168   \n",
              "\n",
              "         Bwd Header Length  Fwd Packets/s   Bwd Packets/s   Min Packet Length  \\\n",
              "0                       32       0.547438        0.182479                   0   \n",
              "1                      328      12.640858       14.045398                   0   \n",
              "2                       40      13.037980       13.037980                  40   \n",
              "3                       20      17.343046       17.343046                  46   \n",
              "4                       20    3911.342800     1303.781000                   6   \n",
              "...                    ...            ...             ...                 ...   \n",
              "539611                 168       0.694915        0.434322                   0   \n",
              "539612                 168       0.434279        0.434279                   0   \n",
              "539613                 200       0.608209        0.521322                   0   \n",
              "539614                 168       0.695102        0.434439                   0   \n",
              "539615                 168       0.434321        0.434321                   0   \n",
              "\n",
              "         Max Packet Length   Packet Length Mean   Packet Length Std  \\\n",
              "0                        6                  2.4               3.287   \n",
              "1                     1448                232.6             442.800   \n",
              "2                      112                 68.8              39.440   \n",
              "3                      128                 73.3              47.340   \n",
              "4                       31                 11.0              11.180   \n",
              "...                    ...                  ...                 ...   \n",
              "539611               10184                854.0            2714.000   \n",
              "539612                2077                363.2             720.000   \n",
              "539613                5792                853.5            1857.000   \n",
              "539614               10184                857.0            2712.000   \n",
              "539615                2077                381.5             725.500   \n",
              "\n",
              "         Packet Length Variance  FIN Flag Count   SYN Flag Count  \\\n",
              "0                  1.080000e+01               0                0   \n",
              "1                  1.960127e+05               0                0   \n",
              "2                  1.555200e+03               0                0   \n",
              "3                  2.241333e+03               0                0   \n",
              "4                  1.250000e+02               0                0   \n",
              "...                         ...             ...              ...   \n",
              "539611             7.361769e+06               0                0   \n",
              "539612             5.180836e+05               0                0   \n",
              "539613             3.449144e+06               0                0   \n",
              "539614             7.358407e+06               0                0   \n",
              "539615             5.260871e+05               0                0   \n",
              "\n",
              "         RST Flag Count   PSH Flag Count   ACK Flag Count   URG Flag Count  \\\n",
              "0                     0                1                0                0   \n",
              "1                     0                1                0                0   \n",
              "2                     0                0                0                0   \n",
              "3                     0                0                0                0   \n",
              "4                     0                0                1                0   \n",
              "...                 ...              ...              ...              ...   \n",
              "539611                0                1                0                0   \n",
              "539612                0                1                0                0   \n",
              "539613                0                1                0                0   \n",
              "539614                0                1                0                0   \n",
              "539615                0                1                0                0   \n",
              "\n",
              "         CWE Flag Count   ECE Flag Count   Down/Up Ratio  \\\n",
              "0                     0                0               0   \n",
              "1                     0                0               1   \n",
              "2                     0                0               1   \n",
              "3                     0                0               1   \n",
              "4                     0                0               0   \n",
              "...                 ...              ...             ...   \n",
              "539611                0                0               0   \n",
              "539612                0                0               1   \n",
              "539613                0                0               0   \n",
              "539614                0                0               0   \n",
              "539615                0                0               1   \n",
              "\n",
              "         Average Packet Size   Avg Fwd Segment Size   Avg Bwd Segment Size  \\\n",
              "0                       3.00                  4.000                    0.0   \n",
              "1                     244.90                 78.100                  395.0   \n",
              "2                      86.00                 40.000                  112.0   \n",
              "3                     110.00                 46.000                  128.0   \n",
              "4                      13.75                 14.336                    6.0   \n",
              "...                      ...                    ...                    ...   \n",
              "539611                920.00                 40.750                 2326.0   \n",
              "539612                399.50                 94.200                  705.0   \n",
              "539613                919.00                 44.840                 1939.0   \n",
              "539614                923.00                 46.120                 2326.0   \n",
              "539615                419.80                134.400                  705.0   \n",
              "\n",
              "         Fwd Header Length.1  Fwd Avg Bytes/Bulk   Fwd Avg Packets/Bulk  \\\n",
              "0                         72                   0                      0   \n",
              "1                        296                   0                      0   \n",
              "2                         40                   0                      0   \n",
              "3                         20                   0                      0   \n",
              "4                         60                   0                      0   \n",
              "...                      ...                 ...                    ...   \n",
              "539611                   264                   0                      0   \n",
              "539612                   168                   0                      0   \n",
              "539613                   232                   0                      0   \n",
              "539614                   264                   0                      0   \n",
              "539615                   168                   0                      0   \n",
              "\n",
              "         Fwd Avg Bulk Rate   Bwd Avg Bytes/Bulk   Bwd Avg Packets/Bulk  \\\n",
              "0                        0                    0                      0   \n",
              "1                        0                    0                      0   \n",
              "2                        0                    0                      0   \n",
              "3                        0                    0                      0   \n",
              "4                        0                    0                      0   \n",
              "...                    ...                  ...                    ...   \n",
              "539611                   0                    0                      0   \n",
              "539612                   0                    0                      0   \n",
              "539613                   0                    0                      0   \n",
              "539614                   0                    0                      0   \n",
              "539615                   0                    0                      0   \n",
              "\n",
              "        Bwd Avg Bulk Rate  Subflow Fwd Packets   Subflow Fwd Bytes  \\\n",
              "0                       0                    3                  12   \n",
              "1                       0                    9                 703   \n",
              "2                       0                    2                  80   \n",
              "3                       0                    1                  46   \n",
              "4                       0                    3                  43   \n",
              "...                   ...                  ...                 ...   \n",
              "539611                  0                    8                 326   \n",
              "539612                  0                    5                 471   \n",
              "539613                  0                    7                 314   \n",
              "539614                  0                    8                 369   \n",
              "539615                  0                    5                 672   \n",
              "\n",
              "         Subflow Bwd Packets   Subflow Bwd Bytes  Init_Win_bytes_forward  \\\n",
              "0                          1                   0                    8192   \n",
              "1                         10                3950                   29200   \n",
              "2                          2                 224                      -1   \n",
              "3                          1                 128                      -1   \n",
              "4                          1                   6                    1017   \n",
              "...                      ...                 ...                     ...   \n",
              "539611                     5               11632                   29200   \n",
              "539612                     5                3525                   29200   \n",
              "539613                     6               11632                   29200   \n",
              "539614                     5               11632                   29200   \n",
              "539615                     5                3525                   29200   \n",
              "\n",
              "         Init_Win_bytes_backward   act_data_pkt_fwd   min_seg_size_forward  \\\n",
              "0                          42780                  2                     20   \n",
              "1                            252                  4                     32   \n",
              "2                             -1                  1                     20   \n",
              "3                             -1                  0                     20   \n",
              "4                              0                  2                     20   \n",
              "...                          ...                ...                    ...   \n",
              "539611                       235                  1                     32   \n",
              "539612                       235                  1                     32   \n",
              "539613                       235                  1                     32   \n",
              "539614                       235                  1                     32   \n",
              "539615                       237                  1                     32   \n",
              "\n",
              "        Active Mean   Active Std   Active Max   Active Min  Idle Mean  \\\n",
              "0               0.0          0.0            0            0        0.0   \n",
              "1               0.0          0.0            0            0        0.0   \n",
              "2               0.0          0.0            0            0        0.0   \n",
              "3               0.0          0.0            0            0        0.0   \n",
              "4               0.0          0.0            0            0        0.0   \n",
              "...             ...          ...          ...          ...        ...   \n",
              "539611        892.0          0.0          892          892  6507197.0   \n",
              "539612        918.0          0.0          918          918  6508582.0   \n",
              "539613        899.0          0.0          899          899  6503248.0   \n",
              "539614        914.0          0.0          914          914  6504954.0   \n",
              "539615        821.0          0.0          821          821  6506213.0   \n",
              "\n",
              "         Idle Std   Idle Max   Idle Min          Label  \n",
              "0             0.0          0          0         BENIGN  \n",
              "1             0.0          0          0         BENIGN  \n",
              "2             0.0          0          0         BENIGN  \n",
              "3             0.0          0          0         BENIGN  \n",
              "4             0.0          0          0         BENIGN  \n",
              "...           ...        ...        ...            ...  \n",
              "539611        0.0    6507197    6507197  DoS GoldenEye  \n",
              "539612        0.0    6508582    6508582  DoS GoldenEye  \n",
              "539613        0.0    6503248    6503248  DoS GoldenEye  \n",
              "539614        0.0    6504954    6504954  DoS GoldenEye  \n",
              "539615        0.0    6506213    6506213  DoS GoldenEye  \n",
              "\n",
              "[539616 rows x 79 columns]"
            ],
            "text/html": [
              "\n",
              "  <div id=\"df-90da01a0-346d-4ef6-8ef6-50d0e5025993\" class=\"colab-df-container\">\n",
              "    <div>\n",
              "<style scoped>\n",
              "    .dataframe tbody tr th:only-of-type {\n",
              "        vertical-align: middle;\n",
              "    }\n",
              "\n",
              "    .dataframe tbody tr th {\n",
              "        vertical-align: top;\n",
              "    }\n",
              "\n",
              "    .dataframe thead th {\n",
              "        text-align: right;\n",
              "    }\n",
              "</style>\n",
              "<table border=\"1\" class=\"dataframe\">\n",
              "  <thead>\n",
              "    <tr style=\"text-align: right;\">\n",
              "      <th></th>\n",
              "      <th>Destination Port</th>\n",
              "      <th>Flow Duration</th>\n",
              "      <th>Total Fwd Packets</th>\n",
              "      <th>Total Backward Packets</th>\n",
              "      <th>Total Length of Fwd Packets</th>\n",
              "      <th>Total Length of Bwd Packets</th>\n",
              "      <th>Fwd Packet Length Max</th>\n",
              "      <th>Fwd Packet Length Min</th>\n",
              "      <th>Fwd Packet Length Mean</th>\n",
              "      <th>Fwd Packet Length Std</th>\n",
              "      <th>Bwd Packet Length Max</th>\n",
              "      <th>Bwd Packet Length Min</th>\n",
              "      <th>Bwd Packet Length Mean</th>\n",
              "      <th>Bwd Packet Length Std</th>\n",
              "      <th>Flow Bytes/s</th>\n",
              "      <th>Flow Packets/s</th>\n",
              "      <th>Flow IAT Mean</th>\n",
              "      <th>Flow IAT Std</th>\n",
              "      <th>Flow IAT Max</th>\n",
              "      <th>Flow IAT Min</th>\n",
              "      <th>Fwd IAT Total</th>\n",
              "      <th>Fwd IAT Mean</th>\n",
              "      <th>Fwd IAT Std</th>\n",
              "      <th>Fwd IAT Max</th>\n",
              "      <th>Fwd IAT Min</th>\n",
              "      <th>Bwd IAT Total</th>\n",
              "      <th>Bwd IAT Mean</th>\n",
              "      <th>Bwd IAT Std</th>\n",
              "      <th>Bwd IAT Max</th>\n",
              "      <th>Bwd IAT Min</th>\n",
              "      <th>Fwd PSH Flags</th>\n",
              "      <th>Bwd PSH Flags</th>\n",
              "      <th>Fwd URG Flags</th>\n",
              "      <th>Bwd URG Flags</th>\n",
              "      <th>Fwd Header Length</th>\n",
              "      <th>Bwd Header Length</th>\n",
              "      <th>Fwd Packets/s</th>\n",
              "      <th>Bwd Packets/s</th>\n",
              "      <th>Min Packet Length</th>\n",
              "      <th>Max Packet Length</th>\n",
              "      <th>Packet Length Mean</th>\n",
              "      <th>Packet Length Std</th>\n",
              "      <th>Packet Length Variance</th>\n",
              "      <th>FIN Flag Count</th>\n",
              "      <th>SYN Flag Count</th>\n",
              "      <th>RST Flag Count</th>\n",
              "      <th>PSH Flag Count</th>\n",
              "      <th>ACK Flag Count</th>\n",
              "      <th>URG Flag Count</th>\n",
              "      <th>CWE Flag Count</th>\n",
              "      <th>ECE Flag Count</th>\n",
              "      <th>Down/Up Ratio</th>\n",
              "      <th>Average Packet Size</th>\n",
              "      <th>Avg Fwd Segment Size</th>\n",
              "      <th>Avg Bwd Segment Size</th>\n",
              "      <th>Fwd Header Length.1</th>\n",
              "      <th>Fwd Avg Bytes/Bulk</th>\n",
              "      <th>Fwd Avg Packets/Bulk</th>\n",
              "      <th>Fwd Avg Bulk Rate</th>\n",
              "      <th>Bwd Avg Bytes/Bulk</th>\n",
              "      <th>Bwd Avg Packets/Bulk</th>\n",
              "      <th>Bwd Avg Bulk Rate</th>\n",
              "      <th>Subflow Fwd Packets</th>\n",
              "      <th>Subflow Fwd Bytes</th>\n",
              "      <th>Subflow Bwd Packets</th>\n",
              "      <th>Subflow Bwd Bytes</th>\n",
              "      <th>Init_Win_bytes_forward</th>\n",
              "      <th>Init_Win_bytes_backward</th>\n",
              "      <th>act_data_pkt_fwd</th>\n",
              "      <th>min_seg_size_forward</th>\n",
              "      <th>Active Mean</th>\n",
              "      <th>Active Std</th>\n",
              "      <th>Active Max</th>\n",
              "      <th>Active Min</th>\n",
              "      <th>Idle Mean</th>\n",
              "      <th>Idle Std</th>\n",
              "      <th>Idle Max</th>\n",
              "      <th>Idle Min</th>\n",
              "      <th>Label</th>\n",
              "    </tr>\n",
              "  </thead>\n",
              "  <tbody>\n",
              "    <tr>\n",
              "      <th>0</th>\n",
              "      <td>80</td>\n",
              "      <td>5480074</td>\n",
              "      <td>3</td>\n",
              "      <td>1</td>\n",
              "      <td>12</td>\n",
              "      <td>0</td>\n",
              "      <td>6</td>\n",
              "      <td>0</td>\n",
              "      <td>4.000</td>\n",
              "      <td>3.465</td>\n",
              "      <td>0</td>\n",
              "      <td>0</td>\n",
              "      <td>0.0</td>\n",
              "      <td>0.0</td>\n",
              "      <td>2.189751</td>\n",
              "      <td>0.729917</td>\n",
              "      <td>1.826691e+06</td>\n",
              "      <td>3.131700e+06</td>\n",
              "      <td>5442804</td>\n",
              "      <td>101</td>\n",
              "      <td>5480074</td>\n",
              "      <td>2740037.000</td>\n",
              "      <td>3.822290e+06</td>\n",
              "      <td>5442804</td>\n",
              "      <td>37270</td>\n",
              "      <td>0</td>\n",
              "      <td>0.000</td>\n",
              "      <td>0.00</td>\n",
              "      <td>0</td>\n",
              "      <td>0</td>\n",
              "      <td>0</td>\n",
              "      <td>0</td>\n",
              "      <td>0</td>\n",
              "      <td>0</td>\n",
              "      <td>72</td>\n",
              "      <td>32</td>\n",
              "      <td>0.547438</td>\n",
              "      <td>0.182479</td>\n",
              "      <td>0</td>\n",
              "      <td>6</td>\n",
              "      <td>2.4</td>\n",
              "      <td>3.287</td>\n",
              "      <td>1.080000e+01</td>\n",
              "      <td>0</td>\n",
              "      <td>0</td>\n",
              "      <td>0</td>\n",
              "      <td>1</td>\n",
              "      <td>0</td>\n",
              "      <td>0</td>\n",
              "      <td>0</td>\n",
              "      <td>0</td>\n",
              "      <td>0</td>\n",
              "      <td>3.00</td>\n",
              "      <td>4.000</td>\n",
              "      <td>0.0</td>\n",
              "      <td>72</td>\n",
              "      <td>0</td>\n",
              "      <td>0</td>\n",
              "      <td>0</td>\n",
              "      <td>0</td>\n",
              "      <td>0</td>\n",
              "      <td>0</td>\n",
              "      <td>3</td>\n",
              "      <td>12</td>\n",
              "      <td>1</td>\n",
              "      <td>0</td>\n",
              "      <td>8192</td>\n",
              "      <td>42780</td>\n",
              "      <td>2</td>\n",
              "      <td>20</td>\n",
              "      <td>0.0</td>\n",
              "      <td>0.0</td>\n",
              "      <td>0</td>\n",
              "      <td>0</td>\n",
              "      <td>0.0</td>\n",
              "      <td>0.0</td>\n",
              "      <td>0</td>\n",
              "      <td>0</td>\n",
              "      <td>BENIGN</td>\n",
              "    </tr>\n",
              "    <tr>\n",
              "      <th>1</th>\n",
              "      <td>443</td>\n",
              "      <td>711977</td>\n",
              "      <td>9</td>\n",
              "      <td>10</td>\n",
              "      <td>703</td>\n",
              "      <td>3950</td>\n",
              "      <td>267</td>\n",
              "      <td>0</td>\n",
              "      <td>78.100</td>\n",
              "      <td>103.300</td>\n",
              "      <td>1448</td>\n",
              "      <td>0</td>\n",
              "      <td>395.0</td>\n",
              "      <td>587.5</td>\n",
              "      <td>6535.323473</td>\n",
              "      <td>26.686255</td>\n",
              "      <td>3.955428e+04</td>\n",
              "      <td>5.015462e+04</td>\n",
              "      <td>120501</td>\n",
              "      <td>1</td>\n",
              "      <td>616301</td>\n",
              "      <td>77037.625</td>\n",
              "      <td>7.299598e+04</td>\n",
              "      <td>215614</td>\n",
              "      <td>230</td>\n",
              "      <td>616874</td>\n",
              "      <td>68541.555</td>\n",
              "      <td>71985.97</td>\n",
              "      <td>199836</td>\n",
              "      <td>1</td>\n",
              "      <td>0</td>\n",
              "      <td>0</td>\n",
              "      <td>0</td>\n",
              "      <td>0</td>\n",
              "      <td>296</td>\n",
              "      <td>328</td>\n",
              "      <td>12.640858</td>\n",
              "      <td>14.045398</td>\n",
              "      <td>0</td>\n",
              "      <td>1448</td>\n",
              "      <td>232.6</td>\n",
              "      <td>442.800</td>\n",
              "      <td>1.960127e+05</td>\n",
              "      <td>0</td>\n",
              "      <td>0</td>\n",
              "      <td>0</td>\n",
              "      <td>1</td>\n",
              "      <td>0</td>\n",
              "      <td>0</td>\n",
              "      <td>0</td>\n",
              "      <td>0</td>\n",
              "      <td>1</td>\n",
              "      <td>244.90</td>\n",
              "      <td>78.100</td>\n",
              "      <td>395.0</td>\n",
              "      <td>296</td>\n",
              "      <td>0</td>\n",
              "      <td>0</td>\n",
              "      <td>0</td>\n",
              "      <td>0</td>\n",
              "      <td>0</td>\n",
              "      <td>0</td>\n",
              "      <td>9</td>\n",
              "      <td>703</td>\n",
              "      <td>10</td>\n",
              "      <td>3950</td>\n",
              "      <td>29200</td>\n",
              "      <td>252</td>\n",
              "      <td>4</td>\n",
              "      <td>32</td>\n",
              "      <td>0.0</td>\n",
              "      <td>0.0</td>\n",
              "      <td>0</td>\n",
              "      <td>0</td>\n",
              "      <td>0.0</td>\n",
              "      <td>0.0</td>\n",
              "      <td>0</td>\n",
              "      <td>0</td>\n",
              "      <td>BENIGN</td>\n",
              "    </tr>\n",
              "    <tr>\n",
              "      <th>2</th>\n",
              "      <td>53</td>\n",
              "      <td>153398</td>\n",
              "      <td>2</td>\n",
              "      <td>2</td>\n",
              "      <td>80</td>\n",
              "      <td>224</td>\n",
              "      <td>40</td>\n",
              "      <td>40</td>\n",
              "      <td>40.000</td>\n",
              "      <td>0.000</td>\n",
              "      <td>112</td>\n",
              "      <td>112</td>\n",
              "      <td>112.0</td>\n",
              "      <td>0.0</td>\n",
              "      <td>1981.772904</td>\n",
              "      <td>26.075959</td>\n",
              "      <td>5.113267e+04</td>\n",
              "      <td>8.855831e+04</td>\n",
              "      <td>153391</td>\n",
              "      <td>3</td>\n",
              "      <td>3</td>\n",
              "      <td>3.000</td>\n",
              "      <td>0.000000e+00</td>\n",
              "      <td>3</td>\n",
              "      <td>3</td>\n",
              "      <td>4</td>\n",
              "      <td>4.000</td>\n",
              "      <td>0.00</td>\n",
              "      <td>4</td>\n",
              "      <td>4</td>\n",
              "      <td>0</td>\n",
              "      <td>0</td>\n",
              "      <td>0</td>\n",
              "      <td>0</td>\n",
              "      <td>40</td>\n",
              "      <td>40</td>\n",
              "      <td>13.037980</td>\n",
              "      <td>13.037980</td>\n",
              "      <td>40</td>\n",
              "      <td>112</td>\n",
              "      <td>68.8</td>\n",
              "      <td>39.440</td>\n",
              "      <td>1.555200e+03</td>\n",
              "      <td>0</td>\n",
              "      <td>0</td>\n",
              "      <td>0</td>\n",
              "      <td>0</td>\n",
              "      <td>0</td>\n",
              "      <td>0</td>\n",
              "      <td>0</td>\n",
              "      <td>0</td>\n",
              "      <td>1</td>\n",
              "      <td>86.00</td>\n",
              "      <td>40.000</td>\n",
              "      <td>112.0</td>\n",
              "      <td>40</td>\n",
              "      <td>0</td>\n",
              "      <td>0</td>\n",
              "      <td>0</td>\n",
              "      <td>0</td>\n",
              "      <td>0</td>\n",
              "      <td>0</td>\n",
              "      <td>2</td>\n",
              "      <td>80</td>\n",
              "      <td>2</td>\n",
              "      <td>224</td>\n",
              "      <td>-1</td>\n",
              "      <td>-1</td>\n",
              "      <td>1</td>\n",
              "      <td>20</td>\n",
              "      <td>0.0</td>\n",
              "      <td>0.0</td>\n",
              "      <td>0</td>\n",
              "      <td>0</td>\n",
              "      <td>0.0</td>\n",
              "      <td>0.0</td>\n",
              "      <td>0</td>\n",
              "      <td>0</td>\n",
              "      <td>BENIGN</td>\n",
              "    </tr>\n",
              "    <tr>\n",
              "      <th>3</th>\n",
              "      <td>53</td>\n",
              "      <td>57660</td>\n",
              "      <td>1</td>\n",
              "      <td>1</td>\n",
              "      <td>46</td>\n",
              "      <td>128</td>\n",
              "      <td>46</td>\n",
              "      <td>46</td>\n",
              "      <td>46.000</td>\n",
              "      <td>0.000</td>\n",
              "      <td>128</td>\n",
              "      <td>128</td>\n",
              "      <td>128.0</td>\n",
              "      <td>0.0</td>\n",
              "      <td>3017.689906</td>\n",
              "      <td>34.686091</td>\n",
              "      <td>5.766000e+04</td>\n",
              "      <td>0.000000e+00</td>\n",
              "      <td>57660</td>\n",
              "      <td>57660</td>\n",
              "      <td>0</td>\n",
              "      <td>0.000</td>\n",
              "      <td>0.000000e+00</td>\n",
              "      <td>0</td>\n",
              "      <td>0</td>\n",
              "      <td>0</td>\n",
              "      <td>0.000</td>\n",
              "      <td>0.00</td>\n",
              "      <td>0</td>\n",
              "      <td>0</td>\n",
              "      <td>0</td>\n",
              "      <td>0</td>\n",
              "      <td>0</td>\n",
              "      <td>0</td>\n",
              "      <td>20</td>\n",
              "      <td>20</td>\n",
              "      <td>17.343046</td>\n",
              "      <td>17.343046</td>\n",
              "      <td>46</td>\n",
              "      <td>128</td>\n",
              "      <td>73.3</td>\n",
              "      <td>47.340</td>\n",
              "      <td>2.241333e+03</td>\n",
              "      <td>0</td>\n",
              "      <td>0</td>\n",
              "      <td>0</td>\n",
              "      <td>0</td>\n",
              "      <td>0</td>\n",
              "      <td>0</td>\n",
              "      <td>0</td>\n",
              "      <td>0</td>\n",
              "      <td>1</td>\n",
              "      <td>110.00</td>\n",
              "      <td>46.000</td>\n",
              "      <td>128.0</td>\n",
              "      <td>20</td>\n",
              "      <td>0</td>\n",
              "      <td>0</td>\n",
              "      <td>0</td>\n",
              "      <td>0</td>\n",
              "      <td>0</td>\n",
              "      <td>0</td>\n",
              "      <td>1</td>\n",
              "      <td>46</td>\n",
              "      <td>1</td>\n",
              "      <td>128</td>\n",
              "      <td>-1</td>\n",
              "      <td>-1</td>\n",
              "      <td>0</td>\n",
              "      <td>20</td>\n",
              "      <td>0.0</td>\n",
              "      <td>0.0</td>\n",
              "      <td>0</td>\n",
              "      <td>0</td>\n",
              "      <td>0.0</td>\n",
              "      <td>0.0</td>\n",
              "      <td>0</td>\n",
              "      <td>0</td>\n",
              "      <td>BENIGN</td>\n",
              "    </tr>\n",
              "    <tr>\n",
              "      <th>4</th>\n",
              "      <td>8446</td>\n",
              "      <td>767</td>\n",
              "      <td>3</td>\n",
              "      <td>1</td>\n",
              "      <td>43</td>\n",
              "      <td>6</td>\n",
              "      <td>31</td>\n",
              "      <td>6</td>\n",
              "      <td>14.336</td>\n",
              "      <td>14.440</td>\n",
              "      <td>6</td>\n",
              "      <td>6</td>\n",
              "      <td>6.0</td>\n",
              "      <td>0.0</td>\n",
              "      <td>63885.267280</td>\n",
              "      <td>5215.123859</td>\n",
              "      <td>2.556667e+02</td>\n",
              "      <td>3.942896e+02</td>\n",
              "      <td>710</td>\n",
              "      <td>3</td>\n",
              "      <td>713</td>\n",
              "      <td>356.500</td>\n",
              "      <td>4.999245e+02</td>\n",
              "      <td>710</td>\n",
              "      <td>3</td>\n",
              "      <td>0</td>\n",
              "      <td>0.000</td>\n",
              "      <td>0.00</td>\n",
              "      <td>0</td>\n",
              "      <td>0</td>\n",
              "      <td>0</td>\n",
              "      <td>0</td>\n",
              "      <td>0</td>\n",
              "      <td>0</td>\n",
              "      <td>60</td>\n",
              "      <td>20</td>\n",
              "      <td>3911.342800</td>\n",
              "      <td>1303.781000</td>\n",
              "      <td>6</td>\n",
              "      <td>31</td>\n",
              "      <td>11.0</td>\n",
              "      <td>11.180</td>\n",
              "      <td>1.250000e+02</td>\n",
              "      <td>0</td>\n",
              "      <td>0</td>\n",
              "      <td>0</td>\n",
              "      <td>0</td>\n",
              "      <td>1</td>\n",
              "      <td>0</td>\n",
              "      <td>0</td>\n",
              "      <td>0</td>\n",
              "      <td>0</td>\n",
              "      <td>13.75</td>\n",
              "      <td>14.336</td>\n",
              "      <td>6.0</td>\n",
              "      <td>60</td>\n",
              "      <td>0</td>\n",
              "      <td>0</td>\n",
              "      <td>0</td>\n",
              "      <td>0</td>\n",
              "      <td>0</td>\n",
              "      <td>0</td>\n",
              "      <td>3</td>\n",
              "      <td>43</td>\n",
              "      <td>1</td>\n",
              "      <td>6</td>\n",
              "      <td>1017</td>\n",
              "      <td>0</td>\n",
              "      <td>2</td>\n",
              "      <td>20</td>\n",
              "      <td>0.0</td>\n",
              "      <td>0.0</td>\n",
              "      <td>0</td>\n",
              "      <td>0</td>\n",
              "      <td>0.0</td>\n",
              "      <td>0.0</td>\n",
              "      <td>0</td>\n",
              "      <td>0</td>\n",
              "      <td>BENIGN</td>\n",
              "    </tr>\n",
              "    <tr>\n",
              "      <th>...</th>\n",
              "      <td>...</td>\n",
              "      <td>...</td>\n",
              "      <td>...</td>\n",
              "      <td>...</td>\n",
              "      <td>...</td>\n",
              "      <td>...</td>\n",
              "      <td>...</td>\n",
              "      <td>...</td>\n",
              "      <td>...</td>\n",
              "      <td>...</td>\n",
              "      <td>...</td>\n",
              "      <td>...</td>\n",
              "      <td>...</td>\n",
              "      <td>...</td>\n",
              "      <td>...</td>\n",
              "      <td>...</td>\n",
              "      <td>...</td>\n",
              "      <td>...</td>\n",
              "      <td>...</td>\n",
              "      <td>...</td>\n",
              "      <td>...</td>\n",
              "      <td>...</td>\n",
              "      <td>...</td>\n",
              "      <td>...</td>\n",
              "      <td>...</td>\n",
              "      <td>...</td>\n",
              "      <td>...</td>\n",
              "      <td>...</td>\n",
              "      <td>...</td>\n",
              "      <td>...</td>\n",
              "      <td>...</td>\n",
              "      <td>...</td>\n",
              "      <td>...</td>\n",
              "      <td>...</td>\n",
              "      <td>...</td>\n",
              "      <td>...</td>\n",
              "      <td>...</td>\n",
              "      <td>...</td>\n",
              "      <td>...</td>\n",
              "      <td>...</td>\n",
              "      <td>...</td>\n",
              "      <td>...</td>\n",
              "      <td>...</td>\n",
              "      <td>...</td>\n",
              "      <td>...</td>\n",
              "      <td>...</td>\n",
              "      <td>...</td>\n",
              "      <td>...</td>\n",
              "      <td>...</td>\n",
              "      <td>...</td>\n",
              "      <td>...</td>\n",
              "      <td>...</td>\n",
              "      <td>...</td>\n",
              "      <td>...</td>\n",
              "      <td>...</td>\n",
              "      <td>...</td>\n",
              "      <td>...</td>\n",
              "      <td>...</td>\n",
              "      <td>...</td>\n",
              "      <td>...</td>\n",
              "      <td>...</td>\n",
              "      <td>...</td>\n",
              "      <td>...</td>\n",
              "      <td>...</td>\n",
              "      <td>...</td>\n",
              "      <td>...</td>\n",
              "      <td>...</td>\n",
              "      <td>...</td>\n",
              "      <td>...</td>\n",
              "      <td>...</td>\n",
              "      <td>...</td>\n",
              "      <td>...</td>\n",
              "      <td>...</td>\n",
              "      <td>...</td>\n",
              "      <td>...</td>\n",
              "      <td>...</td>\n",
              "      <td>...</td>\n",
              "      <td>...</td>\n",
              "      <td>...</td>\n",
              "    </tr>\n",
              "    <tr>\n",
              "      <th>539611</th>\n",
              "      <td>80</td>\n",
              "      <td>11512204</td>\n",
              "      <td>8</td>\n",
              "      <td>5</td>\n",
              "      <td>326</td>\n",
              "      <td>11632</td>\n",
              "      <td>326</td>\n",
              "      <td>0</td>\n",
              "      <td>40.750</td>\n",
              "      <td>115.250</td>\n",
              "      <td>10184</td>\n",
              "      <td>0</td>\n",
              "      <td>2326.0</td>\n",
              "      <td>4436.0</td>\n",
              "      <td>1038.723775</td>\n",
              "      <td>1.129236</td>\n",
              "      <td>9.593503e+05</td>\n",
              "      <td>2.262616e+06</td>\n",
              "      <td>6507197</td>\n",
              "      <td>1</td>\n",
              "      <td>6510770</td>\n",
              "      <td>930110.000</td>\n",
              "      <td>2.460477e+06</td>\n",
              "      <td>6509948</td>\n",
              "      <td>1</td>\n",
              "      <td>11500000</td>\n",
              "      <td>2878039.500</td>\n",
              "      <td>3378874.20</td>\n",
              "      <td>6507197</td>\n",
              "      <td>196</td>\n",
              "      <td>0</td>\n",
              "      <td>0</td>\n",
              "      <td>0</td>\n",
              "      <td>0</td>\n",
              "      <td>264</td>\n",
              "      <td>168</td>\n",
              "      <td>0.694915</td>\n",
              "      <td>0.434322</td>\n",
              "      <td>0</td>\n",
              "      <td>10184</td>\n",
              "      <td>854.0</td>\n",
              "      <td>2714.000</td>\n",
              "      <td>7.361769e+06</td>\n",
              "      <td>0</td>\n",
              "      <td>0</td>\n",
              "      <td>0</td>\n",
              "      <td>1</td>\n",
              "      <td>0</td>\n",
              "      <td>0</td>\n",
              "      <td>0</td>\n",
              "      <td>0</td>\n",
              "      <td>0</td>\n",
              "      <td>920.00</td>\n",
              "      <td>40.750</td>\n",
              "      <td>2326.0</td>\n",
              "      <td>264</td>\n",
              "      <td>0</td>\n",
              "      <td>0</td>\n",
              "      <td>0</td>\n",
              "      <td>0</td>\n",
              "      <td>0</td>\n",
              "      <td>0</td>\n",
              "      <td>8</td>\n",
              "      <td>326</td>\n",
              "      <td>5</td>\n",
              "      <td>11632</td>\n",
              "      <td>29200</td>\n",
              "      <td>235</td>\n",
              "      <td>1</td>\n",
              "      <td>32</td>\n",
              "      <td>892.0</td>\n",
              "      <td>0.0</td>\n",
              "      <td>892</td>\n",
              "      <td>892</td>\n",
              "      <td>6507197.0</td>\n",
              "      <td>0.0</td>\n",
              "      <td>6507197</td>\n",
              "      <td>6507197</td>\n",
              "      <td>DoS GoldenEye</td>\n",
              "    </tr>\n",
              "    <tr>\n",
              "      <th>539612</th>\n",
              "      <td>80</td>\n",
              "      <td>11513325</td>\n",
              "      <td>5</td>\n",
              "      <td>5</td>\n",
              "      <td>471</td>\n",
              "      <td>3525</td>\n",
              "      <td>471</td>\n",
              "      <td>0</td>\n",
              "      <td>94.200</td>\n",
              "      <td>210.600</td>\n",
              "      <td>2077</td>\n",
              "      <td>0</td>\n",
              "      <td>705.0</td>\n",
              "      <td>990.5</td>\n",
              "      <td>347.076105</td>\n",
              "      <td>0.868559</td>\n",
              "      <td>1.279258e+06</td>\n",
              "      <td>2.565153e+06</td>\n",
              "      <td>6508582</td>\n",
              "      <td>53</td>\n",
              "      <td>6512631</td>\n",
              "      <td>1628157.800</td>\n",
              "      <td>3.255639e+06</td>\n",
              "      <td>6511616</td>\n",
              "      <td>176</td>\n",
              "      <td>11500000</td>\n",
              "      <td>2878318.000</td>\n",
              "      <td>3379306.00</td>\n",
              "      <td>6508582</td>\n",
              "      <td>192</td>\n",
              "      <td>0</td>\n",
              "      <td>0</td>\n",
              "      <td>0</td>\n",
              "      <td>0</td>\n",
              "      <td>168</td>\n",
              "      <td>168</td>\n",
              "      <td>0.434279</td>\n",
              "      <td>0.434279</td>\n",
              "      <td>0</td>\n",
              "      <td>2077</td>\n",
              "      <td>363.2</td>\n",
              "      <td>720.000</td>\n",
              "      <td>5.180836e+05</td>\n",
              "      <td>0</td>\n",
              "      <td>0</td>\n",
              "      <td>0</td>\n",
              "      <td>1</td>\n",
              "      <td>0</td>\n",
              "      <td>0</td>\n",
              "      <td>0</td>\n",
              "      <td>0</td>\n",
              "      <td>1</td>\n",
              "      <td>399.50</td>\n",
              "      <td>94.200</td>\n",
              "      <td>705.0</td>\n",
              "      <td>168</td>\n",
              "      <td>0</td>\n",
              "      <td>0</td>\n",
              "      <td>0</td>\n",
              "      <td>0</td>\n",
              "      <td>0</td>\n",
              "      <td>0</td>\n",
              "      <td>5</td>\n",
              "      <td>471</td>\n",
              "      <td>5</td>\n",
              "      <td>3525</td>\n",
              "      <td>29200</td>\n",
              "      <td>235</td>\n",
              "      <td>1</td>\n",
              "      <td>32</td>\n",
              "      <td>918.0</td>\n",
              "      <td>0.0</td>\n",
              "      <td>918</td>\n",
              "      <td>918</td>\n",
              "      <td>6508582.0</td>\n",
              "      <td>0.0</td>\n",
              "      <td>6508582</td>\n",
              "      <td>6508582</td>\n",
              "      <td>DoS GoldenEye</td>\n",
              "    </tr>\n",
              "    <tr>\n",
              "      <th>539613</th>\n",
              "      <td>80</td>\n",
              "      <td>11509201</td>\n",
              "      <td>7</td>\n",
              "      <td>6</td>\n",
              "      <td>314</td>\n",
              "      <td>11632</td>\n",
              "      <td>314</td>\n",
              "      <td>0</td>\n",
              "      <td>44.840</td>\n",
              "      <td>118.700</td>\n",
              "      <td>5792</td>\n",
              "      <td>0</td>\n",
              "      <td>1939.0</td>\n",
              "      <td>2544.0</td>\n",
              "      <td>1037.952157</td>\n",
              "      <td>1.129531</td>\n",
              "      <td>9.591001e+05</td>\n",
              "      <td>2.261842e+06</td>\n",
              "      <td>6503248</td>\n",
              "      <td>46</td>\n",
              "      <td>6507056</td>\n",
              "      <td>1084509.400</td>\n",
              "      <td>2.655701e+06</td>\n",
              "      <td>6505437</td>\n",
              "      <td>255</td>\n",
              "      <td>11500000</td>\n",
              "      <td>2301830.500</td>\n",
              "      <td>3195689.20</td>\n",
              "      <td>6503248</td>\n",
              "      <td>47</td>\n",
              "      <td>0</td>\n",
              "      <td>0</td>\n",
              "      <td>0</td>\n",
              "      <td>0</td>\n",
              "      <td>232</td>\n",
              "      <td>200</td>\n",
              "      <td>0.608209</td>\n",
              "      <td>0.521322</td>\n",
              "      <td>0</td>\n",
              "      <td>5792</td>\n",
              "      <td>853.5</td>\n",
              "      <td>1857.000</td>\n",
              "      <td>3.449144e+06</td>\n",
              "      <td>0</td>\n",
              "      <td>0</td>\n",
              "      <td>0</td>\n",
              "      <td>1</td>\n",
              "      <td>0</td>\n",
              "      <td>0</td>\n",
              "      <td>0</td>\n",
              "      <td>0</td>\n",
              "      <td>0</td>\n",
              "      <td>919.00</td>\n",
              "      <td>44.840</td>\n",
              "      <td>1939.0</td>\n",
              "      <td>232</td>\n",
              "      <td>0</td>\n",
              "      <td>0</td>\n",
              "      <td>0</td>\n",
              "      <td>0</td>\n",
              "      <td>0</td>\n",
              "      <td>0</td>\n",
              "      <td>7</td>\n",
              "      <td>314</td>\n",
              "      <td>6</td>\n",
              "      <td>11632</td>\n",
              "      <td>29200</td>\n",
              "      <td>235</td>\n",
              "      <td>1</td>\n",
              "      <td>32</td>\n",
              "      <td>899.0</td>\n",
              "      <td>0.0</td>\n",
              "      <td>899</td>\n",
              "      <td>899</td>\n",
              "      <td>6503248.0</td>\n",
              "      <td>0.0</td>\n",
              "      <td>6503248</td>\n",
              "      <td>6503248</td>\n",
              "      <td>DoS GoldenEye</td>\n",
              "    </tr>\n",
              "    <tr>\n",
              "      <th>539614</th>\n",
              "      <td>80</td>\n",
              "      <td>11509095</td>\n",
              "      <td>8</td>\n",
              "      <td>5</td>\n",
              "      <td>369</td>\n",
              "      <td>11632</td>\n",
              "      <td>369</td>\n",
              "      <td>0</td>\n",
              "      <td>46.120</td>\n",
              "      <td>130.500</td>\n",
              "      <td>10184</td>\n",
              "      <td>0</td>\n",
              "      <td>2326.0</td>\n",
              "      <td>4436.0</td>\n",
              "      <td>1042.740546</td>\n",
              "      <td>1.129541</td>\n",
              "      <td>9.590912e+05</td>\n",
              "      <td>2.262122e+06</td>\n",
              "      <td>6504954</td>\n",
              "      <td>47</td>\n",
              "      <td>6507794</td>\n",
              "      <td>929684.900</td>\n",
              "      <td>2.458891e+06</td>\n",
              "      <td>6505926</td>\n",
              "      <td>168</td>\n",
              "      <td>11500000</td>\n",
              "      <td>2877262.000</td>\n",
              "      <td>3377879.00</td>\n",
              "      <td>6504954</td>\n",
              "      <td>196</td>\n",
              "      <td>0</td>\n",
              "      <td>0</td>\n",
              "      <td>0</td>\n",
              "      <td>0</td>\n",
              "      <td>264</td>\n",
              "      <td>168</td>\n",
              "      <td>0.695102</td>\n",
              "      <td>0.434439</td>\n",
              "      <td>0</td>\n",
              "      <td>10184</td>\n",
              "      <td>857.0</td>\n",
              "      <td>2712.000</td>\n",
              "      <td>7.358407e+06</td>\n",
              "      <td>0</td>\n",
              "      <td>0</td>\n",
              "      <td>0</td>\n",
              "      <td>1</td>\n",
              "      <td>0</td>\n",
              "      <td>0</td>\n",
              "      <td>0</td>\n",
              "      <td>0</td>\n",
              "      <td>0</td>\n",
              "      <td>923.00</td>\n",
              "      <td>46.120</td>\n",
              "      <td>2326.0</td>\n",
              "      <td>264</td>\n",
              "      <td>0</td>\n",
              "      <td>0</td>\n",
              "      <td>0</td>\n",
              "      <td>0</td>\n",
              "      <td>0</td>\n",
              "      <td>0</td>\n",
              "      <td>8</td>\n",
              "      <td>369</td>\n",
              "      <td>5</td>\n",
              "      <td>11632</td>\n",
              "      <td>29200</td>\n",
              "      <td>235</td>\n",
              "      <td>1</td>\n",
              "      <td>32</td>\n",
              "      <td>914.0</td>\n",
              "      <td>0.0</td>\n",
              "      <td>914</td>\n",
              "      <td>914</td>\n",
              "      <td>6504954.0</td>\n",
              "      <td>0.0</td>\n",
              "      <td>6504954</td>\n",
              "      <td>6504954</td>\n",
              "      <td>DoS GoldenEye</td>\n",
              "    </tr>\n",
              "    <tr>\n",
              "      <th>539615</th>\n",
              "      <td>80</td>\n",
              "      <td>11512230</td>\n",
              "      <td>5</td>\n",
              "      <td>5</td>\n",
              "      <td>672</td>\n",
              "      <td>3525</td>\n",
              "      <td>672</td>\n",
              "      <td>0</td>\n",
              "      <td>134.400</td>\n",
              "      <td>300.500</td>\n",
              "      <td>2077</td>\n",
              "      <td>0</td>\n",
              "      <td>705.0</td>\n",
              "      <td>990.5</td>\n",
              "      <td>364.568811</td>\n",
              "      <td>0.868641</td>\n",
              "      <td>1.279137e+06</td>\n",
              "      <td>2.565060e+06</td>\n",
              "      <td>6506213</td>\n",
              "      <td>4</td>\n",
              "      <td>6509115</td>\n",
              "      <td>1627278.800</td>\n",
              "      <td>3.253892e+06</td>\n",
              "      <td>6508117</td>\n",
              "      <td>4</td>\n",
              "      <td>11500000</td>\n",
              "      <td>2878045.500</td>\n",
              "      <td>3378842.00</td>\n",
              "      <td>6506213</td>\n",
              "      <td>49</td>\n",
              "      <td>0</td>\n",
              "      <td>0</td>\n",
              "      <td>0</td>\n",
              "      <td>0</td>\n",
              "      <td>168</td>\n",
              "      <td>168</td>\n",
              "      <td>0.434321</td>\n",
              "      <td>0.434321</td>\n",
              "      <td>0</td>\n",
              "      <td>2077</td>\n",
              "      <td>381.5</td>\n",
              "      <td>725.500</td>\n",
              "      <td>5.260871e+05</td>\n",
              "      <td>0</td>\n",
              "      <td>0</td>\n",
              "      <td>0</td>\n",
              "      <td>1</td>\n",
              "      <td>0</td>\n",
              "      <td>0</td>\n",
              "      <td>0</td>\n",
              "      <td>0</td>\n",
              "      <td>1</td>\n",
              "      <td>419.80</td>\n",
              "      <td>134.400</td>\n",
              "      <td>705.0</td>\n",
              "      <td>168</td>\n",
              "      <td>0</td>\n",
              "      <td>0</td>\n",
              "      <td>0</td>\n",
              "      <td>0</td>\n",
              "      <td>0</td>\n",
              "      <td>0</td>\n",
              "      <td>5</td>\n",
              "      <td>672</td>\n",
              "      <td>5</td>\n",
              "      <td>3525</td>\n",
              "      <td>29200</td>\n",
              "      <td>237</td>\n",
              "      <td>1</td>\n",
              "      <td>32</td>\n",
              "      <td>821.0</td>\n",
              "      <td>0.0</td>\n",
              "      <td>821</td>\n",
              "      <td>821</td>\n",
              "      <td>6506213.0</td>\n",
              "      <td>0.0</td>\n",
              "      <td>6506213</td>\n",
              "      <td>6506213</td>\n",
              "      <td>DoS GoldenEye</td>\n",
              "    </tr>\n",
              "  </tbody>\n",
              "</table>\n",
              "<p>539616 rows × 79 columns</p>\n",
              "</div>\n",
              "    <div class=\"colab-df-buttons\">\n",
              "\n",
              "  <div class=\"colab-df-container\">\n",
              "    <button class=\"colab-df-convert\" onclick=\"convertToInteractive('df-90da01a0-346d-4ef6-8ef6-50d0e5025993')\"\n",
              "            title=\"Convert this dataframe to an interactive table.\"\n",
              "            style=\"display:none;\">\n",
              "\n",
              "  <svg xmlns=\"http://www.w3.org/2000/svg\" height=\"24px\" viewBox=\"0 -960 960 960\">\n",
              "    <path d=\"M120-120v-720h720v720H120Zm60-500h600v-160H180v160Zm220 220h160v-160H400v160Zm0 220h160v-160H400v160ZM180-400h160v-160H180v160Zm440 0h160v-160H620v160ZM180-180h160v-160H180v160Zm440 0h160v-160H620v160Z\"/>\n",
              "  </svg>\n",
              "    </button>\n",
              "\n",
              "  <style>\n",
              "    .colab-df-container {\n",
              "      display:flex;\n",
              "      gap: 12px;\n",
              "    }\n",
              "\n",
              "    .colab-df-convert {\n",
              "      background-color: #E8F0FE;\n",
              "      border: none;\n",
              "      border-radius: 50%;\n",
              "      cursor: pointer;\n",
              "      display: none;\n",
              "      fill: #1967D2;\n",
              "      height: 32px;\n",
              "      padding: 0 0 0 0;\n",
              "      width: 32px;\n",
              "    }\n",
              "\n",
              "    .colab-df-convert:hover {\n",
              "      background-color: #E2EBFA;\n",
              "      box-shadow: 0px 1px 2px rgba(60, 64, 67, 0.3), 0px 1px 3px 1px rgba(60, 64, 67, 0.15);\n",
              "      fill: #174EA6;\n",
              "    }\n",
              "\n",
              "    .colab-df-buttons div {\n",
              "      margin-bottom: 4px;\n",
              "    }\n",
              "\n",
              "    [theme=dark] .colab-df-convert {\n",
              "      background-color: #3B4455;\n",
              "      fill: #D2E3FC;\n",
              "    }\n",
              "\n",
              "    [theme=dark] .colab-df-convert:hover {\n",
              "      background-color: #434B5C;\n",
              "      box-shadow: 0px 1px 3px 1px rgba(0, 0, 0, 0.15);\n",
              "      filter: drop-shadow(0px 1px 2px rgba(0, 0, 0, 0.3));\n",
              "      fill: #FFFFFF;\n",
              "    }\n",
              "  </style>\n",
              "\n",
              "    <script>\n",
              "      const buttonEl =\n",
              "        document.querySelector('#df-90da01a0-346d-4ef6-8ef6-50d0e5025993 button.colab-df-convert');\n",
              "      buttonEl.style.display =\n",
              "        google.colab.kernel.accessAllowed ? 'block' : 'none';\n",
              "\n",
              "      async function convertToInteractive(key) {\n",
              "        const element = document.querySelector('#df-90da01a0-346d-4ef6-8ef6-50d0e5025993');\n",
              "        const dataTable =\n",
              "          await google.colab.kernel.invokeFunction('convertToInteractive',\n",
              "                                                    [key], {});\n",
              "        if (!dataTable) return;\n",
              "\n",
              "        const docLinkHtml = 'Like what you see? Visit the ' +\n",
              "          '<a target=\"_blank\" href=https://colab.research.google.com/notebooks/data_table.ipynb>data table notebook</a>'\n",
              "          + ' to learn more about interactive tables.';\n",
              "        element.innerHTML = '';\n",
              "        dataTable['output_type'] = 'display_data';\n",
              "        await google.colab.output.renderOutput(dataTable, element);\n",
              "        const docLink = document.createElement('div');\n",
              "        docLink.innerHTML = docLinkHtml;\n",
              "        element.appendChild(docLink);\n",
              "      }\n",
              "    </script>\n",
              "  </div>\n",
              "\n",
              "\n",
              "<div id=\"df-61968338-825d-4753-a070-6fc4536ae0c8\">\n",
              "  <button class=\"colab-df-quickchart\" onclick=\"quickchart('df-61968338-825d-4753-a070-6fc4536ae0c8')\"\n",
              "            title=\"Suggest charts.\"\n",
              "            style=\"display:none;\">\n",
              "\n",
              "<svg xmlns=\"http://www.w3.org/2000/svg\" height=\"24px\"viewBox=\"0 0 24 24\"\n",
              "     width=\"24px\">\n",
              "    <g>\n",
              "        <path d=\"M19 3H5c-1.1 0-2 .9-2 2v14c0 1.1.9 2 2 2h14c1.1 0 2-.9 2-2V5c0-1.1-.9-2-2-2zM9 17H7v-7h2v7zm4 0h-2V7h2v10zm4 0h-2v-4h2v4z\"/>\n",
              "    </g>\n",
              "</svg>\n",
              "  </button>\n",
              "\n",
              "<style>\n",
              "  .colab-df-quickchart {\n",
              "      --bg-color: #E8F0FE;\n",
              "      --fill-color: #1967D2;\n",
              "      --hover-bg-color: #E2EBFA;\n",
              "      --hover-fill-color: #174EA6;\n",
              "      --disabled-fill-color: #AAA;\n",
              "      --disabled-bg-color: #DDD;\n",
              "  }\n",
              "\n",
              "  [theme=dark] .colab-df-quickchart {\n",
              "      --bg-color: #3B4455;\n",
              "      --fill-color: #D2E3FC;\n",
              "      --hover-bg-color: #434B5C;\n",
              "      --hover-fill-color: #FFFFFF;\n",
              "      --disabled-bg-color: #3B4455;\n",
              "      --disabled-fill-color: #666;\n",
              "  }\n",
              "\n",
              "  .colab-df-quickchart {\n",
              "    background-color: var(--bg-color);\n",
              "    border: none;\n",
              "    border-radius: 50%;\n",
              "    cursor: pointer;\n",
              "    display: none;\n",
              "    fill: var(--fill-color);\n",
              "    height: 32px;\n",
              "    padding: 0;\n",
              "    width: 32px;\n",
              "  }\n",
              "\n",
              "  .colab-df-quickchart:hover {\n",
              "    background-color: var(--hover-bg-color);\n",
              "    box-shadow: 0 1px 2px rgba(60, 64, 67, 0.3), 0 1px 3px 1px rgba(60, 64, 67, 0.15);\n",
              "    fill: var(--button-hover-fill-color);\n",
              "  }\n",
              "\n",
              "  .colab-df-quickchart-complete:disabled,\n",
              "  .colab-df-quickchart-complete:disabled:hover {\n",
              "    background-color: var(--disabled-bg-color);\n",
              "    fill: var(--disabled-fill-color);\n",
              "    box-shadow: none;\n",
              "  }\n",
              "\n",
              "  .colab-df-spinner {\n",
              "    border: 2px solid var(--fill-color);\n",
              "    border-color: transparent;\n",
              "    border-bottom-color: var(--fill-color);\n",
              "    animation:\n",
              "      spin 1s steps(1) infinite;\n",
              "  }\n",
              "\n",
              "  @keyframes spin {\n",
              "    0% {\n",
              "      border-color: transparent;\n",
              "      border-bottom-color: var(--fill-color);\n",
              "      border-left-color: var(--fill-color);\n",
              "    }\n",
              "    20% {\n",
              "      border-color: transparent;\n",
              "      border-left-color: var(--fill-color);\n",
              "      border-top-color: var(--fill-color);\n",
              "    }\n",
              "    30% {\n",
              "      border-color: transparent;\n",
              "      border-left-color: var(--fill-color);\n",
              "      border-top-color: var(--fill-color);\n",
              "      border-right-color: var(--fill-color);\n",
              "    }\n",
              "    40% {\n",
              "      border-color: transparent;\n",
              "      border-right-color: var(--fill-color);\n",
              "      border-top-color: var(--fill-color);\n",
              "    }\n",
              "    60% {\n",
              "      border-color: transparent;\n",
              "      border-right-color: var(--fill-color);\n",
              "    }\n",
              "    80% {\n",
              "      border-color: transparent;\n",
              "      border-right-color: var(--fill-color);\n",
              "      border-bottom-color: var(--fill-color);\n",
              "    }\n",
              "    90% {\n",
              "      border-color: transparent;\n",
              "      border-bottom-color: var(--fill-color);\n",
              "    }\n",
              "  }\n",
              "</style>\n",
              "\n",
              "  <script>\n",
              "    async function quickchart(key) {\n",
              "      const quickchartButtonEl =\n",
              "        document.querySelector('#' + key + ' button');\n",
              "      quickchartButtonEl.disabled = true;  // To prevent multiple clicks.\n",
              "      quickchartButtonEl.classList.add('colab-df-spinner');\n",
              "      try {\n",
              "        const charts = await google.colab.kernel.invokeFunction(\n",
              "            'suggestCharts', [key], {});\n",
              "      } catch (error) {\n",
              "        console.error('Error during call to suggestCharts:', error);\n",
              "      }\n",
              "      quickchartButtonEl.classList.remove('colab-df-spinner');\n",
              "      quickchartButtonEl.classList.add('colab-df-quickchart-complete');\n",
              "    }\n",
              "    (() => {\n",
              "      let quickchartButtonEl =\n",
              "        document.querySelector('#df-61968338-825d-4753-a070-6fc4536ae0c8 button');\n",
              "      quickchartButtonEl.style.display =\n",
              "        google.colab.kernel.accessAllowed ? 'block' : 'none';\n",
              "    })();\n",
              "  </script>\n",
              "</div>\n",
              "    </div>\n",
              "  </div>\n"
            ]
          },
          "metadata": {},
          "execution_count": 7
        }
      ],
      "source": [
        "df"
      ],
      "id": "ba02410f"
    },
    {
      "cell_type": "code",
      "execution_count": 8,
      "metadata": {
        "colab": {
          "base_uri": "https://localhost:8080/"
        },
        "id": "e1d31c9e",
        "outputId": "93289a85-6781-4367-c62b-fc685fb9f5ae"
      },
      "outputs": [
        {
          "output_type": "stream",
          "name": "stdout",
          "text": [
            "<class 'pandas.core.frame.DataFrame'>\n",
            "RangeIndex: 539616 entries, 0 to 539615\n",
            "Data columns (total 79 columns):\n",
            " #   Column                        Non-Null Count   Dtype  \n",
            "---  ------                        --------------   -----  \n",
            " 0   Destination Port              539616 non-null  int64  \n",
            " 1    Flow Duration                539616 non-null  int64  \n",
            " 2    Total Fwd Packets            539616 non-null  int64  \n",
            " 3    Total Backward Packets       539616 non-null  int64  \n",
            " 4   Total Length of Fwd Packets   539616 non-null  int64  \n",
            " 5    Total Length of Bwd Packets  539616 non-null  int64  \n",
            " 6    Fwd Packet Length Max        539616 non-null  int64  \n",
            " 7    Fwd Packet Length Min        539616 non-null  int64  \n",
            " 8    Fwd Packet Length Mean       539616 non-null  float64\n",
            " 9    Fwd Packet Length Std        539616 non-null  float64\n",
            " 10  Bwd Packet Length Max         539616 non-null  int64  \n",
            " 11   Bwd Packet Length Min        539616 non-null  int64  \n",
            " 12   Bwd Packet Length Mean       539616 non-null  float64\n",
            " 13   Bwd Packet Length Std        539616 non-null  float64\n",
            " 14  Flow Bytes/s                  539128 non-null  float64\n",
            " 15   Flow Packets/s               539616 non-null  float64\n",
            " 16   Flow IAT Mean                539616 non-null  float64\n",
            " 17   Flow IAT Std                 539616 non-null  float64\n",
            " 18   Flow IAT Max                 539616 non-null  int64  \n",
            " 19   Flow IAT Min                 539616 non-null  int64  \n",
            " 20  Fwd IAT Total                 539616 non-null  int64  \n",
            " 21   Fwd IAT Mean                 539616 non-null  float64\n",
            " 22   Fwd IAT Std                  539616 non-null  float64\n",
            " 23   Fwd IAT Max                  539616 non-null  int64  \n",
            " 24   Fwd IAT Min                  539616 non-null  int64  \n",
            " 25  Bwd IAT Total                 539616 non-null  int64  \n",
            " 26   Bwd IAT Mean                 539616 non-null  float64\n",
            " 27   Bwd IAT Std                  539616 non-null  float64\n",
            " 28   Bwd IAT Max                  539616 non-null  int64  \n",
            " 29   Bwd IAT Min                  539616 non-null  int64  \n",
            " 30  Fwd PSH Flags                 539616 non-null  int64  \n",
            " 31   Bwd PSH Flags                539616 non-null  int64  \n",
            " 32   Fwd URG Flags                539616 non-null  int64  \n",
            " 33   Bwd URG Flags                539616 non-null  int64  \n",
            " 34   Fwd Header Length            539616 non-null  int64  \n",
            " 35   Bwd Header Length            539616 non-null  int64  \n",
            " 36  Fwd Packets/s                 539616 non-null  float64\n",
            " 37   Bwd Packets/s                539616 non-null  float64\n",
            " 38   Min Packet Length            539616 non-null  int64  \n",
            " 39   Max Packet Length            539616 non-null  int64  \n",
            " 40   Packet Length Mean           539616 non-null  float64\n",
            " 41   Packet Length Std            539616 non-null  float64\n",
            " 42   Packet Length Variance       539616 non-null  float64\n",
            " 43  FIN Flag Count                539616 non-null  int64  \n",
            " 44   SYN Flag Count               539616 non-null  int64  \n",
            " 45   RST Flag Count               539616 non-null  int64  \n",
            " 46   PSH Flag Count               539616 non-null  int64  \n",
            " 47   ACK Flag Count               539616 non-null  int64  \n",
            " 48   URG Flag Count               539616 non-null  int64  \n",
            " 49   CWE Flag Count               539616 non-null  int64  \n",
            " 50   ECE Flag Count               539616 non-null  int64  \n",
            " 51   Down/Up Ratio                539616 non-null  int64  \n",
            " 52   Average Packet Size          539616 non-null  float64\n",
            " 53   Avg Fwd Segment Size         539616 non-null  float64\n",
            " 54   Avg Bwd Segment Size         539616 non-null  float64\n",
            " 55   Fwd Header Length.1          539616 non-null  int64  \n",
            " 56  Fwd Avg Bytes/Bulk            539616 non-null  int64  \n",
            " 57   Fwd Avg Packets/Bulk         539616 non-null  int64  \n",
            " 58   Fwd Avg Bulk Rate            539616 non-null  int64  \n",
            " 59   Bwd Avg Bytes/Bulk           539616 non-null  int64  \n",
            " 60   Bwd Avg Packets/Bulk         539616 non-null  int64  \n",
            " 61  Bwd Avg Bulk Rate             539616 non-null  int64  \n",
            " 62  Subflow Fwd Packets           539616 non-null  int64  \n",
            " 63   Subflow Fwd Bytes            539616 non-null  int64  \n",
            " 64   Subflow Bwd Packets          539616 non-null  int64  \n",
            " 65   Subflow Bwd Bytes            539616 non-null  int64  \n",
            " 66  Init_Win_bytes_forward        539616 non-null  int64  \n",
            " 67   Init_Win_bytes_backward      539616 non-null  int64  \n",
            " 68   act_data_pkt_fwd             539616 non-null  int64  \n",
            " 69   min_seg_size_forward         539616 non-null  int64  \n",
            " 70  Active Mean                   539616 non-null  float64\n",
            " 71   Active Std                   539616 non-null  float64\n",
            " 72   Active Max                   539616 non-null  int64  \n",
            " 73   Active Min                   539616 non-null  int64  \n",
            " 74  Idle Mean                     539616 non-null  float64\n",
            " 75   Idle Std                     539616 non-null  float64\n",
            " 76   Idle Max                     539616 non-null  int64  \n",
            " 77   Idle Min                     539616 non-null  int64  \n",
            " 78  Label                         539616 non-null  object \n",
            "dtypes: float64(24), int64(54), object(1)\n",
            "memory usage: 325.2+ MB\n"
          ]
        }
      ],
      "source": [
        "df.info()"
      ],
      "id": "e1d31c9e"
    },
    {
      "cell_type": "code",
      "execution_count": 9,
      "metadata": {
        "colab": {
          "base_uri": "https://localhost:8080/"
        },
        "id": "e61a200d",
        "outputId": "3df97994-b68f-49de-c6eb-f813e6293bc9"
      },
      "outputs": [
        {
          "output_type": "execute_result",
          "data": {
            "text/plain": [
              "array(['BENIGN', 'PortScan', 'DoS Hulk', 'DDoS', 'Bot', 'Infiltration',\n",
              "       'Web Attack � Brute Force', 'Web Attack � XSS',\n",
              "       'Web Attack � Sql Injection', 'FTP-Patator', 'SSH-Patator',\n",
              "       'DoS slowloris', 'DoS Slowhttptest', 'DoS GoldenEye', 'Heartbleed'],\n",
              "      dtype=object)"
            ]
          },
          "metadata": {},
          "execution_count": 9
        }
      ],
      "source": [
        "df['Label'].unique()"
      ],
      "id": "e61a200d"
    },
    {
      "cell_type": "code",
      "execution_count": 10,
      "metadata": {
        "colab": {
          "base_uri": "https://localhost:8080/",
          "height": 559
        },
        "id": "d701749e",
        "outputId": "5f223e8a-cccf-48c5-f48b-5ee672da3155"
      },
      "outputs": [
        {
          "output_type": "execute_result",
          "data": {
            "text/plain": [
              "<Axes: xlabel='Label'>"
            ]
          },
          "metadata": {},
          "execution_count": 10
        },
        {
          "output_type": "execute_result",
          "data": {
            "text/plain": [
              "Text(0.5, 1.0, 'Распределения по классам')"
            ]
          },
          "metadata": {},
          "execution_count": 10
        },
        {
          "output_type": "display_data",
          "data": {
            "text/plain": [
              "<Figure size 700x300 with 1 Axes>"
            ],
            "image/png": "[encoded data removed]"
          },
          "metadata": {}
        }
      ],
      "source": [
        "# проверим сбалансированность классов\n",
        "df.groupby('Label')['Total Length of Fwd Packets'].count().plot.bar(x='Label', figsize=(7,3))\n",
        "\n",
        "plt.title('Распределения по классам', fontsize=12)\n",
        "plt.show()"
      ],
      "id": "d701749e"
    },
    {
      "cell_type": "markdown",
      "metadata": {
        "id": "c05edee6"
      },
      "source": [
        "Данные очень разбалансированы, надо будет добавлять баланс классов"
      ],
      "id": "c05edee6"
    },
    {
      "cell_type": "markdown",
      "metadata": {
        "id": "ebf9d74d"
      },
      "source": [
        "### Предобработка данных"
      ],
      "id": "ebf9d74d"
    },
    {
      "cell_type": "markdown",
      "metadata": {
        "id": "4e8e2df0"
      },
      "source": [
        "#### Заполнение пропусков / удаление дубликатов"
      ],
      "id": "4e8e2df0"
    },
    {
      "cell_type": "code",
      "execution_count": 11,
      "metadata": {
        "colab": {
          "base_uri": "https://localhost:8080/"
        },
        "id": "STsLrunaBWs-",
        "outputId": "78687cf0-5156-4d71-fcc1-1e067ddb7c0b"
      },
      "outputs": [
        {
          "output_type": "execute_result",
          "data": {
            "text/plain": [
              "array(['BENIGN', 'DoS Hulk'], dtype=object)"
            ]
          },
          "metadata": {},
          "execution_count": 11
        }
      ],
      "source": [
        "df_test=df[df.isnull().any(1)]\n",
        "df_test['Label'].unique()"
      ],
      "id": "STsLrunaBWs-"
    },
    {
      "cell_type": "markdown",
      "metadata": {
        "id": "gkFDzxAsH9AJ"
      },
      "source": [
        "В принципе, нулевые строки можно удалить"
      ],
      "id": "gkFDzxAsH9AJ"
    },
    {
      "cell_type": "code",
      "execution_count": 12,
      "metadata": {
        "id": "06sDDVLABYSt"
      },
      "outputs": [],
      "source": [
        "df=df.dropna ()"
      ],
      "id": "06sDDVLABYSt"
    },
    {
      "cell_type": "code",
      "execution_count": 13,
      "metadata": {
        "colab": {
          "base_uri": "https://localhost:8080/",
          "height": 453
        },
        "id": "epbLOR7XBabP",
        "outputId": "1ebab279-4094-4f87-df36-35e2939dc064"
      },
      "outputs": [
        {
          "output_type": "execute_result",
          "data": {
            "text/plain": [
              "array(['BENIGN', 'PortScan', 'DDoS', 'Bot', 'FTP-Patator'], dtype=object)"
            ]
          },
          "metadata": {},
          "execution_count": 13
        },
        {
          "output_type": "execute_result",
          "data": {
            "text/plain": [
              "        Destination Port   Flow Duration   Total Fwd Packets  \\\n",
              "500037              8080               0                   1   \n",
              "500129             52235               0                   1   \n",
              "500585              2846               0                   1   \n",
              "500680              8080               0                   1   \n",
              "500693              8080               0                   1   \n",
              "500705              8080               0                   1   \n",
              "500737              2876               0                   1   \n",
              "500812              2906               0                   1   \n",
              "501003              8080               0                   1   \n",
              "501221              8080               0                   1   \n",
              "\n",
              "         Total Backward Packets  Total Length of Fwd Packets  \\\n",
              "500037                        1                            6   \n",
              "500129                        1                            6   \n",
              "500585                        1                            6   \n",
              "500680                        1                            6   \n",
              "500693                        1                            6   \n",
              "500705                        1                            6   \n",
              "500737                        1                            6   \n",
              "500812                        1                            6   \n",
              "501003                        1                            6   \n",
              "501221                        1                            6   \n",
              "\n",
              "         Total Length of Bwd Packets   Fwd Packet Length Max  \\\n",
              "500037                             6                       6   \n",
              "500129                             6                       6   \n",
              "500585                             6                       6   \n",
              "500680                             6                       6   \n",
              "500693                             6                       6   \n",
              "500705                             6                       6   \n",
              "500737                             6                       6   \n",
              "500812                             6                       6   \n",
              "501003                             6                       6   \n",
              "501221                             6                       6   \n",
              "\n",
              "         Fwd Packet Length Min   Fwd Packet Length Mean  \\\n",
              "500037                       6                      6.0   \n",
              "500129                       6                      6.0   \n",
              "500585                       6                      6.0   \n",
              "500680                       6                      6.0   \n",
              "500693                       6                      6.0   \n",
              "500705                       6                      6.0   \n",
              "500737                       6                      6.0   \n",
              "500812                       6                      6.0   \n",
              "501003                       6                      6.0   \n",
              "501221                       6                      6.0   \n",
              "\n",
              "         Fwd Packet Length Std  Bwd Packet Length Max   Bwd Packet Length Min  \\\n",
              "500037                     0.0                      6                       6   \n",
              "500129                     0.0                      6                       6   \n",
              "500585                     0.0                      6                       6   \n",
              "500680                     0.0                      6                       6   \n",
              "500693                     0.0                      6                       6   \n",
              "500705                     0.0                      6                       6   \n",
              "500737                     0.0                      6                       6   \n",
              "500812                     0.0                      6                       6   \n",
              "501003                     0.0                      6                       6   \n",
              "501221                     0.0                      6                       6   \n",
              "\n",
              "         Bwd Packet Length Mean   Bwd Packet Length Std  Flow Bytes/s  \\\n",
              "500037                      6.0                     0.0           inf   \n",
              "500129                      6.0                     0.0           inf   \n",
              "500585                      6.0                     0.0           inf   \n",
              "500680                      6.0                     0.0           inf   \n",
              "500693                      6.0                     0.0           inf   \n",
              "500705                      6.0                     0.0           inf   \n",
              "500737                      6.0                     0.0           inf   \n",
              "500812                      6.0                     0.0           inf   \n",
              "501003                      6.0                     0.0           inf   \n",
              "501221                      6.0                     0.0           inf   \n",
              "\n",
              "         Flow Packets/s   Flow IAT Mean   Flow IAT Std   Flow IAT Max  \\\n",
              "500037              inf             0.0            0.0              0   \n",
              "500129              inf             0.0            0.0              0   \n",
              "500585              inf             0.0            0.0              0   \n",
              "500680              inf             0.0            0.0              0   \n",
              "500693              inf             0.0            0.0              0   \n",
              "500705              inf             0.0            0.0              0   \n",
              "500737              inf             0.0            0.0              0   \n",
              "500812              inf             0.0            0.0              0   \n",
              "501003              inf             0.0            0.0              0   \n",
              "501221              inf             0.0            0.0              0   \n",
              "\n",
              "         Flow IAT Min  Fwd IAT Total   Fwd IAT Mean   Fwd IAT Std  \\\n",
              "500037              0              0            0.0           0.0   \n",
              "500129              0              0            0.0           0.0   \n",
              "500585              0              0            0.0           0.0   \n",
              "500680              0              0            0.0           0.0   \n",
              "500693              0              0            0.0           0.0   \n",
              "500705              0              0            0.0           0.0   \n",
              "500737              0              0            0.0           0.0   \n",
              "500812              0              0            0.0           0.0   \n",
              "501003              0              0            0.0           0.0   \n",
              "501221              0              0            0.0           0.0   \n",
              "\n",
              "         Fwd IAT Max   Fwd IAT Min  Bwd IAT Total   Bwd IAT Mean  \\\n",
              "500037             0             0              0            0.0   \n",
              "500129             0             0              0            0.0   \n",
              "500585             0             0              0            0.0   \n",
              "500680             0             0              0            0.0   \n",
              "500693             0             0              0            0.0   \n",
              "500705             0             0              0            0.0   \n",
              "500737             0             0              0            0.0   \n",
              "500812             0             0              0            0.0   \n",
              "501003             0             0              0            0.0   \n",
              "501221             0             0              0            0.0   \n",
              "\n",
              "         Bwd IAT Std   Bwd IAT Max   Bwd IAT Min  Fwd PSH Flags  \\\n",
              "500037           0.0             0             0              0   \n",
              "500129           0.0             0             0              0   \n",
              "500585           0.0             0             0              0   \n",
              "500680           0.0             0             0              0   \n",
              "500693           0.0             0             0              0   \n",
              "500705           0.0             0             0              0   \n",
              "500737           0.0             0             0              0   \n",
              "500812           0.0             0             0              0   \n",
              "501003           0.0             0             0              0   \n",
              "501221           0.0             0             0              0   \n",
              "\n",
              "         Bwd PSH Flags   Fwd URG Flags   Bwd URG Flags   Fwd Header Length  \\\n",
              "500037               0               0               0                  20   \n",
              "500129               0               0               0                  20   \n",
              "500585               0               0               0                  20   \n",
              "500680               0               0               0                  20   \n",
              "500693               0               0               0                  20   \n",
              "500705               0               0               0                  20   \n",
              "500737               0               0               0                  20   \n",
              "500812               0               0               0                  20   \n",
              "501003               0               0               0                  20   \n",
              "501221               0               0               0                  20   \n",
              "\n",
              "         Bwd Header Length  Fwd Packets/s   Bwd Packets/s   Min Packet Length  \\\n",
              "500037                  20            0.0             0.0                   6   \n",
              "500129                  20            0.0             0.0                   6   \n",
              "500585                  20            0.0             0.0                   6   \n",
              "500680                  20            0.0             0.0                   6   \n",
              "500693                  20            0.0             0.0                   6   \n",
              "500705                  20            0.0             0.0                   6   \n",
              "500737                  20            0.0             0.0                   6   \n",
              "500812                  20            0.0             0.0                   6   \n",
              "501003                  20            0.0             0.0                   6   \n",
              "501221                  20            0.0             0.0                   6   \n",
              "\n",
              "         Max Packet Length   Packet Length Mean   Packet Length Std  \\\n",
              "500037                   6                  6.0                 0.0   \n",
              "500129                   6                  6.0                 0.0   \n",
              "500585                   6                  6.0                 0.0   \n",
              "500680                   6                  6.0                 0.0   \n",
              "500693                   6                  6.0                 0.0   \n",
              "500705                   6                  6.0                 0.0   \n",
              "500737                   6                  6.0                 0.0   \n",
              "500812                   6                  6.0                 0.0   \n",
              "501003                   6                  6.0                 0.0   \n",
              "501221                   6                  6.0                 0.0   \n",
              "\n",
              "         Packet Length Variance  FIN Flag Count   SYN Flag Count  \\\n",
              "500037                      0.0               0                0   \n",
              "500129                      0.0               0                0   \n",
              "500585                      0.0               0                0   \n",
              "500680                      0.0               0                0   \n",
              "500693                      0.0               0                0   \n",
              "500705                      0.0               0                0   \n",
              "500737                      0.0               0                0   \n",
              "500812                      0.0               0                0   \n",
              "501003                      0.0               0                0   \n",
              "501221                      0.0               0                0   \n",
              "\n",
              "         RST Flag Count   PSH Flag Count   ACK Flag Count   URG Flag Count  \\\n",
              "500037                0                0                1                0   \n",
              "500129                0                0                1                1   \n",
              "500585                0                0                1                1   \n",
              "500680                0                0                1                0   \n",
              "500693                0                0                1                0   \n",
              "500705                0                0                1                0   \n",
              "500737                0                0                1                1   \n",
              "500812                0                0                1                1   \n",
              "501003                0                0                1                0   \n",
              "501221                0                0                1                0   \n",
              "\n",
              "         CWE Flag Count   ECE Flag Count   Down/Up Ratio  \\\n",
              "500037                0                0               1   \n",
              "500129                0                0               1   \n",
              "500585                0                0               1   \n",
              "500680                0                0               1   \n",
              "500693                0                0               1   \n",
              "500705                0                0               1   \n",
              "500737                0                0               1   \n",
              "500812                0                0               1   \n",
              "501003                0                0               1   \n",
              "501221                0                0               1   \n",
              "\n",
              "         Average Packet Size   Avg Fwd Segment Size   Avg Bwd Segment Size  \\\n",
              "500037                   9.0                    6.0                    6.0   \n",
              "500129                   9.0                    6.0                    6.0   \n",
              "500585                   9.0                    6.0                    6.0   \n",
              "500680                   9.0                    6.0                    6.0   \n",
              "500693                   9.0                    6.0                    6.0   \n",
              "500705                   9.0                    6.0                    6.0   \n",
              "500737                   9.0                    6.0                    6.0   \n",
              "500812                   9.0                    6.0                    6.0   \n",
              "501003                   9.0                    6.0                    6.0   \n",
              "501221                   9.0                    6.0                    6.0   \n",
              "\n",
              "         Fwd Header Length.1  Fwd Avg Bytes/Bulk   Fwd Avg Packets/Bulk  \\\n",
              "500037                    20                   0                      0   \n",
              "500129                    20                   0                      0   \n",
              "500585                    20                   0                      0   \n",
              "500680                    20                   0                      0   \n",
              "500693                    20                   0                      0   \n",
              "500705                    20                   0                      0   \n",
              "500737                    20                   0                      0   \n",
              "500812                    20                   0                      0   \n",
              "501003                    20                   0                      0   \n",
              "501221                    20                   0                      0   \n",
              "\n",
              "         Fwd Avg Bulk Rate   Bwd Avg Bytes/Bulk   Bwd Avg Packets/Bulk  \\\n",
              "500037                   0                    0                      0   \n",
              "500129                   0                    0                      0   \n",
              "500585                   0                    0                      0   \n",
              "500680                   0                    0                      0   \n",
              "500693                   0                    0                      0   \n",
              "500705                   0                    0                      0   \n",
              "500737                   0                    0                      0   \n",
              "500812                   0                    0                      0   \n",
              "501003                   0                    0                      0   \n",
              "501221                   0                    0                      0   \n",
              "\n",
              "        Bwd Avg Bulk Rate  Subflow Fwd Packets   Subflow Fwd Bytes  \\\n",
              "500037                  0                    1                   6   \n",
              "500129                  0                    1                   6   \n",
              "500585                  0                    1                   6   \n",
              "500680                  0                    1                   6   \n",
              "500693                  0                    1                   6   \n",
              "500705                  0                    1                   6   \n",
              "500737                  0                    1                   6   \n",
              "500812                  0                    1                   6   \n",
              "501003                  0                    1                   6   \n",
              "501221                  0                    1                   6   \n",
              "\n",
              "         Subflow Bwd Packets   Subflow Bwd Bytes  Init_Win_bytes_forward  \\\n",
              "500037                     1                   6                     256   \n",
              "500129                     1                   6                     245   \n",
              "500585                     1                   6                     237   \n",
              "500680                     1                   6                     256   \n",
              "500693                     1                   6                     256   \n",
              "500705                     1                   6                     256   \n",
              "500737                     1                   6                     237   \n",
              "500812                     1                   6                     237   \n",
              "501003                     1                   6                     256   \n",
              "501221                     1                   6                     256   \n",
              "\n",
              "         Init_Win_bytes_backward   act_data_pkt_fwd   min_seg_size_forward  \\\n",
              "500037                       237                  0                     20   \n",
              "500129                       256                  0                     20   \n",
              "500585                     16393                  0                     20   \n",
              "500680                       237                  0                     20   \n",
              "500693                       237                  0                     20   \n",
              "500705                       237                  0                     20   \n",
              "500737                     16393                  0                     20   \n",
              "500812                     16390                  0                     20   \n",
              "501003                       237                  0                     20   \n",
              "501221                       237                  0                     20   \n",
              "\n",
              "        Active Mean   Active Std   Active Max   Active Min  Idle Mean  \\\n",
              "500037          0.0          0.0            0            0        0.0   \n",
              "500129          0.0          0.0            0            0        0.0   \n",
              "500585          0.0          0.0            0            0        0.0   \n",
              "500680          0.0          0.0            0            0        0.0   \n",
              "500693          0.0          0.0            0            0        0.0   \n",
              "500705          0.0          0.0            0            0        0.0   \n",
              "500737          0.0          0.0            0            0        0.0   \n",
              "500812          0.0          0.0            0            0        0.0   \n",
              "501003          0.0          0.0            0            0        0.0   \n",
              "501221          0.0          0.0            0            0        0.0   \n",
              "\n",
              "         Idle Std   Idle Max   Idle Min Label  \n",
              "500037        0.0          0          0   Bot  \n",
              "500129        0.0          0          0   Bot  \n",
              "500585        0.0          0          0   Bot  \n",
              "500680        0.0          0          0   Bot  \n",
              "500693        0.0          0          0   Bot  \n",
              "500705        0.0          0          0   Bot  \n",
              "500737        0.0          0          0   Bot  \n",
              "500812        0.0          0          0   Bot  \n",
              "501003        0.0          0          0   Bot  \n",
              "501221        0.0          0          0   Bot  "
            ],
            "text/html": [
              "\n",
              "  <div id=\"df-50b7a07f-c6ee-40ea-bbb5-5ed2273c736c\" class=\"colab-df-container\">\n",
              "    <div>\n",
              "<style scoped>\n",
              "    .dataframe tbody tr th:only-of-type {\n",
              "        vertical-align: middle;\n",
              "    }\n",
              "\n",
              "    .dataframe tbody tr th {\n",
              "        vertical-align: top;\n",
              "    }\n",
              "\n",
              "    .dataframe thead th {\n",
              "        text-align: right;\n",
              "    }\n",
              "</style>\n",
              "<table border=\"1\" class=\"dataframe\">\n",
              "  <thead>\n",
              "    <tr style=\"text-align: right;\">\n",
              "      <th></th>\n",
              "      <th>Destination Port</th>\n",
              "      <th>Flow Duration</th>\n",
              "      <th>Total Fwd Packets</th>\n",
              "      <th>Total Backward Packets</th>\n",
              "      <th>Total Length of Fwd Packets</th>\n",
              "      <th>Total Length of Bwd Packets</th>\n",
              "      <th>Fwd Packet Length Max</th>\n",
              "      <th>Fwd Packet Length Min</th>\n",
              "      <th>Fwd Packet Length Mean</th>\n",
              "      <th>Fwd Packet Length Std</th>\n",
              "      <th>Bwd Packet Length Max</th>\n",
              "      <th>Bwd Packet Length Min</th>\n",
              "      <th>Bwd Packet Length Mean</th>\n",
              "      <th>Bwd Packet Length Std</th>\n",
              "      <th>Flow Bytes/s</th>\n",
              "      <th>Flow Packets/s</th>\n",
              "      <th>Flow IAT Mean</th>\n",
              "      <th>Flow IAT Std</th>\n",
              "      <th>Flow IAT Max</th>\n",
              "      <th>Flow IAT Min</th>\n",
              "      <th>Fwd IAT Total</th>\n",
              "      <th>Fwd IAT Mean</th>\n",
              "      <th>Fwd IAT Std</th>\n",
              "      <th>Fwd IAT Max</th>\n",
              "      <th>Fwd IAT Min</th>\n",
              "      <th>Bwd IAT Total</th>\n",
              "      <th>Bwd IAT Mean</th>\n",
              "      <th>Bwd IAT Std</th>\n",
              "      <th>Bwd IAT Max</th>\n",
              "      <th>Bwd IAT Min</th>\n",
              "      <th>Fwd PSH Flags</th>\n",
              "      <th>Bwd PSH Flags</th>\n",
              "      <th>Fwd URG Flags</th>\n",
              "      <th>Bwd URG Flags</th>\n",
              "      <th>Fwd Header Length</th>\n",
              "      <th>Bwd Header Length</th>\n",
              "      <th>Fwd Packets/s</th>\n",
              "      <th>Bwd Packets/s</th>\n",
              "      <th>Min Packet Length</th>\n",
              "      <th>Max Packet Length</th>\n",
              "      <th>Packet Length Mean</th>\n",
              "      <th>Packet Length Std</th>\n",
              "      <th>Packet Length Variance</th>\n",
              "      <th>FIN Flag Count</th>\n",
              "      <th>SYN Flag Count</th>\n",
              "      <th>RST Flag Count</th>\n",
              "      <th>PSH Flag Count</th>\n",
              "      <th>ACK Flag Count</th>\n",
              "      <th>URG Flag Count</th>\n",
              "      <th>CWE Flag Count</th>\n",
              "      <th>ECE Flag Count</th>\n",
              "      <th>Down/Up Ratio</th>\n",
              "      <th>Average Packet Size</th>\n",
              "      <th>Avg Fwd Segment Size</th>\n",
              "      <th>Avg Bwd Segment Size</th>\n",
              "      <th>Fwd Header Length.1</th>\n",
              "      <th>Fwd Avg Bytes/Bulk</th>\n",
              "      <th>Fwd Avg Packets/Bulk</th>\n",
              "      <th>Fwd Avg Bulk Rate</th>\n",
              "      <th>Bwd Avg Bytes/Bulk</th>\n",
              "      <th>Bwd Avg Packets/Bulk</th>\n",
              "      <th>Bwd Avg Bulk Rate</th>\n",
              "      <th>Subflow Fwd Packets</th>\n",
              "      <th>Subflow Fwd Bytes</th>\n",
              "      <th>Subflow Bwd Packets</th>\n",
              "      <th>Subflow Bwd Bytes</th>\n",
              "      <th>Init_Win_bytes_forward</th>\n",
              "      <th>Init_Win_bytes_backward</th>\n",
              "      <th>act_data_pkt_fwd</th>\n",
              "      <th>min_seg_size_forward</th>\n",
              "      <th>Active Mean</th>\n",
              "      <th>Active Std</th>\n",
              "      <th>Active Max</th>\n",
              "      <th>Active Min</th>\n",
              "      <th>Idle Mean</th>\n",
              "      <th>Idle Std</th>\n",
              "      <th>Idle Max</th>\n",
              "      <th>Idle Min</th>\n",
              "      <th>Label</th>\n",
              "    </tr>\n",
              "  </thead>\n",
              "  <tbody>\n",
              "    <tr>\n",
              "      <th>500037</th>\n",
              "      <td>8080</td>\n",
              "      <td>0</td>\n",
              "      <td>1</td>\n",
              "      <td>1</td>\n",
              "      <td>6</td>\n",
              "      <td>6</td>\n",
              "      <td>6</td>\n",
              "      <td>6</td>\n",
              "      <td>6.0</td>\n",
              "      <td>0.0</td>\n",
              "      <td>6</td>\n",
              "      <td>6</td>\n",
              "      <td>6.0</td>\n",
              "      <td>0.0</td>\n",
              "      <td>inf</td>\n",
              "      <td>inf</td>\n",
              "      <td>0.0</td>\n",
              "      <td>0.0</td>\n",
              "      <td>0</td>\n",
              "      <td>0</td>\n",
              "      <td>0</td>\n",
              "      <td>0.0</td>\n",
              "      <td>0.0</td>\n",
              "      <td>0</td>\n",
              "      <td>0</td>\n",
              "      <td>0</td>\n",
              "      <td>0.0</td>\n",
              "      <td>0.0</td>\n",
              "      <td>0</td>\n",
              "      <td>0</td>\n",
              "      <td>0</td>\n",
              "      <td>0</td>\n",
              "      <td>0</td>\n",
              "      <td>0</td>\n",
              "      <td>20</td>\n",
              "      <td>20</td>\n",
              "      <td>0.0</td>\n",
              "      <td>0.0</td>\n",
              "      <td>6</td>\n",
              "      <td>6</td>\n",
              "      <td>6.0</td>\n",
              "      <td>0.0</td>\n",
              "      <td>0.0</td>\n",
              "      <td>0</td>\n",
              "      <td>0</td>\n",
              "      <td>0</td>\n",
              "      <td>0</td>\n",
              "      <td>1</td>\n",
              "      <td>0</td>\n",
              "      <td>0</td>\n",
              "      <td>0</td>\n",
              "      <td>1</td>\n",
              "      <td>9.0</td>\n",
              "      <td>6.0</td>\n",
              "      <td>6.0</td>\n",
              "      <td>20</td>\n",
              "      <td>0</td>\n",
              "      <td>0</td>\n",
              "      <td>0</td>\n",
              "      <td>0</td>\n",
              "      <td>0</td>\n",
              "      <td>0</td>\n",
              "      <td>1</td>\n",
              "      <td>6</td>\n",
              "      <td>1</td>\n",
              "      <td>6</td>\n",
              "      <td>256</td>\n",
              "      <td>237</td>\n",
              "      <td>0</td>\n",
              "      <td>20</td>\n",
              "      <td>0.0</td>\n",
              "      <td>0.0</td>\n",
              "      <td>0</td>\n",
              "      <td>0</td>\n",
              "      <td>0.0</td>\n",
              "      <td>0.0</td>\n",
              "      <td>0</td>\n",
              "      <td>0</td>\n",
              "      <td>Bot</td>\n",
              "    </tr>\n",
              "    <tr>\n",
              "      <th>500129</th>\n",
              "      <td>52235</td>\n",
              "      <td>0</td>\n",
              "      <td>1</td>\n",
              "      <td>1</td>\n",
              "      <td>6</td>\n",
              "      <td>6</td>\n",
              "      <td>6</td>\n",
              "      <td>6</td>\n",
              "      <td>6.0</td>\n",
              "      <td>0.0</td>\n",
              "      <td>6</td>\n",
              "      <td>6</td>\n",
              "      <td>6.0</td>\n",
              "      <td>0.0</td>\n",
              "      <td>inf</td>\n",
              "      <td>inf</td>\n",
              "      <td>0.0</td>\n",
              "      <td>0.0</td>\n",
              "      <td>0</td>\n",
              "      <td>0</td>\n",
              "      <td>0</td>\n",
              "      <td>0.0</td>\n",
              "      <td>0.0</td>\n",
              "      <td>0</td>\n",
              "      <td>0</td>\n",
              "      <td>0</td>\n",
              "      <td>0.0</td>\n",
              "      <td>0.0</td>\n",
              "      <td>0</td>\n",
              "      <td>0</td>\n",
              "      <td>0</td>\n",
              "      <td>0</td>\n",
              "      <td>0</td>\n",
              "      <td>0</td>\n",
              "      <td>20</td>\n",
              "      <td>20</td>\n",
              "      <td>0.0</td>\n",
              "      <td>0.0</td>\n",
              "      <td>6</td>\n",
              "      <td>6</td>\n",
              "      <td>6.0</td>\n",
              "      <td>0.0</td>\n",
              "      <td>0.0</td>\n",
              "      <td>0</td>\n",
              "      <td>0</td>\n",
              "      <td>0</td>\n",
              "      <td>0</td>\n",
              "      <td>1</td>\n",
              "      <td>1</td>\n",
              "      <td>0</td>\n",
              "      <td>0</td>\n",
              "      <td>1</td>\n",
              "      <td>9.0</td>\n",
              "      <td>6.0</td>\n",
              "      <td>6.0</td>\n",
              "      <td>20</td>\n",
              "      <td>0</td>\n",
              "      <td>0</td>\n",
              "      <td>0</td>\n",
              "      <td>0</td>\n",
              "      <td>0</td>\n",
              "      <td>0</td>\n",
              "      <td>1</td>\n",
              "      <td>6</td>\n",
              "      <td>1</td>\n",
              "      <td>6</td>\n",
              "      <td>245</td>\n",
              "      <td>256</td>\n",
              "      <td>0</td>\n",
              "      <td>20</td>\n",
              "      <td>0.0</td>\n",
              "      <td>0.0</td>\n",
              "      <td>0</td>\n",
              "      <td>0</td>\n",
              "      <td>0.0</td>\n",
              "      <td>0.0</td>\n",
              "      <td>0</td>\n",
              "      <td>0</td>\n",
              "      <td>Bot</td>\n",
              "    </tr>\n",
              "    <tr>\n",
              "      <th>500585</th>\n",
              "      <td>2846</td>\n",
              "      <td>0</td>\n",
              "      <td>1</td>\n",
              "      <td>1</td>\n",
              "      <td>6</td>\n",
              "      <td>6</td>\n",
              "      <td>6</td>\n",
              "      <td>6</td>\n",
              "      <td>6.0</td>\n",
              "      <td>0.0</td>\n",
              "      <td>6</td>\n",
              "      <td>6</td>\n",
              "      <td>6.0</td>\n",
              "      <td>0.0</td>\n",
              "      <td>inf</td>\n",
              "      <td>inf</td>\n",
              "      <td>0.0</td>\n",
              "      <td>0.0</td>\n",
              "      <td>0</td>\n",
              "      <td>0</td>\n",
              "      <td>0</td>\n",
              "      <td>0.0</td>\n",
              "      <td>0.0</td>\n",
              "      <td>0</td>\n",
              "      <td>0</td>\n",
              "      <td>0</td>\n",
              "      <td>0.0</td>\n",
              "      <td>0.0</td>\n",
              "      <td>0</td>\n",
              "      <td>0</td>\n",
              "      <td>0</td>\n",
              "      <td>0</td>\n",
              "      <td>0</td>\n",
              "      <td>0</td>\n",
              "      <td>20</td>\n",
              "      <td>20</td>\n",
              "      <td>0.0</td>\n",
              "      <td>0.0</td>\n",
              "      <td>6</td>\n",
              "      <td>6</td>\n",
              "      <td>6.0</td>\n",
              "      <td>0.0</td>\n",
              "      <td>0.0</td>\n",
              "      <td>0</td>\n",
              "      <td>0</td>\n",
              "      <td>0</td>\n",
              "      <td>0</td>\n",
              "      <td>1</td>\n",
              "      <td>1</td>\n",
              "      <td>0</td>\n",
              "      <td>0</td>\n",
              "      <td>1</td>\n",
              "      <td>9.0</td>\n",
              "      <td>6.0</td>\n",
              "      <td>6.0</td>\n",
              "      <td>20</td>\n",
              "      <td>0</td>\n",
              "      <td>0</td>\n",
              "      <td>0</td>\n",
              "      <td>0</td>\n",
              "      <td>0</td>\n",
              "      <td>0</td>\n",
              "      <td>1</td>\n",
              "      <td>6</td>\n",
              "      <td>1</td>\n",
              "      <td>6</td>\n",
              "      <td>237</td>\n",
              "      <td>16393</td>\n",
              "      <td>0</td>\n",
              "      <td>20</td>\n",
              "      <td>0.0</td>\n",
              "      <td>0.0</td>\n",
              "      <td>0</td>\n",
              "      <td>0</td>\n",
              "      <td>0.0</td>\n",
              "      <td>0.0</td>\n",
              "      <td>0</td>\n",
              "      <td>0</td>\n",
              "      <td>Bot</td>\n",
              "    </tr>\n",
              "    <tr>\n",
              "      <th>500680</th>\n",
              "      <td>8080</td>\n",
              "      <td>0</td>\n",
              "      <td>1</td>\n",
              "      <td>1</td>\n",
              "      <td>6</td>\n",
              "      <td>6</td>\n",
              "      <td>6</td>\n",
              "      <td>6</td>\n",
              "      <td>6.0</td>\n",
              "      <td>0.0</td>\n",
              "      <td>6</td>\n",
              "      <td>6</td>\n",
              "      <td>6.0</td>\n",
              "      <td>0.0</td>\n",
              "      <td>inf</td>\n",
              "      <td>inf</td>\n",
              "      <td>0.0</td>\n",
              "      <td>0.0</td>\n",
              "      <td>0</td>\n",
              "      <td>0</td>\n",
              "      <td>0</td>\n",
              "      <td>0.0</td>\n",
              "      <td>0.0</td>\n",
              "      <td>0</td>\n",
              "      <td>0</td>\n",
              "      <td>0</td>\n",
              "      <td>0.0</td>\n",
              "      <td>0.0</td>\n",
              "      <td>0</td>\n",
              "      <td>0</td>\n",
              "      <td>0</td>\n",
              "      <td>0</td>\n",
              "      <td>0</td>\n",
              "      <td>0</td>\n",
              "      <td>20</td>\n",
              "      <td>20</td>\n",
              "      <td>0.0</td>\n",
              "      <td>0.0</td>\n",
              "      <td>6</td>\n",
              "      <td>6</td>\n",
              "      <td>6.0</td>\n",
              "      <td>0.0</td>\n",
              "      <td>0.0</td>\n",
              "      <td>0</td>\n",
              "      <td>0</td>\n",
              "      <td>0</td>\n",
              "      <td>0</td>\n",
              "      <td>1</td>\n",
              "      <td>0</td>\n",
              "      <td>0</td>\n",
              "      <td>0</td>\n",
              "      <td>1</td>\n",
              "      <td>9.0</td>\n",
              "      <td>6.0</td>\n",
              "      <td>6.0</td>\n",
              "      <td>20</td>\n",
              "      <td>0</td>\n",
              "      <td>0</td>\n",
              "      <td>0</td>\n",
              "      <td>0</td>\n",
              "      <td>0</td>\n",
              "      <td>0</td>\n",
              "      <td>1</td>\n",
              "      <td>6</td>\n",
              "      <td>1</td>\n",
              "      <td>6</td>\n",
              "      <td>256</td>\n",
              "      <td>237</td>\n",
              "      <td>0</td>\n",
              "      <td>20</td>\n",
              "      <td>0.0</td>\n",
              "      <td>0.0</td>\n",
              "      <td>0</td>\n",
              "      <td>0</td>\n",
              "      <td>0.0</td>\n",
              "      <td>0.0</td>\n",
              "      <td>0</td>\n",
              "      <td>0</td>\n",
              "      <td>Bot</td>\n",
              "    </tr>\n",
              "    <tr>\n",
              "      <th>500693</th>\n",
              "      <td>8080</td>\n",
              "      <td>0</td>\n",
              "      <td>1</td>\n",
              "      <td>1</td>\n",
              "      <td>6</td>\n",
              "      <td>6</td>\n",
              "      <td>6</td>\n",
              "      <td>6</td>\n",
              "      <td>6.0</td>\n",
              "      <td>0.0</td>\n",
              "      <td>6</td>\n",
              "      <td>6</td>\n",
              "      <td>6.0</td>\n",
              "      <td>0.0</td>\n",
              "      <td>inf</td>\n",
              "      <td>inf</td>\n",
              "      <td>0.0</td>\n",
              "      <td>0.0</td>\n",
              "      <td>0</td>\n",
              "      <td>0</td>\n",
              "      <td>0</td>\n",
              "      <td>0.0</td>\n",
              "      <td>0.0</td>\n",
              "      <td>0</td>\n",
              "      <td>0</td>\n",
              "      <td>0</td>\n",
              "      <td>0.0</td>\n",
              "      <td>0.0</td>\n",
              "      <td>0</td>\n",
              "      <td>0</td>\n",
              "      <td>0</td>\n",
              "      <td>0</td>\n",
              "      <td>0</td>\n",
              "      <td>0</td>\n",
              "      <td>20</td>\n",
              "      <td>20</td>\n",
              "      <td>0.0</td>\n",
              "      <td>0.0</td>\n",
              "      <td>6</td>\n",
              "      <td>6</td>\n",
              "      <td>6.0</td>\n",
              "      <td>0.0</td>\n",
              "      <td>0.0</td>\n",
              "      <td>0</td>\n",
              "      <td>0</td>\n",
              "      <td>0</td>\n",
              "      <td>0</td>\n",
              "      <td>1</td>\n",
              "      <td>0</td>\n",
              "      <td>0</td>\n",
              "      <td>0</td>\n",
              "      <td>1</td>\n",
              "      <td>9.0</td>\n",
              "      <td>6.0</td>\n",
              "      <td>6.0</td>\n",
              "      <td>20</td>\n",
              "      <td>0</td>\n",
              "      <td>0</td>\n",
              "      <td>0</td>\n",
              "      <td>0</td>\n",
              "      <td>0</td>\n",
              "      <td>0</td>\n",
              "      <td>1</td>\n",
              "      <td>6</td>\n",
              "      <td>1</td>\n",
              "      <td>6</td>\n",
              "      <td>256</td>\n",
              "      <td>237</td>\n",
              "      <td>0</td>\n",
              "      <td>20</td>\n",
              "      <td>0.0</td>\n",
              "      <td>0.0</td>\n",
              "      <td>0</td>\n",
              "      <td>0</td>\n",
              "      <td>0.0</td>\n",
              "      <td>0.0</td>\n",
              "      <td>0</td>\n",
              "      <td>0</td>\n",
              "      <td>Bot</td>\n",
              "    </tr>\n",
              "    <tr>\n",
              "      <th>500705</th>\n",
              "      <td>8080</td>\n",
              "      <td>0</td>\n",
              "      <td>1</td>\n",
              "      <td>1</td>\n",
              "      <td>6</td>\n",
              "      <td>6</td>\n",
              "      <td>6</td>\n",
              "      <td>6</td>\n",
              "      <td>6.0</td>\n",
              "      <td>0.0</td>\n",
              "      <td>6</td>\n",
              "      <td>6</td>\n",
              "      <td>6.0</td>\n",
              "      <td>0.0</td>\n",
              "      <td>inf</td>\n",
              "      <td>inf</td>\n",
              "      <td>0.0</td>\n",
              "      <td>0.0</td>\n",
              "      <td>0</td>\n",
              "      <td>0</td>\n",
              "      <td>0</td>\n",
              "      <td>0.0</td>\n",
              "      <td>0.0</td>\n",
              "      <td>0</td>\n",
              "      <td>0</td>\n",
              "      <td>0</td>\n",
              "      <td>0.0</td>\n",
              "      <td>0.0</td>\n",
              "      <td>0</td>\n",
              "      <td>0</td>\n",
              "      <td>0</td>\n",
              "      <td>0</td>\n",
              "      <td>0</td>\n",
              "      <td>0</td>\n",
              "      <td>20</td>\n",
              "      <td>20</td>\n",
              "      <td>0.0</td>\n",
              "      <td>0.0</td>\n",
              "      <td>6</td>\n",
              "      <td>6</td>\n",
              "      <td>6.0</td>\n",
              "      <td>0.0</td>\n",
              "      <td>0.0</td>\n",
              "      <td>0</td>\n",
              "      <td>0</td>\n",
              "      <td>0</td>\n",
              "      <td>0</td>\n",
              "      <td>1</td>\n",
              "      <td>0</td>\n",
              "      <td>0</td>\n",
              "      <td>0</td>\n",
              "      <td>1</td>\n",
              "      <td>9.0</td>\n",
              "      <td>6.0</td>\n",
              "      <td>6.0</td>\n",
              "      <td>20</td>\n",
              "      <td>0</td>\n",
              "      <td>0</td>\n",
              "      <td>0</td>\n",
              "      <td>0</td>\n",
              "      <td>0</td>\n",
              "      <td>0</td>\n",
              "      <td>1</td>\n",
              "      <td>6</td>\n",
              "      <td>1</td>\n",
              "      <td>6</td>\n",
              "      <td>256</td>\n",
              "      <td>237</td>\n",
              "      <td>0</td>\n",
              "      <td>20</td>\n",
              "      <td>0.0</td>\n",
              "      <td>0.0</td>\n",
              "      <td>0</td>\n",
              "      <td>0</td>\n",
              "      <td>0.0</td>\n",
              "      <td>0.0</td>\n",
              "      <td>0</td>\n",
              "      <td>0</td>\n",
              "      <td>Bot</td>\n",
              "    </tr>\n",
              "    <tr>\n",
              "      <th>500737</th>\n",
              "      <td>2876</td>\n",
              "      <td>0</td>\n",
              "      <td>1</td>\n",
              "      <td>1</td>\n",
              "      <td>6</td>\n",
              "      <td>6</td>\n",
              "      <td>6</td>\n",
              "      <td>6</td>\n",
              "      <td>6.0</td>\n",
              "      <td>0.0</td>\n",
              "      <td>6</td>\n",
              "      <td>6</td>\n",
              "      <td>6.0</td>\n",
              "      <td>0.0</td>\n",
              "      <td>inf</td>\n",
              "      <td>inf</td>\n",
              "      <td>0.0</td>\n",
              "      <td>0.0</td>\n",
              "      <td>0</td>\n",
              "      <td>0</td>\n",
              "      <td>0</td>\n",
              "      <td>0.0</td>\n",
              "      <td>0.0</td>\n",
              "      <td>0</td>\n",
              "      <td>0</td>\n",
              "      <td>0</td>\n",
              "      <td>0.0</td>\n",
              "      <td>0.0</td>\n",
              "      <td>0</td>\n",
              "      <td>0</td>\n",
              "      <td>0</td>\n",
              "      <td>0</td>\n",
              "      <td>0</td>\n",
              "      <td>0</td>\n",
              "      <td>20</td>\n",
              "      <td>20</td>\n",
              "      <td>0.0</td>\n",
              "      <td>0.0</td>\n",
              "      <td>6</td>\n",
              "      <td>6</td>\n",
              "      <td>6.0</td>\n",
              "      <td>0.0</td>\n",
              "      <td>0.0</td>\n",
              "      <td>0</td>\n",
              "      <td>0</td>\n",
              "      <td>0</td>\n",
              "      <td>0</td>\n",
              "      <td>1</td>\n",
              "      <td>1</td>\n",
              "      <td>0</td>\n",
              "      <td>0</td>\n",
              "      <td>1</td>\n",
              "      <td>9.0</td>\n",
              "      <td>6.0</td>\n",
              "      <td>6.0</td>\n",
              "      <td>20</td>\n",
              "      <td>0</td>\n",
              "      <td>0</td>\n",
              "      <td>0</td>\n",
              "      <td>0</td>\n",
              "      <td>0</td>\n",
              "      <td>0</td>\n",
              "      <td>1</td>\n",
              "      <td>6</td>\n",
              "      <td>1</td>\n",
              "      <td>6</td>\n",
              "      <td>237</td>\n",
              "      <td>16393</td>\n",
              "      <td>0</td>\n",
              "      <td>20</td>\n",
              "      <td>0.0</td>\n",
              "      <td>0.0</td>\n",
              "      <td>0</td>\n",
              "      <td>0</td>\n",
              "      <td>0.0</td>\n",
              "      <td>0.0</td>\n",
              "      <td>0</td>\n",
              "      <td>0</td>\n",
              "      <td>Bot</td>\n",
              "    </tr>\n",
              "    <tr>\n",
              "      <th>500812</th>\n",
              "      <td>2906</td>\n",
              "      <td>0</td>\n",
              "      <td>1</td>\n",
              "      <td>1</td>\n",
              "      <td>6</td>\n",
              "      <td>6</td>\n",
              "      <td>6</td>\n",
              "      <td>6</td>\n",
              "      <td>6.0</td>\n",
              "      <td>0.0</td>\n",
              "      <td>6</td>\n",
              "      <td>6</td>\n",
              "      <td>6.0</td>\n",
              "      <td>0.0</td>\n",
              "      <td>inf</td>\n",
              "      <td>inf</td>\n",
              "      <td>0.0</td>\n",
              "      <td>0.0</td>\n",
              "      <td>0</td>\n",
              "      <td>0</td>\n",
              "      <td>0</td>\n",
              "      <td>0.0</td>\n",
              "      <td>0.0</td>\n",
              "      <td>0</td>\n",
              "      <td>0</td>\n",
              "      <td>0</td>\n",
              "      <td>0.0</td>\n",
              "      <td>0.0</td>\n",
              "      <td>0</td>\n",
              "      <td>0</td>\n",
              "      <td>0</td>\n",
              "      <td>0</td>\n",
              "      <td>0</td>\n",
              "      <td>0</td>\n",
              "      <td>20</td>\n",
              "      <td>20</td>\n",
              "      <td>0.0</td>\n",
              "      <td>0.0</td>\n",
              "      <td>6</td>\n",
              "      <td>6</td>\n",
              "      <td>6.0</td>\n",
              "      <td>0.0</td>\n",
              "      <td>0.0</td>\n",
              "      <td>0</td>\n",
              "      <td>0</td>\n",
              "      <td>0</td>\n",
              "      <td>0</td>\n",
              "      <td>1</td>\n",
              "      <td>1</td>\n",
              "      <td>0</td>\n",
              "      <td>0</td>\n",
              "      <td>1</td>\n",
              "      <td>9.0</td>\n",
              "      <td>6.0</td>\n",
              "      <td>6.0</td>\n",
              "      <td>20</td>\n",
              "      <td>0</td>\n",
              "      <td>0</td>\n",
              "      <td>0</td>\n",
              "      <td>0</td>\n",
              "      <td>0</td>\n",
              "      <td>0</td>\n",
              "      <td>1</td>\n",
              "      <td>6</td>\n",
              "      <td>1</td>\n",
              "      <td>6</td>\n",
              "      <td>237</td>\n",
              "      <td>16390</td>\n",
              "      <td>0</td>\n",
              "      <td>20</td>\n",
              "      <td>0.0</td>\n",
              "      <td>0.0</td>\n",
              "      <td>0</td>\n",
              "      <td>0</td>\n",
              "      <td>0.0</td>\n",
              "      <td>0.0</td>\n",
              "      <td>0</td>\n",
              "      <td>0</td>\n",
              "      <td>Bot</td>\n",
              "    </tr>\n",
              "    <tr>\n",
              "      <th>501003</th>\n",
              "      <td>8080</td>\n",
              "      <td>0</td>\n",
              "      <td>1</td>\n",
              "      <td>1</td>\n",
              "      <td>6</td>\n",
              "      <td>6</td>\n",
              "      <td>6</td>\n",
              "      <td>6</td>\n",
              "      <td>6.0</td>\n",
              "      <td>0.0</td>\n",
              "      <td>6</td>\n",
              "      <td>6</td>\n",
              "      <td>6.0</td>\n",
              "      <td>0.0</td>\n",
              "      <td>inf</td>\n",
              "      <td>inf</td>\n",
              "      <td>0.0</td>\n",
              "      <td>0.0</td>\n",
              "      <td>0</td>\n",
              "      <td>0</td>\n",
              "      <td>0</td>\n",
              "      <td>0.0</td>\n",
              "      <td>0.0</td>\n",
              "      <td>0</td>\n",
              "      <td>0</td>\n",
              "      <td>0</td>\n",
              "      <td>0.0</td>\n",
              "      <td>0.0</td>\n",
              "      <td>0</td>\n",
              "      <td>0</td>\n",
              "      <td>0</td>\n",
              "      <td>0</td>\n",
              "      <td>0</td>\n",
              "      <td>0</td>\n",
              "      <td>20</td>\n",
              "      <td>20</td>\n",
              "      <td>0.0</td>\n",
              "      <td>0.0</td>\n",
              "      <td>6</td>\n",
              "      <td>6</td>\n",
              "      <td>6.0</td>\n",
              "      <td>0.0</td>\n",
              "      <td>0.0</td>\n",
              "      <td>0</td>\n",
              "      <td>0</td>\n",
              "      <td>0</td>\n",
              "      <td>0</td>\n",
              "      <td>1</td>\n",
              "      <td>0</td>\n",
              "      <td>0</td>\n",
              "      <td>0</td>\n",
              "      <td>1</td>\n",
              "      <td>9.0</td>\n",
              "      <td>6.0</td>\n",
              "      <td>6.0</td>\n",
              "      <td>20</td>\n",
              "      <td>0</td>\n",
              "      <td>0</td>\n",
              "      <td>0</td>\n",
              "      <td>0</td>\n",
              "      <td>0</td>\n",
              "      <td>0</td>\n",
              "      <td>1</td>\n",
              "      <td>6</td>\n",
              "      <td>1</td>\n",
              "      <td>6</td>\n",
              "      <td>256</td>\n",
              "      <td>237</td>\n",
              "      <td>0</td>\n",
              "      <td>20</td>\n",
              "      <td>0.0</td>\n",
              "      <td>0.0</td>\n",
              "      <td>0</td>\n",
              "      <td>0</td>\n",
              "      <td>0.0</td>\n",
              "      <td>0.0</td>\n",
              "      <td>0</td>\n",
              "      <td>0</td>\n",
              "      <td>Bot</td>\n",
              "    </tr>\n",
              "    <tr>\n",
              "      <th>501221</th>\n",
              "      <td>8080</td>\n",
              "      <td>0</td>\n",
              "      <td>1</td>\n",
              "      <td>1</td>\n",
              "      <td>6</td>\n",
              "      <td>6</td>\n",
              "      <td>6</td>\n",
              "      <td>6</td>\n",
              "      <td>6.0</td>\n",
              "      <td>0.0</td>\n",
              "      <td>6</td>\n",
              "      <td>6</td>\n",
              "      <td>6.0</td>\n",
              "      <td>0.0</td>\n",
              "      <td>inf</td>\n",
              "      <td>inf</td>\n",
              "      <td>0.0</td>\n",
              "      <td>0.0</td>\n",
              "      <td>0</td>\n",
              "      <td>0</td>\n",
              "      <td>0</td>\n",
              "      <td>0.0</td>\n",
              "      <td>0.0</td>\n",
              "      <td>0</td>\n",
              "      <td>0</td>\n",
              "      <td>0</td>\n",
              "      <td>0.0</td>\n",
              "      <td>0.0</td>\n",
              "      <td>0</td>\n",
              "      <td>0</td>\n",
              "      <td>0</td>\n",
              "      <td>0</td>\n",
              "      <td>0</td>\n",
              "      <td>0</td>\n",
              "      <td>20</td>\n",
              "      <td>20</td>\n",
              "      <td>0.0</td>\n",
              "      <td>0.0</td>\n",
              "      <td>6</td>\n",
              "      <td>6</td>\n",
              "      <td>6.0</td>\n",
              "      <td>0.0</td>\n",
              "      <td>0.0</td>\n",
              "      <td>0</td>\n",
              "      <td>0</td>\n",
              "      <td>0</td>\n",
              "      <td>0</td>\n",
              "      <td>1</td>\n",
              "      <td>0</td>\n",
              "      <td>0</td>\n",
              "      <td>0</td>\n",
              "      <td>1</td>\n",
              "      <td>9.0</td>\n",
              "      <td>6.0</td>\n",
              "      <td>6.0</td>\n",
              "      <td>20</td>\n",
              "      <td>0</td>\n",
              "      <td>0</td>\n",
              "      <td>0</td>\n",
              "      <td>0</td>\n",
              "      <td>0</td>\n",
              "      <td>0</td>\n",
              "      <td>1</td>\n",
              "      <td>6</td>\n",
              "      <td>1</td>\n",
              "      <td>6</td>\n",
              "      <td>256</td>\n",
              "      <td>237</td>\n",
              "      <td>0</td>\n",
              "      <td>20</td>\n",
              "      <td>0.0</td>\n",
              "      <td>0.0</td>\n",
              "      <td>0</td>\n",
              "      <td>0</td>\n",
              "      <td>0.0</td>\n",
              "      <td>0.0</td>\n",
              "      <td>0</td>\n",
              "      <td>0</td>\n",
              "      <td>Bot</td>\n",
              "    </tr>\n",
              "  </tbody>\n",
              "</table>\n",
              "</div>\n",
              "    <div class=\"colab-df-buttons\">\n",
              "\n",
              "  <div class=\"colab-df-container\">\n",
              "    <button class=\"colab-df-convert\" onclick=\"convertToInteractive('df-50b7a07f-c6ee-40ea-bbb5-5ed2273c736c')\"\n",
              "            title=\"Convert this dataframe to an interactive table.\"\n",
              "            style=\"display:none;\">\n",
              "\n",
              "  <svg xmlns=\"http://www.w3.org/2000/svg\" height=\"24px\" viewBox=\"0 -960 960 960\">\n",
              "    <path d=\"M120-120v-720h720v720H120Zm60-500h600v-160H180v160Zm220 220h160v-160H400v160Zm0 220h160v-160H400v160ZM180-400h160v-160H180v160Zm440 0h160v-160H620v160ZM180-180h160v-160H180v160Zm440 0h160v-160H620v160Z\"/>\n",
              "  </svg>\n",
              "    </button>\n",
              "\n",
              "  <style>\n",
              "    .colab-df-container {\n",
              "      display:flex;\n",
              "      gap: 12px;\n",
              "    }\n",
              "\n",
              "    .colab-df-convert {\n",
              "      background-color: #E8F0FE;\n",
              "      border: none;\n",
              "      border-radius: 50%;\n",
              "      cursor: pointer;\n",
              "      display: none;\n",
              "      fill: #1967D2;\n",
              "      height: 32px;\n",
              "      padding: 0 0 0 0;\n",
              "      width: 32px;\n",
              "    }\n",
              "\n",
              "    .colab-df-convert:hover {\n",
              "      background-color: #E2EBFA;\n",
              "      box-shadow: 0px 1px 2px rgba(60, 64, 67, 0.3), 0px 1px 3px 1px rgba(60, 64, 67, 0.15);\n",
              "      fill: #174EA6;\n",
              "    }\n",
              "\n",
              "    .colab-df-buttons div {\n",
              "      margin-bottom: 4px;\n",
              "    }\n",
              "\n",
              "    [theme=dark] .colab-df-convert {\n",
              "      background-color: #3B4455;\n",
              "      fill: #D2E3FC;\n",
              "    }\n",
              "\n",
              "    [theme=dark] .colab-df-convert:hover {\n",
              "      background-color: #434B5C;\n",
              "      box-shadow: 0px 1px 3px 1px rgba(0, 0, 0, 0.15);\n",
              "      filter: drop-shadow(0px 1px 2px rgba(0, 0, 0, 0.3));\n",
              "      fill: #FFFFFF;\n",
              "    }\n",
              "  </style>\n",
              "\n",
              "    <script>\n",
              "      const buttonEl =\n",
              "        document.querySelector('#df-50b7a07f-c6ee-40ea-bbb5-5ed2273c736c button.colab-df-convert');\n",
              "      buttonEl.style.display =\n",
              "        google.colab.kernel.accessAllowed ? 'block' : 'none';\n",
              "\n",
              "      async function convertToInteractive(key) {\n",
              "        const element = document.querySelector('#df-50b7a07f-c6ee-40ea-bbb5-5ed2273c736c');\n",
              "        const dataTable =\n",
              "          await google.colab.kernel.invokeFunction('convertToInteractive',\n",
              "                                                    [key], {});\n",
              "        if (!dataTable) return;\n",
              "\n",
              "        const docLinkHtml = 'Like what you see? Visit the ' +\n",
              "          '<a target=\"_blank\" href=https://colab.research.google.com/notebooks/data_table.ipynb>data table notebook</a>'\n",
              "          + ' to learn more about interactive tables.';\n",
              "        element.innerHTML = '';\n",
              "        dataTable['output_type'] = 'display_data';\n",
              "        await google.colab.output.renderOutput(dataTable, element);\n",
              "        const docLink = document.createElement('div');\n",
              "        docLink.innerHTML = docLinkHtml;\n",
              "        element.appendChild(docLink);\n",
              "      }\n",
              "    </script>\n",
              "  </div>\n",
              "\n",
              "\n",
              "<div id=\"df-5600e31d-27eb-472e-80d8-63a18d3907f5\">\n",
              "  <button class=\"colab-df-quickchart\" onclick=\"quickchart('df-5600e31d-27eb-472e-80d8-63a18d3907f5')\"\n",
              "            title=\"Suggest charts.\"\n",
              "            style=\"display:none;\">\n",
              "\n",
              "<svg xmlns=\"http://www.w3.org/2000/svg\" height=\"24px\"viewBox=\"0 0 24 24\"\n",
              "     width=\"24px\">\n",
              "    <g>\n",
              "        <path d=\"M19 3H5c-1.1 0-2 .9-2 2v14c0 1.1.9 2 2 2h14c1.1 0 2-.9 2-2V5c0-1.1-.9-2-2-2zM9 17H7v-7h2v7zm4 0h-2V7h2v10zm4 0h-2v-4h2v4z\"/>\n",
              "    </g>\n",
              "</svg>\n",
              "  </button>\n",
              "\n",
              "<style>\n",
              "  .colab-df-quickchart {\n",
              "      --bg-color: #E8F0FE;\n",
              "      --fill-color: #1967D2;\n",
              "      --hover-bg-color: #E2EBFA;\n",
              "      --hover-fill-color: #174EA6;\n",
              "      --disabled-fill-color: #AAA;\n",
              "      --disabled-bg-color: #DDD;\n",
              "  }\n",
              "\n",
              "  [theme=dark] .colab-df-quickchart {\n",
              "      --bg-color: #3B4455;\n",
              "      --fill-color: #D2E3FC;\n",
              "      --hover-bg-color: #434B5C;\n",
              "      --hover-fill-color: #FFFFFF;\n",
              "      --disabled-bg-color: #3B4455;\n",
              "      --disabled-fill-color: #666;\n",
              "  }\n",
              "\n",
              "  .colab-df-quickchart {\n",
              "    background-color: var(--bg-color);\n",
              "    border: none;\n",
              "    border-radius: 50%;\n",
              "    cursor: pointer;\n",
              "    display: none;\n",
              "    fill: var(--fill-color);\n",
              "    height: 32px;\n",
              "    padding: 0;\n",
              "    width: 32px;\n",
              "  }\n",
              "\n",
              "  .colab-df-quickchart:hover {\n",
              "    background-color: var(--hover-bg-color);\n",
              "    box-shadow: 0 1px 2px rgba(60, 64, 67, 0.3), 0 1px 3px 1px rgba(60, 64, 67, 0.15);\n",
              "    fill: var(--button-hover-fill-color);\n",
              "  }\n",
              "\n",
              "  .colab-df-quickchart-complete:disabled,\n",
              "  .colab-df-quickchart-complete:disabled:hover {\n",
              "    background-color: var(--disabled-bg-color);\n",
              "    fill: var(--disabled-fill-color);\n",
              "    box-shadow: none;\n",
              "  }\n",
              "\n",
              "  .colab-df-spinner {\n",
              "    border: 2px solid var(--fill-color);\n",
              "    border-color: transparent;\n",
              "    border-bottom-color: var(--fill-color);\n",
              "    animation:\n",
              "      spin 1s steps(1) infinite;\n",
              "  }\n",
              "\n",
              "  @keyframes spin {\n",
              "    0% {\n",
              "      border-color: transparent;\n",
              "      border-bottom-color: var(--fill-color);\n",
              "      border-left-color: var(--fill-color);\n",
              "    }\n",
              "    20% {\n",
              "      border-color: transparent;\n",
              "      border-left-color: var(--fill-color);\n",
              "      border-top-color: var(--fill-color);\n",
              "    }\n",
              "    30% {\n",
              "      border-color: transparent;\n",
              "      border-left-color: var(--fill-color);\n",
              "      border-top-color: var(--fill-color);\n",
              "      border-right-color: var(--fill-color);\n",
              "    }\n",
              "    40% {\n",
              "      border-color: transparent;\n",
              "      border-right-color: var(--fill-color);\n",
              "      border-top-color: var(--fill-color);\n",
              "    }\n",
              "    60% {\n",
              "      border-color: transparent;\n",
              "      border-right-color: var(--fill-color);\n",
              "    }\n",
              "    80% {\n",
              "      border-color: transparent;\n",
              "      border-right-color: var(--fill-color);\n",
              "      border-bottom-color: var(--fill-color);\n",
              "    }\n",
              "    90% {\n",
              "      border-color: transparent;\n",
              "      border-bottom-color: var(--fill-color);\n",
              "    }\n",
              "  }\n",
              "</style>\n",
              "\n",
              "  <script>\n",
              "    async function quickchart(key) {\n",
              "      const quickchartButtonEl =\n",
              "        document.querySelector('#' + key + ' button');\n",
              "      quickchartButtonEl.disabled = true;  // To prevent multiple clicks.\n",
              "      quickchartButtonEl.classList.add('colab-df-spinner');\n",
              "      try {\n",
              "        const charts = await google.colab.kernel.invokeFunction(\n",
              "            'suggestCharts', [key], {});\n",
              "      } catch (error) {\n",
              "        console.error('Error during call to suggestCharts:', error);\n",
              "      }\n",
              "      quickchartButtonEl.classList.remove('colab-df-spinner');\n",
              "      quickchartButtonEl.classList.add('colab-df-quickchart-complete');\n",
              "    }\n",
              "    (() => {\n",
              "      let quickchartButtonEl =\n",
              "        document.querySelector('#df-5600e31d-27eb-472e-80d8-63a18d3907f5 button');\n",
              "      quickchartButtonEl.style.display =\n",
              "        google.colab.kernel.accessAllowed ? 'block' : 'none';\n",
              "    })();\n",
              "  </script>\n",
              "</div>\n",
              "    </div>\n",
              "  </div>\n"
            ]
          },
          "metadata": {},
          "execution_count": 13
        }
      ],
      "source": [
        "# есть еще строки с бесконечными значениями.\n",
        "\n",
        "df_test=df[df.isin([np.inf, -np.inf]).any(1)]\n",
        "df_test['Label'].unique()\n",
        "df_test=df_test.loc[df_test['Label']=='Bot']\n",
        "\n",
        "df_test"
      ],
      "id": "epbLOR7XBabP"
    },
    {
      "cell_type": "code",
      "execution_count": 14,
      "metadata": {
        "colab": {
          "base_uri": "https://localhost:8080/",
          "height": 121
        },
        "id": "e57LFh-hJMfl",
        "outputId": "4d22343f-26f8-4cdb-e653-8057517f3637"
      },
      "outputs": [
        {
          "output_type": "execute_result",
          "data": {
            "text/plain": [
              "Empty DataFrame\n",
              "Columns: [Destination Port,  Flow Duration,  Total Fwd Packets,  Total Backward Packets, Total Length of Fwd Packets,  Total Length of Bwd Packets,  Fwd Packet Length Max,  Fwd Packet Length Min,  Fwd Packet Length Mean,  Fwd Packet Length Std, Bwd Packet Length Max,  Bwd Packet Length Min,  Bwd Packet Length Mean,  Bwd Packet Length Std, Flow Bytes/s,  Flow Packets/s,  Flow IAT Mean,  Flow IAT Std,  Flow IAT Max,  Flow IAT Min, Fwd IAT Total,  Fwd IAT Mean,  Fwd IAT Std,  Fwd IAT Max,  Fwd IAT Min, Bwd IAT Total,  Bwd IAT Mean,  Bwd IAT Std,  Bwd IAT Max,  Bwd IAT Min, Fwd PSH Flags,  Bwd PSH Flags,  Fwd URG Flags,  Bwd URG Flags,  Fwd Header Length,  Bwd Header Length, Fwd Packets/s,  Bwd Packets/s,  Min Packet Length,  Max Packet Length,  Packet Length Mean,  Packet Length Std,  Packet Length Variance, FIN Flag Count,  SYN Flag Count,  RST Flag Count,  PSH Flag Count,  ACK Flag Count,  URG Flag Count,  CWE Flag Count,  ECE Flag Count,  Down/Up Ratio,  Average Packet Size,  Avg Fwd Segment Size,  Avg Bwd Segment Size,  Fwd Header Length.1, Fwd Avg Bytes/Bulk,  Fwd Avg Packets/Bulk,  Fwd Avg Bulk Rate,  Bwd Avg Bytes/Bulk,  Bwd Avg Packets/Bulk, Bwd Avg Bulk Rate, Subflow Fwd Packets,  Subflow Fwd Bytes,  Subflow Bwd Packets,  Subflow Bwd Bytes, Init_Win_bytes_forward,  Init_Win_bytes_backward,  act_data_pkt_fwd,  min_seg_size_forward, Active Mean,  Active Std,  Active Max,  Active Min, Idle Mean,  Idle Std,  Idle Max,  Idle Min, Label]\n",
              "Index: []"
            ],
            "text/html": [
              "\n",
              "  <div id=\"df-1a5e3dd6-b755-4f3d-a3eb-6934598ac68b\" class=\"colab-df-container\">\n",
              "    <div>\n",
              "<style scoped>\n",
              "    .dataframe tbody tr th:only-of-type {\n",
              "        vertical-align: middle;\n",
              "    }\n",
              "\n",
              "    .dataframe tbody tr th {\n",
              "        vertical-align: top;\n",
              "    }\n",
              "\n",
              "    .dataframe thead th {\n",
              "        text-align: right;\n",
              "    }\n",
              "</style>\n",
              "<table border=\"1\" class=\"dataframe\">\n",
              "  <thead>\n",
              "    <tr style=\"text-align: right;\">\n",
              "      <th></th>\n",
              "      <th>Destination Port</th>\n",
              "      <th>Flow Duration</th>\n",
              "      <th>Total Fwd Packets</th>\n",
              "      <th>Total Backward Packets</th>\n",
              "      <th>Total Length of Fwd Packets</th>\n",
              "      <th>Total Length of Bwd Packets</th>\n",
              "      <th>Fwd Packet Length Max</th>\n",
              "      <th>Fwd Packet Length Min</th>\n",
              "      <th>Fwd Packet Length Mean</th>\n",
              "      <th>Fwd Packet Length Std</th>\n",
              "      <th>Bwd Packet Length Max</th>\n",
              "      <th>Bwd Packet Length Min</th>\n",
              "      <th>Bwd Packet Length Mean</th>\n",
              "      <th>Bwd Packet Length Std</th>\n",
              "      <th>Flow Bytes/s</th>\n",
              "      <th>Flow Packets/s</th>\n",
              "      <th>Flow IAT Mean</th>\n",
              "      <th>Flow IAT Std</th>\n",
              "      <th>Flow IAT Max</th>\n",
              "      <th>Flow IAT Min</th>\n",
              "      <th>Fwd IAT Total</th>\n",
              "      <th>Fwd IAT Mean</th>\n",
              "      <th>Fwd IAT Std</th>\n",
              "      <th>Fwd IAT Max</th>\n",
              "      <th>Fwd IAT Min</th>\n",
              "      <th>Bwd IAT Total</th>\n",
              "      <th>Bwd IAT Mean</th>\n",
              "      <th>Bwd IAT Std</th>\n",
              "      <th>Bwd IAT Max</th>\n",
              "      <th>Bwd IAT Min</th>\n",
              "      <th>Fwd PSH Flags</th>\n",
              "      <th>Bwd PSH Flags</th>\n",
              "      <th>Fwd URG Flags</th>\n",
              "      <th>Bwd URG Flags</th>\n",
              "      <th>Fwd Header Length</th>\n",
              "      <th>Bwd Header Length</th>\n",
              "      <th>Fwd Packets/s</th>\n",
              "      <th>Bwd Packets/s</th>\n",
              "      <th>Min Packet Length</th>\n",
              "      <th>Max Packet Length</th>\n",
              "      <th>Packet Length Mean</th>\n",
              "      <th>Packet Length Std</th>\n",
              "      <th>Packet Length Variance</th>\n",
              "      <th>FIN Flag Count</th>\n",
              "      <th>SYN Flag Count</th>\n",
              "      <th>RST Flag Count</th>\n",
              "      <th>PSH Flag Count</th>\n",
              "      <th>ACK Flag Count</th>\n",
              "      <th>URG Flag Count</th>\n",
              "      <th>CWE Flag Count</th>\n",
              "      <th>ECE Flag Count</th>\n",
              "      <th>Down/Up Ratio</th>\n",
              "      <th>Average Packet Size</th>\n",
              "      <th>Avg Fwd Segment Size</th>\n",
              "      <th>Avg Bwd Segment Size</th>\n",
              "      <th>Fwd Header Length.1</th>\n",
              "      <th>Fwd Avg Bytes/Bulk</th>\n",
              "      <th>Fwd Avg Packets/Bulk</th>\n",
              "      <th>Fwd Avg Bulk Rate</th>\n",
              "      <th>Bwd Avg Bytes/Bulk</th>\n",
              "      <th>Bwd Avg Packets/Bulk</th>\n",
              "      <th>Bwd Avg Bulk Rate</th>\n",
              "      <th>Subflow Fwd Packets</th>\n",
              "      <th>Subflow Fwd Bytes</th>\n",
              "      <th>Subflow Bwd Packets</th>\n",
              "      <th>Subflow Bwd Bytes</th>\n",
              "      <th>Init_Win_bytes_forward</th>\n",
              "      <th>Init_Win_bytes_backward</th>\n",
              "      <th>act_data_pkt_fwd</th>\n",
              "      <th>min_seg_size_forward</th>\n",
              "      <th>Active Mean</th>\n",
              "      <th>Active Std</th>\n",
              "      <th>Active Max</th>\n",
              "      <th>Active Min</th>\n",
              "      <th>Idle Mean</th>\n",
              "      <th>Idle Std</th>\n",
              "      <th>Idle Max</th>\n",
              "      <th>Idle Min</th>\n",
              "      <th>Label</th>\n",
              "    </tr>\n",
              "  </thead>\n",
              "  <tbody>\n",
              "  </tbody>\n",
              "</table>\n",
              "</div>\n",
              "    <div class=\"colab-df-buttons\">\n",
              "\n",
              "  <div class=\"colab-df-container\">\n",
              "    <button class=\"colab-df-convert\" onclick=\"convertToInteractive('df-1a5e3dd6-b755-4f3d-a3eb-6934598ac68b')\"\n",
              "            title=\"Convert this dataframe to an interactive table.\"\n",
              "            style=\"display:none;\">\n",
              "\n",
              "  <svg xmlns=\"http://www.w3.org/2000/svg\" height=\"24px\" viewBox=\"0 -960 960 960\">\n",
              "    <path d=\"M120-120v-720h720v720H120Zm60-500h600v-160H180v160Zm220 220h160v-160H400v160Zm0 220h160v-160H400v160ZM180-400h160v-160H180v160Zm440 0h160v-160H620v160ZM180-180h160v-160H180v160Zm440 0h160v-160H620v160Z\"/>\n",
              "  </svg>\n",
              "    </button>\n",
              "\n",
              "  <style>\n",
              "    .colab-df-container {\n",
              "      display:flex;\n",
              "      gap: 12px;\n",
              "    }\n",
              "\n",
              "    .colab-df-convert {\n",
              "      background-color: #E8F0FE;\n",
              "      border: none;\n",
              "      border-radius: 50%;\n",
              "      cursor: pointer;\n",
              "      display: none;\n",
              "      fill: #1967D2;\n",
              "      height: 32px;\n",
              "      padding: 0 0 0 0;\n",
              "      width: 32px;\n",
              "    }\n",
              "\n",
              "    .colab-df-convert:hover {\n",
              "      background-color: #E2EBFA;\n",
              "      box-shadow: 0px 1px 2px rgba(60, 64, 67, 0.3), 0px 1px 3px 1px rgba(60, 64, 67, 0.15);\n",
              "      fill: #174EA6;\n",
              "    }\n",
              "\n",
              "    .colab-df-buttons div {\n",
              "      margin-bottom: 4px;\n",
              "    }\n",
              "\n",
              "    [theme=dark] .colab-df-convert {\n",
              "      background-color: #3B4455;\n",
              "      fill: #D2E3FC;\n",
              "    }\n",
              "\n",
              "    [theme=dark] .colab-df-convert:hover {\n",
              "      background-color: #434B5C;\n",
              "      box-shadow: 0px 1px 3px 1px rgba(0, 0, 0, 0.15);\n",
              "      filter: drop-shadow(0px 1px 2px rgba(0, 0, 0, 0.3));\n",
              "      fill: #FFFFFF;\n",
              "    }\n",
              "  </style>\n",
              "\n",
              "    <script>\n",
              "      const buttonEl =\n",
              "        document.querySelector('#df-1a5e3dd6-b755-4f3d-a3eb-6934598ac68b button.colab-df-convert');\n",
              "      buttonEl.style.display =\n",
              "        google.colab.kernel.accessAllowed ? 'block' : 'none';\n",
              "\n",
              "      async function convertToInteractive(key) {\n",
              "        const element = document.querySelector('#df-1a5e3dd6-b755-4f3d-a3eb-6934598ac68b');\n",
              "        const dataTable =\n",
              "          await google.colab.kernel.invokeFunction('convertToInteractive',\n",
              "                                                    [key], {});\n",
              "        if (!dataTable) return;\n",
              "\n",
              "        const docLinkHtml = 'Like what you see? Visit the ' +\n",
              "          '<a target=\"_blank\" href=https://colab.research.google.com/notebooks/data_table.ipynb>data table notebook</a>'\n",
              "          + ' to learn more about interactive tables.';\n",
              "        element.innerHTML = '';\n",
              "        dataTable['output_type'] = 'display_data';\n",
              "        await google.colab.output.renderOutput(dataTable, element);\n",
              "        const docLink = document.createElement('div');\n",
              "        docLink.innerHTML = docLinkHtml;\n",
              "        element.appendChild(docLink);\n",
              "      }\n",
              "    </script>\n",
              "  </div>\n",
              "\n",
              "    </div>\n",
              "  </div>\n"
            ]
          },
          "metadata": {},
          "execution_count": 14
        }
      ],
      "source": [
        "df=df.replace([np.inf, -np.inf], np.nan)\n",
        "df = df.fillna(0)\n",
        "df[df.isin([np.inf, -np.inf]).any(1)]\n"
      ],
      "id": "e57LFh-hJMfl"
    },
    {
      "cell_type": "code",
      "execution_count": 15,
      "metadata": {
        "id": "tNkW5E9UJMsl"
      },
      "outputs": [],
      "source": [
        "df=df.drop_duplicates()"
      ],
      "id": "tNkW5E9UJMsl"
    },
    {
      "cell_type": "markdown",
      "metadata": {
        "id": "xwhiFRQ1POXJ"
      },
      "source": [
        "Fwd PSH Flags, Bwd PSH Flags, Fwd URG Flags\n",
        "\n",
        "\n",
        "\n",
        "FIN Flag Count, SYN Flag Count, RST Flag Count, PSH Flag Count, ACK Flag Count, URG Flag Count, CWE Flag Count, ECE Flag Count\n",
        "\n",
        "\n",
        "\n"
      ],
      "id": "xwhiFRQ1POXJ"
    },
    {
      "cell_type": "code",
      "execution_count": 16,
      "metadata": {
        "id": "gZSAAI8cOsv8"
      },
      "outputs": [],
      "source": [
        "cat_columns = [30,31,32,33,43,44,45,46,47,48,49,50]\n",
        "numeric = df.select_dtypes('float').columns\n",
        "\n"
      ],
      "id": "gZSAAI8cOsv8"
    },
    {
      "cell_type": "code",
      "execution_count": 16,
      "metadata": {
        "id": "iHPgGMIlNha8"
      },
      "outputs": [],
      "source": [],
      "id": "iHPgGMIlNha8"
    },
    {
      "cell_type": "markdown",
      "metadata": {
        "id": "86f11941"
      },
      "source": [
        "#### Выделение признаков и таргета"
      ],
      "id": "86f11941"
    },
    {
      "cell_type": "code",
      "execution_count": 17,
      "metadata": {
        "id": "c47960be"
      },
      "outputs": [],
      "source": [
        "# Делим наши данные\n",
        "target = df['Label']\n",
        "features = df.drop('Label', axis=1)\n"
      ],
      "id": "c47960be"
    },
    {
      "cell_type": "code",
      "execution_count": 18,
      "metadata": {
        "id": "396e6c21"
      },
      "outputs": [],
      "source": [
        "#target=np.reshape(target,-1)\n",
        "\n",
        "features_test, features_train, target_test, target_train = train_test_split(features, target, test_size=0.80, random_state=12345, stratify=target)\n",
        "\n",
        "features_val, features_train, target_val, target_train = train_test_split(features_train, target_train, test_size=0.8, random_state=12345, stratify=target_train)\n"
      ],
      "id": "396e6c21"
    },
    {
      "cell_type": "code",
      "execution_count": 19,
      "metadata": {
        "id": "e79032cf",
        "colab": {
          "base_uri": "https://localhost:8080/"
        },
        "outputId": "2f627729-f440-495b-8856-a9cde9f490ed"
      },
      "outputs": [
        {
          "output_type": "execute_result",
          "data": {
            "text/plain": [
              "(303984, 78)"
            ]
          },
          "metadata": {},
          "execution_count": 19
        },
        {
          "output_type": "execute_result",
          "data": {
            "text/plain": [
              "(94995, 78)"
            ]
          },
          "metadata": {},
          "execution_count": 19
        },
        {
          "output_type": "execute_result",
          "data": {
            "text/plain": [
              "(75996, 78)"
            ]
          },
          "metadata": {},
          "execution_count": 19
        },
        {
          "output_type": "execute_result",
          "data": {
            "text/plain": [
              "(303984,)"
            ]
          },
          "metadata": {},
          "execution_count": 19
        },
        {
          "output_type": "execute_result",
          "data": {
            "text/plain": [
              "(94995,)"
            ]
          },
          "metadata": {},
          "execution_count": 19
        },
        {
          "output_type": "execute_result",
          "data": {
            "text/plain": [
              "(75996,)"
            ]
          },
          "metadata": {},
          "execution_count": 19
        }
      ],
      "source": [
        "features_train.shape\n",
        "features_test.shape\n",
        "features_val.shape\n",
        "\n",
        "target_train.shape\n",
        "target_test.shape\n",
        "target_val.shape"
      ],
      "id": "e79032cf"
    },
    {
      "cell_type": "markdown",
      "metadata": {
        "id": "50d0be35"
      },
      "source": [
        "## Построение модели машинного обучения"
      ],
      "id": "50d0be35"
    },
    {
      "cell_type": "markdown",
      "metadata": {
        "id": "f916d11c"
      },
      "source": [
        "### Построение бейзлайна"
      ],
      "id": "f916d11c"
    },
    {
      "cell_type": "markdown",
      "metadata": {
        "id": "5BLx41ULB2qi"
      },
      "source": [
        "возьмем в качестве байзлайна Catboost, так как к нему не надо никакой особой подготовки данных"
      ],
      "id": "5BLx41ULB2qi"
    },
    {
      "cell_type": "code",
      "execution_count": 20,
      "metadata": {
        "id": "f031ee0b",
        "colab": {
          "base_uri": "https://localhost:8080/",
          "height": 1000,
          "referenced_widgets": [
            "e82b22608edf401bb6a186fe121b6a4c"
          ]
        },
        "outputId": "14400e29-bb8d-4bff-888d-6af934354ccd"
      },
      "outputs": [
        {
          "output_type": "display_data",
          "data": {
            "text/plain": [
              "MetricVisualizer(layout=Layout(align_self='stretch', height='500px'))"
            ],
            "application/vnd.jupyter.widget-view+json": {
              "version_major": 2,
              "version_minor": 0,
              "model_id": "e82b22608edf401bb6a186fe121b6a4c"
            }
          },
          "metadata": {}
        },
        {
          "output_type": "stream",
          "name": "stdout",
          "text": [
            "Learning rate set to 0.208346\n",
            "0:\tlearn: 0.7103989\ttotal: 51.7ms\tremaining: 51.7s\n",
            "3:\tlearn: 0.3508356\ttotal: 216ms\tremaining: 53.7s\n",
            "6:\tlearn: 0.2095375\ttotal: 324ms\tremaining: 46s\n",
            "9:\tlearn: 0.1388515\ttotal: 431ms\tremaining: 42.7s\n",
            "12:\tlearn: 0.0976992\ttotal: 510ms\tremaining: 38.7s\n",
            "15:\tlearn: 0.0718512\ttotal: 583ms\tremaining: 35.9s\n",
            "18:\tlearn: 0.0546009\ttotal: 657ms\tremaining: 33.9s\n",
            "21:\tlearn: 0.0454327\ttotal: 724ms\tremaining: 32.2s\n",
            "24:\tlearn: 0.0390445\ttotal: 800ms\tremaining: 31.2s\n",
            "27:\tlearn: 0.0352358\ttotal: 873ms\tremaining: 30.3s\n",
            "30:\tlearn: 0.0316560\ttotal: 950ms\tremaining: 29.7s\n",
            "33:\tlearn: 0.0287809\ttotal: 1.02s\tremaining: 29s\n",
            "36:\tlearn: 0.0256470\ttotal: 1.09s\tremaining: 28.4s\n",
            "39:\tlearn: 0.0238444\ttotal: 1.16s\tremaining: 27.9s\n",
            "42:\tlearn: 0.0215451\ttotal: 1.25s\tremaining: 27.9s\n",
            "45:\tlearn: 0.0197385\ttotal: 1.33s\tremaining: 27.5s\n",
            "48:\tlearn: 0.0188971\ttotal: 1.39s\tremaining: 27s\n",
            "51:\tlearn: 0.0180573\ttotal: 1.48s\tremaining: 27s\n",
            "54:\tlearn: 0.0172335\ttotal: 1.57s\tremaining: 26.9s\n",
            "57:\tlearn: 0.0161627\ttotal: 1.64s\tremaining: 26.7s\n",
            "60:\tlearn: 0.0156764\ttotal: 1.71s\tremaining: 26.3s\n",
            "63:\tlearn: 0.0150270\ttotal: 1.78s\tremaining: 26s\n",
            "66:\tlearn: 0.0144127\ttotal: 1.85s\tremaining: 25.8s\n",
            "69:\tlearn: 0.0141062\ttotal: 1.93s\tremaining: 25.7s\n",
            "72:\tlearn: 0.0135260\ttotal: 2.01s\tremaining: 25.5s\n",
            "75:\tlearn: 0.0130307\ttotal: 2.08s\tremaining: 25.3s\n",
            "78:\tlearn: 0.0126558\ttotal: 2.15s\tremaining: 25s\n",
            "81:\tlearn: 0.0123662\ttotal: 2.23s\tremaining: 25s\n",
            "84:\tlearn: 0.0121286\ttotal: 2.3s\tremaining: 24.7s\n",
            "87:\tlearn: 0.0119284\ttotal: 2.37s\tremaining: 24.5s\n",
            "90:\tlearn: 0.0117417\ttotal: 2.46s\tremaining: 24.6s\n",
            "93:\tlearn: 0.0113388\ttotal: 2.53s\tremaining: 24.4s\n",
            "96:\tlearn: 0.0110252\ttotal: 2.6s\tremaining: 24.2s\n",
            "99:\tlearn: 0.0108911\ttotal: 2.67s\tremaining: 24.1s\n",
            "102:\tlearn: 0.0107092\ttotal: 2.74s\tremaining: 23.9s\n",
            "105:\tlearn: 0.0104478\ttotal: 2.81s\tremaining: 23.7s\n",
            "108:\tlearn: 0.0101682\ttotal: 2.88s\tremaining: 23.6s\n",
            "111:\tlearn: 0.0100248\ttotal: 2.95s\tremaining: 23.4s\n",
            "114:\tlearn: 0.0098315\ttotal: 3.02s\tremaining: 23.3s\n",
            "117:\tlearn: 0.0097416\ttotal: 3.09s\tremaining: 23.1s\n",
            "120:\tlearn: 0.0096643\ttotal: 3.16s\tremaining: 22.9s\n",
            "123:\tlearn: 0.0095757\ttotal: 3.24s\tremaining: 22.9s\n",
            "126:\tlearn: 0.0094304\ttotal: 3.32s\tremaining: 22.8s\n",
            "129:\tlearn: 0.0093550\ttotal: 3.41s\tremaining: 22.8s\n",
            "132:\tlearn: 0.0092398\ttotal: 3.53s\tremaining: 23s\n",
            "135:\tlearn: 0.0091801\ttotal: 3.65s\tremaining: 23.2s\n",
            "138:\tlearn: 0.0090721\ttotal: 3.87s\tremaining: 24s\n",
            "141:\tlearn: 0.0090207\ttotal: 4.09s\tremaining: 24.7s\n",
            "144:\tlearn: 0.0089188\ttotal: 4.33s\tremaining: 25.5s\n",
            "147:\tlearn: 0.0088777\ttotal: 4.54s\tremaining: 26.2s\n",
            "150:\tlearn: 0.0087935\ttotal: 4.77s\tremaining: 26.8s\n",
            "153:\tlearn: 0.0086620\ttotal: 5s\tremaining: 27.5s\n",
            "156:\tlearn: 0.0085356\ttotal: 5.23s\tremaining: 28.1s\n",
            "159:\tlearn: 0.0084744\ttotal: 5.45s\tremaining: 28.6s\n",
            "162:\tlearn: 0.0083928\ttotal: 5.7s\tremaining: 29.3s\n",
            "165:\tlearn: 0.0083040\ttotal: 5.94s\tremaining: 29.8s\n",
            "168:\tlearn: 0.0082349\ttotal: 6.19s\tremaining: 30.4s\n",
            "171:\tlearn: 0.0081809\ttotal: 6.44s\tremaining: 31s\n",
            "174:\tlearn: 0.0081434\ttotal: 6.7s\tremaining: 31.6s\n",
            "177:\tlearn: 0.0081062\ttotal: 6.96s\tremaining: 32.2s\n",
            "180:\tlearn: 0.0080512\ttotal: 7.23s\tremaining: 32.7s\n",
            "183:\tlearn: 0.0080037\ttotal: 7.5s\tremaining: 33.3s\n",
            "186:\tlearn: 0.0079570\ttotal: 7.65s\tremaining: 33.3s\n",
            "189:\tlearn: 0.0079295\ttotal: 7.74s\tremaining: 33s\n",
            "192:\tlearn: 0.0078943\ttotal: 7.83s\tremaining: 32.7s\n",
            "195:\tlearn: 0.0078555\ttotal: 7.9s\tremaining: 32.4s\n",
            "198:\tlearn: 0.0077838\ttotal: 7.97s\tremaining: 32.1s\n",
            "201:\tlearn: 0.0077259\ttotal: 8.04s\tremaining: 31.8s\n",
            "204:\tlearn: 0.0076983\ttotal: 8.1s\tremaining: 31.4s\n",
            "207:\tlearn: 0.0076450\ttotal: 8.18s\tremaining: 31.1s\n",
            "210:\tlearn: 0.0075823\ttotal: 8.26s\tremaining: 30.9s\n",
            "213:\tlearn: 0.0075593\ttotal: 8.34s\tremaining: 30.6s\n",
            "216:\tlearn: 0.0075088\ttotal: 8.41s\tremaining: 30.3s\n",
            "219:\tlearn: 0.0074584\ttotal: 8.48s\tremaining: 30.1s\n",
            "222:\tlearn: 0.0074172\ttotal: 8.55s\tremaining: 29.8s\n",
            "225:\tlearn: 0.0073936\ttotal: 8.64s\tremaining: 29.6s\n",
            "228:\tlearn: 0.0073740\ttotal: 8.71s\tremaining: 29.3s\n",
            "231:\tlearn: 0.0073497\ttotal: 8.77s\tremaining: 29s\n",
            "234:\tlearn: 0.0073196\ttotal: 8.84s\tremaining: 28.8s\n",
            "237:\tlearn: 0.0072903\ttotal: 8.91s\tremaining: 28.5s\n",
            "240:\tlearn: 0.0072750\ttotal: 8.98s\tremaining: 28.3s\n",
            "243:\tlearn: 0.0072117\ttotal: 9.06s\tremaining: 28.1s\n",
            "246:\tlearn: 0.0071807\ttotal: 9.13s\tremaining: 27.8s\n",
            "249:\tlearn: 0.0071302\ttotal: 9.2s\tremaining: 27.6s\n",
            "252:\tlearn: 0.0070848\ttotal: 9.28s\tremaining: 27.4s\n",
            "255:\tlearn: 0.0070600\ttotal: 9.35s\tremaining: 27.2s\n",
            "258:\tlearn: 0.0070168\ttotal: 9.41s\tremaining: 26.9s\n",
            "261:\tlearn: 0.0069887\ttotal: 9.48s\tremaining: 26.7s\n",
            "264:\tlearn: 0.0069642\ttotal: 9.55s\tremaining: 26.5s\n",
            "267:\tlearn: 0.0069347\ttotal: 9.64s\tremaining: 26.3s\n",
            "270:\tlearn: 0.0069076\ttotal: 9.71s\tremaining: 26.1s\n",
            "273:\tlearn: 0.0068730\ttotal: 9.78s\tremaining: 25.9s\n",
            "276:\tlearn: 0.0068491\ttotal: 9.85s\tremaining: 25.7s\n",
            "279:\tlearn: 0.0068297\ttotal: 9.92s\tremaining: 25.5s\n",
            "282:\tlearn: 0.0067935\ttotal: 9.99s\tremaining: 25.3s\n",
            "285:\tlearn: 0.0067704\ttotal: 10.1s\tremaining: 25.1s\n",
            "288:\tlearn: 0.0067459\ttotal: 10.1s\tremaining: 24.9s\n",
            "291:\tlearn: 0.0067160\ttotal: 10.2s\tremaining: 24.7s\n",
            "294:\tlearn: 0.0066601\ttotal: 10.3s\tremaining: 24.6s\n",
            "297:\tlearn: 0.0066484\ttotal: 10.4s\tremaining: 24.4s\n",
            "300:\tlearn: 0.0066350\ttotal: 10.4s\tremaining: 24.2s\n",
            "303:\tlearn: 0.0065939\ttotal: 10.5s\tremaining: 24.1s\n",
            "306:\tlearn: 0.0065759\ttotal: 10.6s\tremaining: 23.9s\n",
            "309:\tlearn: 0.0065476\ttotal: 10.7s\tremaining: 23.8s\n",
            "312:\tlearn: 0.0065203\ttotal: 10.7s\tremaining: 23.6s\n",
            "315:\tlearn: 0.0065014\ttotal: 10.8s\tremaining: 23.4s\n",
            "318:\tlearn: 0.0064901\ttotal: 10.9s\tremaining: 23.2s\n",
            "321:\tlearn: 0.0064729\ttotal: 10.9s\tremaining: 23s\n",
            "324:\tlearn: 0.0064350\ttotal: 11s\tremaining: 22.9s\n",
            "327:\tlearn: 0.0064125\ttotal: 11.1s\tremaining: 22.7s\n",
            "330:\tlearn: 0.0064055\ttotal: 11.2s\tremaining: 22.6s\n",
            "333:\tlearn: 0.0063871\ttotal: 11.3s\tremaining: 22.5s\n",
            "336:\tlearn: 0.0063595\ttotal: 11.4s\tremaining: 22.3s\n",
            "339:\tlearn: 0.0063461\ttotal: 11.4s\tremaining: 22.2s\n",
            "342:\tlearn: 0.0063216\ttotal: 11.5s\tremaining: 22s\n",
            "345:\tlearn: 0.0063012\ttotal: 11.6s\tremaining: 21.9s\n",
            "348:\tlearn: 0.0062849\ttotal: 11.6s\tremaining: 21.7s\n",
            "351:\tlearn: 0.0062726\ttotal: 11.7s\tremaining: 21.6s\n",
            "354:\tlearn: 0.0062598\ttotal: 11.8s\tremaining: 21.4s\n",
            "357:\tlearn: 0.0062387\ttotal: 11.9s\tremaining: 21.3s\n",
            "360:\tlearn: 0.0062290\ttotal: 12s\tremaining: 21.2s\n",
            "363:\tlearn: 0.0062200\ttotal: 12s\tremaining: 21s\n",
            "366:\tlearn: 0.0062082\ttotal: 12.1s\tremaining: 20.9s\n",
            "369:\tlearn: 0.0061991\ttotal: 12.2s\tremaining: 20.7s\n",
            "372:\tlearn: 0.0061620\ttotal: 12.2s\tremaining: 20.6s\n",
            "375:\tlearn: 0.0061473\ttotal: 12.3s\tremaining: 20.5s\n",
            "378:\tlearn: 0.0061398\ttotal: 12.4s\tremaining: 20.3s\n",
            "381:\tlearn: 0.0061260\ttotal: 12.5s\tremaining: 20.2s\n",
            "384:\tlearn: 0.0061007\ttotal: 12.6s\tremaining: 20s\n",
            "387:\tlearn: 0.0060900\ttotal: 12.6s\tremaining: 19.9s\n",
            "390:\tlearn: 0.0060762\ttotal: 12.7s\tremaining: 19.8s\n",
            "393:\tlearn: 0.0060708\ttotal: 12.8s\tremaining: 19.7s\n",
            "396:\tlearn: 0.0060543\ttotal: 12.9s\tremaining: 19.5s\n",
            "399:\tlearn: 0.0060243\ttotal: 12.9s\tremaining: 19.4s\n",
            "402:\tlearn: 0.0060139\ttotal: 13s\tremaining: 19.3s\n",
            "405:\tlearn: 0.0060057\ttotal: 13.1s\tremaining: 19.1s\n",
            "408:\tlearn: 0.0059923\ttotal: 13.2s\tremaining: 19s\n",
            "411:\tlearn: 0.0059825\ttotal: 13.2s\tremaining: 18.9s\n",
            "414:\tlearn: 0.0059744\ttotal: 13.3s\tremaining: 18.8s\n",
            "417:\tlearn: 0.0059572\ttotal: 13.4s\tremaining: 18.6s\n",
            "420:\tlearn: 0.0059517\ttotal: 13.5s\tremaining: 18.5s\n",
            "423:\tlearn: 0.0059385\ttotal: 13.5s\tremaining: 18.4s\n",
            "426:\tlearn: 0.0059350\ttotal: 13.6s\tremaining: 18.3s\n",
            "429:\tlearn: 0.0059248\ttotal: 13.7s\tremaining: 18.1s\n",
            "432:\tlearn: 0.0059158\ttotal: 13.8s\tremaining: 18s\n",
            "435:\tlearn: 0.0059078\ttotal: 13.8s\tremaining: 17.9s\n",
            "438:\tlearn: 0.0058954\ttotal: 13.9s\tremaining: 17.7s\n",
            "441:\tlearn: 0.0058858\ttotal: 14s\tremaining: 17.6s\n",
            "444:\tlearn: 0.0058798\ttotal: 14s\tremaining: 17.5s\n",
            "447:\tlearn: 0.0058726\ttotal: 14.1s\tremaining: 17.4s\n",
            "450:\tlearn: 0.0058533\ttotal: 14.2s\tremaining: 17.3s\n",
            "453:\tlearn: 0.0058415\ttotal: 14.3s\tremaining: 17.1s\n",
            "456:\tlearn: 0.0058337\ttotal: 14.4s\tremaining: 17.1s\n",
            "459:\tlearn: 0.0058165\ttotal: 14.4s\tremaining: 16.9s\n",
            "462:\tlearn: 0.0058054\ttotal: 14.5s\tremaining: 16.8s\n",
            "465:\tlearn: 0.0057951\ttotal: 14.6s\tremaining: 16.7s\n",
            "468:\tlearn: 0.0057812\ttotal: 14.6s\tremaining: 16.6s\n",
            "471:\tlearn: 0.0057688\ttotal: 14.7s\tremaining: 16.5s\n",
            "474:\tlearn: 0.0057519\ttotal: 14.8s\tremaining: 16.4s\n",
            "477:\tlearn: 0.0057454\ttotal: 14.9s\tremaining: 16.2s\n",
            "480:\tlearn: 0.0057290\ttotal: 14.9s\tremaining: 16.1s\n",
            "483:\tlearn: 0.0057231\ttotal: 15s\tremaining: 16s\n",
            "486:\tlearn: 0.0057159\ttotal: 15.1s\tremaining: 15.9s\n",
            "489:\tlearn: 0.0057114\ttotal: 15.2s\tremaining: 15.8s\n",
            "492:\tlearn: 0.0056980\ttotal: 15.2s\tremaining: 15.7s\n",
            "495:\tlearn: 0.0056909\ttotal: 15.3s\tremaining: 15.5s\n",
            "498:\tlearn: 0.0056763\ttotal: 15.4s\tremaining: 15.5s\n",
            "501:\tlearn: 0.0056690\ttotal: 15.5s\tremaining: 15.4s\n",
            "504:\tlearn: 0.0056630\ttotal: 15.6s\tremaining: 15.2s\n",
            "507:\tlearn: 0.0056523\ttotal: 15.6s\tremaining: 15.1s\n",
            "510:\tlearn: 0.0056445\ttotal: 15.7s\tremaining: 15s\n",
            "513:\tlearn: 0.0056379\ttotal: 15.8s\tremaining: 14.9s\n",
            "516:\tlearn: 0.0056331\ttotal: 15.9s\tremaining: 14.8s\n",
            "519:\tlearn: 0.0056258\ttotal: 15.9s\tremaining: 14.7s\n",
            "522:\tlearn: 0.0056144\ttotal: 16s\tremaining: 14.6s\n",
            "525:\tlearn: 0.0056103\ttotal: 16.1s\tremaining: 14.5s\n",
            "528:\tlearn: 0.0055991\ttotal: 16.1s\tremaining: 14.4s\n",
            "531:\tlearn: 0.0055818\ttotal: 16.2s\tremaining: 14.3s\n",
            "534:\tlearn: 0.0055718\ttotal: 16.3s\tremaining: 14.1s\n",
            "537:\tlearn: 0.0055651\ttotal: 16.3s\tremaining: 14s\n",
            "540:\tlearn: 0.0055531\ttotal: 16.4s\tremaining: 14s\n",
            "543:\tlearn: 0.0055480\ttotal: 16.5s\tremaining: 13.8s\n",
            "546:\tlearn: 0.0055393\ttotal: 16.6s\tremaining: 13.7s\n",
            "549:\tlearn: 0.0055278\ttotal: 16.7s\tremaining: 13.6s\n",
            "552:\tlearn: 0.0055234\ttotal: 16.7s\tremaining: 13.5s\n",
            "555:\tlearn: 0.0055173\ttotal: 16.8s\tremaining: 13.4s\n",
            "558:\tlearn: 0.0055089\ttotal: 16.9s\tremaining: 13.3s\n",
            "561:\tlearn: 0.0055042\ttotal: 17s\tremaining: 13.2s\n",
            "564:\tlearn: 0.0054994\ttotal: 17s\tremaining: 13.1s\n",
            "567:\tlearn: 0.0054946\ttotal: 17.1s\tremaining: 13s\n",
            "570:\tlearn: 0.0054824\ttotal: 17.2s\tremaining: 12.9s\n",
            "573:\tlearn: 0.0054765\ttotal: 17.2s\tremaining: 12.8s\n",
            "576:\tlearn: 0.0054647\ttotal: 17.3s\tremaining: 12.7s\n",
            "579:\tlearn: 0.0054576\ttotal: 17.4s\tremaining: 12.6s\n",
            "582:\tlearn: 0.0054546\ttotal: 17.5s\tremaining: 12.5s\n",
            "585:\tlearn: 0.0054511\ttotal: 17.6s\tremaining: 12.5s\n",
            "588:\tlearn: 0.0054438\ttotal: 17.8s\tremaining: 12.4s\n",
            "591:\tlearn: 0.0054399\ttotal: 17.9s\tremaining: 12.4s\n",
            "594:\tlearn: 0.0054328\ttotal: 18.1s\tremaining: 12.3s\n",
            "597:\tlearn: 0.0054249\ttotal: 18.3s\tremaining: 12.3s\n",
            "600:\tlearn: 0.0054186\ttotal: 18.5s\tremaining: 12.3s\n",
            "603:\tlearn: 0.0054089\ttotal: 18.7s\tremaining: 12.3s\n",
            "606:\tlearn: 0.0054042\ttotal: 18.9s\tremaining: 12.3s\n",
            "609:\tlearn: 0.0054011\ttotal: 19.2s\tremaining: 12.2s\n",
            "612:\tlearn: 0.0053932\ttotal: 19.4s\tremaining: 12.2s\n",
            "615:\tlearn: 0.0053796\ttotal: 19.6s\tremaining: 12.2s\n",
            "618:\tlearn: 0.0053744\ttotal: 19.8s\tremaining: 12.2s\n",
            "621:\tlearn: 0.0053702\ttotal: 20s\tremaining: 12.2s\n",
            "624:\tlearn: 0.0053651\ttotal: 20.2s\tremaining: 12.1s\n",
            "627:\tlearn: 0.0053606\ttotal: 20.4s\tremaining: 12.1s\n",
            "630:\tlearn: 0.0053450\ttotal: 20.7s\tremaining: 12.1s\n",
            "633:\tlearn: 0.0053406\ttotal: 21s\tremaining: 12.1s\n",
            "636:\tlearn: 0.0053313\ttotal: 21.2s\tremaining: 12.1s\n",
            "639:\tlearn: 0.0053230\ttotal: 21.5s\tremaining: 12.1s\n",
            "642:\tlearn: 0.0053132\ttotal: 21.7s\tremaining: 12.1s\n",
            "645:\tlearn: 0.0053087\ttotal: 21.8s\tremaining: 11.9s\n",
            "648:\tlearn: 0.0053019\ttotal: 21.9s\tremaining: 11.8s\n",
            "651:\tlearn: 0.0052936\ttotal: 22s\tremaining: 11.7s\n",
            "654:\tlearn: 0.0052906\ttotal: 22s\tremaining: 11.6s\n",
            "657:\tlearn: 0.0052854\ttotal: 22.1s\tremaining: 11.5s\n",
            "660:\tlearn: 0.0052799\ttotal: 22.2s\tremaining: 11.4s\n",
            "663:\tlearn: 0.0052754\ttotal: 22.3s\tremaining: 11.3s\n",
            "666:\tlearn: 0.0052715\ttotal: 22.3s\tremaining: 11.2s\n",
            "669:\tlearn: 0.0052653\ttotal: 22.4s\tremaining: 11s\n",
            "672:\tlearn: 0.0052630\ttotal: 22.5s\tremaining: 10.9s\n",
            "675:\tlearn: 0.0052546\ttotal: 22.6s\tremaining: 10.8s\n",
            "678:\tlearn: 0.0052491\ttotal: 22.6s\tremaining: 10.7s\n",
            "681:\tlearn: 0.0052399\ttotal: 22.7s\tremaining: 10.6s\n",
            "684:\tlearn: 0.0052312\ttotal: 22.8s\tremaining: 10.5s\n",
            "687:\tlearn: 0.0052224\ttotal: 22.9s\tremaining: 10.4s\n",
            "690:\tlearn: 0.0052191\ttotal: 23s\tremaining: 10.3s\n",
            "693:\tlearn: 0.0052137\ttotal: 23s\tremaining: 10.2s\n",
            "696:\tlearn: 0.0052085\ttotal: 23.1s\tremaining: 10s\n",
            "699:\tlearn: 0.0052060\ttotal: 23.2s\tremaining: 9.93s\n",
            "702:\tlearn: 0.0052029\ttotal: 23.2s\tremaining: 9.82s\n",
            "705:\tlearn: 0.0051990\ttotal: 23.3s\tremaining: 9.71s\n",
            "708:\tlearn: 0.0051923\ttotal: 23.4s\tremaining: 9.6s\n",
            "711:\tlearn: 0.0051886\ttotal: 23.5s\tremaining: 9.49s\n",
            "714:\tlearn: 0.0051846\ttotal: 23.5s\tremaining: 9.38s\n",
            "717:\tlearn: 0.0051798\ttotal: 23.6s\tremaining: 9.27s\n",
            "720:\tlearn: 0.0051734\ttotal: 23.7s\tremaining: 9.16s\n",
            "723:\tlearn: 0.0051663\ttotal: 23.8s\tremaining: 9.06s\n",
            "726:\tlearn: 0.0051635\ttotal: 23.8s\tremaining: 8.95s\n",
            "729:\tlearn: 0.0051613\ttotal: 23.9s\tremaining: 8.85s\n",
            "732:\tlearn: 0.0051577\ttotal: 24s\tremaining: 8.75s\n",
            "735:\tlearn: 0.0051497\ttotal: 24.1s\tremaining: 8.64s\n",
            "738:\tlearn: 0.0051479\ttotal: 24.2s\tremaining: 8.53s\n",
            "741:\tlearn: 0.0051440\ttotal: 24.2s\tremaining: 8.43s\n",
            "744:\tlearn: 0.0051392\ttotal: 24.3s\tremaining: 8.32s\n",
            "747:\tlearn: 0.0051352\ttotal: 24.4s\tremaining: 8.21s\n",
            "750:\tlearn: 0.0051317\ttotal: 24.5s\tremaining: 8.11s\n",
            "753:\tlearn: 0.0051296\ttotal: 24.5s\tremaining: 8s\n",
            "756:\tlearn: 0.0051275\ttotal: 24.6s\tremaining: 7.89s\n",
            "759:\tlearn: 0.0051243\ttotal: 24.7s\tremaining: 7.79s\n",
            "762:\tlearn: 0.0051172\ttotal: 24.7s\tremaining: 7.68s\n",
            "765:\tlearn: 0.0051136\ttotal: 24.9s\tremaining: 7.59s\n",
            "768:\tlearn: 0.0051097\ttotal: 24.9s\tremaining: 7.49s\n",
            "771:\tlearn: 0.0051065\ttotal: 25s\tremaining: 7.38s\n",
            "774:\tlearn: 0.0051016\ttotal: 25.1s\tremaining: 7.28s\n",
            "777:\tlearn: 0.0050963\ttotal: 25.1s\tremaining: 7.17s\n",
            "780:\tlearn: 0.0050930\ttotal: 25.2s\tremaining: 7.07s\n",
            "783:\tlearn: 0.0050891\ttotal: 25.3s\tremaining: 6.96s\n",
            "786:\tlearn: 0.0050845\ttotal: 25.3s\tremaining: 6.86s\n",
            "789:\tlearn: 0.0050815\ttotal: 25.4s\tremaining: 6.76s\n",
            "792:\tlearn: 0.0050774\ttotal: 25.5s\tremaining: 6.66s\n",
            "795:\tlearn: 0.0050713\ttotal: 25.6s\tremaining: 6.55s\n",
            "798:\tlearn: 0.0050688\ttotal: 25.6s\tremaining: 6.45s\n",
            "801:\tlearn: 0.0050633\ttotal: 25.7s\tremaining: 6.35s\n",
            "804:\tlearn: 0.0050613\ttotal: 25.8s\tremaining: 6.25s\n",
            "807:\tlearn: 0.0050581\ttotal: 25.9s\tremaining: 6.15s\n",
            "810:\tlearn: 0.0050537\ttotal: 26s\tremaining: 6.05s\n",
            "813:\tlearn: 0.0050495\ttotal: 26.1s\tremaining: 5.95s\n",
            "816:\tlearn: 0.0050367\ttotal: 26.1s\tremaining: 5.85s\n",
            "819:\tlearn: 0.0050280\ttotal: 26.2s\tremaining: 5.75s\n",
            "822:\tlearn: 0.0050244\ttotal: 26.3s\tremaining: 5.65s\n",
            "825:\tlearn: 0.0050177\ttotal: 26.3s\tremaining: 5.55s\n",
            "828:\tlearn: 0.0050148\ttotal: 26.4s\tremaining: 5.45s\n",
            "831:\tlearn: 0.0050081\ttotal: 26.5s\tremaining: 5.35s\n",
            "834:\tlearn: 0.0050048\ttotal: 26.6s\tremaining: 5.25s\n",
            "837:\tlearn: 0.0050026\ttotal: 26.6s\tremaining: 5.15s\n",
            "840:\tlearn: 0.0049960\ttotal: 26.7s\tremaining: 5.05s\n",
            "843:\tlearn: 0.0049933\ttotal: 26.8s\tremaining: 4.95s\n",
            "846:\tlearn: 0.0049879\ttotal: 26.9s\tremaining: 4.86s\n",
            "849:\tlearn: 0.0049853\ttotal: 27s\tremaining: 4.76s\n",
            "852:\tlearn: 0.0049836\ttotal: 27.1s\tremaining: 4.66s\n",
            "855:\tlearn: 0.0049820\ttotal: 27.1s\tremaining: 4.56s\n",
            "858:\tlearn: 0.0049789\ttotal: 27.2s\tremaining: 4.46s\n",
            "861:\tlearn: 0.0049752\ttotal: 27.3s\tremaining: 4.36s\n",
            "864:\tlearn: 0.0049712\ttotal: 27.3s\tremaining: 4.26s\n",
            "867:\tlearn: 0.0049668\ttotal: 27.4s\tremaining: 4.17s\n",
            "870:\tlearn: 0.0049653\ttotal: 27.5s\tremaining: 4.07s\n",
            "873:\tlearn: 0.0049626\ttotal: 27.6s\tremaining: 3.97s\n",
            "876:\tlearn: 0.0049602\ttotal: 27.6s\tremaining: 3.87s\n",
            "879:\tlearn: 0.0049567\ttotal: 27.7s\tremaining: 3.78s\n",
            "882:\tlearn: 0.0049551\ttotal: 27.8s\tremaining: 3.68s\n",
            "885:\tlearn: 0.0049495\ttotal: 27.9s\tremaining: 3.58s\n",
            "888:\tlearn: 0.0049459\ttotal: 28s\tremaining: 3.49s\n",
            "891:\tlearn: 0.0049438\ttotal: 28s\tremaining: 3.4s\n",
            "894:\tlearn: 0.0049407\ttotal: 28.1s\tremaining: 3.3s\n",
            "897:\tlearn: 0.0049388\ttotal: 28.2s\tremaining: 3.2s\n",
            "900:\tlearn: 0.0049371\ttotal: 28.3s\tremaining: 3.1s\n",
            "903:\tlearn: 0.0049329\ttotal: 28.3s\tremaining: 3.01s\n",
            "906:\tlearn: 0.0049302\ttotal: 28.4s\tremaining: 2.91s\n",
            "909:\tlearn: 0.0049270\ttotal: 28.5s\tremaining: 2.82s\n",
            "912:\tlearn: 0.0049225\ttotal: 28.6s\tremaining: 2.72s\n",
            "915:\tlearn: 0.0049200\ttotal: 28.6s\tremaining: 2.63s\n",
            "918:\tlearn: 0.0049164\ttotal: 28.7s\tremaining: 2.53s\n",
            "921:\tlearn: 0.0049122\ttotal: 28.8s\tremaining: 2.43s\n",
            "924:\tlearn: 0.0049093\ttotal: 28.8s\tremaining: 2.34s\n",
            "927:\tlearn: 0.0049084\ttotal: 28.9s\tremaining: 2.24s\n",
            "930:\tlearn: 0.0049016\ttotal: 29s\tremaining: 2.15s\n",
            "933:\tlearn: 0.0048978\ttotal: 29.1s\tremaining: 2.06s\n",
            "936:\tlearn: 0.0048927\ttotal: 29.2s\tremaining: 1.96s\n",
            "939:\tlearn: 0.0048878\ttotal: 29.3s\tremaining: 1.87s\n",
            "942:\tlearn: 0.0048839\ttotal: 29.3s\tremaining: 1.77s\n",
            "945:\tlearn: 0.0048821\ttotal: 29.4s\tremaining: 1.68s\n",
            "948:\tlearn: 0.0048775\ttotal: 29.5s\tremaining: 1.58s\n",
            "951:\tlearn: 0.0048732\ttotal: 29.5s\tremaining: 1.49s\n",
            "954:\tlearn: 0.0048713\ttotal: 29.6s\tremaining: 1.4s\n",
            "957:\tlearn: 0.0048686\ttotal: 29.7s\tremaining: 1.3s\n",
            "960:\tlearn: 0.0048646\ttotal: 29.8s\tremaining: 1.21s\n",
            "963:\tlearn: 0.0048583\ttotal: 29.8s\tremaining: 1.11s\n",
            "966:\tlearn: 0.0048562\ttotal: 29.9s\tremaining: 1.02s\n",
            "969:\tlearn: 0.0048547\ttotal: 30s\tremaining: 928ms\n",
            "972:\tlearn: 0.0048519\ttotal: 30.1s\tremaining: 835ms\n",
            "975:\tlearn: 0.0048489\ttotal: 30.2s\tremaining: 742ms\n",
            "978:\tlearn: 0.0048467\ttotal: 30.2s\tremaining: 649ms\n",
            "981:\tlearn: 0.0048437\ttotal: 30.3s\tremaining: 556ms\n",
            "984:\tlearn: 0.0048415\ttotal: 30.4s\tremaining: 463ms\n",
            "987:\tlearn: 0.0048381\ttotal: 30.5s\tremaining: 370ms\n",
            "990:\tlearn: 0.0048361\ttotal: 30.5s\tremaining: 277ms\n",
            "993:\tlearn: 0.0048317\ttotal: 30.6s\tremaining: 185ms\n",
            "996:\tlearn: 0.0048291\ttotal: 30.7s\tremaining: 92.3ms\n",
            "999:\tlearn: 0.0048202\ttotal: 30.7s\tremaining: 0us\n"
          ]
        },
        {
          "output_type": "execute_result",
          "data": {
            "text/plain": [
              "<catboost.core.CatBoostClassifier at 0x79b99ea7a4a0>"
            ]
          },
          "metadata": {},
          "execution_count": 20
        },
        {
          "output_type": "stream",
          "name": "stdout",
          "text": [
            "{'nan_mode': 'Min', 'gpu_ram_part': 0.95, 'eval_metric': 'MultiClass', 'combinations_ctr': ['Borders:CtrBorderCount=15:CtrBorderType=Uniform:TargetBorderCount=1:TargetBorderType=MinEntropy:Prior=0/1:Prior=0.5/1:Prior=1/1', 'FeatureFreq:CtrBorderCount=15:CtrBorderType=Median:Prior=0/1'], 'iterations': 1000, 'fold_permutation_block': 64, 'leaf_estimation_method': 'Newton', 'observations_to_bootstrap': 'TestOnly', 'random_score_type': 'NormalWithModelSizeDecrease', 'counter_calc_method': 'SkipTest', 'grow_policy': 'SymmetricTree', 'penalties_coefficient': 1, 'boosting_type': 'Plain', 'ctr_history_unit': 'Sample', 'feature_border_type': 'GreedyLogSum', 'bayesian_matrix_reg': 0.10000000149011612, 'one_hot_max_size': 2, 'devices': '-1', 'eval_fraction': 0, 'pinned_memory_bytes': '104857600', 'force_unit_auto_pair_weights': False, 'l2_leaf_reg': 3, 'random_strength': 1, 'rsm': 1, 'boost_from_average': False, 'gpu_cat_features_storage': 'GpuRam', 'fold_size_loss_normalization': False, 'max_ctr_complexity': 4, 'model_size_reg': 0.5, 'simple_ctr': ['Borders:CtrBorderCount=15:CtrBorderType=Uniform:TargetBorderCount=1:TargetBorderType=MinEntropy:Prior=0/1:Prior=0.5/1:Prior=1/1', 'FeatureFreq:CtrBorderCount=15:CtrBorderType=MinEntropy:Prior=0/1'], 'pool_metainfo_options': {'tags': {}}, 'use_best_model': False, 'meta_l2_frequency': 0, 'class_names': ['BENIGN', 'Bot', 'DDoS', 'DoS GoldenEye', 'DoS Hulk', 'DoS Slowhttptest', 'DoS slowloris', 'FTP-Patator', 'Heartbleed', 'Infiltration', 'PortScan', 'SSH-Patator', 'Web Attack � Brute Force', 'Web Attack � Sql Injection', 'Web Attack � XSS'], 'random_seed': 12345, 'depth': 6, 'ctr_target_border_count': 1, 'has_time': False, 'border_count': 128, 'min_fold_size': 100, 'data_partition': 'DocParallel', 'bagging_temperature': 1, 'classes_count': 0, 'auto_class_weights': 'None', 'leaf_estimation_backtracking': 'AnyImprovement', 'best_model_min_trees': 1, 'min_data_in_leaf': 1, 'add_ridge_penalty_to_loss_function': False, 'loss_function': 'MultiClass', 'learning_rate': 0.20834599435329437, 'meta_l2_exponent': 1, 'score_function': 'Cosine', 'task_type': 'GPU', 'leaf_estimation_iterations': 1, 'bootstrap_type': 'Bayesian', 'max_leaves': 64, 'permutation_count': 1}\n"
          ]
        }
      ],
      "source": [
        "# !pip install ipywidgets\n",
        "# !jupyter nbextension enable --py widgetsnbextension\n",
        "\n",
        "# from google.colab import output\n",
        "# output.enable_custom_widget_manager()\n",
        "\n",
        "\n",
        "model_bas_cb = CatBoostClassifier(cat_features=[30,31,32,33,43,44,45,46,47,48,49,50],\n",
        "                                  task_type=\"GPU\",\n",
        "                                  random_state=12345)\n",
        "\n",
        "model_bas_cb.fit(features_train, target_train,\n",
        "                 verbose=3,\n",
        "                 plot=True)\n",
        "\n",
        "print(model_bas_cb.get_all_params())\n",
        "\n",
        "# к сожалению Google Colab не рисует, а очень хотелось посмотреть графики\n"
      ],
      "id": "f031ee0b"
    },
    {
      "cell_type": "code",
      "source": [
        "preds = model_bas_cb.predict(features_val)\n",
        "\n",
        "print (\"Accuracy:\", accuracy_score(target_val, preds))\n",
        "print (\"F1_macro:\", f1_score(target_val, preds, average='macro'))\n",
        "\n"
      ],
      "metadata": {
        "colab": {
          "base_uri": "https://localhost:8080/"
        },
        "id": "oV8rWmIS1I7l",
        "outputId": "55266cf9-4b69-4498-894e-bf0fb3fb9e8c"
      },
      "execution_count": 21,
      "outputs": [
        {
          "output_type": "stream",
          "name": "stdout",
          "text": [
            "Accuracy: 0.9972761724301279\n",
            "F1_macro: 0.9223742205228601\n"
          ]
        }
      ],
      "id": "oV8rWmIS1I7l"
    },
    {
      "cell_type": "code",
      "source": [
        "# немного анализа\n",
        "target_names = ['BENIGN', 'PortScan', 'DoS Hulk', 'DDoS', 'Bot', 'Infiltration', 'Web Attack � Brute Force', 'Web Attack � XSS',\n",
        "                'Web Attack � Sql Injection', 'FTP-Patator', 'SSH-Patator','DoS slowloris', 'DoS Slowhttptest', 'DoS GoldenEye', 'Heartbleed']\n",
        "\n",
        "print(classification_report(target_val, preds, target_names=target_names))"
      ],
      "metadata": {
        "colab": {
          "base_uri": "https://localhost:8080/"
        },
        "id": "gdngYGkQ1I7p",
        "outputId": "69719e50-74c8-4528-96c1-f7d1fb10ee18"
      },
      "execution_count": 22,
      "outputs": [
        {
          "output_type": "stream",
          "name": "stdout",
          "text": [
            "                            precision    recall  f1-score   support\n",
            "\n",
            "                    BENIGN       1.00      1.00      1.00     37244\n",
            "                  PortScan       0.94      0.97      0.96       312\n",
            "                  DoS Hulk       1.00      1.00      1.00     10298\n",
            "                      DDoS       1.00      1.00      1.00      1646\n",
            "                       Bot       1.00      1.00      1.00     13960\n",
            "              Infiltration       1.00      0.99      0.99       836\n",
            "  Web Attack � Brute Force       1.00      0.99      0.99       862\n",
            "          Web Attack � XSS       1.00      1.00      1.00       949\n",
            "Web Attack � Sql Injection       1.00      1.00      1.00         2\n",
            "               FTP-Patator       1.00      1.00      1.00         6\n",
            "               SSH-Patator       1.00      1.00      1.00      9024\n",
            "             DoS slowloris       1.00      1.00      1.00       515\n",
            "          DoS Slowhttptest       0.70      0.79      0.74       235\n",
            "             DoS GoldenEye       0.75      1.00      0.86         3\n",
            "                Heartbleed       0.36      0.25      0.29       104\n",
            "\n",
            "                  accuracy                           1.00     75996\n",
            "                 macro avg       0.92      0.93      0.92     75996\n",
            "              weighted avg       1.00      1.00      1.00     75996\n",
            "\n"
          ]
        }
      ],
      "id": "gdngYGkQ1I7p"
    },
    {
      "cell_type": "code",
      "source": [
        "importances = model_bas_cb.feature_importances_  # train_features is the dataframe of training features\n",
        "feature_list = list(features_val.columns)  # Extract the feature importances into a dataframe\n",
        "feature_results = pd.DataFrame({'feature': feature_list,'importance': importances})  # Show the top 10 most important\n",
        "feature_results = feature_results.sort_values('importance',ascending = False).reset_index(drop=True)\n",
        "feature_results.tail(50)"
      ],
      "metadata": {
        "colab": {
          "base_uri": "https://localhost:8080/",
          "height": 1000
        },
        "id": "iJlunZlj02_P",
        "outputId": "3c119d1f-9b9c-42d5-8906-5e4778c2947d"
      },
      "id": "iJlunZlj02_P",
      "execution_count": 23,
      "outputs": [
        {
          "output_type": "execute_result",
          "data": {
            "text/plain": [
              "                        feature  importance\n",
              "28                 Fwd IAT Mean    0.919934\n",
              "29            Bwd Header Length    0.844191\n",
              "30                  Bwd IAT Std    0.783720\n",
              "31                  Bwd IAT Min    0.779188\n",
              "32                 Flow IAT Std    0.732682\n",
              "33                 Bwd IAT Mean    0.731779\n",
              "34               ACK Flag Count    0.568202\n",
              "35                  Fwd IAT Max    0.538430\n",
              "36         Avg Fwd Segment Size    0.509131\n",
              "37                Down/Up Ratio    0.486202\n",
              "38        Bwd Packet Length Max    0.406689\n",
              "39        Bwd Packet Length Min    0.348439\n",
              "40            Total Fwd Packets    0.322715\n",
              "41               Flow Packets/s    0.299702\n",
              "42             act_data_pkt_fwd    0.245793\n",
              "43                Bwd IAT Total    0.196405\n",
              "44  Total Length of Fwd Packets    0.177981\n",
              "45        Fwd Packet Length Min    0.173796\n",
              "46                   Active Std    0.170722\n",
              "47       Total Backward Packets    0.155447\n",
              "48                     Idle Min    0.154858\n",
              "49               FIN Flag Count    0.153056\n",
              "50                     Idle Max    0.141416\n",
              "51                     Idle Std    0.136057\n",
              "52         Avg Bwd Segment Size    0.132336\n",
              "53                  Active Mean    0.127978\n",
              "54            Min Packet Length    0.121850\n",
              "55                  Bwd IAT Max    0.094607\n",
              "56                    Idle Mean    0.079936\n",
              "57          Subflow Bwd Packets    0.077949\n",
              "58            Subflow Bwd Bytes    0.071684\n",
              "59          Subflow Fwd Packets    0.064771\n",
              "60                Fwd PSH Flags    0.041041\n",
              "61                   Active Min    0.021164\n",
              "62                   Active Max    0.012472\n",
              "63       Packet Length Variance    0.007825\n",
              "64          Fwd Header Length.1    0.000076\n",
              "65                Fwd URG Flags    0.000023\n",
              "66               CWE Flag Count    0.000013\n",
              "67               ECE Flag Count    0.000000\n",
              "68            Bwd Avg Bulk Rate    0.000000\n",
              "69         Bwd Avg Packets/Bulk    0.000000\n",
              "70                Bwd URG Flags    0.000000\n",
              "71                Bwd PSH Flags    0.000000\n",
              "72           Bwd Avg Bytes/Bulk    0.000000\n",
              "73            Fwd Avg Bulk Rate    0.000000\n",
              "74         Fwd Avg Packets/Bulk    0.000000\n",
              "75           Fwd Avg Bytes/Bulk    0.000000\n",
              "76               SYN Flag Count    0.000000\n",
              "77               RST Flag Count    0.000000"
            ],
            "text/html": [
              "\n",
              "  <div id=\"df-9741e58a-ea13-4fe4-94e2-540c38f69262\" class=\"colab-df-container\">\n",
              "    <div>\n",
              "<style scoped>\n",
              "    .dataframe tbody tr th:only-of-type {\n",
              "        vertical-align: middle;\n",
              "    }\n",
              "\n",
              "    .dataframe tbody tr th {\n",
              "        vertical-align: top;\n",
              "    }\n",
              "\n",
              "    .dataframe thead th {\n",
              "        text-align: right;\n",
              "    }\n",
              "</style>\n",
              "<table border=\"1\" class=\"dataframe\">\n",
              "  <thead>\n",
              "    <tr style=\"text-align: right;\">\n",
              "      <th></th>\n",
              "      <th>feature</th>\n",
              "      <th>importance</th>\n",
              "    </tr>\n",
              "  </thead>\n",
              "  <tbody>\n",
              "    <tr>\n",
              "      <th>28</th>\n",
              "      <td>Fwd IAT Mean</td>\n",
              "      <td>0.919934</td>\n",
              "    </tr>\n",
              "    <tr>\n",
              "      <th>29</th>\n",
              "      <td>Bwd Header Length</td>\n",
              "      <td>0.844191</td>\n",
              "    </tr>\n",
              "    <tr>\n",
              "      <th>30</th>\n",
              "      <td>Bwd IAT Std</td>\n",
              "      <td>0.783720</td>\n",
              "    </tr>\n",
              "    <tr>\n",
              "      <th>31</th>\n",
              "      <td>Bwd IAT Min</td>\n",
              "      <td>0.779188</td>\n",
              "    </tr>\n",
              "    <tr>\n",
              "      <th>32</th>\n",
              "      <td>Flow IAT Std</td>\n",
              "      <td>0.732682</td>\n",
              "    </tr>\n",
              "    <tr>\n",
              "      <th>33</th>\n",
              "      <td>Bwd IAT Mean</td>\n",
              "      <td>0.731779</td>\n",
              "    </tr>\n",
              "    <tr>\n",
              "      <th>34</th>\n",
              "      <td>ACK Flag Count</td>\n",
              "      <td>0.568202</td>\n",
              "    </tr>\n",
              "    <tr>\n",
              "      <th>35</th>\n",
              "      <td>Fwd IAT Max</td>\n",
              "      <td>0.538430</td>\n",
              "    </tr>\n",
              "    <tr>\n",
              "      <th>36</th>\n",
              "      <td>Avg Fwd Segment Size</td>\n",
              "      <td>0.509131</td>\n",
              "    </tr>\n",
              "    <tr>\n",
              "      <th>37</th>\n",
              "      <td>Down/Up Ratio</td>\n",
              "      <td>0.486202</td>\n",
              "    </tr>\n",
              "    <tr>\n",
              "      <th>38</th>\n",
              "      <td>Bwd Packet Length Max</td>\n",
              "      <td>0.406689</td>\n",
              "    </tr>\n",
              "    <tr>\n",
              "      <th>39</th>\n",
              "      <td>Bwd Packet Length Min</td>\n",
              "      <td>0.348439</td>\n",
              "    </tr>\n",
              "    <tr>\n",
              "      <th>40</th>\n",
              "      <td>Total Fwd Packets</td>\n",
              "      <td>0.322715</td>\n",
              "    </tr>\n",
              "    <tr>\n",
              "      <th>41</th>\n",
              "      <td>Flow Packets/s</td>\n",
              "      <td>0.299702</td>\n",
              "    </tr>\n",
              "    <tr>\n",
              "      <th>42</th>\n",
              "      <td>act_data_pkt_fwd</td>\n",
              "      <td>0.245793</td>\n",
              "    </tr>\n",
              "    <tr>\n",
              "      <th>43</th>\n",
              "      <td>Bwd IAT Total</td>\n",
              "      <td>0.196405</td>\n",
              "    </tr>\n",
              "    <tr>\n",
              "      <th>44</th>\n",
              "      <td>Total Length of Fwd Packets</td>\n",
              "      <td>0.177981</td>\n",
              "    </tr>\n",
              "    <tr>\n",
              "      <th>45</th>\n",
              "      <td>Fwd Packet Length Min</td>\n",
              "      <td>0.173796</td>\n",
              "    </tr>\n",
              "    <tr>\n",
              "      <th>46</th>\n",
              "      <td>Active Std</td>\n",
              "      <td>0.170722</td>\n",
              "    </tr>\n",
              "    <tr>\n",
              "      <th>47</th>\n",
              "      <td>Total Backward Packets</td>\n",
              "      <td>0.155447</td>\n",
              "    </tr>\n",
              "    <tr>\n",
              "      <th>48</th>\n",
              "      <td>Idle Min</td>\n",
              "      <td>0.154858</td>\n",
              "    </tr>\n",
              "    <tr>\n",
              "      <th>49</th>\n",
              "      <td>FIN Flag Count</td>\n",
              "      <td>0.153056</td>\n",
              "    </tr>\n",
              "    <tr>\n",
              "      <th>50</th>\n",
              "      <td>Idle Max</td>\n",
              "      <td>0.141416</td>\n",
              "    </tr>\n",
              "    <tr>\n",
              "      <th>51</th>\n",
              "      <td>Idle Std</td>\n",
              "      <td>0.136057</td>\n",
              "    </tr>\n",
              "    <tr>\n",
              "      <th>52</th>\n",
              "      <td>Avg Bwd Segment Size</td>\n",
              "      <td>0.132336</td>\n",
              "    </tr>\n",
              "    <tr>\n",
              "      <th>53</th>\n",
              "      <td>Active Mean</td>\n",
              "      <td>0.127978</td>\n",
              "    </tr>\n",
              "    <tr>\n",
              "      <th>54</th>\n",
              "      <td>Min Packet Length</td>\n",
              "      <td>0.121850</td>\n",
              "    </tr>\n",
              "    <tr>\n",
              "      <th>55</th>\n",
              "      <td>Bwd IAT Max</td>\n",
              "      <td>0.094607</td>\n",
              "    </tr>\n",
              "    <tr>\n",
              "      <th>56</th>\n",
              "      <td>Idle Mean</td>\n",
              "      <td>0.079936</td>\n",
              "    </tr>\n",
              "    <tr>\n",
              "      <th>57</th>\n",
              "      <td>Subflow Bwd Packets</td>\n",
              "      <td>0.077949</td>\n",
              "    </tr>\n",
              "    <tr>\n",
              "      <th>58</th>\n",
              "      <td>Subflow Bwd Bytes</td>\n",
              "      <td>0.071684</td>\n",
              "    </tr>\n",
              "    <tr>\n",
              "      <th>59</th>\n",
              "      <td>Subflow Fwd Packets</td>\n",
              "      <td>0.064771</td>\n",
              "    </tr>\n",
              "    <tr>\n",
              "      <th>60</th>\n",
              "      <td>Fwd PSH Flags</td>\n",
              "      <td>0.041041</td>\n",
              "    </tr>\n",
              "    <tr>\n",
              "      <th>61</th>\n",
              "      <td>Active Min</td>\n",
              "      <td>0.021164</td>\n",
              "    </tr>\n",
              "    <tr>\n",
              "      <th>62</th>\n",
              "      <td>Active Max</td>\n",
              "      <td>0.012472</td>\n",
              "    </tr>\n",
              "    <tr>\n",
              "      <th>63</th>\n",
              "      <td>Packet Length Variance</td>\n",
              "      <td>0.007825</td>\n",
              "    </tr>\n",
              "    <tr>\n",
              "      <th>64</th>\n",
              "      <td>Fwd Header Length.1</td>\n",
              "      <td>0.000076</td>\n",
              "    </tr>\n",
              "    <tr>\n",
              "      <th>65</th>\n",
              "      <td>Fwd URG Flags</td>\n",
              "      <td>0.000023</td>\n",
              "    </tr>\n",
              "    <tr>\n",
              "      <th>66</th>\n",
              "      <td>CWE Flag Count</td>\n",
              "      <td>0.000013</td>\n",
              "    </tr>\n",
              "    <tr>\n",
              "      <th>67</th>\n",
              "      <td>ECE Flag Count</td>\n",
              "      <td>0.000000</td>\n",
              "    </tr>\n",
              "    <tr>\n",
              "      <th>68</th>\n",
              "      <td>Bwd Avg Bulk Rate</td>\n",
              "      <td>0.000000</td>\n",
              "    </tr>\n",
              "    <tr>\n",
              "      <th>69</th>\n",
              "      <td>Bwd Avg Packets/Bulk</td>\n",
              "      <td>0.000000</td>\n",
              "    </tr>\n",
              "    <tr>\n",
              "      <th>70</th>\n",
              "      <td>Bwd URG Flags</td>\n",
              "      <td>0.000000</td>\n",
              "    </tr>\n",
              "    <tr>\n",
              "      <th>71</th>\n",
              "      <td>Bwd PSH Flags</td>\n",
              "      <td>0.000000</td>\n",
              "    </tr>\n",
              "    <tr>\n",
              "      <th>72</th>\n",
              "      <td>Bwd Avg Bytes/Bulk</td>\n",
              "      <td>0.000000</td>\n",
              "    </tr>\n",
              "    <tr>\n",
              "      <th>73</th>\n",
              "      <td>Fwd Avg Bulk Rate</td>\n",
              "      <td>0.000000</td>\n",
              "    </tr>\n",
              "    <tr>\n",
              "      <th>74</th>\n",
              "      <td>Fwd Avg Packets/Bulk</td>\n",
              "      <td>0.000000</td>\n",
              "    </tr>\n",
              "    <tr>\n",
              "      <th>75</th>\n",
              "      <td>Fwd Avg Bytes/Bulk</td>\n",
              "      <td>0.000000</td>\n",
              "    </tr>\n",
              "    <tr>\n",
              "      <th>76</th>\n",
              "      <td>SYN Flag Count</td>\n",
              "      <td>0.000000</td>\n",
              "    </tr>\n",
              "    <tr>\n",
              "      <th>77</th>\n",
              "      <td>RST Flag Count</td>\n",
              "      <td>0.000000</td>\n",
              "    </tr>\n",
              "  </tbody>\n",
              "</table>\n",
              "</div>\n",
              "    <div class=\"colab-df-buttons\">\n",
              "\n",
              "  <div class=\"colab-df-container\">\n",
              "    <button class=\"colab-df-convert\" onclick=\"convertToInteractive('df-9741e58a-ea13-4fe4-94e2-540c38f69262')\"\n",
              "            title=\"Convert this dataframe to an interactive table.\"\n",
              "            style=\"display:none;\">\n",
              "\n",
              "  <svg xmlns=\"http://www.w3.org/2000/svg\" height=\"24px\" viewBox=\"0 -960 960 960\">\n",
              "    <path d=\"M120-120v-720h720v720H120Zm60-500h600v-160H180v160Zm220 220h160v-160H400v160Zm0 220h160v-160H400v160ZM180-400h160v-160H180v160Zm440 0h160v-160H620v160ZM180-180h160v-160H180v160Zm440 0h160v-160H620v160Z\"/>\n",
              "  </svg>\n",
              "    </button>\n",
              "\n",
              "  <style>\n",
              "    .colab-df-container {\n",
              "      display:flex;\n",
              "      gap: 12px;\n",
              "    }\n",
              "\n",
              "    .colab-df-convert {\n",
              "      background-color: #E8F0FE;\n",
              "      border: none;\n",
              "      border-radius: 50%;\n",
              "      cursor: pointer;\n",
              "      display: none;\n",
              "      fill: #1967D2;\n",
              "      height: 32px;\n",
              "      padding: 0 0 0 0;\n",
              "      width: 32px;\n",
              "    }\n",
              "\n",
              "    .colab-df-convert:hover {\n",
              "      background-color: #E2EBFA;\n",
              "      box-shadow: 0px 1px 2px rgba(60, 64, 67, 0.3), 0px 1px 3px 1px rgba(60, 64, 67, 0.15);\n",
              "      fill: #174EA6;\n",
              "    }\n",
              "\n",
              "    .colab-df-buttons div {\n",
              "      margin-bottom: 4px;\n",
              "    }\n",
              "\n",
              "    [theme=dark] .colab-df-convert {\n",
              "      background-color: #3B4455;\n",
              "      fill: #D2E3FC;\n",
              "    }\n",
              "\n",
              "    [theme=dark] .colab-df-convert:hover {\n",
              "      background-color: #434B5C;\n",
              "      box-shadow: 0px 1px 3px 1px rgba(0, 0, 0, 0.15);\n",
              "      filter: drop-shadow(0px 1px 2px rgba(0, 0, 0, 0.3));\n",
              "      fill: #FFFFFF;\n",
              "    }\n",
              "  </style>\n",
              "\n",
              "    <script>\n",
              "      const buttonEl =\n",
              "        document.querySelector('#df-9741e58a-ea13-4fe4-94e2-540c38f69262 button.colab-df-convert');\n",
              "      buttonEl.style.display =\n",
              "        google.colab.kernel.accessAllowed ? 'block' : 'none';\n",
              "\n",
              "      async function convertToInteractive(key) {\n",
              "        const element = document.querySelector('#df-9741e58a-ea13-4fe4-94e2-540c38f69262');\n",
              "        const dataTable =\n",
              "          await google.colab.kernel.invokeFunction('convertToInteractive',\n",
              "                                                    [key], {});\n",
              "        if (!dataTable) return;\n",
              "\n",
              "        const docLinkHtml = 'Like what you see? Visit the ' +\n",
              "          '<a target=\"_blank\" href=https://colab.research.google.com/notebooks/data_table.ipynb>data table notebook</a>'\n",
              "          + ' to learn more about interactive tables.';\n",
              "        element.innerHTML = '';\n",
              "        dataTable['output_type'] = 'display_data';\n",
              "        await google.colab.output.renderOutput(dataTable, element);\n",
              "        const docLink = document.createElement('div');\n",
              "        docLink.innerHTML = docLinkHtml;\n",
              "        element.appendChild(docLink);\n",
              "      }\n",
              "    </script>\n",
              "  </div>\n",
              "\n",
              "\n",
              "<div id=\"df-e05002a6-1d59-45a8-a895-599748070967\">\n",
              "  <button class=\"colab-df-quickchart\" onclick=\"quickchart('df-e05002a6-1d59-45a8-a895-599748070967')\"\n",
              "            title=\"Suggest charts.\"\n",
              "            style=\"display:none;\">\n",
              "\n",
              "<svg xmlns=\"http://www.w3.org/2000/svg\" height=\"24px\"viewBox=\"0 0 24 24\"\n",
              "     width=\"24px\">\n",
              "    <g>\n",
              "        <path d=\"M19 3H5c-1.1 0-2 .9-2 2v14c0 1.1.9 2 2 2h14c1.1 0 2-.9 2-2V5c0-1.1-.9-2-2-2zM9 17H7v-7h2v7zm4 0h-2V7h2v10zm4 0h-2v-4h2v4z\"/>\n",
              "    </g>\n",
              "</svg>\n",
              "  </button>\n",
              "\n",
              "<style>\n",
              "  .colab-df-quickchart {\n",
              "      --bg-color: #E8F0FE;\n",
              "      --fill-color: #1967D2;\n",
              "      --hover-bg-color: #E2EBFA;\n",
              "      --hover-fill-color: #174EA6;\n",
              "      --disabled-fill-color: #AAA;\n",
              "      --disabled-bg-color: #DDD;\n",
              "  }\n",
              "\n",
              "  [theme=dark] .colab-df-quickchart {\n",
              "      --bg-color: #3B4455;\n",
              "      --fill-color: #D2E3FC;\n",
              "      --hover-bg-color: #434B5C;\n",
              "      --hover-fill-color: #FFFFFF;\n",
              "      --disabled-bg-color: #3B4455;\n",
              "      --disabled-fill-color: #666;\n",
              "  }\n",
              "\n",
              "  .colab-df-quickchart {\n",
              "    background-color: var(--bg-color);\n",
              "    border: none;\n",
              "    border-radius: 50%;\n",
              "    cursor: pointer;\n",
              "    display: none;\n",
              "    fill: var(--fill-color);\n",
              "    height: 32px;\n",
              "    padding: 0;\n",
              "    width: 32px;\n",
              "  }\n",
              "\n",
              "  .colab-df-quickchart:hover {\n",
              "    background-color: var(--hover-bg-color);\n",
              "    box-shadow: 0 1px 2px rgba(60, 64, 67, 0.3), 0 1px 3px 1px rgba(60, 64, 67, 0.15);\n",
              "    fill: var(--button-hover-fill-color);\n",
              "  }\n",
              "\n",
              "  .colab-df-quickchart-complete:disabled,\n",
              "  .colab-df-quickchart-complete:disabled:hover {\n",
              "    background-color: var(--disabled-bg-color);\n",
              "    fill: var(--disabled-fill-color);\n",
              "    box-shadow: none;\n",
              "  }\n",
              "\n",
              "  .colab-df-spinner {\n",
              "    border: 2px solid var(--fill-color);\n",
              "    border-color: transparent;\n",
              "    border-bottom-color: var(--fill-color);\n",
              "    animation:\n",
              "      spin 1s steps(1) infinite;\n",
              "  }\n",
              "\n",
              "  @keyframes spin {\n",
              "    0% {\n",
              "      border-color: transparent;\n",
              "      border-bottom-color: var(--fill-color);\n",
              "      border-left-color: var(--fill-color);\n",
              "    }\n",
              "    20% {\n",
              "      border-color: transparent;\n",
              "      border-left-color: var(--fill-color);\n",
              "      border-top-color: var(--fill-color);\n",
              "    }\n",
              "    30% {\n",
              "      border-color: transparent;\n",
              "      border-left-color: var(--fill-color);\n",
              "      border-top-color: var(--fill-color);\n",
              "      border-right-color: var(--fill-color);\n",
              "    }\n",
              "    40% {\n",
              "      border-color: transparent;\n",
              "      border-right-color: var(--fill-color);\n",
              "      border-top-color: var(--fill-color);\n",
              "    }\n",
              "    60% {\n",
              "      border-color: transparent;\n",
              "      border-right-color: var(--fill-color);\n",
              "    }\n",
              "    80% {\n",
              "      border-color: transparent;\n",
              "      border-right-color: var(--fill-color);\n",
              "      border-bottom-color: var(--fill-color);\n",
              "    }\n",
              "    90% {\n",
              "      border-color: transparent;\n",
              "      border-bottom-color: var(--fill-color);\n",
              "    }\n",
              "  }\n",
              "</style>\n",
              "\n",
              "  <script>\n",
              "    async function quickchart(key) {\n",
              "      const quickchartButtonEl =\n",
              "        document.querySelector('#' + key + ' button');\n",
              "      quickchartButtonEl.disabled = true;  // To prevent multiple clicks.\n",
              "      quickchartButtonEl.classList.add('colab-df-spinner');\n",
              "      try {\n",
              "        const charts = await google.colab.kernel.invokeFunction(\n",
              "            'suggestCharts', [key], {});\n",
              "      } catch (error) {\n",
              "        console.error('Error during call to suggestCharts:', error);\n",
              "      }\n",
              "      quickchartButtonEl.classList.remove('colab-df-spinner');\n",
              "      quickchartButtonEl.classList.add('colab-df-quickchart-complete');\n",
              "    }\n",
              "    (() => {\n",
              "      let quickchartButtonEl =\n",
              "        document.querySelector('#df-e05002a6-1d59-45a8-a895-599748070967 button');\n",
              "      quickchartButtonEl.style.display =\n",
              "        google.colab.kernel.accessAllowed ? 'block' : 'none';\n",
              "    })();\n",
              "  </script>\n",
              "</div>\n",
              "    </div>\n",
              "  </div>\n"
            ]
          },
          "metadata": {},
          "execution_count": 23
        }
      ]
    },
    {
      "cell_type": "markdown",
      "source": [
        "Я провела эксперимент и начала удалять ненужные вроде стобцы, которые на последнем месте в importances.\n",
        "\n",
        "Вывод: если убирать вроде бы не нужные столбцы, то результат ухудшается"
      ],
      "metadata": {
        "id": "rSIQOATmkSeN"
      },
      "id": "rSIQOATmkSeN"
    },
    {
      "cell_type": "markdown",
      "metadata": {
        "id": "ef47b0ba"
      },
      "source": [
        "### Обучение модели"
      ],
      "id": "ef47b0ba"
    },
    {
      "cell_type": "markdown",
      "metadata": {
        "id": "605e335c"
      },
      "source": [
        "#### Масштабирование данных"
      ],
      "id": "605e335c"
    },
    {
      "cell_type": "code",
      "execution_count": 24,
      "metadata": {
        "id": "d91397da"
      },
      "outputs": [],
      "source": [
        "# кодируем признаки\n",
        "#!pip install -U scikit-learn\n",
        "\n",
        "col_transformer = ColumnTransformer(transformers=[('ss', StandardScaler(), numeric),('oe', OrdinalEncoder(), cat_columns)], remainder='drop')\n",
        "\n",
        "\n",
        "features_train_oe = col_transformer.fit_transform(features_train)\n",
        "\n"
      ],
      "id": "d91397da"
    },
    {
      "cell_type": "code",
      "source": [
        "#убираем выбросы\n",
        "features_train.shape\n",
        "\n",
        "for name, values in features_train[numeric].iteritems():\n",
        "  upper_lim = features_train[name].quantile(.95)\n",
        "  lower_lim = features_train[name].quantile(.05)\n",
        "  features_train.loc[(features_train[name] > upper_lim),name] = upper_lim\n",
        "  features_train.loc[(features_train[name] < lower_lim),name] = lower_lim\n",
        "\n",
        "features_train.shape"
      ],
      "metadata": {
        "colab": {
          "base_uri": "https://localhost:8080/"
        },
        "id": "WfSu9X8wMb23",
        "outputId": "87ad2994-3cd3-4158-c524-fdd3b25c1944"
      },
      "id": "WfSu9X8wMb23",
      "execution_count": 25,
      "outputs": [
        {
          "output_type": "execute_result",
          "data": {
            "text/plain": [
              "(303984, 78)"
            ]
          },
          "metadata": {},
          "execution_count": 25
        },
        {
          "output_type": "execute_result",
          "data": {
            "text/plain": [
              "(303984, 78)"
            ]
          },
          "metadata": {},
          "execution_count": 25
        }
      ]
    },
    {
      "cell_type": "markdown",
      "metadata": {
        "id": "11efac3c"
      },
      "source": [
        "#### Построение пайплайна"
      ],
      "id": "11efac3c"
    },
    {
      "cell_type": "code",
      "execution_count": 26,
      "metadata": {
        "id": "a86af239"
      },
      "outputs": [],
      "source": [
        "# pipe_kNN = Pipeline([('clf', KNeighborsClassifier())])\n",
        "\n",
        "# pipe_rfr = Pipeline([('clf', RandomForestClassifier(random_state=12345, class_weight='balanced'))])\n",
        "\n",
        "# pipe_lgbm = Pipeline([('clf', LGBMClassifier(boosting_type='gbdt'))])\n",
        "\n",
        "\n",
        "\n"
      ],
      "id": "a86af239"
    },
    {
      "cell_type": "code",
      "execution_count": 27,
      "metadata": {
        "id": "8838dac3"
      },
      "outputs": [],
      "source": [
        "# grid_params_cbc = [{'clf__n_neighbors': range(3,8,2)}]\n",
        "\n",
        "# grid_params_rfr = [{'clf__max_depth': range(5,13,2), 'clf__n_estimators': range(100, 260, 50)}]\n",
        "\n",
        "# grid_params_lgbm = [{'clf__max_depth': range(1,10,2),\n",
        "#                      'clf__n_estimators': range(10, 100, 30),\n",
        "#                      'clf__num_leaves': range(1,5,2)}]\n",
        "\n",
        "# kNN = GridSearchCV(estimator=pipe_kNN,\n",
        "#                    param_grid=grid_params_cbc,\n",
        "#                    scoring='f1_macro',\n",
        "#                    cv=5,\n",
        "#                    verbose=3)\n",
        "\n",
        "# RFR = GridSearchCV(estimator=pipe_rfr,\n",
        "#                    param_grid=grid_params_rfr,\n",
        "#                    scoring='f1_macro',\n",
        "#                    cv=5,\n",
        "#                    verbose=3)\n",
        "\n",
        "# LGBM = GridSearchCV(estimator=pipe_lgbm,\n",
        "#                     param_grid=grid_params_lgbm,\n",
        "#                     scoring='f1_macro',\n",
        "#                     cv=5,\n",
        "#                     verbose=3)\n",
        "\n",
        "# grids = [kNN, LGBM, RFR]\n",
        "\n",
        "# grid_dict = {0: 'kNN',\n",
        "#              1: 'LGBMClassifier',\n",
        "#              2: 'RandomForestC'}"
      ],
      "id": "8838dac3"
    },
    {
      "cell_type": "code",
      "execution_count": 27,
      "metadata": {
        "id": "ONKYSM4s_BFU"
      },
      "outputs": [],
      "source": [
        "# print('Performing model optimizations...')\n",
        "# best_acc = -100.0\n",
        "# best_clf = 0\n",
        "# best_gs = ''\n",
        "# for idx, gs in enumerate(grids):\n",
        "#     print('\\nEstimator: %s' % grid_dict[idx])\n",
        "#     gs.fit(features_train, target_train)\n",
        "#     print('Best params are : %s' % gs.best_params_)\n",
        "#     print('Best training accuracy: %.3f' % gs.best_score_)\n",
        "#     if  gs.best_score_ > best_acc:\n",
        "#         best_acc = gs.best_score_\n",
        "#         best_gs = gs\n",
        "#         best_clf = idx\n",
        "#         best_param = gs.best_params_\n",
        "\n",
        "# print('\\nClassifier with best test set accuracy: %s' % grid_dict[best_clf])"
      ],
      "id": "ONKYSM4s_BFU"
    },
    {
      "cell_type": "markdown",
      "source": [
        "По итогам прогона paip, лучшие результаты из этих моделей показала модель случайного леса.\n",
        "\n",
        "Я заккоментировала ячейки, так как очень долго идет перебор гиперпараметров."
      ],
      "metadata": {
        "id": "I7InTeQRx2oW"
      },
      "id": "I7InTeQRx2oW"
    },
    {
      "cell_type": "markdown",
      "metadata": {
        "id": "b63e1090"
      },
      "source": [
        "#### Улучшаем модель"
      ],
      "id": "b63e1090"
    },
    {
      "cell_type": "code",
      "execution_count": 28,
      "metadata": {
        "id": "36902b15",
        "colab": {
          "base_uri": "https://localhost:8080/",
          "height": 92
        },
        "outputId": "07555110-87f3-4cbf-b44f-c47d95a16171"
      },
      "outputs": [
        {
          "output_type": "execute_result",
          "data": {
            "text/plain": [
              "RandomForestClassifier(class_weight='balanced', max_depth=20, n_estimators=400,\n",
              "                       random_state=12345)"
            ],
            "text/html": [
              "<style>#sk-container-id-1 {color: black;background-color: white;}#sk-container-id-1 pre{padding: 0;}#sk-container-id-1 div.sk-toggleable {background-color: white;}#sk-container-id-1 label.sk-toggleable__label {cursor: pointer;display: block;width: 100%;margin-bottom: 0;padding: 0.3em;box-sizing: border-box;text-align: center;}#sk-container-id-1 label.sk-toggleable__label-arrow:before {content: \"▸\";float: left;margin-right: 0.25em;color: #696969;}#sk-container-id-1 label.sk-toggleable__label-arrow:hover:before {color: black;}#sk-container-id-1 div.sk-estimator:hover label.sk-toggleable__label-arrow:before {color: black;}#sk-container-id-1 div.sk-toggleable__content {max-height: 0;max-width: 0;overflow: hidden;text-align: left;background-color: #f0f8ff;}#sk-container-id-1 div.sk-toggleable__content pre {margin: 0.2em;color: black;border-radius: 0.25em;background-color: #f0f8ff;}#sk-container-id-1 input.sk-toggleable__control:checked~div.sk-toggleable__content {max-height: 200px;max-width: 100%;overflow: auto;}#sk-container-id-1 input.sk-toggleable__control:checked~label.sk-toggleable__label-arrow:before {content: \"▾\";}#sk-container-id-1 div.sk-estimator input.sk-toggleable__control:checked~label.sk-toggleable__label {background-color: #d4ebff;}#sk-container-id-1 div.sk-label input.sk-toggleable__control:checked~label.sk-toggleable__label {background-color: #d4ebff;}#sk-container-id-1 input.sk-hidden--visually {border: 0;clip: rect(1px 1px 1px 1px);clip: rect(1px, 1px, 1px, 1px);height: 1px;margin: -1px;overflow: hidden;padding: 0;position: absolute;width: 1px;}#sk-container-id-1 div.sk-estimator {font-family: monospace;background-color: #f0f8ff;border: 1px dotted black;border-radius: 0.25em;box-sizing: border-box;margin-bottom: 0.5em;}#sk-container-id-1 div.sk-estimator:hover {background-color: #d4ebff;}#sk-container-id-1 div.sk-parallel-item::after {content: \"\";width: 100%;border-bottom: 1px solid gray;flex-grow: 1;}#sk-container-id-1 div.sk-label:hover label.sk-toggleable__label {background-color: #d4ebff;}#sk-container-id-1 div.sk-serial::before {content: \"\";position: absolute;border-left: 1px solid gray;box-sizing: border-box;top: 0;bottom: 0;left: 50%;z-index: 0;}#sk-container-id-1 div.sk-serial {display: flex;flex-direction: column;align-items: center;background-color: white;padding-right: 0.2em;padding-left: 0.2em;position: relative;}#sk-container-id-1 div.sk-item {position: relative;z-index: 1;}#sk-container-id-1 div.sk-parallel {display: flex;align-items: stretch;justify-content: center;background-color: white;position: relative;}#sk-container-id-1 div.sk-item::before, #sk-container-id-1 div.sk-parallel-item::before {content: \"\";position: absolute;border-left: 1px solid gray;box-sizing: border-box;top: 0;bottom: 0;left: 50%;z-index: -1;}#sk-container-id-1 div.sk-parallel-item {display: flex;flex-direction: column;z-index: 1;position: relative;background-color: white;}#sk-container-id-1 div.sk-parallel-item:first-child::after {align-self: flex-end;width: 50%;}#sk-container-id-1 div.sk-parallel-item:last-child::after {align-self: flex-start;width: 50%;}#sk-container-id-1 div.sk-parallel-item:only-child::after {width: 0;}#sk-container-id-1 div.sk-dashed-wrapped {border: 1px dashed gray;margin: 0 0.4em 0.5em 0.4em;box-sizing: border-box;padding-bottom: 0.4em;background-color: white;}#sk-container-id-1 div.sk-label label {font-family: monospace;font-weight: bold;display: inline-block;line-height: 1.2em;}#sk-container-id-1 div.sk-label-container {text-align: center;}#sk-container-id-1 div.sk-container {/* jupyter's `normalize.less` sets `[hidden] { display: none; }` but bootstrap.min.css set `[hidden] { display: none !important; }` so we also need the `!important` here to be able to override the default hidden behavior on the sphinx rendered scikit-learn.org. See: https://github.com/scikit-learn/scikit-learn/issues/21755 */display: inline-block !important;position: relative;}#sk-container-id-1 div.sk-text-repr-fallback {display: none;}</style><div id=\"sk-container-id-1\" class=\"sk-top-container\"><div class=\"sk-text-repr-fallback\"><pre>RandomForestClassifier(class_weight=&#x27;balanced&#x27;, max_depth=20, n_estimators=400,\n",
              "                       random_state=12345)</pre><b>In a Jupyter environment, please rerun this cell to show the HTML representation or trust the notebook. <br />On GitHub, the HTML representation is unable to render, please try loading this page with nbviewer.org.</b></div><div class=\"sk-container\" hidden><div class=\"sk-item\"><div class=\"sk-estimator sk-toggleable\"><input class=\"sk-toggleable__control sk-hidden--visually\" id=\"sk-estimator-id-1\" type=\"checkbox\" checked><label for=\"sk-estimator-id-1\" class=\"sk-toggleable__label sk-toggleable__label-arrow\">RandomForestClassifier</label><div class=\"sk-toggleable__content\"><pre>RandomForestClassifier(class_weight=&#x27;balanced&#x27;, max_depth=20, n_estimators=400,\n",
              "                       random_state=12345)</pre></div></div></div></div></div>"
            ]
          },
          "metadata": {},
          "execution_count": 28
        }
      ],
      "source": [
        "model_rfc=RandomForestClassifier(max_depth=20,\n",
        "                                 n_estimators=400,\n",
        "                                 random_state=12345,\n",
        "                                 class_weight='balanced')\n",
        "\n",
        "model_rfc.fit(features_train, target_train)\n",
        "\n"
      ],
      "id": "36902b15"
    },
    {
      "cell_type": "code",
      "execution_count": 29,
      "metadata": {
        "id": "58bcc14c",
        "colab": {
          "base_uri": "https://localhost:8080/"
        },
        "outputId": "d2d4fa1b-2fb2-4fae-c28e-0fd05b1ba234"
      },
      "outputs": [
        {
          "output_type": "stream",
          "name": "stdout",
          "text": [
            "Accuracy_RFC: 0.995749776304016\n",
            "F1_macro_RFC: 0.9005823501827143\n",
            "                            precision    recall  f1-score   support\n",
            "\n",
            "                    BENIGN       1.00      1.00      1.00     37244\n",
            "                  PortScan       0.72      0.99      0.83       312\n",
            "                  DoS Hulk       1.00      1.00      1.00     10298\n",
            "                      DDoS       1.00      1.00      1.00      1646\n",
            "                       Bot       1.00      1.00      1.00     13960\n",
            "              Infiltration       1.00      0.99      1.00       836\n",
            "  Web Attack � Brute Force       1.00      0.99      0.99       862\n",
            "          Web Attack � XSS       1.00      1.00      1.00       949\n",
            "Web Attack � Sql Injection       1.00      1.00      1.00         2\n",
            "               FTP-Patator       1.00      1.00      1.00         6\n",
            "               SSH-Patator       1.00      1.00      1.00      9024\n",
            "             DoS slowloris       1.00      1.00      1.00       515\n",
            "          DoS Slowhttptest       0.76      0.76      0.76       235\n",
            "             DoS GoldenEye       1.00      0.33      0.50         3\n",
            "                Heartbleed       0.43      0.44      0.43       104\n",
            "\n",
            "                  accuracy                           1.00     75996\n",
            "                 macro avg       0.93      0.90      0.90     75996\n",
            "              weighted avg       1.00      1.00      1.00     75996\n",
            "\n"
          ]
        }
      ],
      "source": [
        "preds = model_rfc.predict(features_val)\n",
        "\n",
        "print (\"Accuracy_RFC:\",accuracy_score(target_val, preds))\n",
        "print (\"F1_macro_RFC:\", f1_score(target_val, preds, average='macro'))\n",
        "\n",
        "\n",
        "\n",
        "target_names = ['BENIGN', 'PortScan', 'DoS Hulk', 'DDoS', 'Bot', 'Infiltration', 'Web Attack � Brute Force', 'Web Attack � XSS',\n",
        "                'Web Attack � Sql Injection', 'FTP-Patator', 'SSH-Patator','DoS slowloris', 'DoS Slowhttptest', 'DoS GoldenEye', 'Heartbleed']\n",
        "\n",
        "print(classification_report(target_val, preds, target_names=target_names))"
      ],
      "id": "58bcc14c"
    },
    {
      "cell_type": "code",
      "source": [
        "# улучшаем CatBOOst\n",
        "\n",
        "model_bas_cb = CatBoostClassifier(task_type=\"GPU\",\n",
        "                                  random_state=12345,\n",
        "                                  learning_rate=0.15,\n",
        "                                  custom_loss=['F1', 'Accuracy'],\n",
        "                                  )\n",
        "\n",
        "model_bas_cb.fit(features_train, target_train,\n",
        "                 eval_set=(features_train, target_train),\n",
        "                 verbose=3)\n",
        "\n",
        "print(model_bas_cb.get_all_params())"
      ],
      "metadata": {
        "colab": {
          "base_uri": "https://localhost:8080/"
        },
        "id": "0mX53wLEKHCH",
        "outputId": "bbe8f33a-138a-4fe5-facc-688d66ce1ea1"
      },
      "id": "0mX53wLEKHCH",
      "execution_count": 38,
      "outputs": [
        {
          "output_type": "stream",
          "name": "stdout",
          "text": [
            "0:\tlearn: 1.0999364\ttest: 1.0999364\tbest: 1.0999364 (0)\ttotal: 83.4ms\tremaining: 1m 23s\n",
            "3:\tlearn: 0.5926071\ttest: 0.5926070\tbest: 0.5926070 (3)\ttotal: 304ms\tremaining: 1m 15s\n",
            "6:\tlearn: 0.3759915\ttest: 0.3759915\tbest: 0.3759915 (6)\ttotal: 453ms\tremaining: 1m 4s\n",
            "9:\tlearn: 0.2584059\ttest: 0.2584059\tbest: 0.2584059 (9)\ttotal: 583ms\tremaining: 57.7s\n",
            "12:\tlearn: 0.1845243\ttest: 0.1845243\tbest: 0.1845243 (12)\ttotal: 709ms\tremaining: 53.8s\n",
            "15:\tlearn: 0.1386106\ttest: 0.1386106\tbest: 0.1386106 (15)\ttotal: 831ms\tremaining: 51.1s\n",
            "18:\tlearn: 0.1089521\ttest: 0.1089522\tbest: 0.1089522 (18)\ttotal: 951ms\tremaining: 49.1s\n",
            "21:\tlearn: 0.0834781\ttest: 0.0834781\tbest: 0.0834781 (21)\ttotal: 1.09s\tremaining: 48.3s\n",
            "24:\tlearn: 0.0678864\ttest: 0.0678864\tbest: 0.0678864 (24)\ttotal: 1.2s\tremaining: 47s\n",
            "27:\tlearn: 0.0570679\ttest: 0.0570680\tbest: 0.0570680 (27)\ttotal: 1.32s\tremaining: 46s\n",
            "30:\tlearn: 0.0479039\ttest: 0.0479039\tbest: 0.0479039 (30)\ttotal: 1.47s\tremaining: 45.9s\n",
            "33:\tlearn: 0.0425349\ttest: 0.0425349\tbest: 0.0425349 (33)\ttotal: 1.58s\tremaining: 45s\n",
            "36:\tlearn: 0.0370978\ttest: 0.0370978\tbest: 0.0370978 (36)\ttotal: 1.72s\tremaining: 44.8s\n",
            "39:\tlearn: 0.0340664\ttest: 0.0340664\tbest: 0.0340664 (39)\ttotal: 1.84s\tremaining: 44.3s\n",
            "42:\tlearn: 0.0310943\ttest: 0.0310943\tbest: 0.0310943 (42)\ttotal: 1.96s\tremaining: 43.7s\n",
            "45:\tlearn: 0.0291507\ttest: 0.0291507\tbest: 0.0291507 (45)\ttotal: 2.09s\tremaining: 43.3s\n",
            "48:\tlearn: 0.0268434\ttest: 0.0268434\tbest: 0.0268434 (48)\ttotal: 2.2s\tremaining: 42.7s\n",
            "51:\tlearn: 0.0254052\ttest: 0.0254052\tbest: 0.0254052 (51)\ttotal: 2.32s\tremaining: 42.3s\n",
            "54:\tlearn: 0.0238505\ttest: 0.0238505\tbest: 0.0238505 (54)\ttotal: 2.45s\tremaining: 42.2s\n",
            "57:\tlearn: 0.0224670\ttest: 0.0224670\tbest: 0.0224670 (57)\ttotal: 2.57s\tremaining: 41.8s\n",
            "60:\tlearn: 0.0215536\ttest: 0.0215536\tbest: 0.0215536 (60)\ttotal: 2.71s\tremaining: 41.6s\n",
            "63:\tlearn: 0.0204260\ttest: 0.0204260\tbest: 0.0204260 (63)\ttotal: 2.82s\tremaining: 41.3s\n",
            "66:\tlearn: 0.0195301\ttest: 0.0195301\tbest: 0.0195301 (66)\ttotal: 3s\tremaining: 41.8s\n",
            "69:\tlearn: 0.0189876\ttest: 0.0189876\tbest: 0.0189876 (69)\ttotal: 3.43s\tremaining: 45.5s\n",
            "72:\tlearn: 0.0182756\ttest: 0.0182756\tbest: 0.0182756 (72)\ttotal: 4.08s\tremaining: 51.8s\n",
            "75:\tlearn: 0.0176119\ttest: 0.0176119\tbest: 0.0176119 (75)\ttotal: 4.9s\tremaining: 59.6s\n",
            "78:\tlearn: 0.0170054\ttest: 0.0170054\tbest: 0.0170054 (78)\ttotal: 5.66s\tremaining: 1m 6s\n",
            "81:\tlearn: 0.0163909\ttest: 0.0163909\tbest: 0.0163909 (81)\ttotal: 6.59s\tremaining: 1m 13s\n",
            "84:\tlearn: 0.0158924\ttest: 0.0158924\tbest: 0.0158924 (84)\ttotal: 7.4s\tremaining: 1m 19s\n",
            "87:\tlearn: 0.0154821\ttest: 0.0154821\tbest: 0.0154821 (87)\ttotal: 8s\tremaining: 1m 22s\n",
            "90:\tlearn: 0.0149062\ttest: 0.0149062\tbest: 0.0149062 (90)\ttotal: 8.46s\tremaining: 1m 24s\n",
            "93:\tlearn: 0.0143893\ttest: 0.0143893\tbest: 0.0143893 (93)\ttotal: 8.78s\tremaining: 1m 24s\n",
            "96:\tlearn: 0.0140132\ttest: 0.0140132\tbest: 0.0140132 (96)\ttotal: 9.16s\tremaining: 1m 25s\n",
            "99:\tlearn: 0.0137410\ttest: 0.0137410\tbest: 0.0137410 (99)\ttotal: 9.44s\tremaining: 1m 24s\n",
            "102:\tlearn: 0.0134186\ttest: 0.0134186\tbest: 0.0134186 (102)\ttotal: 9.77s\tremaining: 1m 25s\n",
            "105:\tlearn: 0.0132094\ttest: 0.0132094\tbest: 0.0132094 (105)\ttotal: 10s\tremaining: 1m 24s\n",
            "108:\tlearn: 0.0128730\ttest: 0.0128730\tbest: 0.0128730 (108)\ttotal: 10.3s\tremaining: 1m 24s\n",
            "111:\tlearn: 0.0126493\ttest: 0.0126493\tbest: 0.0126493 (111)\ttotal: 10.6s\tremaining: 1m 24s\n",
            "114:\tlearn: 0.0124345\ttest: 0.0124345\tbest: 0.0124345 (114)\ttotal: 11.1s\tremaining: 1m 25s\n",
            "117:\tlearn: 0.0121296\ttest: 0.0121296\tbest: 0.0121296 (117)\ttotal: 11.3s\tremaining: 1m 24s\n",
            "120:\tlearn: 0.0118041\ttest: 0.0118041\tbest: 0.0118041 (120)\ttotal: 11.4s\tremaining: 1m 23s\n",
            "123:\tlearn: 0.0116267\ttest: 0.0116267\tbest: 0.0116267 (123)\ttotal: 11.6s\tremaining: 1m 21s\n",
            "126:\tlearn: 0.0114571\ttest: 0.0114571\tbest: 0.0114571 (126)\ttotal: 11.7s\tremaining: 1m 20s\n",
            "129:\tlearn: 0.0112565\ttest: 0.0112565\tbest: 0.0112565 (129)\ttotal: 11.8s\tremaining: 1m 19s\n",
            "132:\tlearn: 0.0111073\ttest: 0.0111073\tbest: 0.0111073 (132)\ttotal: 11.9s\tremaining: 1m 17s\n",
            "135:\tlearn: 0.0109734\ttest: 0.0109734\tbest: 0.0109734 (135)\ttotal: 12.1s\tremaining: 1m 16s\n",
            "138:\tlearn: 0.0107646\ttest: 0.0107646\tbest: 0.0107646 (138)\ttotal: 12.2s\tremaining: 1m 15s\n",
            "141:\tlearn: 0.0105976\ttest: 0.0105976\tbest: 0.0105976 (141)\ttotal: 12.3s\tremaining: 1m 14s\n",
            "144:\tlearn: 0.0104289\ttest: 0.0104289\tbest: 0.0104289 (144)\ttotal: 12.4s\tremaining: 1m 13s\n",
            "147:\tlearn: 0.0103194\ttest: 0.0103194\tbest: 0.0103194 (147)\ttotal: 12.5s\tremaining: 1m 12s\n",
            "150:\tlearn: 0.0101770\ttest: 0.0101770\tbest: 0.0101770 (150)\ttotal: 12.7s\tremaining: 1m 11s\n",
            "153:\tlearn: 0.0100902\ttest: 0.0100902\tbest: 0.0100902 (153)\ttotal: 12.8s\tremaining: 1m 10s\n",
            "156:\tlearn: 0.0099874\ttest: 0.0099874\tbest: 0.0099874 (156)\ttotal: 12.9s\tremaining: 1m 9s\n",
            "159:\tlearn: 0.0098492\ttest: 0.0098492\tbest: 0.0098492 (159)\ttotal: 13s\tremaining: 1m 8s\n",
            "162:\tlearn: 0.0096924\ttest: 0.0096924\tbest: 0.0096924 (162)\ttotal: 13.2s\tremaining: 1m 7s\n",
            "165:\tlearn: 0.0096376\ttest: 0.0096376\tbest: 0.0096376 (165)\ttotal: 13.3s\tremaining: 1m 6s\n",
            "168:\tlearn: 0.0095592\ttest: 0.0095592\tbest: 0.0095592 (168)\ttotal: 13.4s\tremaining: 1m 5s\n",
            "171:\tlearn: 0.0094945\ttest: 0.0094945\tbest: 0.0094945 (171)\ttotal: 13.6s\tremaining: 1m 5s\n",
            "174:\tlearn: 0.0094420\ttest: 0.0094420\tbest: 0.0094420 (174)\ttotal: 13.9s\tremaining: 1m 5s\n",
            "177:\tlearn: 0.0093706\ttest: 0.0093706\tbest: 0.0093706 (177)\ttotal: 14.1s\tremaining: 1m 5s\n",
            "180:\tlearn: 0.0093360\ttest: 0.0093360\tbest: 0.0093360 (180)\ttotal: 14.2s\tremaining: 1m 4s\n",
            "183:\tlearn: 0.0092421\ttest: 0.0092421\tbest: 0.0092421 (183)\ttotal: 14.4s\tremaining: 1m 3s\n",
            "186:\tlearn: 0.0091573\ttest: 0.0091573\tbest: 0.0091573 (186)\ttotal: 14.5s\tremaining: 1m 3s\n",
            "189:\tlearn: 0.0090683\ttest: 0.0090683\tbest: 0.0090683 (189)\ttotal: 14.7s\tremaining: 1m 2s\n",
            "192:\tlearn: 0.0090057\ttest: 0.0090057\tbest: 0.0090057 (192)\ttotal: 14.8s\tremaining: 1m 2s\n",
            "195:\tlearn: 0.0089667\ttest: 0.0089667\tbest: 0.0089667 (195)\ttotal: 15s\tremaining: 1m 1s\n",
            "198:\tlearn: 0.0089178\ttest: 0.0089178\tbest: 0.0089178 (198)\ttotal: 15.2s\tremaining: 1m 1s\n",
            "201:\tlearn: 0.0088418\ttest: 0.0088418\tbest: 0.0088418 (201)\ttotal: 15.3s\tremaining: 1m\n",
            "204:\tlearn: 0.0087483\ttest: 0.0087483\tbest: 0.0087483 (204)\ttotal: 15.4s\tremaining: 59.8s\n",
            "207:\tlearn: 0.0086747\ttest: 0.0086747\tbest: 0.0086747 (207)\ttotal: 15.6s\tremaining: 59.4s\n",
            "210:\tlearn: 0.0086174\ttest: 0.0086174\tbest: 0.0086174 (210)\ttotal: 15.7s\tremaining: 58.7s\n",
            "213:\tlearn: 0.0085757\ttest: 0.0085757\tbest: 0.0085757 (213)\ttotal: 15.9s\tremaining: 58.5s\n",
            "216:\tlearn: 0.0085413\ttest: 0.0085413\tbest: 0.0085413 (216)\ttotal: 16.1s\tremaining: 58s\n",
            "219:\tlearn: 0.0084663\ttest: 0.0084663\tbest: 0.0084663 (219)\ttotal: 16.2s\tremaining: 57.4s\n",
            "222:\tlearn: 0.0083936\ttest: 0.0083936\tbest: 0.0083936 (222)\ttotal: 16.4s\tremaining: 57.2s\n",
            "225:\tlearn: 0.0083527\ttest: 0.0083527\tbest: 0.0083527 (225)\ttotal: 16.6s\tremaining: 56.8s\n",
            "228:\tlearn: 0.0083007\ttest: 0.0083007\tbest: 0.0083007 (228)\ttotal: 16.7s\tremaining: 56.2s\n",
            "231:\tlearn: 0.0082520\ttest: 0.0082520\tbest: 0.0082520 (231)\ttotal: 16.9s\tremaining: 56s\n",
            "234:\tlearn: 0.0081538\ttest: 0.0081538\tbest: 0.0081538 (234)\ttotal: 17s\tremaining: 55.4s\n",
            "237:\tlearn: 0.0081273\ttest: 0.0081273\tbest: 0.0081273 (237)\ttotal: 17.2s\tremaining: 55.1s\n",
            "240:\tlearn: 0.0080784\ttest: 0.0080784\tbest: 0.0080784 (240)\ttotal: 17.3s\tremaining: 54.6s\n",
            "243:\tlearn: 0.0080303\ttest: 0.0080303\tbest: 0.0080303 (243)\ttotal: 17.5s\tremaining: 54.1s\n",
            "246:\tlearn: 0.0079933\ttest: 0.0079933\tbest: 0.0079933 (246)\ttotal: 17.7s\tremaining: 54s\n",
            "249:\tlearn: 0.0079658\ttest: 0.0079658\tbest: 0.0079658 (249)\ttotal: 18.1s\tremaining: 54.4s\n",
            "252:\tlearn: 0.0079304\ttest: 0.0079304\tbest: 0.0079304 (252)\ttotal: 18.6s\tremaining: 55.1s\n",
            "255:\tlearn: 0.0078989\ttest: 0.0078989\tbest: 0.0078989 (255)\ttotal: 19s\tremaining: 55.3s\n",
            "258:\tlearn: 0.0078527\ttest: 0.0078527\tbest: 0.0078527 (258)\ttotal: 19.5s\tremaining: 55.7s\n",
            "261:\tlearn: 0.0078196\ttest: 0.0078196\tbest: 0.0078196 (261)\ttotal: 20s\tremaining: 56.4s\n",
            "264:\tlearn: 0.0077912\ttest: 0.0077912\tbest: 0.0077912 (264)\ttotal: 20.7s\tremaining: 57.4s\n",
            "267:\tlearn: 0.0077636\ttest: 0.0077636\tbest: 0.0077636 (267)\ttotal: 21.3s\tremaining: 58.1s\n",
            "270:\tlearn: 0.0077409\ttest: 0.0077409\tbest: 0.0077409 (270)\ttotal: 21.9s\tremaining: 58.9s\n",
            "273:\tlearn: 0.0077185\ttest: 0.0077185\tbest: 0.0077185 (273)\ttotal: 22.3s\tremaining: 59s\n",
            "276:\tlearn: 0.0076993\ttest: 0.0076993\tbest: 0.0076993 (276)\ttotal: 22.5s\tremaining: 58.7s\n",
            "279:\tlearn: 0.0076478\ttest: 0.0076478\tbest: 0.0076478 (279)\ttotal: 22.7s\tremaining: 58.3s\n",
            "282:\tlearn: 0.0076311\ttest: 0.0076311\tbest: 0.0076311 (282)\ttotal: 22.8s\tremaining: 57.7s\n",
            "285:\tlearn: 0.0076114\ttest: 0.0076114\tbest: 0.0076114 (285)\ttotal: 23s\tremaining: 57.4s\n",
            "288:\tlearn: 0.0075852\ttest: 0.0075852\tbest: 0.0075852 (288)\ttotal: 23.2s\tremaining: 57s\n",
            "291:\tlearn: 0.0075614\ttest: 0.0075614\tbest: 0.0075614 (291)\ttotal: 23.3s\tremaining: 56.5s\n",
            "294:\tlearn: 0.0075170\ttest: 0.0075170\tbest: 0.0075170 (294)\ttotal: 23.6s\tremaining: 56.3s\n",
            "297:\tlearn: 0.0074962\ttest: 0.0074962\tbest: 0.0074962 (297)\ttotal: 23.8s\tremaining: 56s\n",
            "300:\tlearn: 0.0074796\ttest: 0.0074796\tbest: 0.0074796 (300)\ttotal: 23.9s\tremaining: 55.5s\n",
            "303:\tlearn: 0.0074504\ttest: 0.0074504\tbest: 0.0074504 (303)\ttotal: 24s\tremaining: 55s\n",
            "306:\tlearn: 0.0074037\ttest: 0.0074037\tbest: 0.0074037 (306)\ttotal: 24.3s\tremaining: 54.8s\n",
            "309:\tlearn: 0.0073550\ttest: 0.0073550\tbest: 0.0073550 (309)\ttotal: 24.4s\tremaining: 54.3s\n",
            "312:\tlearn: 0.0073221\ttest: 0.0073221\tbest: 0.0073221 (312)\ttotal: 24.6s\tremaining: 53.9s\n",
            "315:\tlearn: 0.0072784\ttest: 0.0072784\tbest: 0.0072784 (315)\ttotal: 24.7s\tremaining: 53.5s\n",
            "318:\tlearn: 0.0072558\ttest: 0.0072558\tbest: 0.0072558 (318)\ttotal: 24.9s\tremaining: 53s\n",
            "321:\tlearn: 0.0072466\ttest: 0.0072466\tbest: 0.0072466 (321)\ttotal: 25s\tremaining: 52.6s\n",
            "324:\tlearn: 0.0072330\ttest: 0.0072330\tbest: 0.0072330 (324)\ttotal: 25.3s\tremaining: 52.5s\n",
            "327:\tlearn: 0.0072000\ttest: 0.0072000\tbest: 0.0072000 (327)\ttotal: 25.4s\tremaining: 52.1s\n",
            "330:\tlearn: 0.0071875\ttest: 0.0071875\tbest: 0.0071875 (330)\ttotal: 25.6s\tremaining: 51.7s\n",
            "333:\tlearn: 0.0071547\ttest: 0.0071547\tbest: 0.0071547 (333)\ttotal: 25.8s\tremaining: 51.5s\n",
            "336:\tlearn: 0.0071343\ttest: 0.0071343\tbest: 0.0071343 (336)\ttotal: 25.9s\tremaining: 51s\n",
            "339:\tlearn: 0.0071174\ttest: 0.0071174\tbest: 0.0071174 (339)\ttotal: 26.1s\tremaining: 50.6s\n",
            "342:\tlearn: 0.0070878\ttest: 0.0070878\tbest: 0.0070878 (342)\ttotal: 26.3s\tremaining: 50.4s\n",
            "345:\tlearn: 0.0070675\ttest: 0.0070675\tbest: 0.0070675 (345)\ttotal: 26.4s\tremaining: 49.9s\n",
            "348:\tlearn: 0.0070501\ttest: 0.0070501\tbest: 0.0070501 (348)\ttotal: 26.6s\tremaining: 49.6s\n",
            "351:\tlearn: 0.0070208\ttest: 0.0070208\tbest: 0.0070208 (351)\ttotal: 26.8s\tremaining: 49.3s\n",
            "354:\tlearn: 0.0070098\ttest: 0.0070098\tbest: 0.0070098 (354)\ttotal: 26.9s\tremaining: 48.8s\n",
            "357:\tlearn: 0.0069971\ttest: 0.0069971\tbest: 0.0069971 (357)\ttotal: 27.1s\tremaining: 48.5s\n",
            "360:\tlearn: 0.0069801\ttest: 0.0069801\tbest: 0.0069801 (360)\ttotal: 27.2s\tremaining: 48.2s\n",
            "363:\tlearn: 0.0069686\ttest: 0.0069686\tbest: 0.0069686 (363)\ttotal: 27.3s\tremaining: 47.7s\n",
            "366:\tlearn: 0.0069593\ttest: 0.0069593\tbest: 0.0069593 (366)\ttotal: 27.6s\tremaining: 47.5s\n",
            "369:\tlearn: 0.0069353\ttest: 0.0069353\tbest: 0.0069353 (369)\ttotal: 27.7s\tremaining: 47.1s\n",
            "372:\tlearn: 0.0069072\ttest: 0.0069072\tbest: 0.0069072 (372)\ttotal: 27.8s\tremaining: 46.8s\n",
            "375:\tlearn: 0.0068963\ttest: 0.0068963\tbest: 0.0068963 (375)\ttotal: 28.1s\tremaining: 46.6s\n",
            "378:\tlearn: 0.0068823\ttest: 0.0068823\tbest: 0.0068823 (378)\ttotal: 28.2s\tremaining: 46.3s\n",
            "381:\tlearn: 0.0068511\ttest: 0.0068511\tbest: 0.0068511 (381)\ttotal: 28.5s\tremaining: 46s\n",
            "384:\tlearn: 0.0068352\ttest: 0.0068352\tbest: 0.0068352 (384)\ttotal: 28.6s\tremaining: 45.7s\n",
            "387:\tlearn: 0.0068192\ttest: 0.0068192\tbest: 0.0068192 (387)\ttotal: 28.7s\tremaining: 45.3s\n",
            "390:\tlearn: 0.0068044\ttest: 0.0068044\tbest: 0.0068044 (390)\ttotal: 28.9s\tremaining: 45s\n",
            "393:\tlearn: 0.0067910\ttest: 0.0067910\tbest: 0.0067910 (393)\ttotal: 29.1s\tremaining: 44.8s\n",
            "396:\tlearn: 0.0067654\ttest: 0.0067654\tbest: 0.0067654 (396)\ttotal: 29.3s\tremaining: 44.5s\n",
            "399:\tlearn: 0.0067508\ttest: 0.0067508\tbest: 0.0067508 (399)\ttotal: 29.4s\tremaining: 44.2s\n",
            "402:\tlearn: 0.0067421\ttest: 0.0067421\tbest: 0.0067421 (402)\ttotal: 29.6s\tremaining: 43.8s\n",
            "405:\tlearn: 0.0067343\ttest: 0.0067343\tbest: 0.0067343 (405)\ttotal: 29.8s\tremaining: 43.5s\n",
            "408:\tlearn: 0.0067163\ttest: 0.0067163\tbest: 0.0067163 (408)\ttotal: 30.1s\tremaining: 43.5s\n",
            "411:\tlearn: 0.0067001\ttest: 0.0067001\tbest: 0.0067001 (411)\ttotal: 30.4s\tremaining: 43.4s\n",
            "414:\tlearn: 0.0066925\ttest: 0.0066925\tbest: 0.0066925 (414)\ttotal: 30.6s\tremaining: 43.1s\n",
            "417:\tlearn: 0.0066610\ttest: 0.0066610\tbest: 0.0066610 (417)\ttotal: 30.8s\tremaining: 42.9s\n",
            "420:\tlearn: 0.0066436\ttest: 0.0066436\tbest: 0.0066436 (420)\ttotal: 30.9s\tremaining: 42.5s\n",
            "423:\tlearn: 0.0066275\ttest: 0.0066275\tbest: 0.0066275 (423)\ttotal: 31.1s\tremaining: 42.3s\n",
            "426:\tlearn: 0.0066016\ttest: 0.0066016\tbest: 0.0066016 (426)\ttotal: 31.3s\tremaining: 42.1s\n",
            "429:\tlearn: 0.0065825\ttest: 0.0065825\tbest: 0.0065825 (429)\ttotal: 31.5s\tremaining: 41.7s\n",
            "432:\tlearn: 0.0065659\ttest: 0.0065659\tbest: 0.0065659 (432)\ttotal: 31.6s\tremaining: 41.4s\n",
            "435:\tlearn: 0.0065543\ttest: 0.0065543\tbest: 0.0065543 (435)\ttotal: 31.8s\tremaining: 41.1s\n",
            "438:\tlearn: 0.0065256\ttest: 0.0065256\tbest: 0.0065256 (438)\ttotal: 31.9s\tremaining: 40.8s\n",
            "441:\tlearn: 0.0065080\ttest: 0.0065080\tbest: 0.0065080 (441)\ttotal: 32.4s\tremaining: 40.9s\n",
            "444:\tlearn: 0.0064985\ttest: 0.0064985\tbest: 0.0064985 (444)\ttotal: 32.9s\tremaining: 41s\n",
            "447:\tlearn: 0.0064851\ttest: 0.0064851\tbest: 0.0064851 (447)\ttotal: 33.5s\tremaining: 41.3s\n",
            "450:\tlearn: 0.0064780\ttest: 0.0064780\tbest: 0.0064780 (450)\ttotal: 34.1s\tremaining: 41.5s\n",
            "453:\tlearn: 0.0064736\ttest: 0.0064736\tbest: 0.0064736 (453)\ttotal: 34.8s\tremaining: 41.8s\n",
            "456:\tlearn: 0.0064645\ttest: 0.0064645\tbest: 0.0064645 (456)\ttotal: 35.4s\tremaining: 42s\n",
            "459:\tlearn: 0.0064444\ttest: 0.0064444\tbest: 0.0064444 (459)\ttotal: 36s\tremaining: 42.3s\n",
            "462:\tlearn: 0.0064364\ttest: 0.0064364\tbest: 0.0064364 (462)\ttotal: 36.3s\tremaining: 42.1s\n",
            "465:\tlearn: 0.0064287\ttest: 0.0064287\tbest: 0.0064287 (465)\ttotal: 36.6s\tremaining: 42s\n",
            "468:\tlearn: 0.0064171\ttest: 0.0064171\tbest: 0.0064171 (468)\ttotal: 36.8s\tremaining: 41.6s\n",
            "471:\tlearn: 0.0063883\ttest: 0.0063883\tbest: 0.0063883 (471)\ttotal: 36.9s\tremaining: 41.3s\n",
            "474:\tlearn: 0.0063797\ttest: 0.0063797\tbest: 0.0063797 (474)\ttotal: 37.1s\tremaining: 41s\n",
            "477:\tlearn: 0.0063729\ttest: 0.0063729\tbest: 0.0063729 (477)\ttotal: 37.3s\tremaining: 40.7s\n",
            "480:\tlearn: 0.0063658\ttest: 0.0063658\tbest: 0.0063658 (480)\ttotal: 37.4s\tremaining: 40.3s\n",
            "483:\tlearn: 0.0063566\ttest: 0.0063566\tbest: 0.0063566 (483)\ttotal: 37.6s\tremaining: 40.1s\n",
            "486:\tlearn: 0.0063438\ttest: 0.0063438\tbest: 0.0063438 (486)\ttotal: 37.8s\tremaining: 39.8s\n",
            "489:\tlearn: 0.0063366\ttest: 0.0063366\tbest: 0.0063366 (489)\ttotal: 37.9s\tremaining: 39.5s\n",
            "492:\tlearn: 0.0063283\ttest: 0.0063283\tbest: 0.0063283 (492)\ttotal: 38.1s\tremaining: 39.2s\n",
            "495:\tlearn: 0.0063183\ttest: 0.0063183\tbest: 0.0063183 (495)\ttotal: 38.2s\tremaining: 38.9s\n",
            "498:\tlearn: 0.0063103\ttest: 0.0063103\tbest: 0.0063103 (498)\ttotal: 38.4s\tremaining: 38.5s\n",
            "501:\tlearn: 0.0062968\ttest: 0.0062968\tbest: 0.0062968 (501)\ttotal: 38.6s\tremaining: 38.3s\n",
            "504:\tlearn: 0.0062894\ttest: 0.0062894\tbest: 0.0062894 (504)\ttotal: 38.7s\tremaining: 37.9s\n",
            "507:\tlearn: 0.0062776\ttest: 0.0062776\tbest: 0.0062776 (507)\ttotal: 38.9s\tremaining: 37.6s\n",
            "510:\tlearn: 0.0062730\ttest: 0.0062730\tbest: 0.0062730 (510)\ttotal: 39s\tremaining: 37.3s\n",
            "513:\tlearn: 0.0062630\ttest: 0.0062630\tbest: 0.0062630 (513)\ttotal: 39.1s\tremaining: 37s\n",
            "516:\tlearn: 0.0062530\ttest: 0.0062530\tbest: 0.0062530 (516)\ttotal: 39.3s\tremaining: 36.7s\n",
            "519:\tlearn: 0.0062455\ttest: 0.0062455\tbest: 0.0062455 (519)\ttotal: 39.6s\tremaining: 36.6s\n",
            "522:\tlearn: 0.0062276\ttest: 0.0062276\tbest: 0.0062276 (522)\ttotal: 39.8s\tremaining: 36.3s\n",
            "525:\tlearn: 0.0062110\ttest: 0.0062110\tbest: 0.0062110 (525)\ttotal: 39.9s\tremaining: 36s\n",
            "528:\tlearn: 0.0062002\ttest: 0.0062002\tbest: 0.0062002 (528)\ttotal: 40.2s\tremaining: 35.8s\n",
            "531:\tlearn: 0.0061898\ttest: 0.0061898\tbest: 0.0061898 (531)\ttotal: 40.3s\tremaining: 35.5s\n",
            "534:\tlearn: 0.0061810\ttest: 0.0061810\tbest: 0.0061810 (534)\ttotal: 40.4s\tremaining: 35.1s\n",
            "537:\tlearn: 0.0061731\ttest: 0.0061731\tbest: 0.0061731 (537)\ttotal: 40.7s\tremaining: 35s\n",
            "540:\tlearn: 0.0061683\ttest: 0.0061683\tbest: 0.0061683 (540)\ttotal: 41s\tremaining: 34.8s\n",
            "543:\tlearn: 0.0061587\ttest: 0.0061587\tbest: 0.0061587 (543)\ttotal: 41.3s\tremaining: 34.6s\n",
            "546:\tlearn: 0.0061534\ttest: 0.0061534\tbest: 0.0061534 (546)\ttotal: 41.4s\tremaining: 34.3s\n",
            "549:\tlearn: 0.0061470\ttest: 0.0061470\tbest: 0.0061470 (549)\ttotal: 41.7s\tremaining: 34.1s\n",
            "552:\tlearn: 0.0061322\ttest: 0.0061322\tbest: 0.0061322 (552)\ttotal: 41.8s\tremaining: 33.8s\n",
            "555:\tlearn: 0.0061294\ttest: 0.0061294\tbest: 0.0061294 (555)\ttotal: 42s\tremaining: 33.5s\n",
            "558:\tlearn: 0.0061199\ttest: 0.0061199\tbest: 0.0061199 (558)\ttotal: 42.2s\tremaining: 33.3s\n",
            "561:\tlearn: 0.0061161\ttest: 0.0061161\tbest: 0.0061161 (561)\ttotal: 42.3s\tremaining: 33s\n",
            "564:\tlearn: 0.0061076\ttest: 0.0061076\tbest: 0.0061076 (564)\ttotal: 42.5s\tremaining: 32.7s\n",
            "567:\tlearn: 0.0060925\ttest: 0.0060925\tbest: 0.0060925 (567)\ttotal: 42.8s\tremaining: 32.5s\n",
            "570:\tlearn: 0.0060858\ttest: 0.0060858\tbest: 0.0060858 (570)\ttotal: 43s\tremaining: 32.3s\n",
            "573:\tlearn: 0.0060769\ttest: 0.0060769\tbest: 0.0060769 (573)\ttotal: 43.2s\tremaining: 32.1s\n",
            "576:\tlearn: 0.0060661\ttest: 0.0060661\tbest: 0.0060661 (576)\ttotal: 43.5s\tremaining: 31.9s\n",
            "579:\tlearn: 0.0060578\ttest: 0.0060578\tbest: 0.0060578 (579)\ttotal: 43.7s\tremaining: 31.7s\n",
            "582:\tlearn: 0.0060532\ttest: 0.0060532\tbest: 0.0060532 (582)\ttotal: 44s\tremaining: 31.4s\n",
            "585:\tlearn: 0.0060450\ttest: 0.0060450\tbest: 0.0060450 (585)\ttotal: 44.1s\tremaining: 31.1s\n",
            "588:\tlearn: 0.0060268\ttest: 0.0060268\tbest: 0.0060268 (588)\ttotal: 44.3s\tremaining: 30.9s\n",
            "591:\tlearn: 0.0060103\ttest: 0.0060103\tbest: 0.0060103 (591)\ttotal: 44.5s\tremaining: 30.6s\n",
            "594:\tlearn: 0.0060039\ttest: 0.0060039\tbest: 0.0060039 (594)\ttotal: 44.6s\tremaining: 30.3s\n",
            "597:\tlearn: 0.0059950\ttest: 0.0059950\tbest: 0.0059950 (597)\ttotal: 44.7s\tremaining: 30.1s\n",
            "600:\tlearn: 0.0059888\ttest: 0.0059888\tbest: 0.0059888 (600)\ttotal: 44.9s\tremaining: 29.8s\n",
            "603:\tlearn: 0.0059831\ttest: 0.0059831\tbest: 0.0059831 (603)\ttotal: 45.1s\tremaining: 29.5s\n",
            "606:\tlearn: 0.0059736\ttest: 0.0059736\tbest: 0.0059736 (606)\ttotal: 45.2s\tremaining: 29.3s\n",
            "609:\tlearn: 0.0059695\ttest: 0.0059695\tbest: 0.0059695 (609)\ttotal: 45.6s\tremaining: 29.1s\n",
            "612:\tlearn: 0.0059490\ttest: 0.0059490\tbest: 0.0059490 (612)\ttotal: 45.7s\tremaining: 28.9s\n",
            "615:\tlearn: 0.0059358\ttest: 0.0059358\tbest: 0.0059358 (615)\ttotal: 45.9s\tremaining: 28.6s\n",
            "618:\tlearn: 0.0059237\ttest: 0.0059237\tbest: 0.0059237 (618)\ttotal: 46.1s\tremaining: 28.4s\n",
            "621:\tlearn: 0.0059168\ttest: 0.0059168\tbest: 0.0059168 (621)\ttotal: 46.5s\tremaining: 28.3s\n",
            "624:\tlearn: 0.0059076\ttest: 0.0059076\tbest: 0.0059076 (624)\ttotal: 47s\tremaining: 28.2s\n",
            "627:\tlearn: 0.0058990\ttest: 0.0058990\tbest: 0.0058990 (627)\ttotal: 47.6s\tremaining: 28.2s\n",
            "630:\tlearn: 0.0058895\ttest: 0.0058895\tbest: 0.0058895 (630)\ttotal: 48.2s\tremaining: 28.2s\n",
            "633:\tlearn: 0.0058834\ttest: 0.0058834\tbest: 0.0058834 (633)\ttotal: 49.1s\tremaining: 28.3s\n",
            "636:\tlearn: 0.0058772\ttest: 0.0058772\tbest: 0.0058772 (636)\ttotal: 49.8s\tremaining: 28.4s\n",
            "639:\tlearn: 0.0058665\ttest: 0.0058665\tbest: 0.0058665 (639)\ttotal: 50.3s\tremaining: 28.3s\n",
            "642:\tlearn: 0.0058572\ttest: 0.0058572\tbest: 0.0058572 (642)\ttotal: 50.5s\tremaining: 28s\n",
            "645:\tlearn: 0.0058491\ttest: 0.0058491\tbest: 0.0058491 (645)\ttotal: 50.7s\tremaining: 27.8s\n",
            "648:\tlearn: 0.0058463\ttest: 0.0058463\tbest: 0.0058463 (648)\ttotal: 50.8s\tremaining: 27.5s\n",
            "651:\tlearn: 0.0058430\ttest: 0.0058430\tbest: 0.0058430 (651)\ttotal: 51s\tremaining: 27.2s\n",
            "654:\tlearn: 0.0058336\ttest: 0.0058336\tbest: 0.0058336 (654)\ttotal: 51.2s\tremaining: 26.9s\n",
            "657:\tlearn: 0.0058266\ttest: 0.0058266\tbest: 0.0058266 (657)\ttotal: 51.3s\tremaining: 26.7s\n",
            "660:\tlearn: 0.0058210\ttest: 0.0058210\tbest: 0.0058210 (660)\ttotal: 51.5s\tremaining: 26.4s\n",
            "663:\tlearn: 0.0058145\ttest: 0.0058145\tbest: 0.0058145 (663)\ttotal: 51.6s\tremaining: 26.1s\n",
            "666:\tlearn: 0.0058094\ttest: 0.0058094\tbest: 0.0058094 (666)\ttotal: 51.8s\tremaining: 25.8s\n",
            "669:\tlearn: 0.0057990\ttest: 0.0057991\tbest: 0.0057991 (669)\ttotal: 51.9s\tremaining: 25.6s\n",
            "672:\tlearn: 0.0057951\ttest: 0.0057951\tbest: 0.0057951 (672)\ttotal: 52.2s\tremaining: 25.3s\n",
            "675:\tlearn: 0.0057871\ttest: 0.0057871\tbest: 0.0057871 (675)\ttotal: 52.3s\tremaining: 25.1s\n",
            "678:\tlearn: 0.0057761\ttest: 0.0057761\tbest: 0.0057761 (678)\ttotal: 52.4s\tremaining: 24.8s\n",
            "681:\tlearn: 0.0057682\ttest: 0.0057682\tbest: 0.0057682 (681)\ttotal: 52.6s\tremaining: 24.5s\n",
            "684:\tlearn: 0.0057631\ttest: 0.0057631\tbest: 0.0057631 (684)\ttotal: 52.8s\tremaining: 24.3s\n",
            "687:\tlearn: 0.0057540\ttest: 0.0057540\tbest: 0.0057540 (687)\ttotal: 53.2s\tremaining: 24.1s\n",
            "690:\tlearn: 0.0057382\ttest: 0.0057382\tbest: 0.0057382 (690)\ttotal: 53.4s\tremaining: 23.9s\n",
            "693:\tlearn: 0.0057307\ttest: 0.0057307\tbest: 0.0057307 (693)\ttotal: 53.6s\tremaining: 23.6s\n",
            "696:\tlearn: 0.0057221\ttest: 0.0057221\tbest: 0.0057221 (696)\ttotal: 53.7s\tremaining: 23.3s\n",
            "699:\tlearn: 0.0057164\ttest: 0.0057164\tbest: 0.0057164 (699)\ttotal: 53.9s\tremaining: 23.1s\n",
            "702:\tlearn: 0.0057037\ttest: 0.0057037\tbest: 0.0057037 (702)\ttotal: 54.1s\tremaining: 22.9s\n",
            "705:\tlearn: 0.0056971\ttest: 0.0056971\tbest: 0.0056971 (705)\ttotal: 54.3s\tremaining: 22.6s\n",
            "708:\tlearn: 0.0056820\ttest: 0.0056820\tbest: 0.0056820 (708)\ttotal: 54.4s\tremaining: 22.3s\n",
            "711:\tlearn: 0.0056769\ttest: 0.0056769\tbest: 0.0056769 (711)\ttotal: 54.6s\tremaining: 22.1s\n",
            "714:\tlearn: 0.0056711\ttest: 0.0056711\tbest: 0.0056711 (714)\ttotal: 54.7s\tremaining: 21.8s\n",
            "717:\tlearn: 0.0056625\ttest: 0.0056625\tbest: 0.0056625 (717)\ttotal: 54.9s\tremaining: 21.6s\n",
            "720:\tlearn: 0.0056588\ttest: 0.0056588\tbest: 0.0056588 (720)\ttotal: 55.1s\tremaining: 21.3s\n",
            "723:\tlearn: 0.0056544\ttest: 0.0056544\tbest: 0.0056544 (723)\ttotal: 55.2s\tremaining: 21s\n",
            "726:\tlearn: 0.0056480\ttest: 0.0056480\tbest: 0.0056480 (726)\ttotal: 55.4s\tremaining: 20.8s\n",
            "729:\tlearn: 0.0056435\ttest: 0.0056435\tbest: 0.0056435 (729)\ttotal: 55.5s\tremaining: 20.5s\n",
            "732:\tlearn: 0.0056381\ttest: 0.0056381\tbest: 0.0056381 (732)\ttotal: 55.8s\tremaining: 20.3s\n",
            "735:\tlearn: 0.0056331\ttest: 0.0056331\tbest: 0.0056331 (735)\ttotal: 56s\tremaining: 20.1s\n",
            "738:\tlearn: 0.0056259\ttest: 0.0056259\tbest: 0.0056259 (738)\ttotal: 56.1s\tremaining: 19.8s\n",
            "741:\tlearn: 0.0056240\ttest: 0.0056240\tbest: 0.0056240 (741)\ttotal: 56.3s\tremaining: 19.6s\n",
            "744:\tlearn: 0.0056203\ttest: 0.0056203\tbest: 0.0056203 (744)\ttotal: 56.5s\tremaining: 19.3s\n",
            "747:\tlearn: 0.0056172\ttest: 0.0056172\tbest: 0.0056172 (747)\ttotal: 56.6s\tremaining: 19.1s\n",
            "750:\tlearn: 0.0056093\ttest: 0.0056093\tbest: 0.0056093 (750)\ttotal: 56.9s\tremaining: 18.9s\n",
            "753:\tlearn: 0.0056024\ttest: 0.0056024\tbest: 0.0056024 (753)\ttotal: 57s\tremaining: 18.6s\n",
            "756:\tlearn: 0.0055975\ttest: 0.0055975\tbest: 0.0055975 (756)\ttotal: 57.2s\tremaining: 18.4s\n",
            "759:\tlearn: 0.0055881\ttest: 0.0055881\tbest: 0.0055881 (759)\ttotal: 57.3s\tremaining: 18.1s\n",
            "762:\tlearn: 0.0055775\ttest: 0.0055775\tbest: 0.0055775 (762)\ttotal: 57.5s\tremaining: 17.9s\n",
            "765:\tlearn: 0.0055719\ttest: 0.0055719\tbest: 0.0055719 (765)\ttotal: 57.6s\tremaining: 17.6s\n",
            "768:\tlearn: 0.0055686\ttest: 0.0055686\tbest: 0.0055686 (768)\ttotal: 57.9s\tremaining: 17.4s\n",
            "771:\tlearn: 0.0055621\ttest: 0.0055621\tbest: 0.0055621 (771)\ttotal: 58s\tremaining: 17.1s\n",
            "774:\tlearn: 0.0055562\ttest: 0.0055562\tbest: 0.0055562 (774)\ttotal: 58.2s\tremaining: 16.9s\n",
            "777:\tlearn: 0.0055527\ttest: 0.0055527\tbest: 0.0055527 (777)\ttotal: 58.4s\tremaining: 16.7s\n",
            "780:\tlearn: 0.0055425\ttest: 0.0055425\tbest: 0.0055425 (780)\ttotal: 58.5s\tremaining: 16.4s\n",
            "783:\tlearn: 0.0055397\ttest: 0.0055397\tbest: 0.0055397 (783)\ttotal: 58.7s\tremaining: 16.2s\n",
            "786:\tlearn: 0.0055370\ttest: 0.0055370\tbest: 0.0055370 (786)\ttotal: 58.9s\tremaining: 15.9s\n",
            "789:\tlearn: 0.0055325\ttest: 0.0055325\tbest: 0.0055325 (789)\ttotal: 59.1s\tremaining: 15.7s\n",
            "792:\tlearn: 0.0055291\ttest: 0.0055290\tbest: 0.0055290 (792)\ttotal: 59.2s\tremaining: 15.5s\n",
            "795:\tlearn: 0.0055270\ttest: 0.0055270\tbest: 0.0055270 (795)\ttotal: 59.4s\tremaining: 15.2s\n",
            "798:\tlearn: 0.0055237\ttest: 0.0055237\tbest: 0.0055237 (798)\ttotal: 59.6s\tremaining: 15s\n",
            "801:\tlearn: 0.0055219\ttest: 0.0055219\tbest: 0.0055219 (801)\ttotal: 59.7s\tremaining: 14.8s\n",
            "804:\tlearn: 0.0055159\ttest: 0.0055159\tbest: 0.0055159 (804)\ttotal: 59.9s\tremaining: 14.5s\n",
            "807:\tlearn: 0.0055133\ttest: 0.0055133\tbest: 0.0055133 (807)\ttotal: 1m\tremaining: 14.3s\n",
            "810:\tlearn: 0.0055072\ttest: 0.0055072\tbest: 0.0055072 (810)\ttotal: 1m\tremaining: 14s\n",
            "813:\tlearn: 0.0055036\ttest: 0.0055036\tbest: 0.0055036 (813)\ttotal: 1m\tremaining: 13.8s\n",
            "816:\tlearn: 0.0054976\ttest: 0.0054976\tbest: 0.0054976 (816)\ttotal: 1m 1s\tremaining: 13.7s\n",
            "819:\tlearn: 0.0054941\ttest: 0.0054941\tbest: 0.0054941 (819)\ttotal: 1m 1s\tremaining: 13.5s\n",
            "822:\tlearn: 0.0054919\ttest: 0.0054919\tbest: 0.0054919 (822)\ttotal: 1m 2s\tremaining: 13.4s\n",
            "825:\tlearn: 0.0054856\ttest: 0.0054856\tbest: 0.0054856 (825)\ttotal: 1m 2s\tremaining: 13.2s\n",
            "828:\tlearn: 0.0054835\ttest: 0.0054835\tbest: 0.0054835 (828)\ttotal: 1m 3s\tremaining: 13.1s\n",
            "831:\tlearn: 0.0054784\ttest: 0.0054784\tbest: 0.0054784 (831)\ttotal: 1m 4s\tremaining: 13s\n",
            "834:\tlearn: 0.0054758\ttest: 0.0054758\tbest: 0.0054758 (834)\ttotal: 1m 4s\tremaining: 12.8s\n",
            "837:\tlearn: 0.0054713\ttest: 0.0054713\tbest: 0.0054713 (837)\ttotal: 1m 5s\tremaining: 12.6s\n",
            "840:\tlearn: 0.0054679\ttest: 0.0054679\tbest: 0.0054679 (840)\ttotal: 1m 5s\tremaining: 12.4s\n",
            "843:\tlearn: 0.0054641\ttest: 0.0054641\tbest: 0.0054641 (843)\ttotal: 1m 5s\tremaining: 12.2s\n",
            "846:\tlearn: 0.0054592\ttest: 0.0054592\tbest: 0.0054592 (846)\ttotal: 1m 6s\tremaining: 12s\n",
            "849:\tlearn: 0.0054569\ttest: 0.0054569\tbest: 0.0054569 (849)\ttotal: 1m 7s\tremaining: 11.9s\n",
            "852:\tlearn: 0.0054555\ttest: 0.0054555\tbest: 0.0054555 (852)\ttotal: 1m 8s\tremaining: 11.7s\n",
            "855:\tlearn: 0.0054506\ttest: 0.0054506\tbest: 0.0054506 (855)\ttotal: 1m 8s\tremaining: 11.6s\n",
            "858:\tlearn: 0.0054426\ttest: 0.0054426\tbest: 0.0054426 (858)\ttotal: 1m 9s\tremaining: 11.4s\n",
            "861:\tlearn: 0.0054408\ttest: 0.0054408\tbest: 0.0054408 (861)\ttotal: 1m 10s\tremaining: 11.2s\n",
            "864:\tlearn: 0.0054339\ttest: 0.0054339\tbest: 0.0054339 (864)\ttotal: 1m 10s\tremaining: 11.1s\n",
            "867:\tlearn: 0.0054311\ttest: 0.0054311\tbest: 0.0054311 (867)\ttotal: 1m 11s\tremaining: 10.8s\n",
            "870:\tlearn: 0.0054266\ttest: 0.0054266\tbest: 0.0054266 (870)\ttotal: 1m 11s\tremaining: 10.6s\n",
            "873:\tlearn: 0.0054195\ttest: 0.0054195\tbest: 0.0054195 (873)\ttotal: 1m 12s\tremaining: 10.4s\n",
            "876:\tlearn: 0.0054132\ttest: 0.0054132\tbest: 0.0054132 (876)\ttotal: 1m 12s\tremaining: 10.2s\n",
            "879:\tlearn: 0.0054097\ttest: 0.0054097\tbest: 0.0054097 (879)\ttotal: 1m 13s\tremaining: 9.96s\n",
            "882:\tlearn: 0.0054064\ttest: 0.0054064\tbest: 0.0054064 (882)\ttotal: 1m 13s\tremaining: 9.72s\n",
            "885:\tlearn: 0.0054021\ttest: 0.0054021\tbest: 0.0054021 (885)\ttotal: 1m 13s\tremaining: 9.5s\n",
            "888:\tlearn: 0.0053979\ttest: 0.0053979\tbest: 0.0053979 (888)\ttotal: 1m 14s\tremaining: 9.31s\n",
            "891:\tlearn: 0.0053941\ttest: 0.0053941\tbest: 0.0053941 (891)\ttotal: 1m 15s\tremaining: 9.15s\n",
            "894:\tlearn: 0.0053872\ttest: 0.0053872\tbest: 0.0053872 (894)\ttotal: 1m 16s\tremaining: 8.94s\n",
            "897:\tlearn: 0.0053844\ttest: 0.0053844\tbest: 0.0053844 (897)\ttotal: 1m 16s\tremaining: 8.72s\n",
            "900:\tlearn: 0.0053817\ttest: 0.0053817\tbest: 0.0053817 (900)\ttotal: 1m 17s\tremaining: 8.5s\n",
            "903:\tlearn: 0.0053764\ttest: 0.0053764\tbest: 0.0053764 (903)\ttotal: 1m 18s\tremaining: 8.28s\n",
            "906:\tlearn: 0.0053746\ttest: 0.0053746\tbest: 0.0053746 (906)\ttotal: 1m 18s\tremaining: 8.04s\n",
            "909:\tlearn: 0.0053702\ttest: 0.0053702\tbest: 0.0053702 (909)\ttotal: 1m 18s\tremaining: 7.77s\n",
            "912:\tlearn: 0.0053631\ttest: 0.0053631\tbest: 0.0053631 (912)\ttotal: 1m 18s\tremaining: 7.5s\n",
            "915:\tlearn: 0.0053558\ttest: 0.0053558\tbest: 0.0053558 (915)\ttotal: 1m 18s\tremaining: 7.23s\n",
            "918:\tlearn: 0.0053533\ttest: 0.0053533\tbest: 0.0053533 (918)\ttotal: 1m 18s\tremaining: 6.96s\n",
            "921:\tlearn: 0.0053515\ttest: 0.0053515\tbest: 0.0053515 (921)\ttotal: 1m 19s\tremaining: 6.69s\n",
            "924:\tlearn: 0.0053492\ttest: 0.0053492\tbest: 0.0053492 (924)\ttotal: 1m 19s\tremaining: 6.42s\n",
            "927:\tlearn: 0.0053442\ttest: 0.0053442\tbest: 0.0053442 (927)\ttotal: 1m 19s\tremaining: 6.15s\n",
            "930:\tlearn: 0.0053408\ttest: 0.0053408\tbest: 0.0053408 (930)\ttotal: 1m 19s\tremaining: 5.89s\n",
            "933:\tlearn: 0.0053377\ttest: 0.0053377\tbest: 0.0053377 (933)\ttotal: 1m 19s\tremaining: 5.62s\n",
            "936:\tlearn: 0.0053345\ttest: 0.0053345\tbest: 0.0053345 (936)\ttotal: 1m 19s\tremaining: 5.36s\n",
            "939:\tlearn: 0.0053300\ttest: 0.0053300\tbest: 0.0053300 (939)\ttotal: 1m 19s\tremaining: 5.09s\n",
            "942:\tlearn: 0.0053263\ttest: 0.0053263\tbest: 0.0053263 (942)\ttotal: 1m 19s\tremaining: 4.83s\n",
            "945:\tlearn: 0.0053225\ttest: 0.0053225\tbest: 0.0053225 (945)\ttotal: 1m 20s\tremaining: 4.57s\n",
            "948:\tlearn: 0.0053158\ttest: 0.0053158\tbest: 0.0053158 (948)\ttotal: 1m 20s\tremaining: 4.31s\n",
            "951:\tlearn: 0.0053116\ttest: 0.0053116\tbest: 0.0053116 (951)\ttotal: 1m 20s\tremaining: 4.05s\n",
            "954:\tlearn: 0.0053094\ttest: 0.0053094\tbest: 0.0053094 (954)\ttotal: 1m 20s\tremaining: 3.79s\n",
            "957:\tlearn: 0.0053074\ttest: 0.0053074\tbest: 0.0053074 (957)\ttotal: 1m 20s\tremaining: 3.53s\n",
            "960:\tlearn: 0.0053047\ttest: 0.0053047\tbest: 0.0053047 (960)\ttotal: 1m 20s\tremaining: 3.27s\n",
            "963:\tlearn: 0.0052990\ttest: 0.0052990\tbest: 0.0052990 (963)\ttotal: 1m 20s\tremaining: 3.02s\n",
            "966:\tlearn: 0.0052943\ttest: 0.0052943\tbest: 0.0052943 (966)\ttotal: 1m 20s\tremaining: 2.76s\n",
            "969:\tlearn: 0.0052901\ttest: 0.0052901\tbest: 0.0052901 (969)\ttotal: 1m 21s\tremaining: 2.51s\n",
            "972:\tlearn: 0.0052876\ttest: 0.0052876\tbest: 0.0052876 (972)\ttotal: 1m 21s\tremaining: 2.25s\n",
            "975:\tlearn: 0.0052813\ttest: 0.0052813\tbest: 0.0052813 (975)\ttotal: 1m 21s\tremaining: 2s\n",
            "978:\tlearn: 0.0052786\ttest: 0.0052786\tbest: 0.0052786 (978)\ttotal: 1m 21s\tremaining: 1.75s\n",
            "981:\tlearn: 0.0052764\ttest: 0.0052764\tbest: 0.0052764 (981)\ttotal: 1m 21s\tremaining: 1.49s\n",
            "984:\tlearn: 0.0052732\ttest: 0.0052732\tbest: 0.0052732 (984)\ttotal: 1m 21s\tremaining: 1.24s\n",
            "987:\tlearn: 0.0052708\ttest: 0.0052708\tbest: 0.0052708 (987)\ttotal: 1m 21s\tremaining: 993ms\n",
            "990:\tlearn: 0.0052677\ttest: 0.0052677\tbest: 0.0052677 (990)\ttotal: 1m 21s\tremaining: 744ms\n",
            "993:\tlearn: 0.0052646\ttest: 0.0052646\tbest: 0.0052646 (993)\ttotal: 1m 21s\tremaining: 495ms\n",
            "996:\tlearn: 0.0052594\ttest: 0.0052594\tbest: 0.0052594 (996)\ttotal: 1m 22s\tremaining: 247ms\n",
            "999:\tlearn: 0.0052547\ttest: 0.0052547\tbest: 0.0052547 (999)\ttotal: 1m 22s\tremaining: 0us\n",
            "bestTest = 0.005254710045\n",
            "bestIteration = 999\n"
          ]
        },
        {
          "output_type": "execute_result",
          "data": {
            "text/plain": [
              "<catboost.core.CatBoostClassifier at 0x79b99ea28820>"
            ]
          },
          "metadata": {},
          "execution_count": 38
        },
        {
          "output_type": "stream",
          "name": "stdout",
          "text": [
            "{'nan_mode': 'Min', 'gpu_ram_part': 0.95, 'eval_metric': 'MultiClass', 'iterations': 1000, 'leaf_estimation_method': 'Newton', 'observations_to_bootstrap': 'TestOnly', 'random_score_type': 'NormalWithModelSizeDecrease', 'grow_policy': 'SymmetricTree', 'penalties_coefficient': 1, 'boosting_type': 'Plain', 'feature_border_type': 'GreedyLogSum', 'bayesian_matrix_reg': 0.10000000149011612, 'devices': '-1', 'eval_fraction': 0, 'pinned_memory_bytes': '104857600', 'force_unit_auto_pair_weights': False, 'l2_leaf_reg': 3, 'random_strength': 1, 'rsm': 1, 'boost_from_average': False, 'gpu_cat_features_storage': 'GpuRam', 'fold_size_loss_normalization': False, 'model_size_reg': 0.5, 'pool_metainfo_options': {'tags': {}}, 'use_best_model': True, 'meta_l2_frequency': 0, 'class_names': ['BENIGN', 'Bot', 'DDoS', 'DoS GoldenEye', 'DoS Hulk', 'DoS Slowhttptest', 'DoS slowloris', 'FTP-Patator', 'Heartbleed', 'Infiltration', 'PortScan', 'SSH-Patator', 'Web Attack � Brute Force', 'Web Attack � Sql Injection', 'Web Attack � XSS'], 'random_seed': 12345, 'depth': 6, 'border_count': 128, 'min_fold_size': 100, 'data_partition': 'DocParallel', 'bagging_temperature': 1, 'classes_count': 0, 'auto_class_weights': 'None', 'custom_metric': ['F1', 'Accuracy'], 'leaf_estimation_backtracking': 'AnyImprovement', 'best_model_min_trees': 1, 'min_data_in_leaf': 1, 'add_ridge_penalty_to_loss_function': False, 'loss_function': 'MultiClass', 'learning_rate': 0.15000000596046448, 'meta_l2_exponent': 1, 'score_function': 'Cosine', 'task_type': 'GPU', 'leaf_estimation_iterations': 1, 'bootstrap_type': 'Bayesian', 'max_leaves': 64}\n"
          ]
        }
      ]
    },
    {
      "cell_type": "code",
      "source": [
        "preds = model_bas_cb.predict(features_val)\n",
        "\n",
        "print (\"Accuracy_CBC:\", accuracy_score(target_val, preds))\n",
        "print (\"F1_macro_CBC:\", f1_score(target_val, preds, average='macro'))"
      ],
      "metadata": {
        "colab": {
          "base_uri": "https://localhost:8080/"
        },
        "id": "j4M_JYukKTJ_",
        "outputId": "d6a84aad-5cc9-4ddd-efec-3deaa8670235"
      },
      "id": "j4M_JYukKTJ_",
      "execution_count": 39,
      "outputs": [
        {
          "output_type": "stream",
          "name": "stdout",
          "text": [
            "Accuracy_CBC: 0.9974209168903626\n",
            "F1_macro_CBC: 0.9275059602231857\n"
          ]
        }
      ]
    },
    {
      "cell_type": "markdown",
      "source": [
        "Лучшего результата добиться не удалось сколько я бы модель не крутила.\n",
        "\n",
        "Останавливаюсь на CatBoost, у него метрики чуть выше чем у Леса."
      ],
      "metadata": {
        "id": "kwe74IhYvM3w"
      },
      "id": "kwe74IhYvM3w"
    },
    {
      "cell_type": "markdown",
      "source": [
        "### Сохранение модели"
      ],
      "metadata": {
        "id": "Dw3G26zy17gq"
      },
      "id": "Dw3G26zy17gq"
    },
    {
      "cell_type": "code",
      "execution_count": 42,
      "metadata": {
        "id": "03d19b32"
      },
      "outputs": [],
      "source": [
        "model_bas_cb.save_model('model.cbm', format=\"cbm\")\n"
      ],
      "id": "03d19b32"
    },
    {
      "cell_type": "markdown",
      "source": [
        "### Читаем модель и тестируем на тестовых данных"
      ],
      "metadata": {
        "id": "NA-cFSBW2S3A"
      },
      "id": "NA-cFSBW2S3A"
    },
    {
      "cell_type": "code",
      "execution_count": 44,
      "metadata": {
        "id": "e246574d",
        "colab": {
          "base_uri": "https://localhost:8080/"
        },
        "outputId": "4c65b76d-92a7-46b5-9ccd-995cf1fa57e6"
      },
      "outputs": [
        {
          "output_type": "execute_result",
          "data": {
            "text/plain": [
              "<catboost.core.CatBoostClassifier at 0x79b99ea79720>"
            ]
          },
          "metadata": {},
          "execution_count": 44
        },
        {
          "output_type": "stream",
          "name": "stdout",
          "text": [
            "Метрики тестовых данных:\n"
          ]
        },
        {
          "output_type": "execute_result",
          "data": {
            "text/plain": [
              "array([['DoS Hulk'],\n",
              "       ['DDoS'],\n",
              "       ['BENIGN'],\n",
              "       ...,\n",
              "       ['DDoS'],\n",
              "       ['BENIGN'],\n",
              "       ['BENIGN']], dtype=object)"
            ]
          },
          "metadata": {},
          "execution_count": 44
        },
        {
          "output_type": "stream",
          "name": "stdout",
          "text": [
            " \n",
            "Accuracy: 0.9972419601031633\n",
            "F1_macro: 0.8938793183027726\n"
          ]
        }
      ],
      "source": [
        "model = CatBoostClassifier()      # parameters not required.\n",
        "model.load_model('model.cbm')\n",
        "\n",
        "\n",
        "preds = model.predict(features_test)\n",
        "\n",
        "print('Метрики тестовых данных:')\n",
        "preds\n",
        "print(' ')\n",
        "print (\"Accuracy:\",accuracy_score(target_test, preds))\n",
        "print (\"F1_macro:\", f1_score(target_test, preds, average='macro'))\n"
      ],
      "id": "e246574d"
    },
    {
      "cell_type": "markdown",
      "source": [
        "F1 на тесте чуть хуже, но это нормально наверное."
      ],
      "metadata": {
        "id": "XXI_VHfgxENB"
      },
      "id": "XXI_VHfgxENB"
    },
    {
      "cell_type": "code",
      "execution_count": 33,
      "metadata": {
        "id": "7b89569b"
      },
      "outputs": [],
      "source": [],
      "id": "7b89569b"
    }
  ],
  "metadata": {
    "colab": {
      "toc_visible": true,
      "provenance": [],
      "gpuType": "T4"
    },
    "hide_input": false,
    "kernelspec": {
      "display_name": "Python 3",
      "name": "python3"
    },
    "language_info": {
      "codemirror_mode": {
        "name": "ipython",
        "version": 3
      },
      "file_extension": ".py",
      "mimetype": "text/x-python",
      "name": "python",
      "nbconvert_exporter": "python",
      "pygments_lexer": "ipython3",
      "version": "3.9.12"
    },
    "toc": {
      "base_numbering": 1,
      "nav_menu": {},
      "number_sections": true,
      "sideBar": true,
      "skip_h1_title": false,
      "title_cell": "Table of Contents",
      "title_sidebar": "Contents",
      "toc_cell": false,
      "toc_position": {},
      "toc_section_display": true,
      "toc_window_display": true
    },
    "accelerator": "GPU",
    "widgets": {
      "application/vnd.jupyter.widget-state+json": {
        "e82b22608edf401bb6a186fe121b6a4c": {
          "model_module": "catboost-widget",
          "model_name": "CatboostWidgetModel",
          "model_module_version": "^1.0.0",
          "state": {
            "_dom_classes": [],
            "_model_module": "catboost-widget",
            "_model_module_version": "^1.0.0",
            "_model_name": "CatboostWidgetModel",
            "_view_count": null,
            "_view_module": "catboost-widget",
            "_view_module_version": "^1.0.0",
            "_view_name": "CatboostWidgetView",
            "data": {
              "catboost_info": {
                "path": "catboost_info",
                "name": "catboost_info",
                "content": {
                  "passed_iterations": 999,
                  "total_iterations": 1000,
                  "data": {
                    "iterations": [
                      {
                        "learn": [
                          0.7103989231
                        ],
                        "iteration": 0,
                        "passed_time": 0.0517490957,
                        "remaining_time": 51.6973466
                      },
                      {
                        "learn": [
                          0.5330124283
                        ],
                        "iteration": 1,
                        "passed_time": 0.1015351325,
                        "remaining_time": 50.66603114
                      },
                      {
                        "learn": [
                          0.4251298999
                        ],
                        "iteration": 2,
                        "passed_time": 0.1594076346,
                        "remaining_time": 52.97647055
                      },
                      {
                        "learn": [
                          0.3508355909
                        ],
                        "iteration": 3,
                        "passed_time": 0.2155766516,
                        "remaining_time": 53.67858625
                      },
                      {
                        "learn": [
                          0.2924896952
                        ],
                        "iteration": 4,
                        "passed_time": 0.265047001,
                        "remaining_time": 52.7443532
                      },
                      {
                        "learn": [
                          0.2478457182
                        ],
                        "iteration": 5,
                        "passed_time": 0.2950506565,
                        "remaining_time": 48.88005875
                      },
                      {
                        "learn": [
                          0.2095375368
                        ],
                        "iteration": 6,
                        "passed_time": 0.3244367437,
                        "remaining_time": 46.0236695
                      },
                      {
                        "learn": [
                          0.180945096
                        ],
                        "iteration": 7,
                        "passed_time": 0.3509412059,
                        "remaining_time": 43.51670954
                      },
                      {
                        "learn": [
                          0.1571203557
                        ],
                        "iteration": 8,
                        "passed_time": 0.4001766347,
                        "remaining_time": 44.06389388
                      },
                      {
                        "learn": [
                          0.1388514949
                        ],
                        "iteration": 9,
                        "passed_time": 0.4314253872,
                        "remaining_time": 42.71111334
                      },
                      {
                        "learn": [
                          0.1221289607
                        ],
                        "iteration": 10,
                        "passed_time": 0.4601862266,
                        "remaining_time": 41.37492528
                      },
                      {
                        "learn": [
                          0.1093566499
                        ],
                        "iteration": 11,
                        "passed_time": 0.4863669407,
                        "remaining_time": 40.04421145
                      },
                      {
                        "learn": [
                          0.09769918246
                        ],
                        "iteration": 12,
                        "passed_time": 0.5101193863,
                        "remaining_time": 38.72983341
                      },
                      {
                        "learn": [
                          0.08698744347
                        ],
                        "iteration": 13,
                        "passed_time": 0.5350541837,
                        "remaining_time": 37.6831018
                      },
                      {
                        "learn": [
                          0.07895329709
                        ],
                        "iteration": 14,
                        "passed_time": 0.559179146,
                        "remaining_time": 36.71943059
                      },
                      {
                        "learn": [
                          0.07185116805
                        ],
                        "iteration": 15,
                        "passed_time": 0.5834984819,
                        "remaining_time": 35.88515664
                      },
                      {
                        "learn": [
                          0.06631793069
                        ],
                        "iteration": 16,
                        "passed_time": 0.6072173309,
                        "remaining_time": 35.1114492
                      },
                      {
                        "learn": [
                          0.06167314213
                        ],
                        "iteration": 17,
                        "passed_time": 0.6359188343,
                        "remaining_time": 34.6929053
                      },
                      {
                        "learn": [
                          0.05460091547
                        ],
                        "iteration": 18,
                        "passed_time": 0.6571004124,
                        "remaining_time": 33.92713182
                      },
                      {
                        "learn": [
                          0.05100221532
                        ],
                        "iteration": 19,
                        "passed_time": 0.6815842834,
                        "remaining_time": 33.39762989
                      },
                      {
                        "learn": [
                          0.04899454129
                        ],
                        "iteration": 20,
                        "passed_time": 0.7021961257,
                        "remaining_time": 32.73571462
                      },
                      {
                        "learn": [
                          0.04543267941
                        ],
                        "iteration": 21,
                        "passed_time": 0.7241811339,
                        "remaining_time": 32.19314314
                      },
                      {
                        "learn": [
                          0.0434356871
                        ],
                        "iteration": 22,
                        "passed_time": 0.745176793,
                        "remaining_time": 31.65381421
                      },
                      {
                        "learn": [
                          0.04137822504
                        ],
                        "iteration": 23,
                        "passed_time": 0.7694728892,
                        "remaining_time": 31.29189749
                      },
                      {
                        "learn": [
                          0.03904448404
                        ],
                        "iteration": 24,
                        "passed_time": 0.8001389642,
                        "remaining_time": 31.2054196
                      },
                      {
                        "learn": [
                          0.03733108242
                        ],
                        "iteration": 25,
                        "passed_time": 0.8244120534,
                        "remaining_time": 30.88374385
                      },
                      {
                        "learn": [
                          0.03621016739
                        ],
                        "iteration": 26,
                        "passed_time": 0.845671321,
                        "remaining_time": 30.47548872
                      },
                      {
                        "learn": [
                          0.03523576693
                        ],
                        "iteration": 27,
                        "passed_time": 0.8730980789,
                        "remaining_time": 30.30897617
                      },
                      {
                        "learn": [
                          0.03407868506
                        ],
                        "iteration": 28,
                        "passed_time": 0.8973499516,
                        "remaining_time": 30.04575183
                      },
                      {
                        "learn": [
                          0.03246894265
                        ],
                        "iteration": 29,
                        "passed_time": 0.9301237812,
                        "remaining_time": 30.07400226
                      },
                      {
                        "learn": [
                          0.03165600153
                        ],
                        "iteration": 30,
                        "passed_time": 0.9499717156,
                        "remaining_time": 29.69427717
                      },
                      {
                        "learn": [
                          0.03040171445
                        ],
                        "iteration": 31,
                        "passed_time": 0.9713704416,
                        "remaining_time": 29.38395586
                      },
                      {
                        "learn": [
                          0.02943121081
                        ],
                        "iteration": 32,
                        "passed_time": 0.9986865024,
                        "remaining_time": 29.26454084
                      },
                      {
                        "learn": [
                          0.02878093694
                        ],
                        "iteration": 33,
                        "passed_time": 1.022179865,
                        "remaining_time": 29.0419338
                      },
                      {
                        "learn": [
                          0.02796286217
                        ],
                        "iteration": 34,
                        "passed_time": 1.043266006,
                        "remaining_time": 28.76433417
                      },
                      {
                        "learn": [
                          0.02745510647
                        ],
                        "iteration": 35,
                        "passed_time": 1.064048157,
                        "remaining_time": 28.49284509
                      },
                      {
                        "learn": [
                          0.02564696045
                        ],
                        "iteration": 36,
                        "passed_time": 1.092545163,
                        "remaining_time": 28.43570248
                      },
                      {
                        "learn": [
                          0.02502713991
                        ],
                        "iteration": 37,
                        "passed_time": 1.11731549,
                        "remaining_time": 28.28572372
                      },
                      {
                        "learn": [
                          0.0244497073
                        ],
                        "iteration": 38,
                        "passed_time": 1.138370199,
                        "remaining_time": 28.05060926
                      },
                      {
                        "learn": [
                          0.02384435125
                        ],
                        "iteration": 39,
                        "passed_time": 1.162616698,
                        "remaining_time": 27.90280075
                      },
                      {
                        "learn": [
                          0.02328843948
                        ],
                        "iteration": 40,
                        "passed_time": 1.19399094,
                        "remaining_time": 27.92773931
                      },
                      {
                        "learn": [
                          0.02271724404
                        ],
                        "iteration": 41,
                        "passed_time": 1.224563681,
                        "remaining_time": 27.93171444
                      },
                      {
                        "learn": [
                          0.02154514673
                        ],
                        "iteration": 42,
                        "passed_time": 1.251657656,
                        "remaining_time": 27.85665992
                      },
                      {
                        "learn": [
                          0.02112858074
                        ],
                        "iteration": 43,
                        "passed_time": 1.273263736,
                        "remaining_time": 27.66454845
                      },
                      {
                        "learn": [
                          0.02046985467
                        ],
                        "iteration": 44,
                        "passed_time": 1.301812622,
                        "remaining_time": 27.62735675
                      },
                      {
                        "learn": [
                          0.01973850096
                        ],
                        "iteration": 45,
                        "passed_time": 1.326837949,
                        "remaining_time": 27.5174653
                      },
                      {
                        "learn": [
                          0.01937181617
                        ],
                        "iteration": 46,
                        "passed_time": 1.348530472,
                        "remaining_time": 27.34360722
                      },
                      {
                        "learn": [
                          0.01911180075
                        ],
                        "iteration": 47,
                        "passed_time": 1.368092854,
                        "remaining_time": 27.1338416
                      },
                      {
                        "learn": [
                          0.01889710954
                        ],
                        "iteration": 48,
                        "passed_time": 1.390641576,
                        "remaining_time": 26.98979875
                      },
                      {
                        "learn": [
                          0.01848499132
                        ],
                        "iteration": 49,
                        "passed_time": 1.436096802,
                        "remaining_time": 27.28583924
                      },
                      {
                        "learn": [
                          0.0183355453
                        ],
                        "iteration": 50,
                        "passed_time": 1.456651876,
                        "remaining_time": 27.10514961
                      },
                      {
                        "learn": [
                          0.0180572778
                        ],
                        "iteration": 51,
                        "passed_time": 1.480031722,
                        "remaining_time": 26.98211678
                      },
                      {
                        "learn": [
                          0.01778880857
                        ],
                        "iteration": 52,
                        "passed_time": 1.50129652,
                        "remaining_time": 26.82505291
                      },
                      {
                        "learn": [
                          0.01746554455
                        ],
                        "iteration": 53,
                        "passed_time": 1.530831782,
                        "remaining_time": 26.81790493
                      },
                      {
                        "learn": [
                          0.01723354413
                        ],
                        "iteration": 54,
                        "passed_time": 1.566764281,
                        "remaining_time": 26.91985901
                      },
                      {
                        "learn": [
                          0.01704652257
                        ],
                        "iteration": 55,
                        "passed_time": 1.593896201,
                        "remaining_time": 26.86853596
                      },
                      {
                        "learn": [
                          0.01653592377
                        ],
                        "iteration": 56,
                        "passed_time": 1.618441351,
                        "remaining_time": 26.77526656
                      },
                      {
                        "learn": [
                          0.01616270466
                        ],
                        "iteration": 57,
                        "passed_time": 1.642282722,
                        "remaining_time": 26.67293662
                      },
                      {
                        "learn": [
                          0.01599881503
                        ],
                        "iteration": 58,
                        "passed_time": 1.665386358,
                        "remaining_time": 26.56150107
                      },
                      {
                        "learn": [
                          0.01583257704
                        ],
                        "iteration": 59,
                        "passed_time": 1.686045165,
                        "remaining_time": 26.41470759
                      },
                      {
                        "learn": [
                          0.01567635576
                        ],
                        "iteration": 60,
                        "passed_time": 1.707981683,
                        "remaining_time": 26.29171803
                      },
                      {
                        "learn": [
                          0.01530140348
                        ],
                        "iteration": 61,
                        "passed_time": 1.730656362,
                        "remaining_time": 26.18315592
                      },
                      {
                        "learn": [
                          0.01513032257
                        ],
                        "iteration": 62,
                        "passed_time": 1.75343909,
                        "remaining_time": 26.07892742
                      },
                      {
                        "learn": [
                          0.01502697337
                        ],
                        "iteration": 63,
                        "passed_time": 1.778157496,
                        "remaining_time": 26.00555337
                      },
                      {
                        "learn": [
                          0.0148593845
                        ],
                        "iteration": 64,
                        "passed_time": 1.800044136,
                        "remaining_time": 25.89294257
                      },
                      {
                        "learn": [
                          0.01468803052
                        ],
                        "iteration": 65,
                        "passed_time": 1.824799775,
                        "remaining_time": 25.82368166
                      },
                      {
                        "learn": [
                          0.01441267038
                        ],
                        "iteration": 66,
                        "passed_time": 1.851735107,
                        "remaining_time": 25.78610231
                      },
                      {
                        "learn": [
                          0.01431735736
                        ],
                        "iteration": 67,
                        "passed_time": 1.879550389,
                        "remaining_time": 25.7608965
                      },
                      {
                        "learn": [
                          0.01426626182
                        ],
                        "iteration": 68,
                        "passed_time": 1.901604442,
                        "remaining_time": 25.65788023
                      },
                      {
                        "learn": [
                          0.0141062401
                        ],
                        "iteration": 69,
                        "passed_time": 1.932480062,
                        "remaining_time": 25.67437797
                      },
                      {
                        "learn": [
                          0.01379034726
                        ],
                        "iteration": 70,
                        "passed_time": 1.956379754,
                        "remaining_time": 25.59826466
                      },
                      {
                        "learn": [
                          0.01358057124
                        ],
                        "iteration": 71,
                        "passed_time": 1.988615606,
                        "remaining_time": 25.63104559
                      },
                      {
                        "learn": [
                          0.01352602061
                        ],
                        "iteration": 72,
                        "passed_time": 2.009680465,
                        "remaining_time": 25.52018892
                      },
                      {
                        "learn": [
                          0.0133557854
                        ],
                        "iteration": 73,
                        "passed_time": 2.032088914,
                        "remaining_time": 25.42857209
                      },
                      {
                        "learn": [
                          0.01321292349
                        ],
                        "iteration": 74,
                        "passed_time": 2.053000281,
                        "remaining_time": 25.3203368
                      },
                      {
                        "learn": [
                          0.01303072717
                        ],
                        "iteration": 75,
                        "passed_time": 2.076970519,
                        "remaining_time": 25.25158894
                      },
                      {
                        "learn": [
                          0.01291287172
                        ],
                        "iteration": 76,
                        "passed_time": 2.100197015,
                        "remaining_time": 25.1750889
                      },
                      {
                        "learn": [
                          0.01282576354
                        ],
                        "iteration": 77,
                        "passed_time": 2.124336011,
                        "remaining_time": 25.11074105
                      },
                      {
                        "learn": [
                          0.01265581023
                        ],
                        "iteration": 78,
                        "passed_time": 2.147455989,
                        "remaining_time": 25.03553121
                      },
                      {
                        "learn": [
                          0.01260012557
                        ],
                        "iteration": 79,
                        "passed_time": 2.176900252,
                        "remaining_time": 25.0343529
                      },
                      {
                        "learn": [
                          0.0125196505
                        ],
                        "iteration": 80,
                        "passed_time": 2.207118081,
                        "remaining_time": 25.04125328
                      },
                      {
                        "learn": [
                          0.01236619362
                        ],
                        "iteration": 81,
                        "passed_time": 2.231469386,
                        "remaining_time": 24.98157191
                      },
                      {
                        "learn": [
                          0.01234489845
                        ],
                        "iteration": 82,
                        "passed_time": 2.251227557,
                        "remaining_time": 24.87199602
                      },
                      {
                        "learn": [
                          0.0122319076
                        ],
                        "iteration": 83,
                        "passed_time": 2.275503238,
                        "remaining_time": 24.81382103
                      },
                      {
                        "learn": [
                          0.01212856884
                        ],
                        "iteration": 84,
                        "passed_time": 2.298852367,
                        "remaining_time": 24.7464696
                      },
                      {
                        "learn": [
                          0.01210577823
                        ],
                        "iteration": 85,
                        "passed_time": 2.322601032,
                        "remaining_time": 24.68438771
                      },
                      {
                        "learn": [
                          0.01202862333
                        ],
                        "iteration": 86,
                        "passed_time": 2.343797869,
                        "remaining_time": 24.59640752
                      },
                      {
                        "learn": [
                          0.0119284433
                        ],
                        "iteration": 87,
                        "passed_time": 2.367771922,
                        "remaining_time": 24.53872719
                      },
                      {
                        "learn": [
                          0.01182482264
                        ],
                        "iteration": 88,
                        "passed_time": 2.391692819,
                        "remaining_time": 24.4812602
                      },
                      {
                        "learn": [
                          0.01176810434
                        ],
                        "iteration": 89,
                        "passed_time": 2.439637422,
                        "remaining_time": 24.66744505
                      },
                      {
                        "learn": [
                          0.0117417189
                        ],
                        "iteration": 90,
                        "passed_time": 2.460459011,
                        "remaining_time": 24.5775521
                      },
                      {
                        "learn": [
                          0.01157546163
                        ],
                        "iteration": 91,
                        "passed_time": 2.481888919,
                        "remaining_time": 24.49516454
                      },
                      {
                        "learn": [
                          0.01146630334
                        ],
                        "iteration": 92,
                        "passed_time": 2.503524754,
                        "remaining_time": 24.41609625
                      },
                      {
                        "learn": [
                          0.01133881025
                        ],
                        "iteration": 93,
                        "passed_time": 2.526549076,
                        "remaining_time": 24.35163259
                      },
                      {
                        "learn": [
                          0.01122014202
                        ],
                        "iteration": 94,
                        "passed_time": 2.549367665,
                        "remaining_time": 24.28608144
                      },
                      {
                        "learn": [
                          0.01108241135
                        ],
                        "iteration": 95,
                        "passed_time": 2.575212066,
                        "remaining_time": 24.24991362
                      },
                      {
                        "learn": [
                          0.01102515576
                        ],
                        "iteration": 96,
                        "passed_time": 2.598337845,
                        "remaining_time": 24.18865024
                      },
                      {
                        "learn": [
                          0.0110048597
                        ],
                        "iteration": 97,
                        "passed_time": 2.618473143,
                        "remaining_time": 24.10064056
                      },
                      {
                        "learn": [
                          0.01095940137
                        ],
                        "iteration": 98,
                        "passed_time": 2.648665522,
                        "remaining_time": 24.10553167
                      },
                      {
                        "learn": [
                          0.01089106249
                        ],
                        "iteration": 99,
                        "passed_time": 2.674993764,
                        "remaining_time": 24.07494387
                      },
                      {
                        "learn": [
                          0.01083938227
                        ],
                        "iteration": 100,
                        "passed_time": 2.697981134,
                        "remaining_time": 24.01470336
                      },
                      {
                        "learn": [
                          0.01076979853
                        ],
                        "iteration": 101,
                        "passed_time": 2.721802435,
                        "remaining_time": 23.96253516
                      },
                      {
                        "learn": [
                          0.01070922999
                        ],
                        "iteration": 102,
                        "passed_time": 2.743050727,
                        "remaining_time": 23.88850973
                      },
                      {
                        "learn": [
                          0.01064983083
                        ],
                        "iteration": 103,
                        "passed_time": 2.76614059,
                        "remaining_time": 23.83136509
                      },
                      {
                        "learn": [
                          0.01053934817
                        ],
                        "iteration": 104,
                        "passed_time": 2.788735963,
                        "remaining_time": 23.77065416
                      },
                      {
                        "learn": [
                          0.01044779864
                        ],
                        "iteration": 105,
                        "passed_time": 2.810578459,
                        "remaining_time": 23.70431267
                      },
                      {
                        "learn": [
                          0.01039073741
                        ],
                        "iteration": 106,
                        "passed_time": 2.833447794,
                        "remaining_time": 23.64737271
                      },
                      {
                        "learn": [
                          0.01031453823
                        ],
                        "iteration": 107,
                        "passed_time": 2.857146388,
                        "remaining_time": 23.59791276
                      },
                      {
                        "learn": [
                          0.01016819553
                        ],
                        "iteration": 108,
                        "passed_time": 2.884560891,
                        "remaining_time": 23.57930049
                      },
                      {
                        "learn": [
                          0.01012789736
                        ],
                        "iteration": 109,
                        "passed_time": 2.906995828,
                        "remaining_time": 23.52023897
                      },
                      {
                        "learn": [
                          0.01006313565
                        ],
                        "iteration": 110,
                        "passed_time": 2.9314479,
                        "remaining_time": 23.47799264
                      },
                      {
                        "learn": [
                          0.0100247658
                        ],
                        "iteration": 111,
                        "passed_time": 2.953556298,
                        "remaining_time": 23.41748208
                      },
                      {
                        "learn": [
                          0.009977188805
                        ],
                        "iteration": 112,
                        "passed_time": 2.975846642,
                        "remaining_time": 23.35907939
                      },
                      {
                        "learn": [
                          0.009874304619
                        ],
                        "iteration": 113,
                        "passed_time": 3.000946118,
                        "remaining_time": 23.32314264
                      },
                      {
                        "learn": [
                          0.009831543226
                        ],
                        "iteration": 114,
                        "passed_time": 3.023346412,
                        "remaining_time": 23.26662239
                      },
                      {
                        "learn": [
                          0.009812565112
                        ],
                        "iteration": 115,
                        "passed_time": 3.042688176,
                        "remaining_time": 23.18738231
                      },
                      {
                        "learn": [
                          0.009768771689
                        ],
                        "iteration": 116,
                        "passed_time": 3.068371081,
                        "remaining_time": 23.15702277
                      },
                      {
                        "learn": [
                          0.009741634512
                        ],
                        "iteration": 117,
                        "passed_time": 3.094450904,
                        "remaining_time": 23.1297093
                      },
                      {
                        "learn": [
                          0.00971754845
                        ],
                        "iteration": 118,
                        "passed_time": 3.116274199,
                        "remaining_time": 23.07090395
                      },
                      {
                        "learn": [
                          0.009703009271
                        ],
                        "iteration": 119,
                        "passed_time": 3.135359351,
                        "remaining_time": 22.99263524
                      },
                      {
                        "learn": [
                          0.009664305323
                        ],
                        "iteration": 120,
                        "passed_time": 3.156098315,
                        "remaining_time": 22.92735883
                      },
                      {
                        "learn": [
                          0.009629299819
                        ],
                        "iteration": 121,
                        "passed_time": 3.199575712,
                        "remaining_time": 23.02645471
                      },
                      {
                        "learn": [
                          0.009594740055
                        ],
                        "iteration": 122,
                        "passed_time": 3.222772538,
                        "remaining_time": 22.97863021
                      },
                      {
                        "learn": [
                          0.009575729013
                        ],
                        "iteration": 123,
                        "passed_time": 3.243862973,
                        "remaining_time": 22.91632229
                      },
                      {
                        "learn": [
                          0.009539406364
                        ],
                        "iteration": 124,
                        "passed_time": 3.268593054,
                        "remaining_time": 22.88015138
                      },
                      {
                        "learn": [
                          0.009461999272
                        ],
                        "iteration": 125,
                        "passed_time": 3.301892917,
                        "remaining_time": 22.90360642
                      },
                      {
                        "learn": [
                          0.009430386216
                        ],
                        "iteration": 126,
                        "passed_time": 3.323526216,
                        "remaining_time": 22.84597155
                      },
                      {
                        "learn": [
                          0.00941163298
                        ],
                        "iteration": 127,
                        "passed_time": 3.343715685,
                        "remaining_time": 22.7790631
                      },
                      {
                        "learn": [
                          0.009393117473
                        ],
                        "iteration": 128,
                        "passed_time": 3.366202145,
                        "remaining_time": 22.72838813
                      },
                      {
                        "learn": [
                          0.00935500624
                        ],
                        "iteration": 129,
                        "passed_time": 3.410125096,
                        "remaining_time": 22.82160641
                      },
                      {
                        "learn": [
                          0.0093010427
                        ],
                        "iteration": 130,
                        "passed_time": 3.450098244,
                        "remaining_time": 22.88652957
                      },
                      {
                        "learn": [
                          0.009277035346
                        ],
                        "iteration": 131,
                        "passed_time": 3.486073338,
                        "remaining_time": 22.92357316
                      },
                      {
                        "learn": [
                          0.009239822019
                        ],
                        "iteration": 132,
                        "passed_time": 3.526632707,
                        "remaining_time": 22.98940269
                      },
                      {
                        "learn": [
                          0.009230554628
                        ],
                        "iteration": 133,
                        "passed_time": 3.561480372,
                        "remaining_time": 23.01673136
                      },
                      {
                        "learn": [
                          0.009208291686
                        ],
                        "iteration": 134,
                        "passed_time": 3.602397847,
                        "remaining_time": 23.08203065
                      },
                      {
                        "learn": [
                          0.009180101597
                        ],
                        "iteration": 135,
                        "passed_time": 3.647419876,
                        "remaining_time": 23.17184392
                      },
                      {
                        "learn": [
                          0.009153688046
                        ],
                        "iteration": 136,
                        "passed_time": 3.722958208,
                        "remaining_time": 23.45191922
                      },
                      {
                        "learn": [
                          0.009123230703
                        ],
                        "iteration": 137,
                        "passed_time": 3.796181436,
                        "remaining_time": 23.7123797
                      },
                      {
                        "learn": [
                          0.00907209581
                        ],
                        "iteration": 138,
                        "passed_time": 3.874603797,
                        "remaining_time": 24.00024367
                      },
                      {
                        "learn": [
                          0.009046405885
                        ],
                        "iteration": 139,
                        "passed_time": 3.946857403,
                        "remaining_time": 24.24498119
                      },
                      {
                        "learn": [
                          0.009029887778
                        ],
                        "iteration": 140,
                        "passed_time": 4.020845731,
                        "remaining_time": 24.49579066
                      },
                      {
                        "learn": [
                          0.009020695881
                        ],
                        "iteration": 141,
                        "passed_time": 4.093819315,
                        "remaining_time": 24.73589417
                      },
                      {
                        "learn": [
                          0.008995973736
                        ],
                        "iteration": 142,
                        "passed_time": 4.172003667,
                        "remaining_time": 25.00284715
                      },
                      {
                        "learn": [
                          0.008947902808
                        ],
                        "iteration": 143,
                        "passed_time": 4.255172029,
                        "remaining_time": 25.29463373
                      },
                      {
                        "learn": [
                          0.00891883971
                        ],
                        "iteration": 144,
                        "passed_time": 4.328905664,
                        "remaining_time": 25.52561615
                      },
                      {
                        "learn": [
                          0.008903592968
                        ],
                        "iteration": 145,
                        "passed_time": 4.401530848,
                        "remaining_time": 25.74594071
                      },
                      {
                        "learn": [
                          0.008890035222
                        ],
                        "iteration": 146,
                        "passed_time": 4.473981171,
                        "remaining_time": 25.96126489
                      },
                      {
                        "learn": [
                          0.008877650055
                        ],
                        "iteration": 147,
                        "passed_time": 4.544526125,
                        "remaining_time": 26.16173147
                      },
                      {
                        "learn": [
                          0.008859316859
                        ],
                        "iteration": 148,
                        "passed_time": 4.623169685,
                        "remaining_time": 26.40481478
                      },
                      {
                        "learn": [
                          0.008801922321
                        ],
                        "iteration": 149,
                        "passed_time": 4.697758017,
                        "remaining_time": 26.62062876
                      },
                      {
                        "learn": [
                          0.008793527939
                        ],
                        "iteration": 150,
                        "passed_time": 4.768928601,
                        "remaining_time": 26.81338002
                      },
                      {
                        "learn": [
                          0.008706293669
                        ],
                        "iteration": 151,
                        "passed_time": 4.84763829,
                        "remaining_time": 27.04471888
                      },
                      {
                        "learn": [
                          0.008675214698
                        ],
                        "iteration": 152,
                        "passed_time": 4.926087578,
                        "remaining_time": 27.27056326
                      },
                      {
                        "learn": [
                          0.008662042458
                        ],
                        "iteration": 153,
                        "passed_time": 5.000362764,
                        "remaining_time": 27.46952531
                      },
                      {
                        "learn": [
                          0.008593454606
                        ],
                        "iteration": 154,
                        "passed_time": 5.079078936,
                        "remaining_time": 27.68917226
                      },
                      {
                        "learn": [
                          0.008548708663
                        ],
                        "iteration": 155,
                        "passed_time": 5.154972415,
                        "remaining_time": 27.88972255
                      },
                      {
                        "learn": [
                          0.008535569351
                        ],
                        "iteration": 156,
                        "passed_time": 5.229630399,
                        "remaining_time": 28.08011737
                      },
                      {
                        "learn": [
                          0.008525163916
                        ],
                        "iteration": 157,
                        "passed_time": 5.300557491,
                        "remaining_time": 28.24727473
                      },
                      {
                        "learn": [
                          0.008490409793
                        ],
                        "iteration": 158,
                        "passed_time": 5.37564477,
                        "remaining_time": 28.43344183
                      },
                      {
                        "learn": [
                          0.008474385615
                        ],
                        "iteration": 159,
                        "passed_time": 5.445903646,
                        "remaining_time": 28.59099414
                      },
                      {
                        "learn": [
                          0.008449050676
                        ],
                        "iteration": 160,
                        "passed_time": 5.532861141,
                        "remaining_time": 28.83273601
                      },
                      {
                        "learn": [
                          0.008440308536
                        ],
                        "iteration": 161,
                        "passed_time": 5.613594499,
                        "remaining_time": 29.0382234
                      },
                      {
                        "learn": [
                          0.008392798197
                        ],
                        "iteration": 162,
                        "passed_time": 5.70145535,
                        "remaining_time": 29.27679833
                      },
                      {
                        "learn": [
                          0.008385216589
                        ],
                        "iteration": 163,
                        "passed_time": 5.778399903,
                        "remaining_time": 29.45574585
                      },
                      {
                        "learn": [
                          0.008374325256
                        ],
                        "iteration": 164,
                        "passed_time": 5.853124851,
                        "remaining_time": 29.6203591
                      },
                      {
                        "learn": [
                          0.008304005843
                        ],
                        "iteration": 165,
                        "passed_time": 5.937552989,
                        "remaining_time": 29.83083851
                      },
                      {
                        "learn": [
                          0.008272251435
                        ],
                        "iteration": 166,
                        "passed_time": 6.022541624,
                        "remaining_time": 30.04058187
                      },
                      {
                        "learn": [
                          0.008251056664
                        ],
                        "iteration": 167,
                        "passed_time": 6.105925716,
                        "remaining_time": 30.23887021
                      },
                      {
                        "learn": [
                          0.008234886315
                        ],
                        "iteration": 168,
                        "passed_time": 6.187286464,
                        "remaining_time": 30.42387605
                      },
                      {
                        "learn": [
                          0.008221531763
                        ],
                        "iteration": 169,
                        "passed_time": 6.268386717,
                        "remaining_time": 30.60447632
                      },
                      {
                        "learn": [
                          0.008197183075
                        ],
                        "iteration": 170,
                        "passed_time": 6.35652063,
                        "remaining_time": 30.81611464
                      },
                      {
                        "learn": [
                          0.00818093161
                        ],
                        "iteration": 171,
                        "passed_time": 6.442527937,
                        "remaining_time": 31.01402984
                      },
                      {
                        "learn": [
                          0.008167327282
                        ],
                        "iteration": 172,
                        "passed_time": 6.527728518,
                        "remaining_time": 31.20480627
                      },
                      {
                        "learn": [
                          0.008150956952
                        ],
                        "iteration": 173,
                        "passed_time": 6.612862146,
                        "remaining_time": 31.39209272
                      },
                      {
                        "learn": [
                          0.008143362494
                        ],
                        "iteration": 174,
                        "passed_time": 6.698503543,
                        "remaining_time": 31.57865956
                      },
                      {
                        "learn": [
                          0.008124675918
                        ],
                        "iteration": 175,
                        "passed_time": 6.791105497,
                        "remaining_time": 31.79472119
                      },
                      {
                        "learn": [
                          0.008113473771
                        ],
                        "iteration": 176,
                        "passed_time": 6.876915634,
                        "remaining_time": 31.97571507
                      },
                      {
                        "learn": [
                          0.008106225465
                        ],
                        "iteration": 177,
                        "passed_time": 6.965050032,
                        "remaining_time": 32.16444453
                      },
                      {
                        "learn": [
                          0.008088406277
                        ],
                        "iteration": 178,
                        "passed_time": 7.053173732,
                        "remaining_time": 32.35003148
                      },
                      {
                        "learn": [
                          0.008065849387
                        ],
                        "iteration": 179,
                        "passed_time": 7.146402018,
                        "remaining_time": 32.55583141
                      },
                      {
                        "learn": [
                          0.008051224273
                        ],
                        "iteration": 180,
                        "passed_time": 7.233043636,
                        "remaining_time": 32.72852341
                      },
                      {
                        "learn": [
                          0.008028517197
                        ],
                        "iteration": 181,
                        "passed_time": 7.322532869,
                        "remaining_time": 32.91116422
                      },
                      {
                        "learn": [
                          0.008016385018
                        ],
                        "iteration": 182,
                        "passed_time": 7.4071021,
                        "remaining_time": 33.06886566
                      },
                      {
                        "learn": [
                          0.008003726784
                        ],
                        "iteration": 183,
                        "passed_time": 7.501553105,
                        "remaining_time": 33.26775725
                      },
                      {
                        "learn": [
                          0.007983923046
                        ],
                        "iteration": 184,
                        "passed_time": 7.574416764,
                        "remaining_time": 33.36837655
                      },
                      {
                        "learn": [
                          0.007965231652
                        ],
                        "iteration": 185,
                        "passed_time": 7.620996226,
                        "remaining_time": 33.35210176
                      },
                      {
                        "learn": [
                          0.007957000307
                        ],
                        "iteration": 186,
                        "passed_time": 7.651754826,
                        "remaining_time": 33.26672018
                      },
                      {
                        "learn": [
                          0.007948171428
                        ],
                        "iteration": 187,
                        "passed_time": 7.679151478,
                        "remaining_time": 33.16739894
                      },
                      {
                        "learn": [
                          0.007937169262
                        ],
                        "iteration": 188,
                        "passed_time": 7.710571827,
                        "remaining_time": 33.08610451
                      },
                      {
                        "learn": [
                          0.007929452727
                        ],
                        "iteration": 189,
                        "passed_time": 7.737340985,
                        "remaining_time": 32.98550631
                      },
                      {
                        "learn": [
                          0.007917561489
                        ],
                        "iteration": 190,
                        "passed_time": 7.765237854,
                        "remaining_time": 32.89045771
                      },
                      {
                        "learn": [
                          0.007907249217
                        ],
                        "iteration": 191,
                        "passed_time": 7.799967499,
                        "remaining_time": 32.82486322
                      },
                      {
                        "learn": [
                          0.007894292217
                        ],
                        "iteration": 192,
                        "passed_time": 7.828161407,
                        "remaining_time": 32.73226039
                      },
                      {
                        "learn": [
                          0.007874044345
                        ],
                        "iteration": 193,
                        "passed_time": 7.854582289,
                        "remaining_time": 32.63295528
                      },
                      {
                        "learn": [
                          0.007863183531
                        ],
                        "iteration": 194,
                        "passed_time": 7.876083362,
                        "remaining_time": 32.51408772
                      },
                      {
                        "learn": [
                          0.007855481452
                        ],
                        "iteration": 195,
                        "passed_time": 7.898775062,
                        "remaining_time": 32.4010977
                      },
                      {
                        "learn": [
                          0.007814372111
                        ],
                        "iteration": 196,
                        "passed_time": 7.923044906,
                        "remaining_time": 32.29545716
                      },
                      {
                        "learn": [
                          0.007803450259
                        ],
                        "iteration": 197,
                        "passed_time": 7.952053916,
                        "remaining_time": 32.20983455
                      },
                      {
                        "learn": [
                          0.007783848911
                        ],
                        "iteration": 198,
                        "passed_time": 7.972955697,
                        "remaining_time": 32.09214831
                      },
                      {
                        "learn": [
                          0.007770820432
                        ],
                        "iteration": 199,
                        "passed_time": 7.996037957,
                        "remaining_time": 31.98415183
                      },
                      {
                        "learn": [
                          0.007748314943
                        ],
                        "iteration": 200,
                        "passed_time": 8.018789352,
                        "remaining_time": 31.87568504
                      },
                      {
                        "learn": [
                          0.007725873704
                        ],
                        "iteration": 201,
                        "passed_time": 8.039866429,
                        "remaining_time": 31.76145253
                      },
                      {
                        "learn": [
                          0.007712843619
                        ],
                        "iteration": 202,
                        "passed_time": 8.062347618,
                        "remaining_time": 31.6536505
                      },
                      {
                        "learn": [
                          0.007709041571
                        ],
                        "iteration": 203,
                        "passed_time": 8.0828872,
                        "remaining_time": 31.53910888
                      },
                      {
                        "learn": [
                          0.007698338172
                        ],
                        "iteration": 204,
                        "passed_time": 8.104969674,
                        "remaining_time": 31.43146776
                      },
                      {
                        "learn": [
                          0.00768988757
                        ],
                        "iteration": 205,
                        "passed_time": 8.126103809,
                        "remaining_time": 31.32100206
                      },
                      {
                        "learn": [
                          0.007678027655
                        ],
                        "iteration": 206,
                        "passed_time": 8.150484312,
                        "remaining_time": 31.22383604
                      },
                      {
                        "learn": [
                          0.007644980197
                        ],
                        "iteration": 207,
                        "passed_time": 8.17972178,
                        "remaining_time": 31.1458637
                      },
                      {
                        "learn": [
                          0.007639644158
                        ],
                        "iteration": 208,
                        "passed_time": 8.202470916,
                        "remaining_time": 31.04380141
                      },
                      {
                        "learn": [
                          0.007593162637
                        ],
                        "iteration": 209,
                        "passed_time": 8.224522597,
                        "remaining_time": 30.93987072
                      },
                      {
                        "learn": [
                          0.007582294595
                        ],
                        "iteration": 210,
                        "passed_time": 8.259329479,
                        "remaining_time": 30.88441213
                      },
                      {
                        "learn": [
                          0.0075736151
                        ],
                        "iteration": 211,
                        "passed_time": 8.291671708,
                        "remaining_time": 30.81998729
                      },
                      {
                        "learn": [
                          0.007566141915
                        ],
                        "iteration": 212,
                        "passed_time": 8.313442533,
                        "remaining_time": 30.7168041
                      },
                      {
                        "learn": [
                          0.00755932409
                        ],
                        "iteration": 213,
                        "passed_time": 8.335316347,
                        "remaining_time": 30.61476004
                      },
                      {
                        "learn": [
                          0.007548307468
                        ],
                        "iteration": 214,
                        "passed_time": 8.35774751,
                        "remaining_time": 30.51549672
                      },
                      {
                        "learn": [
                          0.007518595435
                        ],
                        "iteration": 215,
                        "passed_time": 8.38513066,
                        "remaining_time": 30.43491869
                      },
                      {
                        "learn": [
                          0.007508821265
                        ],
                        "iteration": 216,
                        "passed_time": 8.407246646,
                        "remaining_time": 30.33582545
                      },
                      {
                        "learn": [
                          0.007483757786
                        ],
                        "iteration": 217,
                        "passed_time": 8.430556352,
                        "remaining_time": 30.24172049
                      },
                      {
                        "learn": [
                          0.007472031191
                        ],
                        "iteration": 218,
                        "passed_time": 8.45256713,
                        "remaining_time": 30.14362981
                      },
                      {
                        "learn": [
                          0.007458423651
                        ],
                        "iteration": 219,
                        "passed_time": 8.476277912,
                        "remaining_time": 30.05225805
                      },
                      {
                        "learn": [
                          0.00743516241
                        ],
                        "iteration": 220,
                        "passed_time": 8.506990631,
                        "remaining_time": 29.98617964
                      },
                      {
                        "learn": [
                          0.007426477293
                        ],
                        "iteration": 221,
                        "passed_time": 8.530828405,
                        "remaining_time": 29.89632657
                      },
                      {
                        "learn": [
                          0.007417190626
                        ],
                        "iteration": 222,
                        "passed_time": 8.552051384,
                        "remaining_time": 29.79795482
                      },
                      {
                        "learn": [
                          0.007405929851
                        ],
                        "iteration": 223,
                        "passed_time": 8.574071349,
                        "remaining_time": 29.70303289
                      },
                      {
                        "learn": [
                          0.00739827596
                        ],
                        "iteration": 224,
                        "passed_time": 8.594965322,
                        "remaining_time": 29.60488055
                      },
                      {
                        "learn": [
                          0.007393608131
                        ],
                        "iteration": 225,
                        "passed_time": 8.636758643,
                        "remaining_time": 29.57898757
                      },
                      {
                        "learn": [
                          0.007388335541
                        ],
                        "iteration": 226,
                        "passed_time": 8.658499217,
                        "remaining_time": 29.48466914
                      },
                      {
                        "learn": [
                          0.007382827631
                        ],
                        "iteration": 227,
                        "passed_time": 8.679480032,
                        "remaining_time": 29.38841484
                      },
                      {
                        "learn": [
                          0.007373966627
                        ],
                        "iteration": 228,
                        "passed_time": 8.706289481,
                        "remaining_time": 29.31244188
                      },
                      {
                        "learn": [
                          0.00736978068
                        ],
                        "iteration": 229,
                        "passed_time": 8.728619187,
                        "remaining_time": 29.22189902
                      },
                      {
                        "learn": [
                          0.007363204599
                        ],
                        "iteration": 230,
                        "passed_time": 8.748738796,
                        "remaining_time": 29.12458932
                      },
                      {
                        "learn": [
                          0.007349745638
                        ],
                        "iteration": 231,
                        "passed_time": 8.770596649,
                        "remaining_time": 29.03369925
                      },
                      {
                        "learn": [
                          0.007343199273
                        ],
                        "iteration": 232,
                        "passed_time": 8.792672657,
                        "remaining_time": 28.94411986
                      },
                      {
                        "learn": [
                          0.007335173531
                        ],
                        "iteration": 233,
                        "passed_time": 8.81600785,
                        "remaining_time": 28.85923937
                      },
                      {
                        "learn": [
                          0.007319579031
                        ],
                        "iteration": 234,
                        "passed_time": 8.841952015,
                        "remaining_time": 28.78337571
                      },
                      {
                        "learn": [
                          0.007314291181
                        ],
                        "iteration": 235,
                        "passed_time": 8.863443513,
                        "remaining_time": 28.69352052
                      },
                      {
                        "learn": [
                          0.007309547857
                        ],
                        "iteration": 236,
                        "passed_time": 8.883875295,
                        "remaining_time": 28.60083059
                      },
                      {
                        "learn": [
                          0.007290265354
                        ],
                        "iteration": 237,
                        "passed_time": 8.906887263,
                        "remaining_time": 28.5170088
                      },
                      {
                        "learn": [
                          0.007285923599
                        ],
                        "iteration": 238,
                        "passed_time": 8.929761099,
                        "remaining_time": 28.43325605
                      },
                      {
                        "learn": [
                          0.007281503136
                        ],
                        "iteration": 239,
                        "passed_time": 8.952236951,
                        "remaining_time": 28.34875035
                      },
                      {
                        "learn": [
                          0.007275031462
                        ],
                        "iteration": 240,
                        "passed_time": 8.977486424,
                        "remaining_time": 28.27349459
                      },
                      {
                        "learn": [
                          0.007249457189
                        ],
                        "iteration": 241,
                        "passed_time": 8.999578334,
                        "remaining_time": 28.18876189
                      },
                      {
                        "learn": [
                          0.007228306591
                        ],
                        "iteration": 242,
                        "passed_time": 9.023262589,
                        "remaining_time": 28.10950527
                      },
                      {
                        "learn": [
                          0.007211708974
                        ],
                        "iteration": 243,
                        "passed_time": 9.058408359,
                        "remaining_time": 28.06621606
                      },
                      {
                        "learn": [
                          0.007197520765
                        ],
                        "iteration": 244,
                        "passed_time": 9.080145369,
                        "remaining_time": 27.98167246
                      },
                      {
                        "learn": [
                          0.007192273072
                        ],
                        "iteration": 245,
                        "passed_time": 9.101870886,
                        "remaining_time": 27.89760426
                      },
                      {
                        "learn": [
                          0.007180714332
                        ],
                        "iteration": 246,
                        "passed_time": 9.126320807,
                        "remaining_time": 27.82234643
                      },
                      {
                        "learn": [
                          0.007155970502
                        ],
                        "iteration": 247,
                        "passed_time": 9.150598516,
                        "remaining_time": 27.74697615
                      },
                      {
                        "learn": [
                          0.007147716669
                        ],
                        "iteration": 248,
                        "passed_time": 9.17342607,
                        "remaining_time": 27.66764248
                      },
                      {
                        "learn": [
                          0.007130233192
                        ],
                        "iteration": 249,
                        "passed_time": 9.196780492,
                        "remaining_time": 27.59034148
                      },
                      {
                        "learn": [
                          0.007110688064
                        ],
                        "iteration": 250,
                        "passed_time": 9.22063546,
                        "remaining_time": 27.51496398
                      },
                      {
                        "learn": [
                          0.007098396864
                        ],
                        "iteration": 251,
                        "passed_time": 9.254556025,
                        "remaining_time": 27.46987264
                      },
                      {
                        "learn": [
                          0.007084823858
                        ],
                        "iteration": 252,
                        "passed_time": 9.280348019,
                        "remaining_time": 27.40086945
                      },
                      {
                        "learn": [
                          0.007070157784
                        ],
                        "iteration": 253,
                        "passed_time": 9.301373371,
                        "remaining_time": 27.31820683
                      },
                      {
                        "learn": [
                          0.007066119614
                        ],
                        "iteration": 254,
                        "passed_time": 9.322310863,
                        "remaining_time": 27.23577095
                      },
                      {
                        "learn": [
                          0.007059972408
                        ],
                        "iteration": 255,
                        "passed_time": 9.345099972,
                        "remaining_time": 27.15919679
                      },
                      {
                        "learn": [
                          0.007055815373
                        ],
                        "iteration": 256,
                        "passed_time": 9.366209329,
                        "remaining_time": 27.07818495
                      },
                      {
                        "learn": [
                          0.007050480138
                        ],
                        "iteration": 257,
                        "passed_time": 9.388363705,
                        "remaining_time": 27.0006429
                      },
                      {
                        "learn": [
                          0.007016827115
                        ],
                        "iteration": 258,
                        "passed_time": 9.410441529,
                        "remaining_time": 26.92330955
                      },
                      {
                        "learn": [
                          0.007005294879
                        ],
                        "iteration": 259,
                        "passed_time": 9.43484159,
                        "remaining_time": 26.85301068
                      },
                      {
                        "learn": [
                          0.006998833647
                        ],
                        "iteration": 260,
                        "passed_time": 9.457618126,
                        "remaining_time": 26.77846665
                      },
                      {
                        "learn": [
                          0.00698865068
                        ],
                        "iteration": 261,
                        "passed_time": 9.484558855,
                        "remaining_time": 26.71604746
                      },
                      {
                        "learn": [
                          0.006981367839
                        ],
                        "iteration": 262,
                        "passed_time": 9.508365935,
                        "remaining_time": 26.64511671
                      },
                      {
                        "learn": [
                          0.00697253896
                        ],
                        "iteration": 263,
                        "passed_time": 9.530696827,
                        "remaining_time": 26.57042752
                      },
                      {
                        "learn": [
                          0.006964231317
                        ],
                        "iteration": 264,
                        "passed_time": 9.552627141,
                        "remaining_time": 26.49502245
                      },
                      {
                        "learn": [
                          0.006959342625
                        ],
                        "iteration": 265,
                        "passed_time": 9.577215486,
                        "remaining_time": 26.42735401
                      },
                      {
                        "learn": [
                          0.006954833014
                        ],
                        "iteration": 266,
                        "passed_time": 9.599509153,
                        "remaining_time": 26.35370865
                      },
                      {
                        "learn": [
                          0.006934683927
                        ],
                        "iteration": 267,
                        "passed_time": 9.639939658,
                        "remaining_time": 26.32998444
                      },
                      {
                        "learn": [
                          0.006925670327
                        ],
                        "iteration": 268,
                        "passed_time": 9.662852651,
                        "remaining_time": 26.25853267
                      },
                      {
                        "learn": [
                          0.006913216894
                        ],
                        "iteration": 269,
                        "passed_time": 9.688648159,
                        "remaining_time": 26.19523391
                      },
                      {
                        "learn": [
                          0.006907573254
                        ],
                        "iteration": 270,
                        "passed_time": 9.710695351,
                        "remaining_time": 26.12212882
                      },
                      {
                        "learn": [
                          0.006893222812
                        ],
                        "iteration": 271,
                        "passed_time": 9.734362492,
                        "remaining_time": 26.05373491
                      },
                      {
                        "learn": [
                          0.006880407967
                        ],
                        "iteration": 272,
                        "passed_time": 9.75729818,
                        "remaining_time": 25.98372079
                      },
                      {
                        "learn": [
                          0.006873008671
                        ],
                        "iteration": 273,
                        "passed_time": 9.779693251,
                        "remaining_time": 25.91261788
                      },
                      {
                        "learn": [
                          0.006860654827
                        ],
                        "iteration": 274,
                        "passed_time": 9.801862297,
                        "remaining_time": 25.84127333
                      },
                      {
                        "learn": [
                          0.006853731791
                        ],
                        "iteration": 275,
                        "passed_time": 9.824634559,
                        "remaining_time": 25.77186747
                      },
                      {
                        "learn": [
                          0.006849092875
                        ],
                        "iteration": 276,
                        "passed_time": 9.846897242,
                        "remaining_time": 25.70146825
                      },
                      {
                        "learn": [
                          0.006843206688
                        ],
                        "iteration": 277,
                        "passed_time": 9.869091226,
                        "remaining_time": 25.63123693
                      },
                      {
                        "learn": [
                          0.006835227527
                        ],
                        "iteration": 278,
                        "passed_time": 9.893173842,
                        "remaining_time": 25.56623061
                      },
                      {
                        "learn": [
                          0.006829704358
                        ],
                        "iteration": 279,
                        "passed_time": 9.921007309,
                        "remaining_time": 25.51116165
                      },
                      {
                        "learn": [
                          0.006809537602
                        ],
                        "iteration": 280,
                        "passed_time": 9.946476295,
                        "remaining_time": 25.4502365
                      },
                      {
                        "learn": [
                          0.006797475296
                        ],
                        "iteration": 281,
                        "passed_time": 9.971481968,
                        "remaining_time": 25.38838317
                      },
                      {
                        "learn": [
                          0.006793499771
                        ],
                        "iteration": 282,
                        "passed_time": 9.993916785,
                        "remaining_time": 25.3202768
                      },
                      {
                        "learn": [
                          0.006786476343
                        ],
                        "iteration": 283,
                        "passed_time": 10.01575418,
                        "remaining_time": 25.2509859
                      },
                      {
                        "learn": [
                          0.006781139501
                        ],
                        "iteration": 284,
                        "passed_time": 10.03895831,
                        "remaining_time": 25.18545682
                      },
                      {
                        "learn": [
                          0.006770407189
                        ],
                        "iteration": 285,
                        "passed_time": 10.06201231,
                        "remaining_time": 25.11984891
                      },
                      {
                        "learn": [
                          0.006765646196
                        ],
                        "iteration": 286,
                        "passed_time": 10.08497485,
                        "remaining_time": 25.05431033
                      },
                      {
                        "learn": [
                          0.006761579113
                        ],
                        "iteration": 287,
                        "passed_time": 10.10784972,
                        "remaining_time": 24.9888507
                      },
                      {
                        "learn": [
                          0.006745935622
                        ],
                        "iteration": 288,
                        "passed_time": 10.13600373,
                        "remaining_time": 24.93667355
                      },
                      {
                        "learn": [
                          0.006728318021
                        ],
                        "iteration": 289,
                        "passed_time": 10.16022017,
                        "remaining_time": 24.8750218
                      },
                      {
                        "learn": [
                          0.006721611832
                        ],
                        "iteration": 290,
                        "passed_time": 10.18333154,
                        "remaining_time": 24.81093492
                      },
                      {
                        "learn": [
                          0.006715973814
                        ],
                        "iteration": 291,
                        "passed_time": 10.20637198,
                        "remaining_time": 24.74695672
                      },
                      {
                        "learn": [
                          0.006690700717
                        ],
                        "iteration": 292,
                        "passed_time": 10.23786012,
                        "remaining_time": 24.70364199
                      },
                      {
                        "learn": [
                          0.006672341821
                        ],
                        "iteration": 293,
                        "passed_time": 10.27948069,
                        "remaining_time": 24.68473935
                      },
                      {
                        "learn": [
                          0.006660065078
                        ],
                        "iteration": 294,
                        "passed_time": 10.30320608,
                        "remaining_time": 24.62291622
                      },
                      {
                        "learn": [
                          0.006655605663
                        ],
                        "iteration": 295,
                        "passed_time": 10.32441124,
                        "remaining_time": 24.55535647
                      },
                      {
                        "learn": [
                          0.006651437786
                        ],
                        "iteration": 296,
                        "passed_time": 10.34924421,
                        "remaining_time": 24.49669589
                      },
                      {
                        "learn": [
                          0.006648385466
                        ],
                        "iteration": 297,
                        "passed_time": 10.37061158,
                        "remaining_time": 24.43009841
                      },
                      {
                        "learn": [
                          0.006642707693
                        ],
                        "iteration": 298,
                        "passed_time": 10.39120623,
                        "remaining_time": 24.36199187
                      },
                      {
                        "learn": [
                          0.006639676657
                        ],
                        "iteration": 299,
                        "passed_time": 10.41332292,
                        "remaining_time": 24.29775348
                      },
                      {
                        "learn": [
                          0.00663503252
                        ],
                        "iteration": 300,
                        "passed_time": 10.43636453,
                        "remaining_time": 24.23594287
                      },
                      {
                        "learn": [
                          0.006611373727
                        ],
                        "iteration": 301,
                        "passed_time": 10.46187164,
                        "remaining_time": 24.18008743
                      },
                      {
                        "learn": [
                          0.006605726072
                        ],
                        "iteration": 302,
                        "passed_time": 10.48406559,
                        "remaining_time": 24.11681094
                      },
                      {
                        "learn": [
                          0.006593926391
                        ],
                        "iteration": 303,
                        "passed_time": 10.5079417,
                        "remaining_time": 24.05765601
                      },
                      {
                        "learn": [
                          0.006590446803
                        ],
                        "iteration": 304,
                        "passed_time": 10.52983927,
                        "remaining_time": 23.99422391
                      },
                      {
                        "learn": [
                          0.00658089751
                        ],
                        "iteration": 305,
                        "passed_time": 10.5511633,
                        "remaining_time": 23.92976252
                      },
                      {
                        "learn": [
                          0.006575874695
                        ],
                        "iteration": 306,
                        "passed_time": 10.57831098,
                        "remaining_time": 23.87872805
                      },
                      {
                        "learn": [
                          0.006566118595
                        ],
                        "iteration": 307,
                        "passed_time": 10.60407544,
                        "remaining_time": 23.82474092
                      },
                      {
                        "learn": [
                          0.006562694423
                        ],
                        "iteration": 308,
                        "passed_time": 10.62649626,
                        "remaining_time": 23.76345928
                      },
                      {
                        "learn": [
                          0.006547622765
                        ],
                        "iteration": 309,
                        "passed_time": 10.67046113,
                        "remaining_time": 23.75038122
                      },
                      {
                        "learn": [
                          0.006541436607
                        ],
                        "iteration": 310,
                        "passed_time": 10.69217432,
                        "remaining_time": 23.68780741
                      },
                      {
                        "learn": [
                          0.006536292919
                        ],
                        "iteration": 311,
                        "passed_time": 10.71400273,
                        "remaining_time": 23.6257496
                      },
                      {
                        "learn": [
                          0.006520284001
                        ],
                        "iteration": 312,
                        "passed_time": 10.73591498,
                        "remaining_time": 23.56413288
                      },
                      {
                        "learn": [
                          0.006515802901
                        ],
                        "iteration": 313,
                        "passed_time": 10.76009578,
                        "remaining_time": 23.50772518
                      },
                      {
                        "learn": [
                          0.006506301797
                        ],
                        "iteration": 314,
                        "passed_time": 10.78866501,
                        "remaining_time": 23.46106519
                      },
                      {
                        "learn": [
                          0.006501374555
                        ],
                        "iteration": 315,
                        "passed_time": 10.81073118,
                        "remaining_time": 23.40044344
                      },
                      {
                        "learn": [
                          0.006497728717
                        ],
                        "iteration": 316,
                        "passed_time": 10.83237261,
                        "remaining_time": 23.33914981
                      },
                      {
                        "learn": [
                          0.006494634233
                        ],
                        "iteration": 317,
                        "passed_time": 10.85483817,
                        "remaining_time": 23.27987305
                      },
                      {
                        "learn": [
                          0.006490145905
                        ],
                        "iteration": 318,
                        "passed_time": 10.87686841,
                        "remaining_time": 23.21989776
                      },
                      {
                        "learn": [
                          0.00648691047
                        ],
                        "iteration": 319,
                        "passed_time": 10.89932571,
                        "remaining_time": 23.16106714
                      },
                      {
                        "learn": [
                          0.006480154486
                        ],
                        "iteration": 320,
                        "passed_time": 10.92406738,
                        "remaining_time": 23.10729517
                      },
                      {
                        "learn": [
                          0.006472883692
                        ],
                        "iteration": 321,
                        "passed_time": 10.94650038,
                        "remaining_time": 23.04884242
                      },
                      {
                        "learn": [
                          0.006463907437
                        ],
                        "iteration": 322,
                        "passed_time": 10.97217719,
                        "remaining_time": 22.99741164
                      },
                      {
                        "learn": [
                          0.006457510456
                        ],
                        "iteration": 323,
                        "passed_time": 10.99509419,
                        "remaining_time": 22.94038171
                      },
                      {
                        "learn": [
                          0.006435002959
                        ],
                        "iteration": 324,
                        "passed_time": 11.02352512,
                        "remaining_time": 22.89501371
                      },
                      {
                        "learn": [
                          0.006430741919
                        ],
                        "iteration": 325,
                        "passed_time": 11.04556524,
                        "remaining_time": 22.83653672
                      },
                      {
                        "learn": [
                          0.00641788772
                        ],
                        "iteration": 326,
                        "passed_time": 11.06615915,
                        "remaining_time": 22.77530613
                      },
                      {
                        "learn": [
                          0.006412460927
                        ],
                        "iteration": 327,
                        "passed_time": 11.10163812,
                        "remaining_time": 22.74481957
                      },
                      {
                        "learn": [
                          0.006410424173
                        ],
                        "iteration": 328,
                        "passed_time": 11.14808726,
                        "remaining_time": 22.73667646
                      },
                      {
                        "learn": [
                          0.006407507182
                        ],
                        "iteration": 329,
                        "passed_time": 11.17386909,
                        "remaining_time": 22.68634027
                      },
                      {
                        "learn": [
                          0.006405477656
                        ],
                        "iteration": 330,
                        "passed_time": 11.19552154,
                        "remaining_time": 22.62780637
                      },
                      {
                        "learn": [
                          0.006396864018
                        ],
                        "iteration": 331,
                        "passed_time": 11.21781535,
                        "remaining_time": 22.5707851
                      },
                      {
                        "learn": [
                          0.006392584907
                        ],
                        "iteration": 332,
                        "passed_time": 11.24542174,
                        "remaining_time": 22.52461351
                      },
                      {
                        "learn": [
                          0.006387073383
                        ],
                        "iteration": 333,
                        "passed_time": 11.2861773,
                        "remaining_time": 22.50477271
                      },
                      {
                        "learn": [
                          0.006376482423
                        ],
                        "iteration": 334,
                        "passed_time": 11.30728966,
                        "remaining_time": 22.44581381
                      },
                      {
                        "learn": [
                          0.006363351142
                        ],
                        "iteration": 335,
                        "passed_time": 11.33003574,
                        "remaining_time": 22.39030873
                      },
                      {
                        "learn": [
                          0.006359529819
                        ],
                        "iteration": 336,
                        "passed_time": 11.35194884,
                        "remaining_time": 22.3333593
                      },
                      {
                        "learn": [
                          0.006356447783
                        ],
                        "iteration": 337,
                        "passed_time": 11.37325628,
                        "remaining_time": 22.27543093
                      },
                      {
                        "learn": [
                          0.006351574753
                        ],
                        "iteration": 338,
                        "passed_time": 11.39562484,
                        "remaining_time": 22.21978768
                      },
                      {
                        "learn": [
                          0.006346143141
                        ],
                        "iteration": 339,
                        "passed_time": 11.4188643,
                        "remaining_time": 22.16603071
                      },
                      {
                        "learn": [
                          0.006343278755
                        ],
                        "iteration": 340,
                        "passed_time": 11.44219159,
                        "remaining_time": 22.11262246
                      },
                      {
                        "learn": [
                          0.006332288636
                        ],
                        "iteration": 341,
                        "passed_time": 11.46750551,
                        "remaining_time": 22.06321235
                      },
                      {
                        "learn": [
                          0.00632156556
                        ],
                        "iteration": 342,
                        "passed_time": 11.49593646,
                        "remaining_time": 22.01991328
                      },
                      {
                        "learn": [
                          0.006314775443
                        ],
                        "iteration": 343,
                        "passed_time": 11.51926881,
                        "remaining_time": 21.96697773
                      },
                      {
                        "learn": [
                          0.006307007106
                        ],
                        "iteration": 344,
                        "passed_time": 11.54428809,
                        "remaining_time": 21.91741651
                      },
                      {
                        "learn": [
                          0.00630124661
                        ],
                        "iteration": 345,
                        "passed_time": 11.5675685,
                        "remaining_time": 21.86471041
                      },
                      {
                        "learn": [
                          0.006291441519
                        ],
                        "iteration": 346,
                        "passed_time": 11.59006739,
                        "remaining_time": 21.81070319
                      },
                      {
                        "learn": [
                          0.006289305577
                        ],
                        "iteration": 347,
                        "passed_time": 11.61279365,
                        "remaining_time": 21.75730305
                      },
                      {
                        "learn": [
                          0.006284859414
                        ],
                        "iteration": 348,
                        "passed_time": 11.63893816,
                        "remaining_time": 21.71045484
                      },
                      {
                        "learn": [
                          0.006280965809
                        ],
                        "iteration": 349,
                        "passed_time": 11.67391782,
                        "remaining_time": 21.68013309
                      },
                      {
                        "learn": [
                          0.006279088477
                        ],
                        "iteration": 350,
                        "passed_time": 11.7043989,
                        "remaining_time": 21.64146692
                      },
                      {
                        "learn": [
                          0.006272639693
                        ],
                        "iteration": 351,
                        "passed_time": 11.72820459,
                        "remaining_time": 21.59055845
                      },
                      {
                        "learn": [
                          0.006266291703
                        ],
                        "iteration": 352,
                        "passed_time": 11.74931822,
                        "remaining_time": 21.53486937
                      },
                      {
                        "learn": [
                          0.006262792437
                        ],
                        "iteration": 353,
                        "passed_time": 11.77266625,
                        "remaining_time": 21.48345311
                      },
                      {
                        "learn": [
                          0.006259808384
                        ],
                        "iteration": 354,
                        "passed_time": 11.79545413,
                        "remaining_time": 21.43117722
                      },
                      {
                        "learn": [
                          0.006253054007
                        ],
                        "iteration": 355,
                        "passed_time": 11.81933835,
                        "remaining_time": 21.38105027
                      },
                      {
                        "learn": [
                          0.006242047423
                        ],
                        "iteration": 356,
                        "passed_time": 11.84423287,
                        "remaining_time": 21.33289002
                      },
                      {
                        "learn": [
                          0.006238698746
                        ],
                        "iteration": 357,
                        "passed_time": 11.86704699,
                        "remaining_time": 21.28112897
                      },
                      {
                        "learn": [
                          0.006234035334
                        ],
                        "iteration": 358,
                        "passed_time": 11.91068062,
                        "remaining_time": 21.26670272
                      },
                      {
                        "learn": [
                          0.006230833631
                        ],
                        "iteration": 359,
                        "passed_time": 11.93733158,
                        "remaining_time": 21.22192281
                      },
                      {
                        "learn": [
                          0.006229006094
                        ],
                        "iteration": 360,
                        "passed_time": 11.96253281,
                        "remaining_time": 21.1746772
                      },
                      {
                        "learn": [
                          0.006223571671
                        ],
                        "iteration": 361,
                        "passed_time": 11.98362907,
                        "remaining_time": 21.12031863
                      },
                      {
                        "learn": [
                          0.006222083058
                        ],
                        "iteration": 362,
                        "passed_time": 12.00592431,
                        "remaining_time": 21.06824734
                      },
                      {
                        "learn": [
                          0.006220001328
                        ],
                        "iteration": 363,
                        "passed_time": 12.02847311,
                        "remaining_time": 21.01678269
                      },
                      {
                        "learn": [
                          0.006217756964
                        ],
                        "iteration": 364,
                        "passed_time": 12.05017998,
                        "remaining_time": 20.96401174
                      },
                      {
                        "learn": [
                          0.006213266628
                        ],
                        "iteration": 365,
                        "passed_time": 12.07343372,
                        "remaining_time": 20.9140901
                      },
                      {
                        "learn": [
                          0.006208214498
                        ],
                        "iteration": 366,
                        "passed_time": 12.0957642,
                        "remaining_time": 20.86272135
                      },
                      {
                        "learn": [
                          0.006203673565
                        ],
                        "iteration": 367,
                        "passed_time": 12.12061813,
                        "remaining_time": 20.81584418
                      },
                      {
                        "learn": [
                          0.006201342863
                        ],
                        "iteration": 368,
                        "passed_time": 12.14355026,
                        "remaining_time": 20.76580004
                      },
                      {
                        "learn": [
                          0.006199063963
                        ],
                        "iteration": 369,
                        "passed_time": 12.17540214,
                        "remaining_time": 20.73109013
                      },
                      {
                        "learn": [
                          0.006184841622
                        ],
                        "iteration": 370,
                        "passed_time": 12.19831286,
                        "remaining_time": 20.68123662
                      },
                      {
                        "learn": [
                          0.006167770154
                        ],
                        "iteration": 371,
                        "passed_time": 12.22222695,
                        "remaining_time": 20.63322184
                      },
                      {
                        "learn": [
                          0.006162006847
                        ],
                        "iteration": 372,
                        "passed_time": 12.24555216,
                        "remaining_time": 20.58434639
                      },
                      {
                        "learn": [
                          0.006157716492
                        ],
                        "iteration": 373,
                        "passed_time": 12.26877299,
                        "remaining_time": 20.53543286
                      },
                      {
                        "learn": [
                          0.00615344742
                        ],
                        "iteration": 374,
                        "passed_time": 12.31707021,
                        "remaining_time": 20.52845035
                      },
                      {
                        "learn": [
                          0.006147286561
                        ],
                        "iteration": 375,
                        "passed_time": 12.33966053,
                        "remaining_time": 20.47858557
                      },
                      {
                        "learn": [
                          0.006144637415
                        ],
                        "iteration": 376,
                        "passed_time": 12.36211947,
                        "remaining_time": 20.42864835
                      },
                      {
                        "learn": [
                          0.006141427279
                        ],
                        "iteration": 377,
                        "passed_time": 12.38814544,
                        "remaining_time": 20.38472609
                      },
                      {
                        "learn": [
                          0.006139794904
                        ],
                        "iteration": 378,
                        "passed_time": 12.40973125,
                        "remaining_time": 20.33362297
                      },
                      {
                        "learn": [
                          0.006135361992
                        ],
                        "iteration": 379,
                        "passed_time": 12.43371996,
                        "remaining_time": 20.28659572
                      },
                      {
                        "learn": [
                          0.006131066819
                        ],
                        "iteration": 380,
                        "passed_time": 12.4562038,
                        "remaining_time": 20.2372445
                      },
                      {
                        "learn": [
                          0.006126020311
                        ],
                        "iteration": 381,
                        "passed_time": 12.47947881,
                        "remaining_time": 20.18931388
                      },
                      {
                        "learn": [
                          0.006113542382
                        ],
                        "iteration": 382,
                        "passed_time": 12.50509337,
                        "remaining_time": 20.14528097
                      },
                      {
                        "learn": [
                          0.006105209038
                        ],
                        "iteration": 383,
                        "passed_time": 12.5288479,
                        "remaining_time": 20.09836017
                      },
                      {
                        "learn": [
                          0.006100699026
                        ],
                        "iteration": 384,
                        "passed_time": 12.55092631,
                        "remaining_time": 20.04888229
                      },
                      {
                        "learn": [
                          0.006098627335
                        ],
                        "iteration": 385,
                        "passed_time": 12.57334953,
                        "remaining_time": 20.00009485
                      },
                      {
                        "learn": [
                          0.006092343997
                        ],
                        "iteration": 386,
                        "passed_time": 12.59478575,
                        "remaining_time": 19.94988027
                      },
                      {
                        "learn": [
                          0.006090044216
                        ],
                        "iteration": 387,
                        "passed_time": 12.62139313,
                        "remaining_time": 19.9079706
                      },
                      {
                        "learn": [
                          0.006085846222
                        ],
                        "iteration": 388,
                        "passed_time": 12.64449212,
                        "remaining_time": 19.86062901
                      },
                      {
                        "learn": [
                          0.006082937262
                        ],
                        "iteration": 389,
                        "passed_time": 12.6661016,
                        "remaining_time": 19.81108199
                      },
                      {
                        "learn": [
                          0.006076174853
                        ],
                        "iteration": 390,
                        "passed_time": 12.70150701,
                        "remaining_time": 19.78316564
                      },
                      {
                        "learn": [
                          0.006074001967
                        ],
                        "iteration": 391,
                        "passed_time": 12.73484089,
                        "remaining_time": 19.75199812
                      },
                      {
                        "learn": [
                          0.006072457938
                        ],
                        "iteration": 392,
                        "passed_time": 12.75726475,
                        "remaining_time": 19.70396872
                      },
                      {
                        "learn": [
                          0.006070781792
                        ],
                        "iteration": 393,
                        "passed_time": 12.77897081,
                        "remaining_time": 19.65496526
                      },
                      {
                        "learn": [
                          0.006068275203
                        ],
                        "iteration": 394,
                        "passed_time": 12.80116629,
                        "remaining_time": 19.60684963
                      },
                      {
                        "learn": [
                          0.006064738993
                        ],
                        "iteration": 395,
                        "passed_time": 12.82937893,
                        "remaining_time": 19.56804261
                      },
                      {
                        "learn": [
                          0.006054340384
                        ],
                        "iteration": 396,
                        "passed_time": 12.85430001,
                        "remaining_time": 19.52428943
                      },
                      {
                        "learn": [
                          0.006036827191
                        ],
                        "iteration": 397,
                        "passed_time": 12.87872416,
                        "remaining_time": 19.47987926
                      },
                      {
                        "learn": [
                          0.006034041111
                        ],
                        "iteration": 398,
                        "passed_time": 12.90361995,
                        "remaining_time": 19.43627967
                      },
                      {
                        "learn": [
                          0.00602431031
                        ],
                        "iteration": 399,
                        "passed_time": 12.92805305,
                        "remaining_time": 19.39207958
                      },
                      {
                        "learn": [
                          0.006021066844
                        ],
                        "iteration": 400,
                        "passed_time": 12.95467992,
                        "remaining_time": 19.35125505
                      },
                      {
                        "learn": [
                          0.006016437565
                        ],
                        "iteration": 401,
                        "passed_time": 12.97916384,
                        "remaining_time": 19.30731338
                      },
                      {
                        "learn": [
                          0.006013912504
                        ],
                        "iteration": 402,
                        "passed_time": 13.00197792,
                        "remaining_time": 19.26099459
                      },
                      {
                        "learn": [
                          0.006012743539
                        ],
                        "iteration": 403,
                        "passed_time": 13.02413446,
                        "remaining_time": 19.21382212
                      },
                      {
                        "learn": [
                          0.006007795014
                        ],
                        "iteration": 404,
                        "passed_time": 13.04721354,
                        "remaining_time": 19.16812854
                      },
                      {
                        "learn": [
                          0.006005710474
                        ],
                        "iteration": 405,
                        "passed_time": 13.07044927,
                        "remaining_time": 19.12277553
                      },
                      {
                        "learn": [
                          0.006004235112
                        ],
                        "iteration": 406,
                        "passed_time": 13.09379063,
                        "remaining_time": 19.07768512
                      },
                      {
                        "learn": [
                          0.005998992237
                        ],
                        "iteration": 407,
                        "passed_time": 13.13134779,
                        "remaining_time": 19.05332816
                      },
                      {
                        "learn": [
                          0.005992274403
                        ],
                        "iteration": 408,
                        "passed_time": 13.15486951,
                        "remaining_time": 19.00862562
                      },
                      {
                        "learn": [
                          0.005990577375
                        ],
                        "iteration": 409,
                        "passed_time": 13.17649402,
                        "remaining_time": 18.96129628
                      },
                      {
                        "learn": [
                          0.005986969285
                        ],
                        "iteration": 410,
                        "passed_time": 13.19890263,
                        "remaining_time": 18.91521569
                      },
                      {
                        "learn": [
                          0.005982459674
                        ],
                        "iteration": 411,
                        "passed_time": 13.22076839,
                        "remaining_time": 18.86847527
                      },
                      {
                        "learn": [
                          0.00598003621
                        ],
                        "iteration": 412,
                        "passed_time": 13.24358062,
                        "remaining_time": 18.82320054
                      },
                      {
                        "learn": [
                          0.00597832071
                        ],
                        "iteration": 413,
                        "passed_time": 13.26400103,
                        "remaining_time": 18.7746488
                      },
                      {
                        "learn": [
                          0.005974390161
                        ],
                        "iteration": 414,
                        "passed_time": 13.32106328,
                        "remaining_time": 18.77788439
                      },
                      {
                        "learn": [
                          0.00597289713
                        ],
                        "iteration": 415,
                        "passed_time": 13.34340621,
                        "remaining_time": 18.73208948
                      },
                      {
                        "learn": [
                          0.005960081482
                        ],
                        "iteration": 416,
                        "passed_time": 13.36506287,
                        "remaining_time": 18.68544761
                      },
                      {
                        "learn": [
                          0.00595719782
                        ],
                        "iteration": 417,
                        "passed_time": 13.38784382,
                        "remaining_time": 18.64049068
                      },
                      {
                        "learn": [
                          0.005954781986
                        ],
                        "iteration": 418,
                        "passed_time": 13.41224805,
                        "remaining_time": 18.5978905
                      },
                      {
                        "learn": [
                          0.005952952843
                        ],
                        "iteration": 419,
                        "passed_time": 13.43423997,
                        "remaining_time": 18.55204567
                      },
                      {
                        "learn": [
                          0.00595167947
                        ],
                        "iteration": 420,
                        "passed_time": 13.45810165,
                        "remaining_time": 18.50888564
                      },
                      {
                        "learn": [
                          0.005943879811
                        ],
                        "iteration": 421,
                        "passed_time": 13.48206322,
                        "remaining_time": 18.46595389
                      },
                      {
                        "learn": [
                          0.005940678107
                        ],
                        "iteration": 422,
                        "passed_time": 13.50445479,
                        "remaining_time": 18.42097025
                      },
                      {
                        "learn": [
                          0.005938536544
                        ],
                        "iteration": 423,
                        "passed_time": 13.53230735,
                        "remaining_time": 18.38351188
                      },
                      {
                        "learn": [
                          0.0059370656
                        ],
                        "iteration": 424,
                        "passed_time": 13.55306393,
                        "remaining_time": 18.33649826
                      },
                      {
                        "learn": [
                          0.005935948838
                        ],
                        "iteration": 425,
                        "passed_time": 13.57552123,
                        "remaining_time": 18.2918995
                      },
                      {
                        "learn": [
                          0.005934954555
                        ],
                        "iteration": 426,
                        "passed_time": 13.60428374,
                        "remaining_time": 18.25586553
                      },
                      {
                        "learn": [
                          0.005932601366
                        ],
                        "iteration": 427,
                        "passed_time": 13.62670206,
                        "remaining_time": 18.21138687
                      },
                      {
                        "learn": [
                          0.005927448442
                        ],
                        "iteration": 428,
                        "passed_time": 13.64880209,
                        "remaining_time": 18.1665874
                      },
                      {
                        "learn": [
                          0.005924791265
                        ],
                        "iteration": 429,
                        "passed_time": 13.66972687,
                        "remaining_time": 18.12033562
                      },
                      {
                        "learn": [
                          0.005920257962
                        ],
                        "iteration": 430,
                        "passed_time": 13.70869331,
                        "remaining_time": 18.0980197
                      },
                      {
                        "learn": [
                          0.005917756192
                        ],
                        "iteration": 431,
                        "passed_time": 13.72996016,
                        "remaining_time": 18.05235503
                      },
                      {
                        "learn": [
                          0.005915775256
                        ],
                        "iteration": 432,
                        "passed_time": 13.7534019,
                        "remaining_time": 18.00965098
                      },
                      {
                        "learn": [
                          0.005914363744
                        ],
                        "iteration": 433,
                        "passed_time": 13.7758931,
                        "remaining_time": 17.96579607
                      },
                      {
                        "learn": [
                          0.005913188353
                        ],
                        "iteration": 434,
                        "passed_time": 13.79565506,
                        "remaining_time": 17.91849451
                      },
                      {
                        "learn": [
                          0.005907761159
                        ],
                        "iteration": 435,
                        "passed_time": 13.81832281,
                        "remaining_time": 17.87507813
                      },
                      {
                        "learn": [
                          0.005904229367
                        ],
                        "iteration": 436,
                        "passed_time": 13.84088353,
                        "remaining_time": 17.83161882
                      },
                      {
                        "learn": [
                          0.005901118418
                        ],
                        "iteration": 437,
                        "passed_time": 13.86454068,
                        "remaining_time": 17.78966179
                      },
                      {
                        "learn": [
                          0.005895359929
                        ],
                        "iteration": 438,
                        "passed_time": 13.88953531,
                        "remaining_time": 17.74949729
                      },
                      {
                        "learn": [
                          0.005893205917
                        ],
                        "iteration": 439,
                        "passed_time": 13.91310792,
                        "remaining_time": 17.7075919
                      },
                      {
                        "learn": [
                          0.005890141149
                        ],
                        "iteration": 440,
                        "passed_time": 13.93712222,
                        "remaining_time": 17.66632952
                      },
                      {
                        "learn": [
                          0.005885797787
                        ],
                        "iteration": 441,
                        "passed_time": 13.96855777,
                        "remaining_time": 17.6345141
                      },
                      {
                        "learn": [
                          0.005883905196
                        ],
                        "iteration": 442,
                        "passed_time": 13.99139189,
                        "remaining_time": 17.59188551
                      },
                      {
                        "learn": [
                          0.005881342388
                        ],
                        "iteration": 443,
                        "passed_time": 14.01363899,
                        "remaining_time": 17.54861099
                      },
                      {
                        "learn": [
                          0.005879812413
                        ],
                        "iteration": 444,
                        "passed_time": 14.03641585,
                        "remaining_time": 17.50609168
                      },
                      {
                        "learn": [
                          0.005876872933
                        ],
                        "iteration": 445,
                        "passed_time": 14.05860267,
                        "remaining_time": 17.46292798
                      },
                      {
                        "learn": [
                          0.005875626867
                        ],
                        "iteration": 446,
                        "passed_time": 14.08077309,
                        "remaining_time": 17.41983785
                      },
                      {
                        "learn": [
                          0.005872594224
                        ],
                        "iteration": 447,
                        "passed_time": 14.10468175,
                        "remaining_time": 17.37898287
                      },
                      {
                        "learn": [
                          0.005865571198
                        ],
                        "iteration": 448,
                        "passed_time": 14.12678756,
                        "remaining_time": 17.33599097
                      },
                      {
                        "learn": [
                          0.005862251433
                        ],
                        "iteration": 449,
                        "passed_time": 14.15103788,
                        "remaining_time": 17.29571297
                      },
                      {
                        "learn": [
                          0.005853343445
                        ],
                        "iteration": 450,
                        "passed_time": 14.18244557,
                        "remaining_time": 17.26421867
                      },
                      {
                        "learn": [
                          0.005847454849
                        ],
                        "iteration": 451,
                        "passed_time": 14.20662946,
                        "remaining_time": 17.22396669
                      },
                      {
                        "learn": [
                          0.005844149943
                        ],
                        "iteration": 452,
                        "passed_time": 14.23434319,
                        "remaining_time": 17.18804796
                      },
                      {
                        "learn": [
                          0.005841508427
                        ],
                        "iteration": 453,
                        "passed_time": 14.25778038,
                        "remaining_time": 17.14702221
                      },
                      {
                        "learn": [
                          0.005839830273
                        ],
                        "iteration": 454,
                        "passed_time": 14.27916201,
                        "remaining_time": 17.10361164
                      },
                      {
                        "learn": [
                          0.005835219066
                        ],
                        "iteration": 455,
                        "passed_time": 14.3367262,
                        "remaining_time": 17.10346283
                      },
                      {
                        "learn": [
                          0.00583371198
                        ],
                        "iteration": 456,
                        "passed_time": 14.35892034,
                        "remaining_time": 17.06103664
                      },
                      {
                        "learn": [
                          0.005829897082
                        ],
                        "iteration": 457,
                        "passed_time": 14.38564004,
                        "remaining_time": 17.02405437
                      },
                      {
                        "learn": [
                          0.005828221739
                        ],
                        "iteration": 458,
                        "passed_time": 14.40846779,
                        "remaining_time": 16.98252957
                      },
                      {
                        "learn": [
                          0.005816457799
                        ],
                        "iteration": 459,
                        "passed_time": 14.43025457,
                        "remaining_time": 16.93986406
                      },
                      {
                        "learn": [
                          0.005811679538
                        ],
                        "iteration": 460,
                        "passed_time": 14.45367229,
                        "remaining_time": 16.89919601
                      },
                      {
                        "learn": [
                          0.005807256264
                        ],
                        "iteration": 461,
                        "passed_time": 14.47645367,
                        "remaining_time": 16.85786163
                      },
                      {
                        "learn": [
                          0.00580540624
                        ],
                        "iteration": 462,
                        "passed_time": 14.49928117,
                        "remaining_time": 16.81666088
                      },
                      {
                        "learn": [
                          0.005801571263
                        ],
                        "iteration": 463,
                        "passed_time": 14.52326967,
                        "remaining_time": 16.77688049
                      },
                      {
                        "learn": [
                          0.005800187861
                        ],
                        "iteration": 464,
                        "passed_time": 14.54602591,
                        "remaining_time": 16.73575024
                      },
                      {
                        "learn": [
                          0.005795148983
                        ],
                        "iteration": 465,
                        "passed_time": 14.56823025,
                        "remaining_time": 16.69406642
                      },
                      {
                        "learn": [
                          0.005791748101
                        ],
                        "iteration": 466,
                        "passed_time": 14.59018991,
                        "remaining_time": 16.65218677
                      },
                      {
                        "learn": [
                          0.00578450863
                        ],
                        "iteration": 467,
                        "passed_time": 14.61477264,
                        "remaining_time": 16.61337403
                      },
                      {
                        "learn": [
                          0.005781198101
                        ],
                        "iteration": 468,
                        "passed_time": 14.64111442,
                        "remaining_time": 16.57661356
                      },
                      {
                        "learn": [
                          0.005776946297
                        ],
                        "iteration": 469,
                        "passed_time": 14.66340906,
                        "remaining_time": 16.53533363
                      },
                      {
                        "learn": [
                          0.005775063344
                        ],
                        "iteration": 470,
                        "passed_time": 14.68721389,
                        "remaining_time": 16.49583046
                      },
                      {
                        "learn": [
                          0.005768786029
                        ],
                        "iteration": 471,
                        "passed_time": 14.7250087,
                        "remaining_time": 16.47204363
                      },
                      {
                        "learn": [
                          0.005765058272
                        ],
                        "iteration": 472,
                        "passed_time": 14.74727329,
                        "remaining_time": 16.43089434
                      },
                      {
                        "learn": [
                          0.005752887542
                        ],
                        "iteration": 473,
                        "passed_time": 14.78071482,
                        "remaining_time": 16.40222784
                      },
                      {
                        "learn": [
                          0.005751949479
                        ],
                        "iteration": 474,
                        "passed_time": 14.80118069,
                        "remaining_time": 16.35919971
                      },
                      {
                        "learn": [
                          0.005750325135
                        ],
                        "iteration": 475,
                        "passed_time": 14.82270259,
                        "remaining_time": 16.3174289
                      },
                      {
                        "learn": [
                          0.00574776835
                        ],
                        "iteration": 476,
                        "passed_time": 14.85133386,
                        "remaining_time": 16.28353796
                      },
                      {
                        "learn": [
                          0.005745398295
                        ],
                        "iteration": 477,
                        "passed_time": 14.87742471,
                        "remaining_time": 16.24689476
                      },
                      {
                        "learn": [
                          0.005743716126
                        ],
                        "iteration": 478,
                        "passed_time": 14.89877888,
                        "remaining_time": 16.20514362
                      },
                      {
                        "learn": [
                          0.005742027531
                        ],
                        "iteration": 479,
                        "passed_time": 14.92226531,
                        "remaining_time": 16.16578742
                      },
                      {
                        "learn": [
                          0.005729031579
                        ],
                        "iteration": 480,
                        "passed_time": 14.947757,
                        "remaining_time": 16.12866088
                      },
                      {
                        "learn": [
                          0.005727287568
                        ],
                        "iteration": 481,
                        "passed_time": 14.97098407,
                        "remaining_time": 16.08914885
                      },
                      {
                        "learn": [
                          0.005724863301
                        ],
                        "iteration": 482,
                        "passed_time": 14.99291526,
                        "remaining_time": 16.04831716
                      },
                      {
                        "learn": [
                          0.005723139369
                        ],
                        "iteration": 483,
                        "passed_time": 15.01377441,
                        "remaining_time": 16.00642065
                      },
                      {
                        "learn": [
                          0.005719081923
                        ],
                        "iteration": 484,
                        "passed_time": 15.03707644,
                        "remaining_time": 15.96720488
                      },
                      {
                        "learn": [
                          0.005718292039
                        ],
                        "iteration": 485,
                        "passed_time": 15.05895115,
                        "remaining_time": 15.92654504
                      },
                      {
                        "learn": [
                          0.005715867771
                        ],
                        "iteration": 486,
                        "passed_time": 15.08606609,
                        "remaining_time": 15.89148235
                      },
                      {
                        "learn": [
                          0.005715005203
                        ],
                        "iteration": 487,
                        "passed_time": 15.11145097,
                        "remaining_time": 15.85463708
                      },
                      {
                        "learn": [
                          0.005712318712
                        ],
                        "iteration": 488,
                        "passed_time": 15.13842606,
                        "remaining_time": 15.81950044
                      },
                      {
                        "learn": [
                          0.005711355751
                        ],
                        "iteration": 489,
                        "passed_time": 15.16004784,
                        "remaining_time": 15.7788253
                      },
                      {
                        "learn": [
                          0.00570613175
                        ],
                        "iteration": 490,
                        "passed_time": 15.18326785,
                        "remaining_time": 15.7398846
                      },
                      {
                        "learn": [
                          0.005701444244
                        ],
                        "iteration": 491,
                        "passed_time": 15.20797563,
                        "remaining_time": 15.70254394
                      },
                      {
                        "learn": [
                          0.005697985537
                        ],
                        "iteration": 492,
                        "passed_time": 15.23091742,
                        "remaining_time": 15.6634384
                      },
                      {
                        "learn": [
                          0.005696386091
                        ],
                        "iteration": 493,
                        "passed_time": 15.25261484,
                        "remaining_time": 15.6231237
                      },
                      {
                        "learn": [
                          0.005693110499
                        ],
                        "iteration": 494,
                        "passed_time": 15.27616644,
                        "remaining_time": 15.58477586
                      },
                      {
                        "learn": [
                          0.005690924763
                        ],
                        "iteration": 495,
                        "passed_time": 15.3030317,
                        "remaining_time": 15.54985479
                      },
                      {
                        "learn": [
                          0.005679252782
                        ],
                        "iteration": 496,
                        "passed_time": 15.33881525,
                        "remaining_time": 15.5239921
                      },
                      {
                        "learn": [
                          0.005677284696
                        ],
                        "iteration": 497,
                        "passed_time": 15.39033204,
                        "remaining_time": 15.51394917
                      },
                      {
                        "learn": [
                          0.005676271138
                        ],
                        "iteration": 498,
                        "passed_time": 15.41252656,
                        "remaining_time": 15.47430021
                      },
                      {
                        "learn": [
                          0.005672822871
                        ],
                        "iteration": 499,
                        "passed_time": 15.43478968,
                        "remaining_time": 15.43478968
                      },
                      {
                        "learn": [
                          0.005670554412
                        ],
                        "iteration": 500,
                        "passed_time": 15.4576966,
                        "remaining_time": 15.39598923
                      },
                      {
                        "learn": [
                          0.005669008375
                        ],
                        "iteration": 501,
                        "passed_time": 15.47974985,
                        "remaining_time": 15.35640523
                      },
                      {
                        "learn": [
                          0.0056675041
                        ],
                        "iteration": 502,
                        "passed_time": 15.5071646,
                        "remaining_time": 15.32218849
                      },
                      {
                        "learn": [
                          0.005665399481
                        ],
                        "iteration": 503,
                        "passed_time": 15.52992791,
                        "remaining_time": 15.28342112
                      },
                      {
                        "learn": [
                          0.005662965576
                        ],
                        "iteration": 504,
                        "passed_time": 15.55370559,
                        "remaining_time": 15.24571142
                      },
                      {
                        "learn": [
                          0.00565761468
                        ],
                        "iteration": 505,
                        "passed_time": 15.57571602,
                        "remaining_time": 15.20633145
                      },
                      {
                        "learn": [
                          0.005654153162
                        ],
                        "iteration": 506,
                        "passed_time": 15.59971226,
                        "remaining_time": 15.16895097
                      },
                      {
                        "learn": [
                          0.005652281051
                        ],
                        "iteration": 507,
                        "passed_time": 15.62047941,
                        "remaining_time": 15.12849581
                      },
                      {
                        "learn": [
                          0.005651345798
                        ],
                        "iteration": 508,
                        "passed_time": 15.65406777,
                        "remaining_time": 15.1004858
                      },
                      {
                        "learn": [
                          0.005648209551
                        ],
                        "iteration": 509,
                        "passed_time": 15.67579319,
                        "remaining_time": 15.06105621
                      },
                      {
                        "learn": [
                          0.005644525564
                        ],
                        "iteration": 510,
                        "passed_time": 15.69973759,
                        "remaining_time": 15.02381934
                      },
                      {
                        "learn": [
                          0.005640759255
                        ],
                        "iteration": 511,
                        "passed_time": 15.74261149,
                        "remaining_time": 15.00467657
                      },
                      {
                        "learn": [
                          0.005639418018
                        ],
                        "iteration": 512,
                        "passed_time": 15.76940429,
                        "remaining_time": 14.97017522
                      },
                      {
                        "learn": [
                          0.005637916554
                        ],
                        "iteration": 513,
                        "passed_time": 15.79081863,
                        "remaining_time": 14.93061839
                      },
                      {
                        "learn": [
                          0.005636154071
                        ],
                        "iteration": 514,
                        "passed_time": 15.81323481,
                        "remaining_time": 14.8920755
                      },
                      {
                        "learn": [
                          0.005635102364
                        ],
                        "iteration": 515,
                        "passed_time": 15.83544376,
                        "remaining_time": 14.85340074
                      },
                      {
                        "learn": [
                          0.00563314231
                        ],
                        "iteration": 516,
                        "passed_time": 15.85830501,
                        "remaining_time": 14.81539907
                      },
                      {
                        "learn": [
                          0.005629884788
                        ],
                        "iteration": 517,
                        "passed_time": 15.88117425,
                        "remaining_time": 14.7774633
                      },
                      {
                        "learn": [
                          0.005627625967
                        ],
                        "iteration": 518,
                        "passed_time": 15.90417967,
                        "remaining_time": 14.73971179
                      },
                      {
                        "learn": [
                          0.005625775139
                        ],
                        "iteration": 519,
                        "passed_time": 15.92821846,
                        "remaining_time": 14.70297088
                      },
                      {
                        "learn": [
                          0.005617794774
                        ],
                        "iteration": 520,
                        "passed_time": 15.95473718,
                        "remaining_time": 14.66855875
                      },
                      {
                        "learn": [
                          0.005616114211
                        ],
                        "iteration": 521,
                        "passed_time": 15.97541883,
                        "remaining_time": 14.6288318
                      },
                      {
                        "learn": [
                          0.005614437664
                        ],
                        "iteration": 522,
                        "passed_time": 16.0016316,
                        "remaining_time": 14.59422232
                      },
                      {
                        "learn": [
                          0.005613528915
                        ],
                        "iteration": 523,
                        "passed_time": 16.02255091,
                        "remaining_time": 14.55483633
                      },
                      {
                        "learn": [
                          0.005611561231
                        ],
                        "iteration": 524,
                        "passed_time": 16.04445579,
                        "remaining_time": 14.51641239
                      },
                      {
                        "learn": [
                          0.005610250913
                        ],
                        "iteration": 525,
                        "passed_time": 16.06659876,
                        "remaining_time": 14.4782658
                      },
                      {
                        "learn": [
                          0.005606873725
                        ],
                        "iteration": 526,
                        "passed_time": 16.08939529,
                        "remaining_time": 14.44076655
                      },
                      {
                        "learn": [
                          0.005602101087
                        ],
                        "iteration": 527,
                        "passed_time": 16.11449947,
                        "remaining_time": 14.40538589
                      },
                      {
                        "learn": [
                          0.005599086514
                        ],
                        "iteration": 528,
                        "passed_time": 16.13521893,
                        "remaining_time": 14.36614011
                      },
                      {
                        "learn": [
                          0.00558778277
                        ],
                        "iteration": 529,
                        "passed_time": 16.15796585,
                        "remaining_time": 14.32876217
                      },
                      {
                        "learn": [
                          0.005584641302
                        ],
                        "iteration": 530,
                        "passed_time": 16.17827977,
                        "remaining_time": 14.28929042
                      },
                      {
                        "learn": [
                          0.00558178575
                        ],
                        "iteration": 531,
                        "passed_time": 16.20504168,
                        "remaining_time": 14.25556298
                      },
                      {
                        "learn": [
                          0.005575666252
                        ],
                        "iteration": 532,
                        "passed_time": 16.22795932,
                        "remaining_time": 14.21849344
                      },
                      {
                        "learn": [
                          0.005573308645
                        ],
                        "iteration": 533,
                        "passed_time": 16.25029791,
                        "remaining_time": 14.18097159
                      },
                      {
                        "learn": [
                          0.005571781482
                        ],
                        "iteration": 534,
                        "passed_time": 16.27382969,
                        "remaining_time": 14.14454357
                      },
                      {
                        "learn": [
                          0.005569657989
                        ],
                        "iteration": 535,
                        "passed_time": 16.29587212,
                        "remaining_time": 14.10687437
                      },
                      {
                        "learn": [
                          0.005567336523
                        ],
                        "iteration": 536,
                        "passed_time": 16.31746316,
                        "remaining_time": 14.0688742
                      },
                      {
                        "learn": [
                          0.005565096174
                        ],
                        "iteration": 537,
                        "passed_time": 16.3402586,
                        "remaining_time": 14.03196928
                      },
                      {
                        "learn": [
                          0.005561050776
                        ],
                        "iteration": 538,
                        "passed_time": 16.39775761,
                        "remaining_time": 14.02479825
                      },
                      {
                        "learn": [
                          0.005558526919
                        ],
                        "iteration": 539,
                        "passed_time": 16.42366011,
                        "remaining_time": 13.99052528
                      },
                      {
                        "learn": [
                          0.00555308567
                        ],
                        "iteration": 540,
                        "passed_time": 16.44869787,
                        "remaining_time": 13.95554958
                      },
                      {
                        "learn": [
                          0.005551501483
                        ],
                        "iteration": 541,
                        "passed_time": 16.47148866,
                        "remaining_time": 13.91871182
                      },
                      {
                        "learn": [
                          0.00554900895
                        ],
                        "iteration": 542,
                        "passed_time": 16.49307747,
                        "remaining_time": 13.88091419
                      },
                      {
                        "learn": [
                          0.00554799499
                        ],
                        "iteration": 543,
                        "passed_time": 16.51417717,
                        "remaining_time": 13.84276616
                      },
                      {
                        "learn": [
                          0.005542799099
                        ],
                        "iteration": 544,
                        "passed_time": 16.53834052,
                        "remaining_time": 13.80723841
                      },
                      {
                        "learn": [
                          0.005542184699
                        ],
                        "iteration": 545,
                        "passed_time": 16.56155531,
                        "remaining_time": 13.77096357
                      },
                      {
                        "learn": [
                          0.005539284975
                        ],
                        "iteration": 546,
                        "passed_time": 16.5828012,
                        "remaining_time": 13.73310593
                      },
                      {
                        "learn": [
                          0.005532473977
                        ],
                        "iteration": 547,
                        "passed_time": 16.60544512,
                        "remaining_time": 13.69646203
                      },
                      {
                        "learn": [
                          0.005528609686
                        ],
                        "iteration": 548,
                        "passed_time": 16.6281815,
                        "remaining_time": 13.6599451
                      },
                      {
                        "learn": [
                          0.005527796912
                        ],
                        "iteration": 549,
                        "passed_time": 16.65335727,
                        "remaining_time": 13.62547413
                      },
                      {
                        "learn": [
                          0.00552622678
                        ],
                        "iteration": 550,
                        "passed_time": 16.67574187,
                        "remaining_time": 13.58876244
                      },
                      {
                        "learn": [
                          0.005524708451
                        ],
                        "iteration": 551,
                        "passed_time": 16.69820843,
                        "remaining_time": 13.55216916
                      },
                      {
                        "learn": [
                          0.005523385283
                        ],
                        "iteration": 552,
                        "passed_time": 16.71929412,
                        "remaining_time": 13.5145108
                      },
                      {
                        "learn": [
                          0.005521430449
                        ],
                        "iteration": 553,
                        "passed_time": 16.76438946,
                        "remaining_time": 13.49624133
                      },
                      {
                        "learn": [
                          0.005519218611
                        ],
                        "iteration": 554,
                        "passed_time": 16.78568122,
                        "remaining_time": 13.45878945
                      },
                      {
                        "learn": [
                          0.005517269801
                        ],
                        "iteration": 555,
                        "passed_time": 16.80820711,
                        "remaining_time": 13.42238122
                      },
                      {
                        "learn": [
                          0.005513970516
                        ],
                        "iteration": 556,
                        "passed_time": 16.83138285,
                        "remaining_time": 13.38653969
                      },
                      {
                        "learn": [
                          0.005512367055
                        ],
                        "iteration": 557,
                        "passed_time": 16.85888022,
                        "remaining_time": 13.35416677
                      },
                      {
                        "learn": [
                          0.00550889108
                        ],
                        "iteration": 558,
                        "passed_time": 16.8822176,
                        "remaining_time": 13.31852945
                      },
                      {
                        "learn": [
                          0.005506691691
                        ],
                        "iteration": 559,
                        "passed_time": 16.90373069,
                        "remaining_time": 13.28150268
                      },
                      {
                        "learn": [
                          0.005504758542
                        ],
                        "iteration": 560,
                        "passed_time": 16.92974593,
                        "remaining_time": 13.2480543
                      },
                      {
                        "learn": [
                          0.005504210803
                        ],
                        "iteration": 561,
                        "passed_time": 16.95221793,
                        "remaining_time": 13.21187092
                      },
                      {
                        "learn": [
                          0.005503385178
                        ],
                        "iteration": 562,
                        "passed_time": 16.9732319,
                        "remaining_time": 13.17460451
                      },
                      {
                        "learn": [
                          0.005502645088
                        ],
                        "iteration": 563,
                        "passed_time": 16.99538015,
                        "remaining_time": 13.1382726
                      },
                      {
                        "learn": [
                          0.005499369496
                        ],
                        "iteration": 564,
                        "passed_time": 17.01695499,
                        "remaining_time": 13.10154942
                      },
                      {
                        "learn": [
                          0.005498637036
                        ],
                        "iteration": 565,
                        "passed_time": 17.03791114,
                        "remaining_time": 13.06440536
                      },
                      {
                        "learn": [
                          0.005496260153
                        ],
                        "iteration": 566,
                        "passed_time": 17.06112151,
                        "remaining_time": 13.02903988
                      },
                      {
                        "learn": [
                          0.005494645849
                        ],
                        "iteration": 567,
                        "passed_time": 17.088079,
                        "remaining_time": 12.99656713
                      },
                      {
                        "learn": [
                          0.005488427967
                        ],
                        "iteration": 568,
                        "passed_time": 17.11073958,
                        "remaining_time": 12.96085898
                      },
                      {
                        "learn": [
                          0.005483324437
                        ],
                        "iteration": 569,
                        "passed_time": 17.13377076,
                        "remaining_time": 12.92547619
                      },
                      {
                        "learn": [
                          0.005482404042
                        ],
                        "iteration": 570,
                        "passed_time": 17.15587632,
                        "remaining_time": 12.88944123
                      },
                      {
                        "learn": [
                          0.005481218211
                        ],
                        "iteration": 571,
                        "passed_time": 17.17725572,
                        "remaining_time": 12.85291162
                      },
                      {
                        "learn": [
                          0.005477412549
                        ],
                        "iteration": 572,
                        "passed_time": 17.20267535,
                        "remaining_time": 12.81944568
                      },
                      {
                        "learn": [
                          0.005476455612
                        ],
                        "iteration": 573,
                        "passed_time": 17.22565215,
                        "remaining_time": 12.7841948
                      },
                      {
                        "learn": [
                          0.005474003637
                        ],
                        "iteration": 574,
                        "passed_time": 17.24615292,
                        "remaining_time": 12.74715651
                      },
                      {
                        "learn": [
                          0.005468338312
                        ],
                        "iteration": 575,
                        "passed_time": 17.26964105,
                        "remaining_time": 12.71237466
                      },
                      {
                        "learn": [
                          0.005464661955
                        ],
                        "iteration": 576,
                        "passed_time": 17.29350331,
                        "remaining_time": 12.67790624
                      },
                      {
                        "learn": [
                          0.005461765845
                        ],
                        "iteration": 577,
                        "passed_time": 17.31581525,
                        "remaining_time": 12.64234262
                      },
                      {
                        "learn": [
                          0.005458921538
                        ],
                        "iteration": 578,
                        "passed_time": 17.3386683,
                        "remaining_time": 12.60721823
                      },
                      {
                        "learn": [
                          0.005457640535
                        ],
                        "iteration": 579,
                        "passed_time": 17.36123723,
                        "remaining_time": 12.57193041
                      },
                      {
                        "learn": [
                          0.005456678378
                        ],
                        "iteration": 580,
                        "passed_time": 17.41725363,
                        "remaining_time": 12.5608077
                      },
                      {
                        "learn": [
                          0.005455319069
                        ],
                        "iteration": 581,
                        "passed_time": 17.44709094,
                        "remaining_time": 12.53072855
                      },
                      {
                        "learn": [
                          0.005454580987
                        ],
                        "iteration": 582,
                        "passed_time": 17.47735616,
                        "remaining_time": 12.50095629
                      },
                      {
                        "learn": [
                          0.005453585499
                        ],
                        "iteration": 583,
                        "passed_time": 17.54591343,
                        "remaining_time": 12.49845888
                      },
                      {
                        "learn": [
                          0.005452349071
                        ],
                        "iteration": 584,
                        "passed_time": 17.58264851,
                        "remaining_time": 12.47316091
                      },
                      {
                        "learn": [
                          0.005451136736
                        ],
                        "iteration": 585,
                        "passed_time": 17.63449303,
                        "remaining_time": 12.45849849
                      },
                      {
                        "learn": [
                          0.005449734058
                        ],
                        "iteration": 586,
                        "passed_time": 17.69237007,
                        "remaining_time": 12.44795373
                      },
                      {
                        "learn": [
                          0.005444731723
                        ],
                        "iteration": 587,
                        "passed_time": 17.75772891,
                        "remaining_time": 12.44249032
                      },
                      {
                        "learn": [
                          0.005443843454
                        ],
                        "iteration": 588,
                        "passed_time": 17.80332518,
                        "remaining_time": 12.42303336
                      },
                      {
                        "learn": [
                          0.00544248254
                        ],
                        "iteration": 589,
                        "passed_time": 17.84709163,
                        "remaining_time": 12.40221621
                      },
                      {
                        "learn": [
                          0.005441522792
                        ],
                        "iteration": 590,
                        "passed_time": 17.88649578,
                        "remaining_time": 12.3783025
                      },
                      {
                        "learn": [
                          0.005439889614
                        ],
                        "iteration": 591,
                        "passed_time": 17.92396374,
                        "remaining_time": 12.35300204
                      },
                      {
                        "learn": [
                          0.005439285253
                        ],
                        "iteration": 592,
                        "passed_time": 17.9786019,
                        "remaining_time": 12.33944515
                      },
                      {
                        "learn": [
                          0.005436213658
                        ],
                        "iteration": 593,
                        "passed_time": 18.04119142,
                        "remaining_time": 12.33118471
                      },
                      {
                        "learn": [
                          0.005432759368
                        ],
                        "iteration": 594,
                        "passed_time": 18.09930517,
                        "remaining_time": 12.31969512
                      },
                      {
                        "learn": [
                          0.005430134718
                        ],
                        "iteration": 595,
                        "passed_time": 18.15900645,
                        "remaining_time": 12.30912518
                      },
                      {
                        "learn": [
                          0.005426890047
                        ],
                        "iteration": 596,
                        "passed_time": 18.22479543,
                        "remaining_time": 12.3025001
                      },
                      {
                        "learn": [
                          0.005424944048
                        ],
                        "iteration": 597,
                        "passed_time": 18.29895946,
                        "remaining_time": 12.3013072
                      },
                      {
                        "learn": [
                          0.005421604205
                        ],
                        "iteration": 598,
                        "passed_time": 18.37197284,
                        "remaining_time": 12.29910035
                      },
                      {
                        "learn": [
                          0.005419696354
                        ],
                        "iteration": 599,
                        "passed_time": 18.44731875,
                        "remaining_time": 12.2982125
                      },
                      {
                        "learn": [
                          0.005418634206
                        ],
                        "iteration": 600,
                        "passed_time": 18.53431375,
                        "remaining_time": 12.30481063
                      },
                      {
                        "learn": [
                          0.005414930543
                        ],
                        "iteration": 601,
                        "passed_time": 18.58498202,
                        "remaining_time": 12.28708113
                      },
                      {
                        "learn": [
                          0.005412058928
                        ],
                        "iteration": 602,
                        "passed_time": 18.62671613,
                        "remaining_time": 12.26336037
                      },
                      {
                        "learn": [
                          0.005408931515
                        ],
                        "iteration": 603,
                        "passed_time": 18.68795922,
                        "remaining_time": 12.25237061
                      },
                      {
                        "learn": [
                          0.00540729392
                        ],
                        "iteration": 604,
                        "passed_time": 18.76758217,
                        "remaining_time": 12.2532148
                      },
                      {
                        "learn": [
                          0.005406119734
                        ],
                        "iteration": 605,
                        "passed_time": 18.85270574,
                        "remaining_time": 12.25736974
                      },
                      {
                        "learn": [
                          0.005404180963
                        ],
                        "iteration": 606,
                        "passed_time": 18.92955301,
                        "remaining_time": 12.25587205
                      },
                      {
                        "learn": [
                          0.005403494281
                        ],
                        "iteration": 607,
                        "passed_time": 19.00451642,
                        "remaining_time": 12.2529119
                      },
                      {
                        "learn": [
                          0.005402414063
                        ],
                        "iteration": 608,
                        "passed_time": 19.07946705,
                        "remaining_time": 12.24970709
                      },
                      {
                        "learn": [
                          0.005401055156
                        ],
                        "iteration": 609,
                        "passed_time": 19.15822271,
                        "remaining_time": 12.24869977
                      },
                      {
                        "learn": [
                          0.005399756485
                        ],
                        "iteration": 610,
                        "passed_time": 19.22879506,
                        "remaining_time": 12.24222795
                      },
                      {
                        "learn": [
                          0.005397165968
                        ],
                        "iteration": 611,
                        "passed_time": 19.29925291,
                        "remaining_time": 12.23547407
                      },
                      {
                        "learn": [
                          0.005393211726
                        ],
                        "iteration": 612,
                        "passed_time": 19.38787963,
                        "remaining_time": 12.23998274
                      },
                      {
                        "learn": [
                          0.005392779237
                        ],
                        "iteration": 613,
                        "passed_time": 19.46544589,
                        "remaining_time": 12.23723471
                      },
                      {
                        "learn": [
                          0.005384682818
                        ],
                        "iteration": 614,
                        "passed_time": 19.57994189,
                        "remaining_time": 12.257362
                      },
                      {
                        "learn": [
                          0.005379639122
                        ],
                        "iteration": 615,
                        "passed_time": 19.64158556,
                        "remaining_time": 12.24410528
                      },
                      {
                        "learn": [
                          0.005377394355
                        ],
                        "iteration": 616,
                        "passed_time": 19.677994,
                        "remaining_time": 12.21502707
                      },
                      {
                        "learn": [
                          0.005376228201
                        ],
                        "iteration": 617,
                        "passed_time": 19.71903875,
                        "remaining_time": 12.18879094
                      },
                      {
                        "learn": [
                          0.005374368137
                        ],
                        "iteration": 618,
                        "passed_time": 19.78584411,
                        "remaining_time": 12.17836285
                      },
                      {
                        "learn": [
                          0.005373165842
                        ],
                        "iteration": 619,
                        "passed_time": 19.86021502,
                        "remaining_time": 12.17238985
                      },
                      {
                        "learn": [
                          0.005371489696
                        ],
                        "iteration": 620,
                        "passed_time": 19.92962275,
                        "remaining_time": 12.16316751
                      },
                      {
                        "learn": [
                          0.005370183395
                        ],
                        "iteration": 621,
                        "passed_time": 19.99702594,
                        "remaining_time": 12.15253345
                      },
                      {
                        "learn": [
                          0.005368812441
                        ],
                        "iteration": 622,
                        "passed_time": 20.06154637,
                        "remaining_time": 12.13997268
                      },
                      {
                        "learn": [
                          0.005367377236
                        ],
                        "iteration": 623,
                        "passed_time": 20.12738833,
                        "remaining_time": 12.12804168
                      },
                      {
                        "learn": [
                          0.005365062195
                        ],
                        "iteration": 624,
                        "passed_time": 20.19731905,
                        "remaining_time": 12.11839143
                      },
                      {
                        "learn": [
                          0.005363853475
                        ],
                        "iteration": 625,
                        "passed_time": 20.26445359,
                        "remaining_time": 12.10687802
                      },
                      {
                        "learn": [
                          0.005362624676
                        ],
                        "iteration": 626,
                        "passed_time": 20.32646323,
                        "remaining_time": 12.09213841
                      },
                      {
                        "learn": [
                          0.00536062567
                        ],
                        "iteration": 627,
                        "passed_time": 20.40404633,
                        "remaining_time": 12.08647331
                      },
                      {
                        "learn": [
                          0.005357651656
                        ],
                        "iteration": 628,
                        "passed_time": 20.48877803,
                        "remaining_time": 12.08479594
                      },
                      {
                        "learn": [
                          0.005353036834
                        ],
                        "iteration": 629,
                        "passed_time": 20.59092795,
                        "remaining_time": 12.09308467
                      },
                      {
                        "learn": [
                          0.005345025146
                        ],
                        "iteration": 630,
                        "passed_time": 20.71711017,
                        "remaining_time": 12.1150771
                      },
                      {
                        "learn": [
                          0.005342477196
                        ],
                        "iteration": 631,
                        "passed_time": 20.80405381,
                        "remaining_time": 12.11375285
                      },
                      {
                        "learn": [
                          0.005341272491
                        ],
                        "iteration": 632,
                        "passed_time": 20.89310828,
                        "remaining_time": 12.11338189
                      },
                      {
                        "learn": [
                          0.005340573361
                        ],
                        "iteration": 633,
                        "passed_time": 20.98341067,
                        "remaining_time": 12.11345159
                      },
                      {
                        "learn": [
                          0.005339040977
                        ],
                        "iteration": 634,
                        "passed_time": 21.06355622,
                        "remaining_time": 12.10739846
                      },
                      {
                        "learn": [
                          0.005332797796
                        ],
                        "iteration": 635,
                        "passed_time": 21.1484062,
                        "remaining_time": 12.10380481
                      },
                      {
                        "learn": [
                          0.005331291112
                        ],
                        "iteration": 636,
                        "passed_time": 21.24140937,
                        "remaining_time": 12.1046022
                      },
                      {
                        "learn": [
                          0.005327868947
                        ],
                        "iteration": 637,
                        "passed_time": 21.32894884,
                        "remaining_time": 12.10200545
                      },
                      {
                        "learn": [
                          0.005324886099
                        ],
                        "iteration": 638,
                        "passed_time": 21.41783042,
                        "remaining_time": 12.09990107
                      },
                      {
                        "learn": [
                          0.005322953752
                        ],
                        "iteration": 639,
                        "passed_time": 21.49995531,
                        "remaining_time": 12.09372486
                      },
                      {
                        "learn": [
                          0.005322207237
                        ],
                        "iteration": 640,
                        "passed_time": 21.56011998,
                        "remaining_time": 12.0750126
                      },
                      {
                        "learn": [
                          0.005318932448
                        ],
                        "iteration": 641,
                        "passed_time": 21.64598677,
                        "remaining_time": 12.07050352
                      },
                      {
                        "learn": [
                          0.005313198857
                        ],
                        "iteration": 642,
                        "passed_time": 21.7089139,
                        "remaining_time": 12.05300508
                      },
                      {
                        "learn": [
                          0.005312013026
                        ],
                        "iteration": 643,
                        "passed_time": 21.73763843,
                        "remaining_time": 12.01645851
                      },
                      {
                        "learn": [
                          0.005311092632
                        ],
                        "iteration": 644,
                        "passed_time": 21.76758334,
                        "remaining_time": 11.98060789
                      },
                      {
                        "learn": [
                          0.005308741852
                        ],
                        "iteration": 645,
                        "passed_time": 21.79655303,
                        "remaining_time": 11.94424113
                      },
                      {
                        "learn": [
                          0.005306514754
                        ],
                        "iteration": 646,
                        "passed_time": 21.82575682,
                        "remaining_time": 11.90802498
                      },
                      {
                        "learn": [
                          0.005304267579
                        ],
                        "iteration": 647,
                        "passed_time": 21.85007486,
                        "remaining_time": 11.86917647
                      },
                      {
                        "learn": [
                          0.005301915192
                        ],
                        "iteration": 648,
                        "passed_time": 21.87444772,
                        "remaining_time": 11.83040239
                      },
                      {
                        "learn": [
                          0.005298520736
                        ],
                        "iteration": 649,
                        "passed_time": 21.90017004,
                        "remaining_time": 11.79239925
                      },
                      {
                        "learn": [
                          0.005297132514
                        ],
                        "iteration": 650,
                        "passed_time": 21.94323093,
                        "remaining_time": 11.76372902
                      },
                      {
                        "learn": [
                          0.00529355936
                        ],
                        "iteration": 651,
                        "passed_time": 21.96664183,
                        "remaining_time": 11.72452662
                      },
                      {
                        "learn": [
                          0.005292931709
                        ],
                        "iteration": 652,
                        "passed_time": 21.99904832,
                        "remaining_time": 11.69015278
                      },
                      {
                        "learn": [
                          0.005291977583
                        ],
                        "iteration": 653,
                        "passed_time": 22.02123402,
                        "remaining_time": 11.65037763
                      },
                      {
                        "learn": [
                          0.005290624298
                        ],
                        "iteration": 654,
                        "passed_time": 22.04228861,
                        "remaining_time": 11.61006041
                      },
                      {
                        "learn": [
                          0.005289885814
                        ],
                        "iteration": 655,
                        "passed_time": 22.06455277,
                        "remaining_time": 11.57043621
                      },
                      {
                        "learn": [
                          0.005287494877
                        ],
                        "iteration": 656,
                        "passed_time": 22.08698347,
                        "remaining_time": 11.5309518
                      },
                      {
                        "learn": [
                          0.005285353314
                        ],
                        "iteration": 657,
                        "passed_time": 22.10768684,
                        "remaining_time": 11.49062143
                      },
                      {
                        "learn": [
                          0.005281809073
                        ],
                        "iteration": 658,
                        "passed_time": 22.13602435,
                        "remaining_time": 11.45430092
                      },
                      {
                        "learn": [
                          0.005280997504
                        ],
                        "iteration": 659,
                        "passed_time": 22.15996116,
                        "remaining_time": 11.41573757
                      },
                      {
                        "learn": [
                          0.005279858656
                        ],
                        "iteration": 660,
                        "passed_time": 22.18717032,
                        "remaining_time": 11.37889673
                      },
                      {
                        "learn": [
                          0.005278885656
                        ],
                        "iteration": 661,
                        "passed_time": 22.20880142,
                        "remaining_time": 11.33923698
                      },
                      {
                        "learn": [
                          0.005277719904
                        ],
                        "iteration": 662,
                        "passed_time": 22.2307464,
                        "remaining_time": 11.29979116
                      },
                      {
                        "learn": [
                          0.005275400446
                        ],
                        "iteration": 663,
                        "passed_time": 22.25473654,
                        "remaining_time": 11.26143295
                      },
                      {
                        "learn": [
                          0.005274516193
                        ],
                        "iteration": 664,
                        "passed_time": 22.28925852,
                        "remaining_time": 11.22842346
                      },
                      {
                        "learn": [
                          0.005272917148
                        ],
                        "iteration": 665,
                        "passed_time": 22.3185686,
                        "remaining_time": 11.19279567
                      },
                      {
                        "learn": [
                          0.005271508848
                        ],
                        "iteration": 666,
                        "passed_time": 22.34085246,
                        "remaining_time": 11.15367896
                      },
                      {
                        "learn": [
                          0.005270657925
                        ],
                        "iteration": 667,
                        "passed_time": 22.36380202,
                        "remaining_time": 11.11494352
                      },
                      {
                        "learn": [
                          0.005269724279
                        ],
                        "iteration": 668,
                        "passed_time": 22.391517,
                        "remaining_time": 11.07861305
                      },
                      {
                        "learn": [
                          0.005265275706
                        ],
                        "iteration": 669,
                        "passed_time": 22.42076553,
                        "remaining_time": 11.04306362
                      },
                      {
                        "learn": [
                          0.005264672952
                        ],
                        "iteration": 670,
                        "passed_time": 22.4427213,
                        "remaining_time": 11.00395724
                      },
                      {
                        "learn": [
                          0.005264105537
                        ],
                        "iteration": 671,
                        "passed_time": 22.46457283,
                        "remaining_time": 10.96485103
                      },
                      {
                        "learn": [
                          0.005262977531
                        ],
                        "iteration": 672,
                        "passed_time": 22.48570345,
                        "remaining_time": 10.92544581
                      },
                      {
                        "learn": [
                          0.005257703736
                        ],
                        "iteration": 673,
                        "passed_time": 22.51058768,
                        "remaining_time": 10.88791036
                      },
                      {
                        "learn": [
                          0.005256843175
                        ],
                        "iteration": 674,
                        "passed_time": 22.53281821,
                        "remaining_time": 10.84913469
                      },
                      {
                        "learn": [
                          0.005254586362
                        ],
                        "iteration": 675,
                        "passed_time": 22.55346182,
                        "remaining_time": 10.80964738
                      },
                      {
                        "learn": [
                          0.005252204661
                        ],
                        "iteration": 676,
                        "passed_time": 22.5788695,
                        "remaining_time": 10.7724887
                      },
                      {
                        "learn": [
                          0.005251183071
                        ],
                        "iteration": 677,
                        "passed_time": 22.60268622,
                        "remaining_time": 10.73460909
                      },
                      {
                        "learn": [
                          0.005249133467
                        ],
                        "iteration": 678,
                        "passed_time": 22.62960954,
                        "remaining_time": 10.69823956
                      },
                      {
                        "learn": [
                          0.005242283918
                        ],
                        "iteration": 679,
                        "passed_time": 22.6524979,
                        "remaining_time": 10.65999901
                      },
                      {
                        "learn": [
                          0.005241161535
                        ],
                        "iteration": 680,
                        "passed_time": 22.6929795,
                        "remaining_time": 10.63004473
                      },
                      {
                        "learn": [
                          0.005239930728
                        ],
                        "iteration": 681,
                        "passed_time": 22.73045848,
                        "remaining_time": 10.59865953
                      },
                      {
                        "learn": [
                          0.005238587483
                        ],
                        "iteration": 682,
                        "passed_time": 22.75327844,
                        "remaining_time": 10.5604528
                      },
                      {
                        "learn": [
                          0.005236044753
                        ],
                        "iteration": 683,
                        "passed_time": 22.77602131,
                        "remaining_time": 10.52225546
                      },
                      {
                        "learn": [
                          0.005231231556
                        ],
                        "iteration": 684,
                        "passed_time": 22.80025881,
                        "remaining_time": 10.48479055
                      },
                      {
                        "learn": [
                          0.005228810903
                        ],
                        "iteration": 685,
                        "passed_time": 22.82345933,
                        "remaining_time": 10.44688955
                      },
                      {
                        "learn": [
                          0.005227490948
                        ],
                        "iteration": 686,
                        "passed_time": 22.85095467,
                        "remaining_time": 10.41098808
                      },
                      {
                        "learn": [
                          0.00522239063
                        ],
                        "iteration": 687,
                        "passed_time": 22.87373521,
                        "remaining_time": 10.37297294
                      },
                      {
                        "learn": [
                          0.005220755846
                        ],
                        "iteration": 688,
                        "passed_time": 22.89794313,
                        "remaining_time": 10.33564632
                      },
                      {
                        "learn": [
                          0.005219726225
                        ],
                        "iteration": 689,
                        "passed_time": 22.92049259,
                        "remaining_time": 10.29761261
                      },
                      {
                        "learn": [
                          0.005219127889
                        ],
                        "iteration": 690,
                        "passed_time": 22.9605853,
                        "remaining_time": 10.26746868
                      },
                      {
                        "learn": [
                          0.005216689165
                        ],
                        "iteration": 691,
                        "passed_time": 22.9819995,
                        "remaining_time": 10.22898244
                      },
                      {
                        "learn": [
                          0.005214625104
                        ],
                        "iteration": 692,
                        "passed_time": 23.01483533,
                        "remaining_time": 10.19560526
                      },
                      {
                        "learn": [
                          0.005213652104
                        ],
                        "iteration": 693,
                        "passed_time": 23.03678443,
                        "remaining_time": 10.15742945
                      },
                      {
                        "learn": [
                          0.005212391983
                        ],
                        "iteration": 694,
                        "passed_time": 23.05815201,
                        "remaining_time": 10.11904513
                      },
                      {
                        "learn": [
                          0.005211051147
                        ],
                        "iteration": 695,
                        "passed_time": 23.08629683,
                        "remaining_time": 10.08366988
                      },
                      {
                        "learn": [
                          0.005208506409
                        ],
                        "iteration": 696,
                        "passed_time": 23.10790845,
                        "remaining_time": 10.04547527
                      },
                      {
                        "learn": [
                          0.005207886388
                        ],
                        "iteration": 697,
                        "passed_time": 23.12994851,
                        "remaining_time": 10.00751354
                      },
                      {
                        "learn": [
                          0.00520702663
                        ],
                        "iteration": 698,
                        "passed_time": 23.15322248,
                        "remaining_time": 9.970128708
                      },
                      {
                        "learn": [
                          0.005206028733
                        ],
                        "iteration": 699,
                        "passed_time": 23.17607415,
                        "remaining_time": 9.932603206
                      },
                      {
                        "learn": [
                          0.005205585804
                        ],
                        "iteration": 700,
                        "passed_time": 23.19854514,
                        "remaining_time": 9.894957199
                      },
                      {
                        "learn": [
                          0.005204729259
                        ],
                        "iteration": 701,
                        "passed_time": 23.22070662,
                        "remaining_time": 9.857223039
                      },
                      {
                        "learn": [
                          0.005202870801
                        ],
                        "iteration": 702,
                        "passed_time": 23.24516662,
                        "remaining_time": 9.820504246
                      },
                      {
                        "learn": [
                          0.005202001807
                        ],
                        "iteration": 703,
                        "passed_time": 23.26719046,
                        "remaining_time": 9.782795991
                      },
                      {
                        "learn": [
                          0.005199610469
                        ],
                        "iteration": 704,
                        "passed_time": 23.28947656,
                        "remaining_time": 9.745241963
                      },
                      {
                        "learn": [
                          0.005199022573
                        ],
                        "iteration": 705,
                        "passed_time": 23.31574815,
                        "remaining_time": 9.709390871
                      },
                      {
                        "learn": [
                          0.005196516787
                        ],
                        "iteration": 706,
                        "passed_time": 23.33866173,
                        "remaining_time": 9.67217523
                      },
                      {
                        "learn": [
                          0.005194371208
                        ],
                        "iteration": 707,
                        "passed_time": 23.36193603,
                        "remaining_time": 9.635148757
                      },
                      {
                        "learn": [
                          0.005192318391
                        ],
                        "iteration": 708,
                        "passed_time": 23.3858153,
                        "remaining_time": 9.598409384
                      },
                      {
                        "learn": [
                          0.00519082777
                        ],
                        "iteration": 709,
                        "passed_time": 23.4096187,
                        "remaining_time": 9.561675242
                      },
                      {
                        "learn": [
                          0.005189169695
                        ],
                        "iteration": 710,
                        "passed_time": 23.43313676,
                        "remaining_time": 9.524861498
                      },
                      {
                        "learn": [
                          0.005188607499
                        ],
                        "iteration": 711,
                        "passed_time": 23.45554947,
                        "remaining_time": 9.487637986
                      },
                      {
                        "learn": [
                          0.005188031249
                        ],
                        "iteration": 712,
                        "passed_time": 23.47774908,
                        "remaining_time": 9.450370248
                      },
                      {
                        "learn": [
                          0.005186449873
                        ],
                        "iteration": 713,
                        "passed_time": 23.49880285,
                        "remaining_time": 9.412685734
                      },
                      {
                        "learn": [
                          0.005184639604
                        ],
                        "iteration": 714,
                        "passed_time": 23.52701462,
                        "remaining_time": 9.377900931
                      },
                      {
                        "learn": [
                          0.005183679053
                        ],
                        "iteration": 715,
                        "passed_time": 23.55691004,
                        "remaining_time": 9.343802305
                      },
                      {
                        "learn": [
                          0.00518229043
                        ],
                        "iteration": 716,
                        "passed_time": 23.58114704,
                        "remaining_time": 9.307482025
                      },
                      {
                        "learn": [
                          0.005179807935
                        ],
                        "iteration": 717,
                        "passed_time": 23.60227646,
                        "remaining_time": 9.269974878
                      },
                      {
                        "learn": [
                          0.005178881116
                        ],
                        "iteration": 718,
                        "passed_time": 23.62538153,
                        "remaining_time": 9.233285408
                      },
                      {
                        "learn": [
                          0.005177771984
                        ],
                        "iteration": 719,
                        "passed_time": 23.64829617,
                        "remaining_time": 9.196559621
                      },
                      {
                        "learn": [
                          0.005173428622
                        ],
                        "iteration": 720,
                        "passed_time": 23.67201359,
                        "remaining_time": 9.160182789
                      },
                      {
                        "learn": [
                          0.005171267784
                        ],
                        "iteration": 721,
                        "passed_time": 23.69665265,
                        "remaining_time": 9.124195894
                      },
                      {
                        "learn": [
                          0.005169459121
                        ],
                        "iteration": 722,
                        "passed_time": 23.74034587,
                        "remaining_time": 9.095540535
                      },
                      {
                        "learn": [
                          0.005166313637
                        ],
                        "iteration": 723,
                        "passed_time": 23.7776103,
                        "remaining_time": 9.064392878
                      },
                      {
                        "learn": [
                          0.005165858258
                        ],
                        "iteration": 724,
                        "passed_time": 23.79850649,
                        "remaining_time": 9.027019704
                      },
                      {
                        "learn": [
                          0.005165371959
                        ],
                        "iteration": 725,
                        "passed_time": 23.82134586,
                        "remaining_time": 8.990425298
                      },
                      {
                        "learn": [
                          0.005163498644
                        ],
                        "iteration": 726,
                        "passed_time": 23.84470288,
                        "remaining_time": 8.954063116
                      },
                      {
                        "learn": [
                          0.005162881835
                        ],
                        "iteration": 727,
                        "passed_time": 23.86732027,
                        "remaining_time": 8.917460321
                      },
                      {
                        "learn": [
                          0.005162480668
                        ],
                        "iteration": 728,
                        "passed_time": 23.89246908,
                        "remaining_time": 8.881836926
                      },
                      {
                        "learn": [
                          0.00516132375
                        ],
                        "iteration": 729,
                        "passed_time": 23.91506561,
                        "remaining_time": 8.845298239
                      },
                      {
                        "learn": [
                          0.005160190525
                        ],
                        "iteration": 730,
                        "passed_time": 23.94508619,
                        "remaining_time": 8.811529667
                      },
                      {
                        "learn": [
                          0.005159117534
                        ],
                        "iteration": 731,
                        "passed_time": 23.99340586,
                        "remaining_time": 8.784471
                      },
                      {
                        "learn": [
                          0.005157738148
                        ],
                        "iteration": 732,
                        "passed_time": 24.01617947,
                        "remaining_time": 8.748049003
                      },
                      {
                        "learn": [
                          0.005156826186
                        ],
                        "iteration": 733,
                        "passed_time": 24.03830483,
                        "remaining_time": 8.711429272
                      },
                      {
                        "learn": [
                          0.005151048021
                        ],
                        "iteration": 734,
                        "passed_time": 24.06324127,
                        "remaining_time": 8.675862497
                      },
                      {
                        "learn": [
                          0.00514972646
                        ],
                        "iteration": 735,
                        "passed_time": 24.0866922,
                        "remaining_time": 8.639791767
                      },
                      {
                        "learn": [
                          0.005149308026
                        ],
                        "iteration": 736,
                        "passed_time": 24.12131658,
                        "remaining_time": 8.607742553
                      },
                      {
                        "learn": [
                          0.005148787995
                        ],
                        "iteration": 737,
                        "passed_time": 24.14381637,
                        "remaining_time": 8.571381963
                      },
                      {
                        "learn": [
                          0.005147879246
                        ],
                        "iteration": 738,
                        "passed_time": 24.16529948,
                        "remaining_time": 8.534699816
                      },
                      {
                        "learn": [
                          0.005147071291
                        ],
                        "iteration": 739,
                        "passed_time": 24.18831229,
                        "remaining_time": 8.498596212
                      },
                      {
                        "learn": [
                          0.005145641307
                        ],
                        "iteration": 740,
                        "passed_time": 24.21101925,
                        "remaining_time": 8.462421035
                      },
                      {
                        "learn": [
                          0.005144006522
                        ],
                        "iteration": 741,
                        "passed_time": 24.23833032,
                        "remaining_time": 8.427883048
                      },
                      {
                        "learn": [
                          0.005142009122
                        ],
                        "iteration": 742,
                        "passed_time": 24.26219528,
                        "remaining_time": 8.392172525
                      },
                      {
                        "learn": [
                          0.005140138617
                        ],
                        "iteration": 743,
                        "passed_time": 24.28578604,
                        "remaining_time": 8.356399496
                      },
                      {
                        "learn": [
                          0.005139156783
                        ],
                        "iteration": 744,
                        "passed_time": 24.30841836,
                        "remaining_time": 8.320331115
                      },
                      {
                        "learn": [
                          0.00513674135
                        ],
                        "iteration": 745,
                        "passed_time": 24.33146371,
                        "remaining_time": 8.284439387
                      },
                      {
                        "learn": [
                          0.005135898459
                        ],
                        "iteration": 746,
                        "passed_time": 24.3540738,
                        "remaining_time": 8.248434633
                      },
                      {
                        "learn": [
                          0.005135237477
                        ],
                        "iteration": 747,
                        "passed_time": 24.37716553,
                        "remaining_time": 8.212627958
                      },
                      {
                        "learn": [
                          0.005134503812
                        ],
                        "iteration": 748,
                        "passed_time": 24.40741143,
                        "remaining_time": 8.179252695
                      },
                      {
                        "learn": [
                          0.005133338863
                        ],
                        "iteration": 749,
                        "passed_time": 24.42769734,
                        "remaining_time": 8.142565779
                      },
                      {
                        "learn": [
                          0.005131736204
                        ],
                        "iteration": 750,
                        "passed_time": 24.45604079,
                        "remaining_time": 8.108594084
                      },
                      {
                        "learn": [
                          0.005131151521
                        ],
                        "iteration": 751,
                        "passed_time": 24.47752089,
                        "remaining_time": 8.072373909
                      },
                      {
                        "learn": [
                          0.005130117081
                        ],
                        "iteration": 752,
                        "passed_time": 24.50114032,
                        "remaining_time": 8.036894632
                      },
                      {
                        "learn": [
                          0.005129568539
                        ],
                        "iteration": 753,
                        "passed_time": 24.52400949,
                        "remaining_time": 8.001202036
                      },
                      {
                        "learn": [
                          0.005128807165
                        ],
                        "iteration": 754,
                        "passed_time": 24.54509241,
                        "remaining_time": 7.964963764
                      },
                      {
                        "learn": [
                          0.00512808354
                        ],
                        "iteration": 755,
                        "passed_time": 24.56769643,
                        "remaining_time": 7.929256519
                      },
                      {
                        "learn": [
                          0.005127534194
                        ],
                        "iteration": 756,
                        "passed_time": 24.59033843,
                        "remaining_time": 7.893596089
                      },
                      {
                        "learn": [
                          0.005126924212
                        ],
                        "iteration": 757,
                        "passed_time": 24.61280701,
                        "remaining_time": 7.857914641
                      },
                      {
                        "learn": [
                          0.005125191445
                        ],
                        "iteration": 758,
                        "passed_time": 24.63414521,
                        "remaining_time": 7.821909086
                      },
                      {
                        "learn": [
                          0.005124339719
                        ],
                        "iteration": 759,
                        "passed_time": 24.659981,
                        "remaining_time": 7.787362421
                      },
                      {
                        "learn": [
                          0.005123353468
                        ],
                        "iteration": 760,
                        "passed_time": 24.68121153,
                        "remaining_time": 7.75139232
                      },
                      {
                        "learn": [
                          0.005121172952
                        ],
                        "iteration": 761,
                        "passed_time": 24.70603812,
                        "remaining_time": 7.716584085
                      },
                      {
                        "learn": [
                          0.005117192206
                        ],
                        "iteration": 762,
                        "passed_time": 24.73181116,
                        "remaining_time": 7.682095995
                      },
                      {
                        "learn": [
                          0.005115956581
                        ],
                        "iteration": 763,
                        "passed_time": 24.77206714,
                        "remaining_time": 7.652104511
                      },
                      {
                        "learn": [
                          0.005115697569
                        ],
                        "iteration": 764,
                        "passed_time": 24.81672204,
                        "remaining_time": 7.62343749
                      },
                      {
                        "learn": [
                          0.00511362347
                        ],
                        "iteration": 765,
                        "passed_time": 24.85102488,
                        "remaining_time": 7.591566348
                      },
                      {
                        "learn": [
                          0.0051122742
                        ],
                        "iteration": 766,
                        "passed_time": 24.87852946,
                        "remaining_time": 7.557623683
                      },
                      {
                        "learn": [
                          0.00511044064
                        ],
                        "iteration": 767,
                        "passed_time": 24.9019144,
                        "remaining_time": 7.522453309
                      },
                      {
                        "learn": [
                          0.005109701353
                        ],
                        "iteration": 768,
                        "passed_time": 24.92159027,
                        "remaining_time": 7.486199419
                      },
                      {
                        "learn": [
                          0.005109275289
                        ],
                        "iteration": 769,
                        "passed_time": 24.94760546,
                        "remaining_time": 7.451882149
                      },
                      {
                        "learn": [
                          0.005107850927
                        ],
                        "iteration": 770,
                        "passed_time": 24.97863727,
                        "remaining_time": 7.419076439
                      },
                      {
                        "learn": [
                          0.005106467524
                        ],
                        "iteration": 771,
                        "passed_time": 25.00064812,
                        "remaining_time": 7.383611104
                      },
                      {
                        "learn": [
                          0.005105523839
                        ],
                        "iteration": 772,
                        "passed_time": 25.02388424,
                        "remaining_time": 7.348540391
                      },
                      {
                        "learn": [
                          0.005102140627
                        ],
                        "iteration": 773,
                        "passed_time": 25.04533224,
                        "remaining_time": 7.312978147
                      },
                      {
                        "learn": [
                          0.005101604131
                        ],
                        "iteration": 774,
                        "passed_time": 25.06618695,
                        "remaining_time": 7.277280083
                      },
                      {
                        "learn": [
                          0.005101301751
                        ],
                        "iteration": 775,
                        "passed_time": 25.08867359,
                        "remaining_time": 7.242091344
                      },
                      {
                        "learn": [
                          0.00509963203
                        ],
                        "iteration": 776,
                        "passed_time": 25.11203758,
                        "remaining_time": 7.207187104
                      },
                      {
                        "learn": [
                          0.005096311864
                        ],
                        "iteration": 777,
                        "passed_time": 25.13872803,
                        "remaining_time": 7.173261726
                      },
                      {
                        "learn": [
                          0.005094840116
                        ],
                        "iteration": 778,
                        "passed_time": 25.1631824,
                        "remaining_time": 7.138720552
                      },
                      {
                        "learn": [
                          0.00509461323
                        ],
                        "iteration": 779,
                        "passed_time": 25.18498319,
                        "remaining_time": 7.103456798
                      },
                      {
                        "learn": [
                          0.005092986879
                        ],
                        "iteration": 780,
                        "passed_time": 25.20668978,
                        "remaining_time": 7.068201104
                      },
                      {
                        "learn": [
                          0.005091692223
                        ],
                        "iteration": 781,
                        "passed_time": 25.23040041,
                        "remaining_time": 7.033538732
                      },
                      {
                        "learn": [
                          0.005091242467
                        ],
                        "iteration": 782,
                        "passed_time": 25.25310055,
                        "remaining_time": 6.99862429
                      },
                      {
                        "learn": [
                          0.005089050707
                        ],
                        "iteration": 783,
                        "passed_time": 25.27648686,
                        "remaining_time": 6.963930054
                      },
                      {
                        "learn": [
                          0.005087204297
                        ],
                        "iteration": 784,
                        "passed_time": 25.29869622,
                        "remaining_time": 6.928942276
                      },
                      {
                        "learn": [
                          0.005086514001
                        ],
                        "iteration": 785,
                        "passed_time": 25.32029182,
                        "remaining_time": 6.89381991
                      },
                      {
                        "learn": [
                          0.005084491302
                        ],
                        "iteration": 786,
                        "passed_time": 25.34715189,
                        "remaining_time": 6.860156737
                      },
                      {
                        "learn": [
                          0.005082344518
                        ],
                        "iteration": 787,
                        "passed_time": 25.37226032,
                        "remaining_time": 6.826039578
                      },
                      {
                        "learn": [
                          0.005081923675
                        ],
                        "iteration": 788,
                        "passed_time": 25.40676139,
                        "remaining_time": 6.794457103
                      },
                      {
                        "learn": [
                          0.005081459863
                        ],
                        "iteration": 789,
                        "passed_time": 25.42804285,
                        "remaining_time": 6.759353164
                      },
                      {
                        "learn": [
                          0.005080961517
                        ],
                        "iteration": 790,
                        "passed_time": 25.45041031,
                        "remaining_time": 6.724571118
                      },
                      {
                        "learn": [
                          0.005079286576
                        ],
                        "iteration": 791,
                        "passed_time": 25.47364437,
                        "remaining_time": 6.690048018
                      },
                      {
                        "learn": [
                          0.005077352222
                        ],
                        "iteration": 792,
                        "passed_time": 25.49811657,
                        "remaining_time": 6.655876584
                      },
                      {
                        "learn": [
                          0.005075333539
                        ],
                        "iteration": 793,
                        "passed_time": 25.52307607,
                        "remaining_time": 6.621856007
                      },
                      {
                        "learn": [
                          0.005072667126
                        ],
                        "iteration": 794,
                        "passed_time": 25.54608385,
                        "remaining_time": 6.587354954
                      },
                      {
                        "learn": [
                          0.005071320668
                        ],
                        "iteration": 795,
                        "passed_time": 25.57236936,
                        "remaining_time": 6.553722802
                      },
                      {
                        "learn": [
                          0.005070701851
                        ],
                        "iteration": 796,
                        "passed_time": 25.59376065,
                        "remaining_time": 6.518862499
                      },
                      {
                        "learn": [
                          0.00506976178
                        ],
                        "iteration": 797,
                        "passed_time": 25.61734489,
                        "remaining_time": 6.484591062
                      },
                      {
                        "learn": [
                          0.005068819299
                        ],
                        "iteration": 798,
                        "passed_time": 25.63980773,
                        "remaining_time": 6.450064274
                      },
                      {
                        "learn": [
                          0.005066329175
                        ],
                        "iteration": 799,
                        "passed_time": 25.66280628,
                        "remaining_time": 6.415701571
                      },
                      {
                        "learn": [
                          0.00506589789
                        ],
                        "iteration": 800,
                        "passed_time": 25.68587771,
                        "remaining_time": 6.381385348
                      },
                      {
                        "learn": [
                          0.005063339499
                        ],
                        "iteration": 801,
                        "passed_time": 25.71550282,
                        "remaining_time": 6.34871516
                      },
                      {
                        "learn": [
                          0.005062370515
                        ],
                        "iteration": 802,
                        "passed_time": 25.73898225,
                        "remaining_time": 6.314544836
                      },
                      {
                        "learn": [
                          0.005061709132
                        ],
                        "iteration": 803,
                        "passed_time": 25.76295993,
                        "remaining_time": 6.280522571
                      },
                      {
                        "learn": [
                          0.005061287084
                        ],
                        "iteration": 804,
                        "passed_time": 25.80079912,
                        "remaining_time": 6.249883018
                      },
                      {
                        "learn": [
                          0.005059875973
                        ],
                        "iteration": 805,
                        "passed_time": 25.84267702,
                        "remaining_time": 6.220197696
                      },
                      {
                        "learn": [
                          0.00505884836
                        ],
                        "iteration": 806,
                        "passed_time": 25.87004141,
                        "remaining_time": 6.187011142
                      },
                      {
                        "learn": [
                          0.00505810827
                        ],
                        "iteration": 807,
                        "passed_time": 25.892151,
                        "remaining_time": 6.152590337
                      },
                      {
                        "learn": [
                          0.00505740151
                        ],
                        "iteration": 808,
                        "passed_time": 25.9150751,
                        "remaining_time": 6.118392266
                      },
                      {
                        "learn": [
                          0.005055849449
                        ],
                        "iteration": 809,
                        "passed_time": 25.9396741,
                        "remaining_time": 6.084614913
                      },
                      {
                        "learn": [
                          0.005053662107
                        ],
                        "iteration": 810,
                        "passed_time": 25.98228254,
                        "remaining_time": 6.055057214
                      },
                      {
                        "learn": [
                          0.005052142171
                        ],
                        "iteration": 811,
                        "passed_time": 26.01111673,
                        "remaining_time": 6.022278258
                      },
                      {
                        "learn": [
                          0.005050602157
                        ],
                        "iteration": 812,
                        "passed_time": 26.03306492,
                        "remaining_time": 5.987925141
                      },
                      {
                        "learn": [
                          0.005049452066
                        ],
                        "iteration": 813,
                        "passed_time": 26.05661548,
                        "remaining_time": 5.953968648
                      },
                      {
                        "learn": [
                          0.005040066212
                        ],
                        "iteration": 814,
                        "passed_time": 26.0845004,
                        "remaining_time": 5.921021562
                      },
                      {
                        "learn": [
                          0.005038507725
                        ],
                        "iteration": 815,
                        "passed_time": 26.1073101,
                        "remaining_time": 5.886942473
                      },
                      {
                        "learn": [
                          0.005036655291
                        ],
                        "iteration": 816,
                        "passed_time": 26.13028004,
                        "remaining_time": 5.852926863
                      },
                      {
                        "learn": [
                          0.005036044104
                        ],
                        "iteration": 817,
                        "passed_time": 26.15406405,
                        "remaining_time": 5.819119386
                      },
                      {
                        "learn": [
                          0.005032051713
                        ],
                        "iteration": 818,
                        "passed_time": 26.17666157,
                        "remaining_time": 5.785074169
                      },
                      {
                        "learn": [
                          0.005028042858
                        ],
                        "iteration": 819,
                        "passed_time": 26.19894424,
                        "remaining_time": 5.750987759
                      },
                      {
                        "learn": [
                          0.005027358184
                        ],
                        "iteration": 820,
                        "passed_time": 26.22108862,
                        "remaining_time": 5.716899955
                      },
                      {
                        "learn": [
                          0.005025232683
                        ],
                        "iteration": 821,
                        "passed_time": 26.24498485,
                        "remaining_time": 5.683220563
                      },
                      {
                        "learn": [
                          0.005024402642
                        ],
                        "iteration": 822,
                        "passed_time": 26.27340679,
                        "remaining_time": 5.650538277
                      },
                      {
                        "learn": [
                          0.00502343687
                        ],
                        "iteration": 823,
                        "passed_time": 26.29851983,
                        "remaining_time": 5.617159574
                      },
                      {
                        "learn": [
                          0.005022009697
                        ],
                        "iteration": 824,
                        "passed_time": 26.32092641,
                        "remaining_time": 5.583226814
                      },
                      {
                        "learn": [
                          0.005017661516
                        ],
                        "iteration": 825,
                        "passed_time": 26.34496746,
                        "remaining_time": 5.549666268
                      },
                      {
                        "learn": [
                          0.005017033062
                        ],
                        "iteration": 826,
                        "passed_time": 26.36836153,
                        "remaining_time": 5.515993403
                      },
                      {
                        "learn": [
                          0.0050156601
                        ],
                        "iteration": 827,
                        "passed_time": 26.38956953,
                        "remaining_time": 5.481891255
                      },
                      {
                        "learn": [
                          0.00501483809
                        ],
                        "iteration": 828,
                        "passed_time": 26.41246484,
                        "remaining_time": 5.44816826
                      },
                      {
                        "learn": [
                          0.005012129513
                        ],
                        "iteration": 829,
                        "passed_time": 26.43709324,
                        "remaining_time": 5.414826326
                      },
                      {
                        "learn": [
                          0.005008522627
                        ],
                        "iteration": 830,
                        "passed_time": 26.4612294,
                        "remaining_time": 5.381405257
                      },
                      {
                        "learn": [
                          0.005008105397
                        ],
                        "iteration": 831,
                        "passed_time": 26.4882511,
                        "remaining_time": 5.348589164
                      },
                      {
                        "learn": [
                          0.00500752232
                        ],
                        "iteration": 832,
                        "passed_time": 26.51113931,
                        "remaining_time": 5.314958301
                      },
                      {
                        "learn": [
                          0.005005895166
                        ],
                        "iteration": 833,
                        "passed_time": 26.53423958,
                        "remaining_time": 5.281395409
                      },
                      {
                        "learn": [
                          0.005004800089
                        ],
                        "iteration": 834,
                        "passed_time": 26.55691634,
                        "remaining_time": 5.247773887
                      },
                      {
                        "learn": [
                          0.005003231966
                        ],
                        "iteration": 835,
                        "passed_time": 26.58147745,
                        "remaining_time": 5.214548208
                      },
                      {
                        "learn": [
                          0.00500291553
                        ],
                        "iteration": 836,
                        "passed_time": 26.61567728,
                        "remaining_time": 5.183220306
                      },
                      {
                        "learn": [
                          0.005002628007
                        ],
                        "iteration": 837,
                        "passed_time": 26.63795187,
                        "remaining_time": 5.149580195
                      },
                      {
                        "learn": [
                          0.005001762627
                        ],
                        "iteration": 838,
                        "passed_time": 26.66007528,
                        "remaining_time": 5.115938165
                      },
                      {
                        "learn": [
                          0.004996637814
                        ],
                        "iteration": 839,
                        "passed_time": 26.68382259,
                        "remaining_time": 5.082632874
                      },
                      {
                        "learn": [
                          0.004996016588
                        ],
                        "iteration": 840,
                        "passed_time": 26.71000743,
                        "remaining_time": 5.049811156
                      },
                      {
                        "learn": [
                          0.004994974518
                        ],
                        "iteration": 841,
                        "passed_time": 26.73506481,
                        "remaining_time": 5.016793635
                      },
                      {
                        "learn": [
                          0.004993869403
                        ],
                        "iteration": 842,
                        "passed_time": 26.75843727,
                        "remaining_time": 4.983481201
                      },
                      {
                        "learn": [
                          0.004993258216
                        ],
                        "iteration": 843,
                        "passed_time": 26.78184895,
                        "remaining_time": 4.950199569
                      },
                      {
                        "learn": [
                          0.00499172543
                        ],
                        "iteration": 844,
                        "passed_time": 26.80666763,
                        "remaining_time": 4.917199387
                      },
                      {
                        "learn": [
                          0.004989694298
                        ],
                        "iteration": 845,
                        "passed_time": 26.87645726,
                        "remaining_time": 4.89240475
                      },
                      {
                        "learn": [
                          0.004987903304
                        ],
                        "iteration": 846,
                        "passed_time": 26.903394,
                        "remaining_time": 4.859763024
                      },
                      {
                        "learn": [
                          0.004987142332
                        ],
                        "iteration": 847,
                        "passed_time": 26.92886785,
                        "remaining_time": 4.82687254
                      },
                      {
                        "learn": [
                          0.004986050066
                        ],
                        "iteration": 848,
                        "passed_time": 26.94967436,
                        "remaining_time": 4.793169409
                      },
                      {
                        "learn": [
                          0.004985303149
                        ],
                        "iteration": 849,
                        "passed_time": 26.97812281,
                        "remaining_time": 4.760845202
                      },
                      {
                        "learn": [
                          0.00498446347
                        ],
                        "iteration": 850,
                        "passed_time": 27.01096593,
                        "remaining_time": 4.729299557
                      },
                      {
                        "learn": [
                          0.004983998053
                        ],
                        "iteration": 851,
                        "passed_time": 27.03337186,
                        "remaining_time": 4.695937834
                      },
                      {
                        "learn": [
                          0.004983636641
                        ],
                        "iteration": 852,
                        "passed_time": 27.05483674,
                        "remaining_time": 4.662439625
                      },
                      {
                        "learn": [
                          0.004983162389
                        ],
                        "iteration": 853,
                        "passed_time": 27.07595034,
                        "remaining_time": 4.628909543
                      },
                      {
                        "learn": [
                          0.004982897354
                        ],
                        "iteration": 854,
                        "passed_time": 27.09776369,
                        "remaining_time": 4.595527176
                      },
                      {
                        "learn": [
                          0.004982016314
                        ],
                        "iteration": 855,
                        "passed_time": 27.12156185,
                        "remaining_time": 4.562505732
                      },
                      {
                        "learn": [
                          0.00498122683
                        ],
                        "iteration": 856,
                        "passed_time": 27.14419902,
                        "remaining_time": 4.529312088
                      },
                      {
                        "learn": [
                          0.004981013999
                        ],
                        "iteration": 857,
                        "passed_time": 27.16655155,
                        "remaining_time": 4.496095943
                      },
                      {
                        "learn": [
                          0.004978875247
                        ],
                        "iteration": 858,
                        "passed_time": 27.19136021,
                        "remaining_time": 4.463308254
                      },
                      {
                        "learn": [
                          0.004978120299
                        ],
                        "iteration": 859,
                        "passed_time": 27.21479733,
                        "remaining_time": 4.430315844
                      },
                      {
                        "learn": [
                          0.00497670718
                        ],
                        "iteration": 860,
                        "passed_time": 27.23841103,
                        "remaining_time": 4.397374139
                      },
                      {
                        "learn": [
                          0.00497521937
                        ],
                        "iteration": 861,
                        "passed_time": 27.26083346,
                        "remaining_time": 4.364263362
                      },
                      {
                        "learn": [
                          0.004973708269
                        ],
                        "iteration": 862,
                        "passed_time": 27.28376285,
                        "remaining_time": 4.331257833
                      },
                      {
                        "learn": [
                          0.00497215942
                        ],
                        "iteration": 863,
                        "passed_time": 27.30797016,
                        "remaining_time": 4.298476785
                      },
                      {
                        "learn": [
                          0.004971167948
                        ],
                        "iteration": 864,
                        "passed_time": 27.3308485,
                        "remaining_time": 4.265508147
                      },
                      {
                        "learn": [
                          0.004968117636
                        ],
                        "iteration": 865,
                        "passed_time": 27.35371825,
                        "remaining_time": 4.232561485
                      },
                      {
                        "learn": [
                          0.004967358672
                        ],
                        "iteration": 866,
                        "passed_time": 27.37486815,
                        "remaining_time": 4.199374237
                      },
                      {
                        "learn": [
                          0.004966800894
                        ],
                        "iteration": 867,
                        "passed_time": 27.4027658,
                        "remaining_time": 4.167240881
                      },
                      {
                        "learn": [
                          0.004966478033
                        ],
                        "iteration": 868,
                        "passed_time": 27.42559206,
                        "remaining_time": 4.134352773
                      },
                      {
                        "learn": [
                          0.004966175652
                        ],
                        "iteration": 869,
                        "passed_time": 27.46107663,
                        "remaining_time": 4.103379266
                      },
                      {
                        "learn": [
                          0.004965312281
                        ],
                        "iteration": 870,
                        "passed_time": 27.48618051,
                        "remaining_time": 4.070857963
                      },
                      {
                        "learn": [
                          0.004964613552
                        ],
                        "iteration": 871,
                        "passed_time": 27.50749444,
                        "remaining_time": 4.037797349
                      },
                      {
                        "learn": [
                          0.004963501208
                        ],
                        "iteration": 872,
                        "passed_time": 27.53043595,
                        "remaining_time": 4.005000419
                      },
                      {
                        "learn": [
                          0.00496256716
                        ],
                        "iteration": 873,
                        "passed_time": 27.55329289,
                        "remaining_time": 3.97221385
                      },
                      {
                        "learn": [
                          0.004961869235
                        ],
                        "iteration": 874,
                        "passed_time": 27.57463025,
                        "remaining_time": 3.939232894
                      },
                      {
                        "learn": [
                          0.004961476501
                        ],
                        "iteration": 875,
                        "passed_time": 27.59848257,
                        "remaining_time": 3.906634519
                      },
                      {
                        "learn": [
                          0.004960187065
                        ],
                        "iteration": 876,
                        "passed_time": 27.62603102,
                        "remaining_time": 3.874574475
                      },
                      {
                        "learn": [
                          0.004958215365
                        ],
                        "iteration": 877,
                        "passed_time": 27.64889606,
                        "remaining_time": 3.84187394
                      },
                      {
                        "learn": [
                          0.004957167674
                        ],
                        "iteration": 878,
                        "passed_time": 27.67229685,
                        "remaining_time": 3.809269532
                      },
                      {
                        "learn": [
                          0.004956702658
                        ],
                        "iteration": 879,
                        "passed_time": 27.69672804,
                        "remaining_time": 3.776826551
                      },
                      {
                        "learn": [
                          0.004956282618
                        ],
                        "iteration": 880,
                        "passed_time": 27.72038821,
                        "remaining_time": 3.744297613
                      },
                      {
                        "learn": [
                          0.00495603485
                        ],
                        "iteration": 881,
                        "passed_time": 27.74453501,
                        "remaining_time": 3.71185389
                      },
                      {
                        "learn": [
                          0.004955149392
                        ],
                        "iteration": 882,
                        "passed_time": 27.76799764,
                        "remaining_time": 3.679338305
                      },
                      {
                        "learn": [
                          0.004953306997
                        ],
                        "iteration": 883,
                        "passed_time": 27.79017773,
                        "remaining_time": 3.646674905
                      },
                      {
                        "learn": [
                          0.004950207694
                        ],
                        "iteration": 884,
                        "passed_time": 27.81723022,
                        "remaining_time": 3.614668334
                      },
                      {
                        "learn": [
                          0.004949519807
                        ],
                        "iteration": 885,
                        "passed_time": 27.85942638,
                        "remaining_time": 3.584621453
                      },
                      {
                        "learn": [
                          0.004947877795
                        ],
                        "iteration": 886,
                        "passed_time": 27.89310006,
                        "remaining_time": 3.553461451
                      },
                      {
                        "learn": [
                          0.004946630926
                        ],
                        "iteration": 887,
                        "passed_time": 27.93869314,
                        "remaining_time": 3.523799135
                      },
                      {
                        "learn": [
                          0.004945887623
                        ],
                        "iteration": 888,
                        "passed_time": 27.96084851,
                        "remaining_time": 3.491174561
                      },
                      {
                        "learn": [
                          0.004945586447
                        ],
                        "iteration": 889,
                        "passed_time": 27.98562547,
                        "remaining_time": 3.45889753
                      },
                      {
                        "learn": [
                          0.004945160784
                        ],
                        "iteration": 890,
                        "passed_time": 28.02756325,
                        "remaining_time": 3.428736694
                      },
                      {
                        "learn": [
                          0.004943823161
                        ],
                        "iteration": 891,
                        "passed_time": 28.04886088,
                        "remaining_time": 3.39605042
                      },
                      {
                        "learn": [
                          0.004942775068
                        ],
                        "iteration": 892,
                        "passed_time": 28.07540494,
                        "remaining_time": 3.364018285
                      },
                      {
                        "learn": [
                          0.004941885996
                        ],
                        "iteration": 893,
                        "passed_time": 28.09788428,
                        "remaining_time": 3.33151648
                      },
                      {
                        "learn": [
                          0.004940716629
                        ],
                        "iteration": 894,
                        "passed_time": 28.11971018,
                        "remaining_time": 3.298960412
                      },
                      {
                        "learn": [
                          0.004940126725
                        ],
                        "iteration": 895,
                        "passed_time": 28.1430884,
                        "remaining_time": 3.266608475
                      },
                      {
                        "learn": [
                          0.004939527184
                        ],
                        "iteration": 896,
                        "passed_time": 28.16540111,
                        "remaining_time": 3.234154197
                      },
                      {
                        "learn": [
                          0.004938794322
                        ],
                        "iteration": 897,
                        "passed_time": 28.18868498,
                        "remaining_time": 3.201832815
                      },
                      {
                        "learn": [
                          0.00493794621
                        ],
                        "iteration": 898,
                        "passed_time": 28.21241419,
                        "remaining_time": 3.169581571
                      },
                      {
                        "learn": [
                          0.004937477981
                        ],
                        "iteration": 899,
                        "passed_time": 28.23417381,
                        "remaining_time": 3.137130423
                      },
                      {
                        "learn": [
                          0.004937066374
                        ],
                        "iteration": 900,
                        "passed_time": 28.25582418,
                        "remaining_time": 3.104691003
                      },
                      {
                        "learn": [
                          0.004933934543
                        ],
                        "iteration": 901,
                        "passed_time": 28.28749913,
                        "remaining_time": 3.073364651
                      },
                      {
                        "learn": [
                          0.004933196862
                        ],
                        "iteration": 902,
                        "passed_time": 28.31108602,
                        "remaining_time": 3.041168709
                      },
                      {
                        "learn": [
                          0.004932949496
                        ],
                        "iteration": 903,
                        "passed_time": 28.33894825,
                        "remaining_time": 3.009445832
                      },
                      {
                        "learn": [
                          0.004932294539
                        ],
                        "iteration": 904,
                        "passed_time": 28.36086011,
                        "remaining_time": 2.977106862
                      },
                      {
                        "learn": [
                          0.004931875703
                        ],
                        "iteration": 905,
                        "passed_time": 28.38435444,
                        "remaining_time": 2.944955097
                      },
                      {
                        "learn": [
                          0.004930208793
                        ],
                        "iteration": 906,
                        "passed_time": 28.40675153,
                        "remaining_time": 2.912709914
                      },
                      {
                        "learn": [
                          0.004929638165
                        ],
                        "iteration": 907,
                        "passed_time": 28.42960411,
                        "remaining_time": 2.880532575
                      },
                      {
                        "learn": [
                          0.004927924673
                        ],
                        "iteration": 908,
                        "passed_time": 28.45166123,
                        "remaining_time": 2.848296119
                      },
                      {
                        "learn": [
                          0.00492697898
                        ],
                        "iteration": 909,
                        "passed_time": 28.485778,
                        "remaining_time": 2.817274747
                      },
                      {
                        "learn": [
                          0.00492430815
                        ],
                        "iteration": 910,
                        "passed_time": 28.50745222,
                        "remaining_time": 2.785031007
                      },
                      {
                        "learn": [
                          0.004923086579
                        ],
                        "iteration": 911,
                        "passed_time": 28.53151406,
                        "remaining_time": 2.75304083
                      },
                      {
                        "learn": [
                          0.004922478605
                        ],
                        "iteration": 912,
                        "passed_time": 28.55975306,
                        "remaining_time": 2.721466064
                      },
                      {
                        "learn": [
                          0.004921384733
                        ],
                        "iteration": 913,
                        "passed_time": 28.5821676,
                        "remaining_time": 2.689350562
                      },
                      {
                        "learn": [
                          0.004920687209
                        ],
                        "iteration": 914,
                        "passed_time": 28.60449212,
                        "remaining_time": 2.657247902
                      },
                      {
                        "learn": [
                          0.00491997282
                        ],
                        "iteration": 915,
                        "passed_time": 28.62607384,
                        "remaining_time": 2.625098475
                      },
                      {
                        "learn": [
                          0.004918337232
                        ],
                        "iteration": 916,
                        "passed_time": 28.64946155,
                        "remaining_time": 2.59313556
                      },
                      {
                        "learn": [
                          0.004916612898
                        ],
                        "iteration": 917,
                        "passed_time": 28.67203794,
                        "remaining_time": 2.561118858
                      },
                      {
                        "learn": [
                          0.004916361517
                        ],
                        "iteration": 918,
                        "passed_time": 28.69249218,
                        "remaining_time": 2.528935655
                      },
                      {
                        "learn": [
                          0.004913756945
                        ],
                        "iteration": 919,
                        "passed_time": 28.71822278,
                        "remaining_time": 2.497236764
                      },
                      {
                        "learn": [
                          0.004913024083
                        ],
                        "iteration": 920,
                        "passed_time": 28.74190226,
                        "remaining_time": 2.465374895
                      },
                      {
                        "learn": [
                          0.004912218939
                        ],
                        "iteration": 921,
                        "passed_time": 28.77071895,
                        "remaining_time": 2.433965378
                      },
                      {
                        "learn": [
                          0.004911531053
                        ],
                        "iteration": 922,
                        "passed_time": 28.79601967,
                        "remaining_time": 2.402268163
                      },
                      {
                        "learn": [
                          0.004911147153
                        ],
                        "iteration": 923,
                        "passed_time": 28.81880556,
                        "remaining_time": 2.370377946
                      },
                      {
                        "learn": [
                          0.004909262995
                        ],
                        "iteration": 924,
                        "passed_time": 28.84273763,
                        "remaining_time": 2.338600349
                      },
                      {
                        "learn": [
                          0.004909036109
                        ],
                        "iteration": 925,
                        "passed_time": 28.86729413,
                        "remaining_time": 2.306889596
                      },
                      {
                        "learn": [
                          0.004908690761
                        ],
                        "iteration": 926,
                        "passed_time": 28.89074508,
                        "remaining_time": 2.275107217
                      },
                      {
                        "learn": [
                          0.0049083679
                        ],
                        "iteration": 927,
                        "passed_time": 28.93353294,
                        "remaining_time": 2.244843073
                      },
                      {
                        "learn": [
                          0.004907439876
                        ],
                        "iteration": 928,
                        "passed_time": 28.98047858,
                        "remaining_time": 2.21486973
                      },
                      {
                        "learn": [
                          0.004903708905
                        ],
                        "iteration": 929,
                        "passed_time": 29.01599514,
                        "remaining_time": 2.183999634
                      },
                      {
                        "learn": [
                          0.004901591034
                        ],
                        "iteration": 930,
                        "passed_time": 29.03751542,
                        "remaining_time": 2.152082238
                      },
                      {
                        "learn": [
                          0.004901087468
                        ],
                        "iteration": 931,
                        "passed_time": 29.05947272,
                        "remaining_time": 2.12021904
                      },
                      {
                        "learn": [
                          0.004900665821
                        ],
                        "iteration": 932,
                        "passed_time": 29.08158284,
                        "remaining_time": 2.08838805
                      },
                      {
                        "learn": [
                          0.004897777743
                        ],
                        "iteration": 933,
                        "passed_time": 29.11385756,
                        "remaining_time": 2.057296144
                      },
                      {
                        "learn": [
                          0.004896912363
                        ],
                        "iteration": 934,
                        "passed_time": 29.13805434,
                        "remaining_time": 2.025640141
                      },
                      {
                        "learn": [
                          0.004895561889
                        ],
                        "iteration": 935,
                        "passed_time": 29.16052718,
                        "remaining_time": 1.993882201
                      },
                      {
                        "learn": [
                          0.004892687062
                        ],
                        "iteration": 936,
                        "passed_time": 29.18374705,
                        "remaining_time": 1.962194305
                      },
                      {
                        "learn": [
                          0.004892320431
                        ],
                        "iteration": 937,
                        "passed_time": 29.2061077,
                        "remaining_time": 1.930467673
                      },
                      {
                        "learn": [
                          0.004888166609
                        ],
                        "iteration": 938,
                        "passed_time": 29.23208014,
                        "remaining_time": 1.898995622
                      },
                      {
                        "learn": [
                          0.004887837323
                        ],
                        "iteration": 939,
                        "passed_time": 29.26546702,
                        "remaining_time": 1.868008533
                      },
                      {
                        "learn": [
                          0.004887423708
                        ],
                        "iteration": 940,
                        "passed_time": 29.28739431,
                        "remaining_time": 1.836297836
                      },
                      {
                        "learn": [
                          0.004885604202
                        ],
                        "iteration": 941,
                        "passed_time": 29.3115685,
                        "remaining_time": 1.804746256
                      },
                      {
                        "learn": [
                          0.004883898742
                        ],
                        "iteration": 942,
                        "passed_time": 29.33327453,
                        "remaining_time": 1.773061133
                      },
                      {
                        "learn": [
                          0.004883225312
                        ],
                        "iteration": 943,
                        "passed_time": 29.35655898,
                        "remaining_time": 1.741490787
                      },
                      {
                        "learn": [
                          0.004882278414
                        ],
                        "iteration": 944,
                        "passed_time": 29.37942774,
                        "remaining_time": 1.709913784
                      },
                      {
                        "learn": [
                          0.004882070402
                        ],
                        "iteration": 945,
                        "passed_time": 29.40192845,
                        "remaining_time": 1.678334182
                      },
                      {
                        "learn": [
                          0.004879521247
                        ],
                        "iteration": 946,
                        "passed_time": 29.42626026,
                        "remaining_time": 1.646876234
                      },
                      {
                        "learn": [
                          0.004878555475
                        ],
                        "iteration": 947,
                        "passed_time": 29.44851735,
                        "remaining_time": 1.615319517
                      },
                      {
                        "learn": [
                          0.00487753228
                        ],
                        "iteration": 948,
                        "passed_time": 29.47660845,
                        "remaining_time": 1.584095923
                      },
                      {
                        "learn": [
                          0.004877019878
                        ],
                        "iteration": 949,
                        "passed_time": 29.49985664,
                        "remaining_time": 1.552624034
                      },
                      {
                        "learn": [
                          0.004875441715
                        ],
                        "iteration": 950,
                        "passed_time": 29.52321237,
                        "remaining_time": 1.52117498
                      },
                      {
                        "learn": [
                          0.004873231484
                        ],
                        "iteration": 951,
                        "passed_time": 29.54477479,
                        "remaining_time": 1.489652511
                      },
                      {
                        "learn": [
                          0.004872492197
                        ],
                        "iteration": 952,
                        "passed_time": 29.56759129,
                        "remaining_time": 1.458212792
                      },
                      {
                        "learn": [
                          0.004872164517
                        ],
                        "iteration": 953,
                        "passed_time": 29.59031057,
                        "remaining_time": 1.426786464
                      },
                      {
                        "learn": [
                          0.004871324436
                        ],
                        "iteration": 954,
                        "passed_time": 29.61307249,
                        "remaining_time": 1.395380379
                      },
                      {
                        "learn": [
                          0.004870624905
                        ],
                        "iteration": 955,
                        "passed_time": 29.6348975,
                        "remaining_time": 1.363949257
                      },
                      {
                        "learn": [
                          0.004870219722
                        ],
                        "iteration": 956,
                        "passed_time": 29.65797792,
                        "remaining_time": 1.332594619
                      },
                      {
                        "learn": [
                          0.004868603009
                        ],
                        "iteration": 957,
                        "passed_time": 29.68817921,
                        "remaining_time": 1.301569443
                      },
                      {
                        "learn": [
                          0.004866468272
                        ],
                        "iteration": 958,
                        "passed_time": 29.71029584,
                        "remaining_time": 1.270200343
                      },
                      {
                        "learn": [
                          0.004865684009
                        ],
                        "iteration": 959,
                        "passed_time": 29.73393093,
                        "remaining_time": 1.238913789
                      },
                      {
                        "learn": [
                          0.004864631499
                        ],
                        "iteration": 960,
                        "passed_time": 29.75635384,
                        "remaining_time": 1.207593964
                      },
                      {
                        "learn": [
                          0.004862721641
                        ],
                        "iteration": 961,
                        "passed_time": 29.7816364,
                        "remaining_time": 1.176405596
                      },
                      {
                        "learn": [
                          0.00486209921
                        ],
                        "iteration": 962,
                        "passed_time": 29.80330103,
                        "remaining_time": 1.145090486
                      },
                      {
                        "learn": [
                          0.004858285517
                        ],
                        "iteration": 963,
                        "passed_time": 29.83459876,
                        "remaining_time": 1.114155141
                      },
                      {
                        "learn": [
                          0.004857579158
                        ],
                        "iteration": 964,
                        "passed_time": 29.85983997,
                        "remaining_time": 1.082999377
                      },
                      {
                        "learn": [
                          0.004857239833
                        ],
                        "iteration": 965,
                        "passed_time": 29.88207399,
                        "remaining_time": 1.051750016
                      },
                      {
                        "learn": [
                          0.00485621744
                        ],
                        "iteration": 966,
                        "passed_time": 29.91097118,
                        "remaining_time": 1.02074669
                      },
                      {
                        "learn": [
                          0.004855709858
                        ],
                        "iteration": 967,
                        "passed_time": 29.93239989,
                        "remaining_time": 0.989500823
                      },
                      {
                        "learn": [
                          0.004855516704
                        ],
                        "iteration": 968,
                        "passed_time": 29.97234147,
                        "remaining_time": 0.9588674774
                      },
                      {
                        "learn": [
                          0.004854743283
                        ],
                        "iteration": 969,
                        "passed_time": 30.01781934,
                        "remaining_time": 0.9283861652
                      },
                      {
                        "learn": [
                          0.004853843369
                        ],
                        "iteration": 970,
                        "passed_time": 30.05198734,
                        "remaining_time": 0.8975361822
                      },
                      {
                        "learn": [
                          0.004853136207
                        ],
                        "iteration": 971,
                        "passed_time": 30.07412476,
                        "remaining_time": 0.8663328119
                      },
                      {
                        "learn": [
                          0.00485193351
                        ],
                        "iteration": 972,
                        "passed_time": 30.09769977,
                        "remaining_time": 0.835187969
                      },
                      {
                        "learn": [
                          0.004851090619
                        ],
                        "iteration": 973,
                        "passed_time": 30.12644952,
                        "remaining_time": 0.8041968046
                      },
                      {
                        "learn": [
                          0.004850803096
                        ],
                        "iteration": 974,
                        "passed_time": 30.1488105,
                        "remaining_time": 0.7730464229
                      },
                      {
                        "learn": [
                          0.004848932591
                        ],
                        "iteration": 975,
                        "passed_time": 30.17126463,
                        "remaining_time": 0.7419163435
                      },
                      {
                        "learn": [
                          0.004848153549
                        ],
                        "iteration": 976,
                        "passed_time": 30.19388707,
                        "remaining_time": 0.7108079862
                      },
                      {
                        "learn": [
                          0.004847582117
                        ],
                        "iteration": 977,
                        "passed_time": 30.21673965,
                        "remaining_time": 0.6797221598
                      },
                      {
                        "learn": [
                          0.00484665329
                        ],
                        "iteration": 978,
                        "passed_time": 30.23981204,
                        "remaining_time": 0.648657868
                      },
                      {
                        "learn": [
                          0.004845464648
                        ],
                        "iteration": 979,
                        "passed_time": 30.26298925,
                        "remaining_time": 0.6176120256
                      },
                      {
                        "learn": [
                          0.004844849446
                        ],
                        "iteration": 980,
                        "passed_time": 30.28612801,
                        "remaining_time": 0.5865814802
                      },
                      {
                        "learn": [
                          0.004843743125
                        ],
                        "iteration": 981,
                        "passed_time": 30.3104884,
                        "remaining_time": 0.5555894004
                      },
                      {
                        "learn": [
                          0.004842631183
                        ],
                        "iteration": 982,
                        "passed_time": 30.34539966,
                        "remaining_time": 0.5247932799
                      },
                      {
                        "learn": [
                          0.004842171387
                        ],
                        "iteration": 983,
                        "passed_time": 30.36790309,
                        "remaining_time": 0.4937870421
                      },
                      {
                        "learn": [
                          0.00484150117
                        ],
                        "iteration": 984,
                        "passed_time": 30.39302547,
                        "remaining_time": 0.4628379513
                      },
                      {
                        "learn": [
                          0.004839426668
                        ],
                        "iteration": 985,
                        "passed_time": 30.41734889,
                        "remaining_time": 0.4318893351
                      },
                      {
                        "learn": [
                          0.004838436
                        ],
                        "iteration": 986,
                        "passed_time": 30.43983878,
                        "remaining_time": 0.4009299941
                      },
                      {
                        "learn": [
                          0.004838122375
                        ],
                        "iteration": 987,
                        "passed_time": 30.46383615,
                        "remaining_time": 0.3700061071
                      },
                      {
                        "learn": [
                          0.004836908836
                        ],
                        "iteration": 988,
                        "passed_time": 30.48638182,
                        "remaining_time": 0.3390800809
                      },
                      {
                        "learn": [
                          0.004836623722
                        ],
                        "iteration": 989,
                        "passed_time": 30.50923095,
                        "remaining_time": 0.30817405
                      },
                      {
                        "learn": [
                          0.004836142644
                        ],
                        "iteration": 990,
                        "passed_time": 30.53141514,
                        "remaining_time": 0.2772782404
                      },
                      {
                        "learn": [
                          0.004834344019
                        ],
                        "iteration": 991,
                        "passed_time": 30.55203562,
                        "remaining_time": 0.2463873841
                      },
                      {
                        "learn": [
                          0.004833395917
                        ],
                        "iteration": 992,
                        "passed_time": 30.5744093,
                        "remaining_time": 0.2155295721
                      },
                      {
                        "learn": [
                          0.004831739046
                        ],
                        "iteration": 993,
                        "passed_time": 30.60205889,
                        "remaining_time": 0.1847206774
                      },
                      {
                        "learn": [
                          0.004831039113
                        ],
                        "iteration": 994,
                        "passed_time": 30.62477722,
                        "remaining_time": 0.1538933529
                      },
                      {
                        "learn": [
                          0.004829567366
                        ],
                        "iteration": 995,
                        "passed_time": 30.64836476,
                        "remaining_time": 0.1230858022
                      },
                      {
                        "learn": [
                          0.004829117609
                        ],
                        "iteration": 996,
                        "passed_time": 30.67026163,
                        "remaining_time": 0.09228764783
                      },
                      {
                        "learn": [
                          0.004828560634
                        ],
                        "iteration": 997,
                        "passed_time": 30.69427251,
                        "remaining_time": 0.06151156815
                      },
                      {
                        "learn": [
                          0.004826765223
                        ],
                        "iteration": 998,
                        "passed_time": 30.71935065,
                        "remaining_time": 0.03075010075
                      },
                      {
                        "learn": [
                          0.004820195968
                        ],
                        "iteration": 999,
                        "passed_time": 30.74241748,
                        "remaining_time": 0
                      }
                    ],
                    "meta": {
                      "test_sets": [],
                      "test_metrics": [],
                      "learn_metrics": [
                        {
                          "best_value": "Min",
                          "name": "MultiClass"
                        }
                      ],
                      "launch_mode": "Train",
                      "parameters": "",
                      "iteration_count": 1000,
                      "learn_sets": [
                        "learn"
                      ],
                      "name": "experiment"
                    }
                  }
                }
              }
            },
            "layout": "IPY_MODEL_35bd1104fdbd46eaa83389179d2e15ae"
          }
        }
      }
    }
  },
  "nbformat": 4,
  "nbformat_minor": 5
}